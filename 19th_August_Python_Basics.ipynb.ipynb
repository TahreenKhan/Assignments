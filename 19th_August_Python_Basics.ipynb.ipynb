{
 "cells": [
  {
   "cell_type": "code",
   "execution_count": 16,
   "id": "394abcdf-01a4-4acf-b2e5-ae14db754347",
   "metadata": {},
   "outputs": [],
   "source": [
    "# Topic 1: Python basic variables. \n",
    "# 1: Swapping the values of x and y\n",
    "\n",
    "x = 7\n",
    "y = 10\n",
    "y = y-x \n",
    "x = x+y\n",
    "y = x-y\n",
    "\n",
    "# Explantion: Here swapping is done with the help of operators without using temporary variables."
   ]
  },
  {
   "cell_type": "code",
   "execution_count": 19,
   "id": "01e2e1ca-2a30-4768-a845-ff293204aa76",
   "metadata": {},
   "outputs": [
    {
     "data": {
      "text/plain": [
       "10"
      ]
     },
     "execution_count": 19,
     "metadata": {},
     "output_type": "execute_result"
    }
   ],
   "source": [
    "x"
   ]
  },
  {
   "cell_type": "code",
   "execution_count": 20,
   "id": "f5cb52d5-50a6-4405-be4c-b0159f004b2a",
   "metadata": {},
   "outputs": [
    {
     "data": {
      "text/plain": [
       "7"
      ]
     },
     "execution_count": 20,
     "metadata": {},
     "output_type": "execute_result"
    }
   ],
   "source": [
    "y"
   ]
  },
  {
   "cell_type": "code",
   "execution_count": 13,
   "id": "af5f3c4c-d5fe-4ab5-b586-815d9ae6b1db",
   "metadata": {},
   "outputs": [
    {
     "name": "stdin",
     "output_type": "stream",
     "text": [
      "length of rectangle: 56\n",
      "Width of rectangle: 67\n"
     ]
    },
    {
     "name": "stdout",
     "output_type": "stream",
     "text": [
      "Area of rectangle is: 3752\n"
     ]
    }
   ],
   "source": [
    "# 2: Area fo rectangle calculator.\n",
    "\n",
    "a = int(input('length of rectangle:'))\n",
    "b = int(input('Width of rectangle:'))\n",
    "print('Area of rectangle is:',a*b)\n",
    "\n",
    "#Explantion: here int, input and print are the functions used for numbers, to enter value in console and to print the statement respectively.\n",
    "# however input always gives output in the form of string but with the help int function we limit the input to integer only.\n"
   ]
  },
  {
   "cell_type": "code",
   "execution_count": 27,
   "id": "74572833-683a-46e7-a2ba-a3fcbfa5bf1a",
   "metadata": {},
   "outputs": [
    {
     "name": "stdin",
     "output_type": "stream",
     "text": [
      "Enter temperature in Celcius: 0\n"
     ]
    },
    {
     "name": "stdout",
     "output_type": "stream",
     "text": [
      "Temperature in Fahrenheit is: 32.0\n"
     ]
    }
   ],
   "source": [
    "# 3:conversion of celcius scale to fehrenheit scale\n",
    "\n",
    "c = int(input('Enter temperature in Celcius:'))\n",
    "print('Temperature in Fahrenheit is:',9/5*c+32)\n",
    "\n",
    "# Explanation: here we limit the input to integer.\n",
    "# and fahrenheit scale conversion formula is used to convert celcius to fehrenheit."
   ]
  },
  {
   "cell_type": "code",
   "execution_count": 30,
   "id": "f9ccd6ee-d40c-4abb-bf00-c6bc65fac0b9",
   "metadata": {},
   "outputs": [
    {
     "name": "stdin",
     "output_type": "stream",
     "text": [
      "Enter the string: Saaduchibil.\n"
     ]
    },
    {
     "name": "stdout",
     "output_type": "stream",
     "text": [
      "The length of string is: 12\n"
     ]
    }
   ],
   "source": [
    "# Topic 2\n",
    "# 1: take string as input and print the length of string.\n",
    "\n",
    "d = input('Enter the string:')\n",
    "print('The length of string is:',len(d))\n",
    "\n",
    "# Explanation: input always give output in the form of string \n",
    "# .len() function is used to count the length of string."
   ]
  },
  {
   "cell_type": "code",
   "execution_count": 1,
   "id": "73522eab-c15f-420a-8cdf-e19751d9af74",
   "metadata": {},
   "outputs": [
    {
     "name": "stdin",
     "output_type": "stream",
     "text": [
      "Enter the sentence: this is going to be my first assignment however before i used to learn from youtube.\n"
     ]
    },
    {
     "name": "stdout",
     "output_type": "stream",
     "text": [
      "a in sentence is : 2\n",
      "o in sentence is: 7\n",
      "\"i\" in sentence is: 6\n",
      "\"e\"in sentence is: 9\n",
      "\"u\"in sentence is: 3\n"
     ]
    }
   ],
   "source": [
    "# 2.....counts no. of each vowel respectively\n",
    "\n",
    "e = input('Enter the sentence:')\n",
    "print('a in sentence is :',e.count('a'))\n",
    "print('o in sentence is:',e.count('o'))\n",
    "print('\"i\" in sentence is:',e.count('i'))\n",
    "print('\"e\"in sentence is:',e.count('e'))\n",
    "print('\"u\"in sentence is:',e.count('u'))\n",
    "\n",
    "# Explanation: here sentence is taken as input.\n",
    "# .count() function is used to count no. of each vowel independently."
   ]
  },
  {
   "cell_type": "code",
   "execution_count": 14,
   "id": "d795abff-a60e-4a63-828f-5c28d996b628",
   "metadata": {},
   "outputs": [
    {
     "name": "stdin",
     "output_type": "stream",
     "text": [
      "Enter the sentence: aaa eee iii ooo uuu\n"
     ]
    },
    {
     "name": "stdout",
     "output_type": "stream",
     "text": [
      "The no. of vowels in sentence is: 35\n"
     ]
    }
   ],
   "source": [
    "# 2..same question as above..counting total no. of vowels\n",
    "\n",
    "sentence = input('Enter the sentence:')\n",
    "f = 'aeiouAEIOU'\n",
    "g = 0\n",
    "\n",
    "for i in sentence:\n",
    "    if i in f:\n",
    "        g+=1\n",
    "print('The no. of vowels in sentence is:',g)\n",
    "\n",
    "# Explanation: here sentence is taken as input.\n",
    "# f string consist of vowels\n",
    "# let g be the starting point for counting no. of vowels\n",
    "# using for loop for iteration of sentence and condition 'if'is applied to count the iteration of characters of f string in sentence"
   ]
  },
  {
   "cell_type": "code",
   "execution_count": 3,
   "id": "a4b57035-e75c-4c86-8841-0a10f5f215ee",
   "metadata": {},
   "outputs": [
    {
     "data": {
      "text/plain": [
       "'neerhaT'"
      ]
     },
     "execution_count": 3,
     "metadata": {},
     "output_type": "execute_result"
    }
   ],
   "source": [
    "# 3 Reversing using string slicing\n",
    "\n",
    "h = 'Tahreen'\n",
    "h[::-1]\n",
    "\n",
    "# Explanation: slicing is done using square bracket, which is like [starting point: ending point+1 or infinity:+reverse slicing]"
   ]
  },
  {
   "cell_type": "code",
   "execution_count": 11,
   "id": "90bb2846-360d-4682-a700-8344ec9f1b14",
   "metadata": {},
   "outputs": [
    {
     "data": {
      "text/plain": [
       "'amima'"
      ]
     },
     "execution_count": 11,
     "metadata": {},
     "output_type": "execute_result"
    }
   ],
   "source": [
    "# 4 palimdrome\n",
    "\n",
    "name = 'amima'\n",
    "i"
   ]
  },
  {
   "cell_type": "code",
   "execution_count": 12,
   "id": "49038372-5afd-42d1-9f56-126b4329d834",
   "metadata": {},
   "outputs": [
    {
     "data": {
      "text/plain": [
       "'amima'"
      ]
     },
     "execution_count": 12,
     "metadata": {},
     "output_type": "execute_result"
    }
   ],
   "source": [
    "name[::-1]\n",
    "\n",
    "# name 'amima' is in itself a palindrome thus reverse iteration is same"
   ]
  },
  {
   "cell_type": "code",
   "execution_count": 31,
   "id": "b41bb103-158b-42f7-b38a-dcb06e5707b7",
   "metadata": {},
   "outputs": [
    {
     "name": "stdin",
     "output_type": "stream",
     "text": [
      "Enter the string \n"
     ]
    },
    {
     "name": "stdout",
     "output_type": "stream",
     "text": [
      "Error: Please enter the nonempty string.\n"
     ]
    }
   ],
   "source": [
    "# 5: removing all the spaces from the string.\n",
    "j = input(\"Enter the string\")\n",
    "if not j.replace(' ',''):\n",
    "    print('Error: Please enter the nonempty string.')\n",
    "else:\n",
    "    print(j.replace(' ',''))\n",
    "    \n",
    "# Explanation:function is used for removing all the spaces from the string.\n",
    "# for specificity error handling code for empty string is used here in order to specify the problem to the user\n",
    "# here rror handling if else statement is used\n"
   ]
  },
  {
   "cell_type": "code",
   "execution_count": 5,
   "id": "032818ca-9e15-4f40-8b83-5b4f984acef5",
   "metadata": {},
   "outputs": [
    {
     "name": "stdin",
     "output_type": "stream",
     "text": [
      "Enter the string  ' dhfjd khdjfj   kdhgjfjd    jhkfd   '\n"
     ]
    },
    {
     "name": "stdout",
     "output_type": "stream",
     "text": [
      "'dhfjdkhdjfjkdhgjfjdjhkfd'\n"
     ]
    }
   ],
   "source": [
    "# 5: removing all the spaces from the string.\n",
    "j = input(\"Enter the string\")\n",
    "if not j.replace(' ',''):\n",
    "    print('Error: Please enter the nonempty string.')\n",
    "else:\n",
    "    print(j.replace(' ',''))\n",
    "    \n",
    "# Explanation:function is used for removing all the spaces from the string.\n",
    "# for specificity error handling code for empty string is used here in order to specify the problem to the user\n",
    "# here rror handling if else statement is used\n"
   ]
  },
  {
   "cell_type": "code",
   "execution_count": null,
   "id": "7c68908b-09a6-417f-bcd0-2b405759bbc3",
   "metadata": {},
   "outputs": [],
   "source": []
  }
 ],
 "metadata": {
  "kernelspec": {
   "display_name": "Python 3 (ipykernel)",
   "language": "python",
   "name": "python3"
  },
  "language_info": {
   "codemirror_mode": {
    "name": "ipython",
    "version": 3
   },
   "file_extension": ".py",
   "mimetype": "text/x-python",
   "name": "python",
   "nbconvert_exporter": "python",
   "pygments_lexer": "ipython3",
   "version": "3.10.8"
  }
 },
 "nbformat": 4,
 "nbformat_minor": 5
}
