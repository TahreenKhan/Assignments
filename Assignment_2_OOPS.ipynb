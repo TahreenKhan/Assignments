{
 "cells": [
  {
   "cell_type": "code",
   "execution_count": null,
   "id": "2ef08a3e-914a-4ddd-952c-694bd8c504ca",
   "metadata": {},
   "outputs": [],
   "source": [
    "# Assignment 2 : OOPS"
   ]
  },
  {
   "cell_type": "code",
   "execution_count": null,
   "id": "f4bc0e5a-2bb0-4a40-a3fb-618f7d26d299",
   "metadata": {},
   "outputs": [],
   "source": [
    "# Constructor:"
   ]
  },
  {
   "cell_type": "code",
   "execution_count": null,
   "id": "dbfea3d6-99b0-4150-80ef-0181afd2b2f0",
   "metadata": {},
   "outputs": [
    {
     "name": "stdout",
     "output_type": "stream",
     "text": [
      "Alice 30\n"
     ]
    }
   ],
   "source": [
    "# 1. What is a constructor in Python? Explain its purpose and usage.\n",
    "\n",
    "# A constructor in Python is a special method used to initialize an instance of a class. It is executed when an object is created, setting up initial values for the object's attributes. The constructor is defined using the __init__ method.\n",
    "\n",
    "# Purpose:\n",
    "# To initialize the object's attributes with default or provided values.\n",
    "# To perform any setup steps required when an object is instantiated.\n",
    "\n",
    "# Usage:\n",
    "# Constructors ensure that objects start their life with a valid state and any necessary setup.\n",
    "\n",
    "class Person:\n",
    "    def __init__(self, name, age):\n",
    "        self.name = name\n",
    "        self.age = age\n",
    "\n",
    "# Creating an object of the class Person\n",
    "person = Person(\"Alice\", 30)\n",
    "print(person.name, person.age)\n"
   ]
  },
  {
   "cell_type": "code",
   "execution_count": 1,
   "id": "65e412d1-fc06-492b-ad34-ff3a1a1fcb2c",
   "metadata": {},
   "outputs": [],
   "source": [
    "# 2. Differentiate between a parameterless constructor and a parameterized constructor in Python.\n",
    "\n",
    "# Parameterless Constructor: This constructor does not take any arguments other than self. It is used to initialize default values for the object's attributes.\n",
    "class Person:\n",
    "    def __init__(self):\n",
    "        self.name = \"Unknown\"\n",
    "        self.age = 0\n",
    "\n"
   ]
  },
  {
   "cell_type": "code",
   "execution_count": 9,
   "id": "5d680712-51a8-44c9-a552-41eacbd80180",
   "metadata": {},
   "outputs": [],
   "source": [
    "# Parameterized Constructor: This constructor takes additional arguments along with self, allowing for custom initialization of attributes based on the provided arguments.\n",
    "\n",
    "class Person:\n",
    "    def __init__(self, name, age):\n",
    "        self.name = name\n",
    "        self.age = age\n",
    "\n"
   ]
  },
  {
   "cell_type": "code",
   "execution_count": 10,
   "id": "08c1f4dc-0cf2-48ae-8327-fe371198d412",
   "metadata": {},
   "outputs": [
    {
     "name": "stdout",
     "output_type": "stream",
     "text": [
      "Toyota Corolla\n"
     ]
    }
   ],
   "source": [
    "# 3. How do you define a constructor in a Python class? Provide an example.\n",
    "\n",
    "# To define a constructor in a Python class, you use the __init__ method. This method initializes the object's attributes and is called automatically when an object is created.\n",
    "class Car:\n",
    "    def __init__(self, make, model):\n",
    "        self.make = make\n",
    "        self.model = model\n",
    "\n",
    "# Creating an object of the class Car\n",
    "car = Car(\"Toyota\", \"Corolla\")\n",
    "print(car.make, car.model)\n"
   ]
  },
  {
   "cell_type": "code",
   "execution_count": 15,
   "id": "b70f927b-c991-4cfa-bc0e-2d9bde19cddf",
   "metadata": {},
   "outputs": [
    {
     "name": "stdout",
     "output_type": "stream",
     "text": [
      "5 10\n"
     ]
    }
   ],
   "source": [
    "# 4. Explain the `__init__` method in Python and its role in constructors.\n",
    "\n",
    "class Rectangle:\n",
    "    def __init__(self, width, height):\n",
    "        self.width = width\n",
    "        self.height = height\n",
    "\n",
    "# Creating an object of the class Rectangle\n",
    "rect = Rectangle(5, 10)\n",
    "print(rect.width, rect.height)\n",
    "\n",
    "\n",
    "# __init__ Method: The __init__ method is a special method in Python classes that acts as a constructor. It is called automatically when a new instance of the class is created. Its role is to initialize the object's attributes with the values passed as arguments."
   ]
  },
  {
   "cell_type": "code",
   "execution_count": 14,
   "id": "bba6016c-49ac-4c38-b6bb-2594220e64b4",
   "metadata": {},
   "outputs": [
    {
     "name": "stdout",
     "output_type": "stream",
     "text": [
      "John Doe 25\n"
     ]
    }
   ],
   "source": [
    "# 5. In a class named `Person`, create a constructor that initializes the `name` and `age` attributes. Provide an\n",
    "# example of creating an object of this class.\n",
    "\n",
    "class Person:\n",
    "    def __init__(self, name, age):\n",
    "        self.name = name\n",
    "        self.age = age\n",
    "\n",
    "# Creating an object of the class Person\n",
    "person = Person(\"John Doe\", 25)\n",
    "print(person.name, person.age)\n"
   ]
  },
  {
   "cell_type": "code",
   "execution_count": 13,
   "id": "1ff90aa3-d85a-4676-96c2-5d46980e8d83",
   "metadata": {},
   "outputs": [
    {
     "name": "stdout",
     "output_type": "stream",
     "text": [
      "Dog Buddy Golden Retriever\n"
     ]
    }
   ],
   "source": [
    "# 6. How can you call a constructor explicitly in Python? Give an example.\n",
    "\n",
    "class Animal:\n",
    "    def __init__(self, species):\n",
    "        self.species = species\n",
    "\n",
    "class Dog(Animal):\n",
    "    def __init__(self, name, breed):\n",
    "        super().__init__('Dog')  # Calling the constructor of the parent class\n",
    "        self.name = name\n",
    "        self.breed = breed\n",
    "\n",
    "# Creating an object of the class Dog\n",
    "dog = Dog(\"Buddy\", \"Golden Retriever\")\n",
    "print(dog.species, dog.name, dog.breed)\n",
    "\n",
    "\n",
    "# Explicit Constructor Call: Although constructors are automatically called when creating an object, you can call the constructor of a parent class explicitly using super() in a derived class."
   ]
  },
  {
   "cell_type": "code",
   "execution_count": 11,
   "id": "e94cdaa1-2ca0-4ad7-b077-0be3460fe415",
   "metadata": {},
   "outputs": [
    {
     "name": "stdout",
     "output_type": "stream",
     "text": [
      "5\n",
      "78.53981633974483\n"
     ]
    }
   ],
   "source": [
    "# 7. What is the significance of the `self` parameter in Python constructors? Explain with an example.\n",
    "\n",
    "class Circle:\n",
    "    def __init__(self, radius):\n",
    "        self.radius = radius  # self.radius refers to the instance's attribute\n",
    "\n",
    "    def area(self):\n",
    "        import math\n",
    "        return math.pi * self.radius ** 2\n",
    "\n",
    "# Creating an object of the class Circle\n",
    "circle = Circle(5)\n",
    "print(circle.radius)\n",
    "print(circle.area())\n",
    "\n",
    "\n",
    "# self Parameter: The self parameter represents the instance of the class and is used to access the instance's attributes and methods. It is automatically passed to methods defined within a class, including constructors."
   ]
  },
  {
   "cell_type": "code",
   "execution_count": 17,
   "id": "834fc1e2-6865-4284-a865-71923c2179be",
   "metadata": {},
   "outputs": [
    {
     "name": "stdout",
     "output_type": "stream",
     "text": [
      "Unknown 0\n"
     ]
    }
   ],
   "source": [
    "# 8. Discuss the concept of default constructors in Python. When are they used?\n",
    "\n",
    "class DefaultPerson:\n",
    "    def __init__(self):\n",
    "        self.name = \"Unknown\"\n",
    "        self.age = 0\n",
    "\n",
    "# Creating an object using the default constructor\n",
    "default_person = DefaultPerson()\n",
    "print(default_person.name, default_person.age)\n",
    "\n",
    "\n",
    "\n",
    "# Default Constructor: A default constructor is a constructor that does not require any parameters. It initializes object attributes with default values.\n",
    "\n",
    "# Usage: Default constructors are used when you want to create an object with default settings or when initialization does not require any specific values."
   ]
  },
  {
   "cell_type": "code",
   "execution_count": 16,
   "id": "0d5662c3-52dd-4fbf-bb62-5c6312185463",
   "metadata": {},
   "outputs": [
    {
     "name": "stdout",
     "output_type": "stream",
     "text": [
      "Area of Rectangle: 24\n"
     ]
    }
   ],
   "source": [
    "# 9. Create a Python class called `Rectangle` with a constructor that initializes the `width` and `height`\n",
    "# attributes. Provide a method to calculate the area of the rectangle.\n",
    "\n",
    "class Rectangle:\n",
    "    def __init__(self, width, height):\n",
    "        self.width = width\n",
    "        self.height = height\n",
    "\n",
    "    def area(self):\n",
    "        return self.width * self.height\n",
    "\n",
    "# Creating an object of the class Rectangle\n",
    "rect = Rectangle(4, 6)\n",
    "print(f\"Area of Rectangle: {rect.area()}\")\n"
   ]
  },
  {
   "cell_type": "code",
   "execution_count": 18,
   "id": "9b4fee34-1d9c-41d6-b4b3-7524e588a9d8",
   "metadata": {},
   "outputs": [
    {
     "name": "stdout",
     "output_type": "stream",
     "text": [
      "Rectangle width and height: 4, 6\n",
      "Square side: 5\n"
     ]
    }
   ],
   "source": [
    "# 10. How can you have multiple constructors in a Python class? Explain with an example.\n",
    "\n",
    "class Shape:\n",
    "    def __init__(self, width, height=None):\n",
    "        self.width = width\n",
    "        self.height = height if height else width  # Handling square case\n",
    "\n",
    "    @classmethod\n",
    "    def from_square(cls, side):\n",
    "        return cls(side)  # Alternative constructor for square\n",
    "\n",
    "# Creating objects using different constructors\n",
    "rect = Shape(4, 6)\n",
    "square = Shape.from_square(5)\n",
    "print(f\"Rectangle width and height: {rect.width}, {rect.height}\")\n",
    "print(f\"Square side: {square.width}\")\n",
    "\n",
    "\n",
    "# Multiple Constructors: Python does not support method overloading natively, so you cannot have multiple constructors directly. However, you can achieve similar functionality using default arguments or class methods.\n"
   ]
  },
  {
   "cell_type": "code",
   "execution_count": null,
   "id": "7f79320e-a1af-4bee-986e-2dce63476a5d",
   "metadata": {},
   "outputs": [],
   "source": [
    "# 11. What is method overloading, and how is it related to constructors in Python?\n",
    "\n",
    "class Calculator:\n",
    "    def add(self, a, b, *args):\n",
    "        result = a + b\n",
    "        for num in args:\n",
    "            result += num\n",
    "        return result\n",
    "\n",
    "# Creating an object of the class Calculator\n",
    "calc = Calculator()\n",
    "print(calc.add(2, 3))\n",
    "print(calc.add(2, 3, 4, 5))\n",
    "\n",
    "\n",
    "# Method Overloading: Method overloading allows multiple methods with the same name but different parameters. Python does not support method overloading in the traditional sense but achieves similar behavior through default parameters and variable-length argument lists.\n",
    "\n",
    "# Relation to Constructors: Similar to methods, constructors in Python can use default parameters to handle different initialization scenarios."
   ]
  },
  {
   "cell_type": "code",
   "execution_count": null,
   "id": "238f3970-04cf-4373-bcdf-9f84f6806bd3",
   "metadata": {},
   "outputs": [],
   "source": [
    "# 12. Explain the use of the `super()` function in Python constructors. Provide an example.\n",
    "\n",
    "class Animal:\n",
    "    def __init__(self, species):\n",
    "        self.species = species\n",
    "\n",
    "class Bird(Animal):\n",
    "    def __init__(self, name):\n",
    "        super().__init__('Bird')  # Calling the parent class constructor\n",
    "        self.name = name\n",
    "\n",
    "# Creating an object of the class Bird\n",
    "bird = Bird(\"Sparrow\")\n",
    "print(f\"Species: {bird.species}, Name: {bird.name}\")\n",
    "\n",
    "\n",
    "# super() Function: The super() function is used to call a method from a parent class. In constructors, it is used to ensure that the parent class's constructor is called, which is useful for initializing attributes inherited from the parent class."
   ]
  },
  {
   "cell_type": "code",
   "execution_count": 19,
   "id": "68d807be-1400-43cc-8350-1271fbf0ecc8",
   "metadata": {},
   "outputs": [
    {
     "name": "stdout",
     "output_type": "stream",
     "text": [
      "Title: 1984\n",
      "Author: George Orwell\n",
      "Published Year: 1949\n"
     ]
    }
   ],
   "source": [
    "# 13. Create a class called `Book` with a constructor that initializes the `title`, `author`, and `published_year`\n",
    "# attributes. Provide a method to display book details.\n",
    "\n",
    "class Book:\n",
    "    def __init__(self, title, author, published_year):\n",
    "        self.title = title\n",
    "        self.author = author\n",
    "        self.published_year = published_year\n",
    "\n",
    "    def display_details(self):\n",
    "        print(f\"Title: {self.title}\")\n",
    "        print(f\"Author: {self.author}\")\n",
    "        print(f\"Published Year: {self.published_year}\")\n",
    "\n",
    "# Creating an object of the class Book\n",
    "book = Book(\"1984\", \"George Orwell\", 1949)\n",
    "book.display_details()\n"
   ]
  },
  {
   "cell_type": "code",
   "execution_count": null,
   "id": "ee7d7ee3-daea-417c-8065-8a17dc6a8596",
   "metadata": {},
   "outputs": [],
   "source": [
    "# 14. Discuss the differences between constructors and regular methods in Python classes.\n",
    "\n",
    "# Constructors: Special methods (__init__) used to initialize a new object. They are called automatically when an object is created and are responsible for setting up the initial state of the object.\n",
    "\n",
    "# Regular Methods: Define behaviors that objects can perform. They are invoked explicitly on object instances and can operate on the instance's attributes or perform specific actions."
   ]
  },
  {
   "cell_type": "code",
   "execution_count": 20,
   "id": "3a574df7-f596-4e23-976f-1e68ca037974",
   "metadata": {},
   "outputs": [
    {
     "name": "stdout",
     "output_type": "stream",
     "text": [
      "Length: 10, Width: 5, Height: 3\n"
     ]
    }
   ],
   "source": [
    "# 15. Explain the role of the `self` parameter in instance variable initialization within a constructor.\n",
    "\n",
    "class Box:\n",
    "    def __init__(self, length, width, height):\n",
    "        self.length = length\n",
    "        self.width = width\n",
    "        self.height = height\n",
    "\n",
    "# Creating an object of the class Box\n",
    "box = Box(10, 5, 3)\n",
    "print(f\"Length: {box.length}, Width: {box.width}, Height: {box.height}\")\n",
    "\n",
    "# Role of self: The self parameter refers to the instance of the class. It is used to access instance variables and methods within the class. When initializing instance variables, self allows you to assign values to those variables for the specific object being created."
   ]
  },
  {
   "cell_type": "code",
   "execution_count": 21,
   "id": "337ed193-876d-43fe-9d32-1fa9901925f7",
   "metadata": {},
   "outputs": [
    {
     "name": "stdout",
     "output_type": "stream",
     "text": [
      "True\n"
     ]
    }
   ],
   "source": [
    "# 16. How do you prevent a class from having multiple instances by using constructors in Python? Provide an\n",
    "# example.\n",
    "\n",
    "class Singleton:\n",
    "    _instance = None\n",
    "\n",
    "    def __new__(cls, *args, **kwargs):\n",
    "        if cls._instance is None:\n",
    "            cls._instance = super().__new__(cls, *args, **kwargs)\n",
    "        return cls._instance\n",
    "\n",
    "# Creating objects of the class Singleton\n",
    "singleton1 = Singleton()\n",
    "singleton2 = Singleton()\n",
    "print(singleton1 is singleton2)  # Output: true, both references are the same instance\n",
    "\n",
    "\n",
    "# Singleton Pattern: You can prevent multiple instances of a class by using the Singleton pattern, where only one instance of the class is created and reused."
   ]
  },
  {
   "cell_type": "code",
   "execution_count": 22,
   "id": "8f53ce28-003d-4bba-912e-65eec28ca864",
   "metadata": {},
   "outputs": [
    {
     "name": "stdout",
     "output_type": "stream",
     "text": [
      "Subjects: Math, Science, History\n"
     ]
    }
   ],
   "source": [
    "# 17. Create a Python class called `Student` with a constructor that takes a list of subjects as a parameter and\n",
    "# initializes the `subjects` attribute.\n",
    "\n",
    "class Student:\n",
    "    def __init__(self, subjects):\n",
    "        self.subjects = subjects\n",
    "\n",
    "    def display_subjects(self):\n",
    "        print(f\"Subjects: {', '.join(self.subjects)}\")\n",
    "\n",
    "# Creating an object of the class Student\n",
    "student = Student([\"Math\", \"Science\", \"History\"])\n",
    "student.display_subjects()\n"
   ]
  },
  {
   "cell_type": "code",
   "execution_count": 23,
   "id": "0e409d78-3e57-4f49-bcbc-2c7a89c02e06",
   "metadata": {},
   "outputs": [
    {
     "name": "stdout",
     "output_type": "stream",
     "text": [
      "Resource File acquired.\n",
      "Resource File released.\n"
     ]
    }
   ],
   "source": [
    "# 18. What is the purpose of the `__del__` method in Python classes, and how does it relate to constructors?\n",
    "\n",
    "class Resource:\n",
    "    def __init__(self, name):\n",
    "        self.name = name\n",
    "        print(f\"Resource {self.name} acquired.\")\n",
    "\n",
    "    def __del__(self):\n",
    "        print(f\"Resource {self.name} released.\")\n",
    "\n",
    "# Creating and deleting an object of the class Resource\n",
    "res = Resource(\"File\")\n",
    "del res\n",
    "\n",
    "\n",
    "\n",
    "# __del__ Method: The __del__ method is a destructor that is called when an object is about to be destroyed. It is used for cleanup tasks, such as closing files or releasing resources.\n",
    "\n",
    "# Relation to Constructors: While constructors (__init__) are used to initialize the object, destructors (__del__) are used to perform cleanup before the object is removed from memory."
   ]
  },
  {
   "cell_type": "code",
   "execution_count": null,
   "id": "7aae4237-39e6-4494-9806-ffb0ed6e6cc8",
   "metadata": {},
   "outputs": [],
   "source": [
    "# 19. Explain the use of constructor chaining in Python. Provide a practical example.\n",
    "\n",
    "class Person:\n",
    "    def __init__(self, name, age):\n",
    "        self.name = name\n",
    "        self.age = age\n",
    "\n",
    "    @classmethod\n",
    "    def from_birth_year(cls, name, birth_year):\n",
    "        import datetime\n",
    "        age = datetime.datetime.now().year - birth_year\n",
    "        return cls(name, age)\n",
    "\n",
    "# Creating objects using constructor chaining\n",
    "person1 = Person(\"Alice\", 30)\n",
    "person2 = Person.from_birth_year(\"Bob\", 1995)\n",
    "print(f\"Person1: {person1.name}, {person1.age}\")\n",
    "print(f\"Person2: {person2.name}, {person2.age}\")\n",
    "\n",
    "\n",
    "# Constructor Chaining: Constructor chaining involves calling one constructor from another within the same or a derived class. This is typically done using class methods to provide different ways to create objects."
   ]
  },
  {
   "cell_type": "code",
   "execution_count": 24,
   "id": "392ff6d6-f54d-48c9-bb33-a8fe278a53c7",
   "metadata": {},
   "outputs": [
    {
     "name": "stdout",
     "output_type": "stream",
     "text": [
      "Make: Toyota, Model: Camry\n",
      "Make: Unknown, Model: Unknown\n"
     ]
    }
   ],
   "source": [
    "# 20. Create a Python class called `Car` with a default constructor that initializes the `make` and `model`\n",
    "# attributes. Provide a method to display car information.\n",
    "\n",
    "\n",
    "class Car:\n",
    "    def __init__(self, make=\"Unknown\", model=\"Unknown\"):\n",
    "        self.make = make\n",
    "        self.model = model\n",
    "\n",
    "    def display_info(self):\n",
    "        print(f\"Make: {self.make}, Model: {self.model}\")\n",
    "\n",
    "# Creating objects of the class Car\n",
    "car1 = Car(\"Toyota\", \"Camry\")\n",
    "car2 = Car()\n",
    "car1.display_info()\n",
    "car2.display_info()\n"
   ]
  },
  {
   "cell_type": "code",
   "execution_count": null,
   "id": "90e6a5b3-8536-4f46-bc64-394ff6b7b261",
   "metadata": {},
   "outputs": [],
   "source": [
    "# Inheritance:"
   ]
  },
  {
   "cell_type": "code",
   "execution_count": 25,
   "id": "fb120e13-3c70-4cce-8c47-87b507d69dc2",
   "metadata": {},
   "outputs": [
    {
     "name": "stdout",
     "output_type": "stream",
     "text": [
      "Woof!\n"
     ]
    }
   ],
   "source": [
    "# 1. What is inheritance in Python? Explain its significance in object-oriented programming.\n",
    "\n",
    "class Animal:\n",
    "    def __init__(self, name):\n",
    "        self.name = name\n",
    "\n",
    "    def speak(self):\n",
    "        return \"Some generic sound\"\n",
    "\n",
    "class Dog(Animal):\n",
    "    def speak(self):\n",
    "        return \"Woof!\"\n",
    "\n",
    "# Usage\n",
    "dog = Dog(\"Buddy\")\n",
    "print(dog.speak())  # Output: Woof!\n",
    "\n",
    "\n",
    "\n",
    "# Inheritance is a fundamental concept in object-oriented programming (OOP) where a new class (child class or derived class) inherits attributes and methods from an existing class (parent class or base class). It allows for the creation of a new class with minimal changes by reusing code from an existing class. This promotes code reusability, logical hierarchy, and facilitates maintenance and extension of existing code."
   ]
  },
  {
   "cell_type": "code",
   "execution_count": 27,
   "id": "db096c9e-7b00-41d9-92e9-0202feb2e1f7",
   "metadata": {},
   "outputs": [
    {
     "name": "stdout",
     "output_type": "stream",
     "text": [
      "Red\n",
      "Toyota\n",
      "Engine starting\n",
      "Playing music\n"
     ]
    }
   ],
   "source": [
    "# 2. Differentiate between single inheritance and multiple inheritance in Python. Provide examples for each.\n",
    "\n",
    "# Single Inheritance: A class inherits from only one parent class.\n",
    "\n",
    "class Vehicle:\n",
    "    def __init__(self, color):\n",
    "        self.color = color\n",
    "\n",
    "class Car(Vehicle):\n",
    "    def __init__(self, color, brand):\n",
    "        super().__init__(color)\n",
    "        self.brand = brand\n",
    "\n",
    "# Usage\n",
    "car = Car(\"Red\", \"Toyota\")\n",
    "print(car.color)  \n",
    "print(car.brand)  \n",
    "\n",
    "\n",
    "# Multiple Inheritance: A class inherits from more than one parent class.\n",
    "class Engine:\n",
    "    def start(self):\n",
    "        return \"Engine starting\"\n",
    "\n",
    "class Radio:\n",
    "    def play_music(self):\n",
    "        return \"Playing music\"\n",
    "\n",
    "class Car(Engine, Radio):\n",
    "    def __init__(self, color):\n",
    "        self.color = color\n",
    "\n",
    "# Usage\n",
    "car = Car(\"Blue\")\n",
    "print(car.start())       \n",
    "print(car.play_music())  \n",
    "\n"
   ]
  },
  {
   "cell_type": "code",
   "execution_count": 28,
   "id": "395ee399-9ac0-4c49-92ff-766ea2f8e006",
   "metadata": {},
   "outputs": [
    {
     "name": "stdout",
     "output_type": "stream",
     "text": [
      "Green\n",
      "120\n",
      "Ford\n"
     ]
    }
   ],
   "source": [
    "# 3. Create a Python class called `Vehicle` with attributes `color` and `speed`. Then, create a child class called\n",
    "# `Car` that inherits from `Vehicle` and adds a `brand` attribute. Provide an example of creating a `Car` object.\n",
    "\n",
    "class Vehicle:\n",
    "    def __init__(self, color, speed):\n",
    "        self.color = color\n",
    "        self.speed = speed\n",
    "\n",
    "class Car(Vehicle):\n",
    "    def __init__(self, color, speed, brand):\n",
    "        super().__init__(color, speed)\n",
    "        self.brand = brand\n",
    "\n",
    "# Usage\n",
    "car = Car(\"Green\", 120, \"Ford\")\n",
    "print(car.color)  # Output: Green\n",
    "print(car.speed)  # Output: 120\n",
    "print(car.brand)  # Output: Ford\n"
   ]
  },
  {
   "cell_type": "code",
   "execution_count": 29,
   "id": "91e6881f-d616-4563-8820-5debf56eb3a7",
   "metadata": {},
   "outputs": [
    {
     "name": "stdout",
     "output_type": "stream",
     "text": [
      "Meow!\n"
     ]
    }
   ],
   "source": [
    "# 4. Explain the concept of method overriding in inheritance. Provide a practical example.\n",
    "\n",
    "class Animal:\n",
    "    def speak(self):\n",
    "        return \"Some sound\"\n",
    "\n",
    "class Cat(Animal):\n",
    "    def speak(self):\n",
    "        return \"Meow!\"\n",
    "\n",
    "# Usage\n",
    "cat = Cat()\n",
    "print(cat.speak())  \n",
    "\n",
    "\n",
    "# Method Overriding occurs when a child class provides a specific implementation of a method that is already defined in its parent class. This allows the child class to customize or extend the behavior of the method."
   ]
  },
  {
   "cell_type": "code",
   "execution_count": 30,
   "id": "9e7cbc9f-dbe4-4590-abb3-9c0ad8053422",
   "metadata": {},
   "outputs": [
    {
     "name": "stdout",
     "output_type": "stream",
     "text": [
      "Value from parent: 10\n"
     ]
    }
   ],
   "source": [
    "# 5. How can you access the methods and attributes of a parent class from a child class in Python? Give an\n",
    "# example.\n",
    "\n",
    "class Parent:\n",
    "    def __init__(self):\n",
    "        self.value = 10\n",
    "\n",
    "    def show_value(self):\n",
    "        return self.value\n",
    "\n",
    "class Child(Parent):\n",
    "    def __init__(self):\n",
    "        super().__init__()\n",
    "\n",
    "    def display(self):\n",
    "        return f\"Value from parent: {self.show_value()}\"\n",
    "\n",
    "# Usage\n",
    "child = Child()\n",
    "print(child.display())  \n",
    "\n",
    "\n",
    "# You can access the parent class methods and attributes using the super() function, which allows you to call methods from the parent class."
   ]
  },
  {
   "cell_type": "code",
   "execution_count": 31,
   "id": "db804f32-9bdc-4fe2-9b90-a2a1698905dc",
   "metadata": {},
   "outputs": [
    {
     "name": "stdout",
     "output_type": "stream",
     "text": [
      "Parent init\n",
      "Child init\n",
      "Hello from Parent\n",
      "Hello from Child\n"
     ]
    }
   ],
   "source": [
    "# 6. Discuss the use of the `super()` function in Python inheritance. When and why is it used? Provide an\n",
    "# example.\n",
    "\n",
    "class Parent:\n",
    "    def __init__(self):\n",
    "        print(\"Parent init\")\n",
    "\n",
    "    def greet(self):\n",
    "        print(\"Hello from Parent\")\n",
    "\n",
    "class Child(Parent):\n",
    "    def __init__(self):\n",
    "        super().__init__()  # Calls Parent's __init__\n",
    "        print(\"Child init\")\n",
    "\n",
    "    def greet(self):\n",
    "        super().greet()  # Calls Parent's greet\n",
    "        print(\"Hello from Child\")\n",
    "\n",
    "# Usage\n",
    "child = Child()\n",
    "child.greet()\n",
    "\n",
    "\n",
    "# The super() function is used to call methods from a parent class in a child class. It helps in accessing inherited methods and attributes, allowing you to extend or modify the functionality of the parent class."
   ]
  },
  {
   "cell_type": "code",
   "execution_count": 32,
   "id": "6655b596-49c2-48ae-b9c2-3fd8ede6d6ab",
   "metadata": {},
   "outputs": [
    {
     "name": "stdout",
     "output_type": "stream",
     "text": [
      "Woof!\n",
      "Meow!\n"
     ]
    }
   ],
   "source": [
    "# 7. Create a Python class called `Animal` with a method `speak()`. Then, create child classes `Dog` and `Cat`\n",
    "\n",
    "class Animal:\n",
    "    def speak(self):\n",
    "        return \"Some sound\"\n",
    "\n",
    "class Dog(Animal):\n",
    "    def speak(self):\n",
    "        return \"Woof!\"\n",
    "\n",
    "class Cat(Animal):\n",
    "    def speak(self):\n",
    "        return \"Meow!\"\n",
    "\n",
    "# Usage\n",
    "dog = Dog()\n",
    "cat = Cat()\n",
    "print(dog.speak()) \n",
    "print(cat.speak())  \n"
   ]
  },
  {
   "cell_type": "code",
   "execution_count": 33,
   "id": "9c256361-f8f2-4929-a903-7436e253766d",
   "metadata": {},
   "outputs": [
    {
     "name": "stdout",
     "output_type": "stream",
     "text": [
      "True\n",
      "True\n"
     ]
    }
   ],
   "source": [
    "# 8. Explain the role of the `isinstance()` function in Python and how it relates to inheritance.\n",
    "\n",
    "class Animal:\n",
    "    pass\n",
    "\n",
    "class Dog(Animal):\n",
    "    pass\n",
    "\n",
    "dog = Dog()\n",
    "print(isinstance(dog, Animal))  \n",
    "print(isinstance(dog, Dog))     \n",
    "\n",
    "\n",
    "# The isinstance() function checks if an object is an instance of a specific class or a tuple of classes. It is often used to verify if an object belongs to a certain class, especially in cases of inheritance."
   ]
  },
  {
   "cell_type": "code",
   "execution_count": 34,
   "id": "73a9781a-6ee4-4990-b692-2c73cec88960",
   "metadata": {},
   "outputs": [
    {
     "name": "stdout",
     "output_type": "stream",
     "text": [
      "True\n",
      "False\n"
     ]
    }
   ],
   "source": [
    "# 9. What is the purpose of the `issubclass()` function in Python? Provide an example.\n",
    "\n",
    "class Animal:\n",
    "    pass\n",
    "\n",
    "class Dog(Animal):\n",
    "    pass\n",
    "\n",
    "print(issubclass(Dog, Animal))  \n",
    "print(issubclass(Animal, Dog))  \n",
    "\n",
    "# The issubclass() function checks if a class is a subclass of another class. It helps in determining class hierarchies and relationships between classes."
   ]
  },
  {
   "cell_type": "code",
   "execution_count": 35,
   "id": "5f510b37-9e7b-47f3-aa81-5ba8c80e0b46",
   "metadata": {},
   "outputs": [
    {
     "name": "stdout",
     "output_type": "stream",
     "text": [
      "Alice\n",
      "12\n"
     ]
    }
   ],
   "source": [
    "# 10. Discuss the concept of constructor inheritance in Python. How are constructors inherited in child classes?\n",
    "\n",
    "\n",
    "class Parent:\n",
    "    def __init__(self, name):\n",
    "        self.name = name\n",
    "\n",
    "class Child(Parent):\n",
    "    def __init__(self, name, age):\n",
    "        super().__init__(name)  # Calls Parent's constructor\n",
    "        self.age = age\n",
    "\n",
    "# Usage\n",
    "child = Child(\"Alice\", 12)\n",
    "print(child.name)  \n",
    "print(child.age)   \n",
    "\n",
    "# In Python, constructors are not automatically inherited. Child classes need to explicitly call the parent class’s constructor using super() to initialize inherited attributes."
   ]
  },
  {
   "cell_type": "code",
   "execution_count": 36,
   "id": "cc7f82fe-328e-4433-9402-5014f4b17ba0",
   "metadata": {},
   "outputs": [
    {
     "name": "stdout",
     "output_type": "stream",
     "text": [
      "78.53981633974483\n",
      "24\n"
     ]
    }
   ],
   "source": [
    "# 11. Create a Python class called `Shape` with a method `area()` that calculates the area of a shape. Then, create child classes `Circle` and `Rectangle` that inherit from `Shape` and implement the `area()` method\n",
    "# accordingly. Provide an example.\n",
    "\n",
    "import math\n",
    "\n",
    "class Shape:\n",
    "    def area(self):\n",
    "        raise NotImplementedError(\"Subclass must implement abstract method\")\n",
    "\n",
    "class Circle(Shape):\n",
    "    def __init__(self, radius):\n",
    "        self.radius = radius\n",
    "\n",
    "    def area(self):\n",
    "        return math.pi * self.radius ** 2\n",
    "\n",
    "class Rectangle(Shape):\n",
    "    def __init__(self, width, height):\n",
    "        self.width = width\n",
    "        self.height = height\n",
    "\n",
    "    def area(self):\n",
    "        return self.width * self.height\n",
    "\n",
    "# Usage\n",
    "circle = Circle(5)\n",
    "rectangle = Rectangle(4, 6)\n",
    "print(circle.area())      \n",
    "print(rectangle.area())   \n"
   ]
  },
  {
   "cell_type": "code",
   "execution_count": 37,
   "id": "7a7a6ccb-ad6e-4db1-8aad-2c2a40d4c6a8",
   "metadata": {},
   "outputs": [
    {
     "name": "stdout",
     "output_type": "stream",
     "text": [
      "78.53981633974483\n"
     ]
    }
   ],
   "source": [
    "# 12. Explain the use of abstract base classes (ABCs) in Python and how they relate to inheritance. Provide an\n",
    "# example using the `abc` module.\n",
    "\n",
    "from abc import ABC, abstractmethod\n",
    "\n",
    "class Shape(ABC):\n",
    "    @abstractmethod\n",
    "    def area(self):\n",
    "        pass\n",
    "\n",
    "class Circle(Shape):\n",
    "    def __init__(self, radius):\n",
    "        self.radius = radius\n",
    "\n",
    "    def area(self):\n",
    "        return math.pi * self.radius ** 2\n",
    "\n",
    "# Usage\n",
    "circle = Circle(5)\n",
    "print(circle.area()) \n",
    "\n",
    "\n",
    "# Abstract Base Classes (ABCs) define methods that must be implemented by any subclass. They help ensure that derived classes provide specific methods or attributes. You use the abc module to define abstract methods."
   ]
  },
  {
   "cell_type": "code",
   "execution_count": 38,
   "id": "387a9aee-b58a-4576-9027-e6c27544768b",
   "metadata": {},
   "outputs": [
    {
     "name": "stdout",
     "output_type": "stream",
     "text": [
      "42\n"
     ]
    }
   ],
   "source": [
    "# 13. How can you prevent a child class from modifying certain attributes or methods inherited from a parent\n",
    "# class in Python?\n",
    "\n",
    "class Parent:\n",
    "    def __init__(self):\n",
    "        self.__private_attr = 42\n",
    "        self._protected_attr = 99\n",
    "\n",
    "    def get_private_attr(self):\n",
    "        return self.__private_attr\n",
    "\n",
    "class Child(Parent):\n",
    "    def __init__(self):\n",
    "        super().__init__()\n",
    "\n",
    "    def modify_attributes(self):\n",
    "        # self.__private_attr = 100  # This will raise an AttributeError\n",
    "        self._protected_attr = 101  # This is allowed but not recommended\n",
    "\n",
    "# Usage\n",
    "child = Child()\n",
    "print(child.get_private_attr())  \n",
    "\n",
    "\n",
    "# Single underscore (_): Indicates a protected member that should not be accessed directly.\n",
    "# Double underscore (__): Triggers name mangling to make it harder to accidentally override or access the attribute."
   ]
  },
  {
   "cell_type": "code",
   "execution_count": 39,
   "id": "ce22519a-8568-4c07-a80a-2c77de198d76",
   "metadata": {},
   "outputs": [
    {
     "name": "stdout",
     "output_type": "stream",
     "text": [
      "Name: Alice, Salary: 75000, Department: HR\n"
     ]
    }
   ],
   "source": [
    "# 14. Create a Python class called `Employee` with attributes `name` and `salary`. Then, create a child class\n",
    "# `Manager` that inherits from `Employee` and adds an attribute `department`. Provide an example.\n",
    "\n",
    "class Employee:\n",
    "    def __init__(self, name, salary):\n",
    "        self.name = name\n",
    "        self.salary = salary\n",
    "\n",
    "class Manager(Employee):\n",
    "    def __init__(self, name, salary, department):\n",
    "        super().__init__(name, salary)\n",
    "        self.department = department\n",
    "\n",
    "    def display(self):\n",
    "        return f\"Name: {self.name}, Salary: {self.salary}, Department: {self.department}\"\n",
    "\n",
    "# Usage\n",
    "manager = Manager(\"Alice\", 75000, \"HR\")\n",
    "print(manager.display())  # Output: Name: Alice, Salary: 75000, Department: HR\n"
   ]
  },
  {
   "cell_type": "code",
   "execution_count": 40,
   "id": "dc7d8a25-fb66-4a61-bbb2-934c643c76b6",
   "metadata": {},
   "outputs": [
    {
     "name": "stdout",
     "output_type": "stream",
     "text": [
      "Default Message\n",
      "Hello World\n"
     ]
    }
   ],
   "source": [
    "# 15. Discuss the concept of method overloading in Python inheritance. How does it differ from method\n",
    "# overriding?\n",
    "\n",
    "# Method Overriding: Occurs when a child class provides a specific implementation of a method that is already defined in its parent class.\n",
    "class Animal:\n",
    "    def speak(self):\n",
    "        return \"Some sound\"\n",
    "\n",
    "class Dog(Animal):\n",
    "    def speak(self):\n",
    "        return \"Woof!\"\n",
    "\n",
    " # Method Overloading: Python does not support method overloading directly. Instead, you can use default arguments or variable-length arguments to achieve similar functionality.   \n",
    "class Printer:\n",
    "    def print_message(self, msg=\"Default Message\"):\n",
    "        print(msg)\n",
    "\n",
    "printer = Printer()\n",
    "printer.print_message()              \n",
    "printer.print_message(\"Hello World\") \n"
   ]
  },
  {
   "cell_type": "code",
   "execution_count": 41,
   "id": "45b1d640-8cc4-41ac-bc04-4e19bf36bdd0",
   "metadata": {},
   "outputs": [
    {
     "name": "stdout",
     "output_type": "stream",
     "text": [
      "Alice\n",
      "12\n"
     ]
    }
   ],
   "source": [
    "# 16. Explain the purpose of the `__init__()` method in Python inheritance and how it is utilized in child classes.\n",
    "\n",
    "class Parent:\n",
    "    def __init__(self, name):\n",
    "        self.name = name\n",
    "\n",
    "class Child(Parent):\n",
    "    def __init__(self, name, age):\n",
    "        super().__init__(name)  # Calls Parent's __init__\n",
    "        self.age = age\n",
    "\n",
    "# Usage\n",
    "child = Child(\"Alice\", 12)\n",
    "print(child.name)  \n",
    "print(child.age)   \n",
    "\n",
    "# The __init__() method is the constructor in Python classes. It initializes the object's attributes when the object is created. In inheritance, the __init__() method of the parent class can be called using super() to ensure that the parent class is properly initialized."
   ]
  },
  {
   "cell_type": "code",
   "execution_count": 1,
   "id": "851021a4-ddad-4f12-98d9-51e906a5db1c",
   "metadata": {},
   "outputs": [
    {
     "name": "stdout",
     "output_type": "stream",
     "text": [
      "Soaring high in the sky\n",
      "Flapping wings quickly\n"
     ]
    }
   ],
   "source": [
    "# 17. Create a Python class called `Bird` with a method `fly()`. Then, create child classes `Eagle` and `Sparrow` that inherit from `Bird` and implement the `fly()` method differently. Provide an example of using these\n",
    "# classes.\n",
    "\n",
    "class Bird:\n",
    "    def fly(self):\n",
    "        return \"Flying in the sky\"\n",
    "\n",
    "class Eagle(Bird):\n",
    "    def fly(self):\n",
    "        return \"Soaring high in the sky\"\n",
    "\n",
    "class Sparrow(Bird):\n",
    "    def fly(self):\n",
    "        return \"Flapping wings quickly\"\n",
    "\n",
    "# Usage\n",
    "eagle = Eagle()\n",
    "sparrow = Sparrow()\n",
    "print(eagle.fly())   \n",
    "print(sparrow.fly()) \n"
   ]
  },
  {
   "cell_type": "code",
   "execution_count": 2,
   "id": "f5028dc9-ddb3-446d-8542-288466838903",
   "metadata": {},
   "outputs": [
    {
     "name": "stdout",
     "output_type": "stream",
     "text": [
      "B\n"
     ]
    }
   ],
   "source": [
    "# 18. What is the \"diamond problem\" in multiple inheritance, and how does Python address it?\n",
    "\n",
    "# The \"diamond problem\" occurs in multiple inheritance when a class inherits from two classes that have a common base class. This can create ambiguity about which base class method to use. Python addresses this problem using the C3 linearization algorithm to ensure a consistent method resolution order (MRO).\n",
    "\n",
    "class A:\n",
    "    def method(self):\n",
    "        return \"A\"\n",
    "\n",
    "class B(A):\n",
    "    def method(self):\n",
    "        return \"B\"\n",
    "\n",
    "class C(A):\n",
    "    def method(self):\n",
    "        return \"C\"\n",
    "\n",
    "class D(B, C):\n",
    "    pass\n",
    "\n",
    "# Usage\n",
    "d = D()\n",
    "print(d.method())  \n"
   ]
  },
  {
   "cell_type": "code",
   "execution_count": 3,
   "id": "4517a49f-5ac6-4363-99b3-f86d3b595054",
   "metadata": {},
   "outputs": [],
   "source": [
    "# 19. Discuss the concept of \"is-a\" and \"has-a\" relationships in inheritance, and provide examples of each.\n",
    "\n",
    "# Is-a\" Relationship: Describes a situation where a class is a type of another class. It is used in inheritance.\n",
    "class Animal:\n",
    "    pass\n",
    "\n",
    "class Dog(Animal):  # Dog is an Animal\n",
    "    pass\n",
    "\n",
    "# \"Has-a\" Relationship: Describes a situation where a class contains an instance of another class. It is used in composition.\n",
    "class Engine:\n",
    "    pass\n",
    "\n",
    "class Car:\n",
    "    def __init__(self, engine):\n",
    "        self.engine = engine  # Car has an Engine\n"
   ]
  },
  {
   "cell_type": "code",
   "execution_count": 4,
   "id": "c3b270c6-3c9d-48db-a3c7-3aab78628f8c",
   "metadata": {},
   "outputs": [
    {
     "name": "stdout",
     "output_type": "stream",
     "text": [
      "Student ID: S12345, Name: John Doe, Age: 20\n",
      "Employee ID: P67890, Name: Dr. Smith, Age: 45\n"
     ]
    }
   ],
   "source": [
    "# 20. Create a Python class hierarchy for a university system. Start with a base class `Person` and create child\n",
    "# classes `Student` and `Professor`, each with their own attributes and methods. Provide an example of using\n",
    "# these classes in a university context.\n",
    "\n",
    "class Person:\n",
    "    def __init__(self, name, age):\n",
    "        self.name = name\n",
    "        self.age = age\n",
    "\n",
    "    def display_info(self):\n",
    "        return f\"Name: {self.name}, Age: {self.age}\"\n",
    "\n",
    "class Student(Person):\n",
    "    def __init__(self, name, age, student_id):\n",
    "        super().__init__(name, age)\n",
    "        self.student_id = student_id\n",
    "\n",
    "    def display_info(self):\n",
    "        return f\"Student ID: {self.student_id}, \" + super().display_info()\n",
    "\n",
    "class Professor(Person):\n",
    "    def __init__(self, name, age, employee_id):\n",
    "        super().__init__(name, age)\n",
    "        self.employee_id = employee_id\n",
    "\n",
    "    def display_info(self):\n",
    "        return f\"Employee ID: {self.employee_id}, \" + super().display_info()\n",
    "\n",
    "# Usage\n",
    "student = Student(\"John Doe\", 20, \"S12345\")\n",
    "professor = Professor(\"Dr. Smith\", 45, \"P67890\")\n",
    "print(student.display_info())  \n",
    "print(professor.display_info()) "
   ]
  },
  {
   "cell_type": "code",
   "execution_count": null,
   "id": "503c2a22-0de5-4271-b428-f200f3a19954",
   "metadata": {},
   "outputs": [],
   "source": [
    "# Encapsulation:\n"
   ]
  },
  {
   "cell_type": "code",
   "execution_count": 5,
   "id": "d0ec89be-865f-4336-9467-f1a52c69a130",
   "metadata": {},
   "outputs": [],
   "source": [
    "#1. Explain the concept of encapsulation in Python. What is its role in object-oriented programming?\n",
    "\n",
    "# Encapsulation in Python refers to the bundling of data (attributes) and methods (functions) that operate on that data into a single unit or class. It also involves restricting direct access to some of an object's components, which is a means of preventing accidental interference and misuse of the data. Encapsulation ensures that an object's internal state is protected from unintended modification, thereby enhancing security and integrity.\n",
    "\n",
    "# Role in Object-Oriented Programming:\n",
    "# Data Hiding: Encapsulation allows for the hiding of an object’s internal state, protecting the integrity of its data.\n",
    "# Modularity: It promotes modularity, where an object’s methods control access to its internal data.\n",
    "# Code Reusability: Encapsulation facilitates the reuse of code, as the implementation details are hidden, allowing for objects to be used in different contexts without modification."
   ]
  },
  {
   "cell_type": "code",
   "execution_count": null,
   "id": "36135268-9913-4d2c-ad01-b83ee7c0107c",
   "metadata": {},
   "outputs": [],
   "source": [
    "# 2. Describe the key principles of encapsulation, including access control and data hiding.\n",
    "\n",
    "# key Principles of Encapsulation:\n",
    "\n",
    "# Access Control:\n",
    "# Public Access: Attributes and methods that are accessible from outside the class.\n",
    "# Protected Access: Attributes and methods intended to be used only within the class and its subclasses (conventionally indicated with a single underscore _).\n",
    "# Private Access: Attributes and methods that are not meant to be accessed or modified directly from outside the class (indicated with a double underscore __).\n",
    "\n",
    "# Data Hiding:\n",
    "# The concept of restricting access to certain details of an object. This prevents external code from being able to modify the internal state of an object directly, reducing the risk of bugs and unintended behavior.\n",
    "# Data hiding is achieved through private and protected access modifiers."
   ]
  },
  {
   "cell_type": "code",
   "execution_count": 6,
   "id": "170ad621-a6e7-4c55-80a1-8563bc7f9a33",
   "metadata": {},
   "outputs": [
    {
     "name": "stdout",
     "output_type": "stream",
     "text": [
      "John\n",
      "Jane\n"
     ]
    }
   ],
   "source": [
    "# 3. How can you achieve encapsulation in Python classes? Provide an example.\n",
    "\n",
    "class Employee:\n",
    "    def __init__(self, name, salary):\n",
    "        self.__name = name  # Private attribute\n",
    "        self._salary = salary  # Protected attribute\n",
    "\n",
    "    def get_name(self):\n",
    "        return self.__name\n",
    "\n",
    "    def set_name(self, name):\n",
    "        self.__name = name\n",
    "\n",
    "# Usage\n",
    "emp = Employee(\"John\", 50000)\n",
    "print(emp.get_name())  # Accessing private attribute via getter\n",
    "emp.set_name(\"Jane\")\n",
    "print(emp.get_name())\n",
    "\n",
    "\n",
    "\n",
    "# Encapsulation in Python can be achieved by using access modifiers to control the access to class attributes. You can define attributes as private or protected to restrict their access."
   ]
  },
  {
   "cell_type": "code",
   "execution_count": 9,
   "id": "84005e4c-fd7a-437a-ac3e-9bb95dd9a8d7",
   "metadata": {},
   "outputs": [],
   "source": [
    "# 4. Discuss the difference between public, private, and protected access modifiers in Python\n",
    "\n",
    "# Public: Attributes or methods that are accessible from anywhere, including outside the class. They are defined without any underscore.\n",
    "class MyClass:\n",
    "    def __init__(self):\n",
    "        self.public_attr = \"I am public\"\n",
    "\n",
    "# Protected: Attributes or methods that should not be accessed from outside the class or its subclasses but are accessible within the class and its subclasses. They are indicated by a single underscore (_).\n",
    "class MyClass:\n",
    "    def __init__(self):\n",
    "        self._protected_attr = \"I am protected\"\n",
    "\n",
    "# Private: Attributes or methods that cannot be accessed from outside the class. They are used for internal state management and are indicated by a double underscore (__), which triggers name mangling.\n",
    "class MyClass:\n",
    "    def __init__(self):\n",
    "        self.__private_attr = \"I am private\"\n"
   ]
  },
  {
   "cell_type": "code",
   "execution_count": 10,
   "id": "5ebeaca2-dc72-4cf8-88cc-40930f480d28",
   "metadata": {},
   "outputs": [
    {
     "name": "stdout",
     "output_type": "stream",
     "text": [
      "John\n",
      "Jane\n"
     ]
    }
   ],
   "source": [
    "# 5. Create a Python class called `Person` with a private attribute `__name`. Provide methods to get and set the\n",
    "# name attribute.\n",
    "\n",
    "class Person:\n",
    "    def __init__(self, name):\n",
    "        self.__name = name  # Private attribute\n",
    "\n",
    "    def get_name(self):\n",
    "        return self.__name\n",
    "\n",
    "    def set_name(self, name):\n",
    "        self.__name = name\n",
    "\n",
    "# Usage\n",
    "person = Person(\"John\")\n",
    "print(person.get_name())  \n",
    "person.set_name(\"Jane\")\n",
    "print(person.get_name())  \n"
   ]
  },
  {
   "cell_type": "code",
   "execution_count": 11,
   "id": "a27f8005-3509-4020-8237-2a39201c95dd",
   "metadata": {},
   "outputs": [
    {
     "name": "stdout",
     "output_type": "stream",
     "text": [
      "100\n",
      "200\n"
     ]
    }
   ],
   "source": [
    "# 6. Explain the purpose of getter and setter methods in encapsulation. Provide examples.\n",
    "\n",
    "# Getter and Setter Methods are used to control access to private or protected attributes. They allow you to retrieve or modify the value of an attribute while maintaining control over the access and ensuring that any necessary validation or preprocessing is done.\n",
    "\n",
    "# Getter Method: Retrieves the value of a private attribute.\n",
    "# Setter Method: Sets or updates the value of a private attribute, typically with validation.\n",
    "\n",
    "class Account:\n",
    "    def __init__(self, balance):\n",
    "        self.__balance = balance  # Private attribute\n",
    "\n",
    "    def get_balance(self):\n",
    "        return self.__balance  # Getter\n",
    "\n",
    "    def set_balance(self, amount):\n",
    "        if amount >= 0:\n",
    "            self.__balance = amount  # Setter\n",
    "        else:\n",
    "            print(\"Invalid balance\")\n",
    "\n",
    "# Usage\n",
    "acc = Account(100)\n",
    "print(acc.get_balance())  \n",
    "acc.set_balance(200)\n",
    "print(acc.get_balance()) \n"
   ]
  },
  {
   "cell_type": "code",
   "execution_count": 12,
   "id": "88335067-f3bb-41f2-98d4-2de00c87636d",
   "metadata": {},
   "outputs": [
    {
     "name": "stdout",
     "output_type": "stream",
     "text": [
      "Hidden\n",
      "Hidden\n"
     ]
    }
   ],
   "source": [
    "# 7. What is name mangling in Python, and how does it affect encapsulation?\n",
    "\n",
    "# Name Mangling in Python is a mechanism that alters the name of a private attribute in a way that makes it harder to access from outside the class. When a class attribute is defined with double underscores (__), Python internally changes its name by prefixing it with _ClassName, making it more difficult to accidentally override or access the attribute.\n",
    "\n",
    "class MyClass:\n",
    "    def __init__(self):\n",
    "        self.__private_attr = \"Hidden\"\n",
    "\n",
    "    def get_private_attr(self):\n",
    "        return self.__private_attr\n",
    "\n",
    "# Usage\n",
    "obj = MyClass()\n",
    "print(obj.get_private_attr())  # Correct way to access\n",
    "print(obj._MyClass__private_attr)  # Name mangling allows access but not recommended\n"
   ]
  },
  {
   "cell_type": "code",
   "execution_count": 13,
   "id": "d075b72c-8b7f-4aeb-b105-3ba79e6cac78",
   "metadata": {},
   "outputs": [
    {
     "name": "stdout",
     "output_type": "stream",
     "text": [
      "Deposited 500. New balance: 1500\n",
      "Withdrew 300. Remaining balance: 1200\n",
      "1200\n"
     ]
    }
   ],
   "source": [
    "# 8. Create a Python class called `BankAccount` with private attributes for the account balance (`__balance`) and account number (`__account_number`). Provide methods for depositing and withdrawing money.\n",
    "\n",
    "class BankAccount:\n",
    "    def __init__(self, account_number, balance=0):\n",
    "        self.__account_number = account_number  # Private attribute\n",
    "        self.__balance = balance  # Private attribute\n",
    "\n",
    "    def deposit(self, amount):\n",
    "        if amount > 0:\n",
    "            self.__balance += amount\n",
    "            print(f\"Deposited {amount}. New balance: {self.__balance}\")\n",
    "        else:\n",
    "            print(\"Invalid deposit amount\")\n",
    "\n",
    "    def withdraw(self, amount):\n",
    "        if 0 < amount <= self.__balance:\n",
    "            self.__balance -= amount\n",
    "            print(f\"Withdrew {amount}. Remaining balance: {self.__balance}\")\n",
    "        else:\n",
    "            print(\"Invalid withdrawal amount or insufficient funds\")\n",
    "\n",
    "    def get_balance(self):\n",
    "        return self.__balance\n",
    "\n",
    "# Usage\n",
    "account = BankAccount(\"12345678\", 1000)\n",
    "account.deposit(500)\n",
    "account.withdraw(300)\n",
    "print(account.get_balance())  \n"
   ]
  },
  {
   "cell_type": "code",
   "execution_count": null,
   "id": "9aec2dfc-482b-44f5-98af-be62a1560e55",
   "metadata": {},
   "outputs": [],
   "source": [
    "# 9. Discuss the advantages of encapsulation in terms of code maintainability and security\n",
    "\n",
    "# Advantages of Encapsulation:\n",
    "\n",
    "# Code Maintainability: Encapsulation allows developers to change the internal implementation of a class without affecting other parts of the codebase. This modular approach makes code easier to maintain and update.\n",
    "\n",
    "# Data Protection: By restricting direct access to an object's attributes, encapsulation protects the data from being accidentally modified by external code, reducing the likelihood of bugs.\n",
    "\n",
    "# Flexibility: Encapsulation allows for better control over how data is accessed and modified. Developers can enforce validation and preprocessing through getter and setter methods, ensuring that the data remains in a consistent and valid state.\n",
    "\n",
    "# Security: Encapsulation hides the internal state of an object, preventing unauthorized access and modification. This is particularly important in scenarios where sensitive data needs to be protected."
   ]
  },
  {
   "cell_type": "code",
   "execution_count": 14,
   "id": "9b1c2197-05c8-46cd-bf77-e25832defe1d",
   "metadata": {},
   "outputs": [
    {
     "name": "stdout",
     "output_type": "stream",
     "text": [
      "Private Data\n"
     ]
    }
   ],
   "source": [
    "# 10. How can you access private attributes in Python? Provide an example demonstrating the use of name\n",
    "# mangling.\n",
    "\n",
    "class MyClass:\n",
    "    def __init__(self):\n",
    "        self.__private_attr = \"Private Data\"\n",
    "\n",
    "# Usage\n",
    "obj = MyClass()\n",
    "print(obj._MyClass__private_attr)  # Accessing private attribute via name mangling\n",
    "\n",
    "# Private attributes can be accessed using name mangling, which involves prefixing the attribute name with _ClassName."
   ]
  },
  {
   "cell_type": "code",
   "execution_count": 15,
   "id": "4505cd08-f8f9-4258-9b48-31b52d974cae",
   "metadata": {},
   "outputs": [
    {
     "name": "stdout",
     "output_type": "stream",
     "text": [
      "['John Doe']\n"
     ]
    }
   ],
   "source": [
    "# 11. Create a Python class hierarchy for a school system, including classes for students, teachers, and courses,\n",
    "# and implement encapsulation principles to protect sensitive information.\n",
    "\n",
    "class Person:\n",
    "    def __init__(self, name, age):\n",
    "        self._name = name  # Protected attribute\n",
    "        self._age = age  # Protected attribute\n",
    "\n",
    "class Student(Person):\n",
    "    def __init__(self, name, age, student_id):\n",
    "        super().__init__(name, age)\n",
    "        self.__student_id = student_id  # Private attribute\n",
    "        self.__grades = {}  # Private attribute\n",
    "\n",
    "    def add_grade(self, course, grade):\n",
    "        self.__grades[course] = grade\n",
    "\n",
    "    def get_grades(self):\n",
    "        return self.__grades\n",
    "\n",
    "class Teacher(Person):\n",
    "    def __init__(self, name, age, employee_id):\n",
    "        super().__init__(name, age)\n",
    "        self.__employee_id = employee_id  # Private attribute\n",
    "        self.__courses = []  # Private attribute\n",
    "\n",
    "    def assign_course(self, course):\n",
    "        self.__courses.append(course)\n",
    "\n",
    "    def get_courses(self):\n",
    "        return self.__courses\n",
    "\n",
    "class Course:\n",
    "    def __init__(self, course_name, teacher):\n",
    "        self._course_name = course_name  # Protected attribute\n",
    "        self._teacher = teacher  # Protected attribute\n",
    "        self.__students = []  # Private attribute\n",
    "\n",
    "    def enroll_student(self, student):\n",
    "        self.__students.append(student)\n",
    "\n",
    "    def get_students(self):\n",
    "        return [student._name for student in self.__students]\n",
    "\n",
    "# Usage\n",
    "teacher = Teacher(\"Mrs. Smith\", 35, \"T123\")\n",
    "course = Course(\"Math\", teacher)\n",
    "student = Student(\"John Doe\", 16, \"S456\")\n",
    "\n",
    "course.enroll_student(student)\n",
    "print(course.get_students()) \n",
    "\n"
   ]
  },
  {
   "cell_type": "code",
   "execution_count": 16,
   "id": "a7707290-e5e8-45ee-8064-d7d0a6df5298",
   "metadata": {},
   "outputs": [
    {
     "name": "stdout",
     "output_type": "stream",
     "text": [
      "50000\n",
      "60000\n"
     ]
    }
   ],
   "source": [
    "# 12. Explain the concept of property decorators in Python and how they relate to encapsulation.\n",
    "\n",
    "# Property Decorators in Python are used to manage access to an object's attributes, providing a way to define methods that can be accessed like attributes. They are particularly useful in encapsulation, allowing you to control access and modification of private attributes without changing the interface of the class.\n",
    "# @property: Used to define a getter method.\n",
    "# @attribute_name.setter: Used to define a setter method.\n",
    "\n",
    "class Employee:\n",
    "    def __init__(self, name, salary):\n",
    "        self.__name = name  # Private attribute\n",
    "        self.__salary = salary  # Private attribute\n",
    "\n",
    "    @property\n",
    "    def salary(self):\n",
    "        return self.__salary\n",
    "\n",
    "    @salary.setter\n",
    "    def salary(self, amount):\n",
    "        if amount > 0:\n",
    "            self.__salary = amount\n",
    "        else:\n",
    "            print(\"Invalid salary\")\n",
    "\n",
    "# Usage\n",
    "emp = Employee(\"John\", 50000)\n",
    "print(emp.salary)  # Accessing private attribute via property\n",
    "emp.salary = 60000  # Modifying private attribute via setter\n",
    "print(emp.salary)\n"
   ]
  },
  {
   "cell_type": "code",
   "execution_count": 17,
   "id": "e45994bb-f437-40f1-bf5e-a51691d90649",
   "metadata": {},
   "outputs": [
    {
     "name": "stdout",
     "output_type": "stream",
     "text": [
      "1500\n"
     ]
    }
   ],
   "source": [
    "# 13. What is data hiding, and why is it important in encapsulation? Provide examples.\n",
    "\n",
    "# Data Hiding is the practice of restricting access to certain details of an object, typically by marking attributes as private. It is a core aspect of encapsulation, ensuring that internal object states cannot be accessed or modified directly from outside the class.\n",
    "\n",
    "# Importance:\n",
    "# Prevents unauthorized access: Ensures that sensitive data cannot be tampered with or misused.\n",
    "# Encourages proper usage: Forces users of a class to interact with it through well-defined interfaces (e.g., getters and setters), ensuring that the object remains in a valid state.\n",
    "\n",
    "class BankAccount:\n",
    "    def __init__(self, balance):\n",
    "        self.__balance = balance  # Private attribute\n",
    "\n",
    "    def deposit(self, amount):\n",
    "        if amount > 0:\n",
    "            self.__balance += amount\n",
    "\n",
    "    def get_balance(self):\n",
    "        return self.__balance\n",
    "\n",
    "# Usage\n",
    "account = BankAccount(1000)\n",
    "account.deposit(500)\n",
    "print(account.get_balance())  \n"
   ]
  },
  {
   "cell_type": "code",
   "execution_count": 18,
   "id": "8acea50d-91e4-4e30-9d2f-f5d568daf4b3",
   "metadata": {},
   "outputs": [
    {
     "name": "stdout",
     "output_type": "stream",
     "text": [
      "5000.0\n"
     ]
    }
   ],
   "source": [
    "# 14. Create a Python class called `Employee` with private attributes for salary (`__salary`) and employee ID (`__employee_id`). Provide a method to calculate yearly bonuses.\n",
    "\n",
    "class Employee:\n",
    "    def __init__(self, employee_id, salary):\n",
    "        self.__employee_id = employee_id  # Private attribute\n",
    "        self.__salary = salary  # Private attribute\n",
    "\n",
    "    def calculate_bonus(self):\n",
    "        return self.__salary * 0.1  # Assuming 10% bonus\n",
    "\n",
    "# Usage\n",
    "emp = Employee(\"E123\", 50000)\n",
    "print(emp.calculate_bonus()) \n",
    "\n"
   ]
  },
  {
   "cell_type": "code",
   "execution_count": 19,
   "id": "32d0b187-0650-497c-a4b9-3d2fb9fa5ef4",
   "metadata": {},
   "outputs": [
    {
     "name": "stdout",
     "output_type": "stream",
     "text": [
      "50000\n",
      "60000\n"
     ]
    }
   ],
   "source": [
    "# 15. Discuss the use of accessors and mutators in encapsulation. How do they help maintain control over\n",
    "# attribute access?\n",
    "\n",
    "# Accessors and Mutators (also known as getters and setters) are methods used to read and update the values of private or protected attributes. They provide a controlled way to interact with an object's data, ensuring that any access or modification adheres to the class's intended usage and validation rules.\n",
    "\n",
    "# Accessors (Getters): Methods that return the value of a private attribute, allowing controlled access.\n",
    "# Mutators (Setters): Methods that set or update the value of a private attribute, allowing controlled modification.\n",
    "\n",
    "# Benefits:\n",
    "# Validation: Ensures that any data being set meets specific criteria, preventing invalid data.\n",
    "# Encapsulation: Allows the internal representation of data to change without affecting external code.\n",
    "# Control: Provides a single point of access, making it easier to manage and maintain.\n",
    "\n",
    "class Employee:\n",
    "    def __init__(self, salary):\n",
    "        self.__salary = salary\n",
    "\n",
    "    def get_salary(self):\n",
    "        return self.__salary\n",
    "\n",
    "    def set_salary(self, amount):\n",
    "        if amount > 0:\n",
    "            self.__salary = amount\n",
    "        else:\n",
    "            print(\"Invalid salary\")\n",
    "\n",
    "# Usage\n",
    "emp = Employee(50000)\n",
    "print(emp.get_salary())  \n",
    "emp.set_salary(60000)\n",
    "print(emp.get_salary())  \n"
   ]
  },
  {
   "cell_type": "code",
   "execution_count": null,
   "id": "ef153506-9d37-42d0-bc64-f95c9bd80a6a",
   "metadata": {},
   "outputs": [],
   "source": [
    "# 16. What are the potential drawbacks or disadvantages of using encapsulation in Python?\n",
    "\n",
    "\n",
    "# Complexity: Encapsulation can introduce additional complexity to the code, as it requires defining getter and setter methods or using property decorators, even for simple attributes.\n",
    "\n",
    "# Performance Overhead: Accessing and modifying data through methods rather than directly can introduce a slight performance overhead, especially in performance-critical applications.\n",
    "\n",
    "# Increased Boilerplate Code: Encapsulation can lead to an increase in boilerplate code, particularly when defining multiple getter and setter methods.\n",
    "\n",
    "# Inflexibility: Overuse of encapsulation can make the code less flexible, as it may require significant changes to the interface if internal attributes or their handling need to be modified.\n",
    "\n",
    "# Limited by Python’s Philosophy: Python’s philosophy of \"we are all consenting adults here\" means that private attributes can still be accessed via name mangling. Encapsulation in Python is more of a convention than an enforced rule, which might be seen as a disadvantage in terms of strict data protection."
   ]
  },
  {
   "cell_type": "code",
   "execution_count": 21,
   "id": "c81472b0-f603-4860-9b4f-6d40c3bfc227",
   "metadata": {},
   "outputs": [
    {
     "name": "stdout",
     "output_type": "stream",
     "text": [
      "'1984' by George Orwell is available.\n",
      "You have borrowed '1984' by George Orwell.\n",
      "'1984' by George Orwell is unavailable.\n",
      "You have returned '1984' by George Orwell.\n"
     ]
    }
   ],
   "source": [
    "# 17. Create a Python class for a library system that encapsulates book information, including titles, authors,\n",
    "# and availability status.\n",
    "\n",
    "class Book:\n",
    "    def __init__(self, title, author, available=True):\n",
    "        self.__title = title  # Private attribute\n",
    "        self.__author = author  # Private attribute\n",
    "        self.__available = available  # Private attribute\n",
    "\n",
    "    def borrow_book(self):\n",
    "        if self.__available:\n",
    "            self.__available = False\n",
    "            print(f\"You have borrowed '{self.__title}' by {self.__author}.\")\n",
    "        else:\n",
    "            print(f\"Sorry, '{self.__title}' is currently unavailable.\")\n",
    "\n",
    "    def return_book(self):\n",
    "        self.__available = True\n",
    "        print(f\"You have returned '{self.__title}' by {self.__author}.\")\n",
    "\n",
    "    def get_info(self):\n",
    "        status = \"available\" if self.__available else \"unavailable\"\n",
    "        return f\"'{self.__title}' by {self.__author} is {status}.\"\n",
    "\n",
    "# Usage\n",
    "book = Book(\"1984\", \"George Orwell\")\n",
    "print(book.get_info())  \n",
    "book.borrow_book()  \n",
    "print(book.get_info()) \n",
    "book.return_book()  \n",
    "\n"
   ]
  },
  {
   "cell_type": "code",
   "execution_count": 22,
   "id": "e9bd198d-ccd8-47cb-99dc-4e41e8f0898c",
   "metadata": {},
   "outputs": [
    {
     "name": "stdout",
     "output_type": "stream",
     "text": [
      "50\n",
      "30\n"
     ]
    }
   ],
   "source": [
    "# 18. Explain how encapsulation enhances code reusability and modularity in Python programs.\n",
    "\n",
    "# Encapsulation enhances code reusability and modularity by bundling data and the methods that operate on that data within a single unit (class). This encapsulation offers several benefits:\n",
    "\n",
    "# Modularity: Encapsulation divides the code into distinct, self-contained modules or classes, each responsible for a specific aspect of the program. This modularity makes it easier to maintain and manage the codebase, as changes in one class do not directly impact others.\n",
    "\n",
    "# Reusability: Encapsulation promotes the reuse of classes across different parts of a program or in different projects. Since classes encapsulate all relevant data and behaviors, they can be reused without needing to understand their internal workings or rewrite the logic.\n",
    "\n",
    "# Abstraction: Encapsulation hides the complex implementation details and provides a simple interface for interacting with the object. This abstraction allows other parts of the program to use the class without needing to know the underlying implementation, enhancing reusability.\n",
    "\n",
    "# Maintainability: Encapsulated code is easier to maintain and extend. If changes are needed, they can be made within the class without affecting the rest of the program. This also reduces the risk of introducing bugs when modifying the code.\n",
    "\n",
    "class Rectangle:\n",
    "    def __init__(self, length, width):\n",
    "        self.__length = length  # Private attributes\n",
    "        self.__width = width\n",
    "\n",
    "    def area(self):\n",
    "        return self.__length * self.__width\n",
    "\n",
    "    def perimeter(self):\n",
    "        return 2 * (self.__length + self.__width)\n",
    "\n",
    "# Usage\n",
    "rect = Rectangle(10, 5)\n",
    "print(rect.area()) \n",
    "print(rect.perimeter())  \n",
    "\n",
    "\n",
    "# In this example, the Rectangle class encapsulates the attributes length and width along with methods to calculate the area and perimeter. This class can be reused in any program that requires these operations without needing to modify or understand the internal workings."
   ]
  },
  {
   "cell_type": "code",
   "execution_count": null,
   "id": "5eaf5ed7-13c4-40a7-a967-0ce601a44f22",
   "metadata": {},
   "outputs": [],
   "source": [
    "# 19. Describe the concept of information hiding in encapsulation. Why is it essential in software developmen\n",
    "\n",
    "\n",
    "# Information Hiding is a principle in object-oriented programming where the internal state of an object (its data and implementation details) is hidden from the outside world, and only a controlled interface is exposed. This is typically achieved through encapsulation by making attributes private (using double underscores __) and providing public methods (getters and setters) to interact with those attributes.\n",
    "\n",
    "# Why Information Hiding is Essential in Software Development:\n",
    "\n",
    "# Data Integrity: By hiding internal data, the class can control how its attributes are accessed and modified. This helps prevent unintended changes that could lead to inconsistent or invalid states.\n",
    "\n",
    "# Security: Sensitive data is protected from unauthorized access. Only the class's public interface can interact with the data, reducing the risk of exposing confidential information.\n",
    "\n",
    "# Reduced Complexity: Information hiding simplifies the interaction with the object by exposing only what is necessary. This abstraction allows users of the class to focus on what the class does rather than how it does it.\n",
    "\n",
    "# Maintainability: When internal details are hidden, changes to the internal implementation of a class do not affect the code that uses the class, making the software easier to maintain and extend.\n",
    "\n",
    "# Reusability: Classes with well-defined interfaces and hidden internal details are more reusable, as they can be used in different contexts without modification.\n",
    "\n",
    "# Example: A banking application might hide account balances and provide methods to deposit or withdraw money, ensuring that the balance is never directly modified outside of controlled methods."
   ]
  },
  {
   "cell_type": "code",
   "execution_count": 23,
   "id": "c3525251-a27e-451e-96d4-8e78011a6f95",
   "metadata": {},
   "outputs": [
    {
     "name": "stdout",
     "output_type": "stream",
     "text": [
      "John Doe\n",
      "Name: John Doe\n",
      "Address: 456 Elm St\n",
      "Contact Information: john.doe@example.com\n"
     ]
    }
   ],
   "source": [
    "# 20. Create a Python class called `Customer` with private attributes for customer details like name, address,\n",
    "# and contact information. Implement encapsulation to ensure data integrity and security.\n",
    "\n",
    "class Customer:\n",
    "    def __init__(self, name, address, contact_info):\n",
    "        self.__name = name\n",
    "        self.__address = address\n",
    "        self.__contact_info = contact_info\n",
    "\n",
    "    # Getter method for name\n",
    "    def get_name(self):\n",
    "        return self.__name\n",
    "\n",
    "    # Setter method for name\n",
    "    def set_name(self, name):\n",
    "        self.__name = name\n",
    "\n",
    "    # Getter method for address\n",
    "    def get_address(self):\n",
    "        return self.__address\n",
    "\n",
    "    # Setter method for address\n",
    "    def set_address(self, address):\n",
    "        self.__address = address\n",
    "\n",
    "    # Getter method for contact_info\n",
    "    def get_contact_info(self):\n",
    "        return self.__contact_info\n",
    "\n",
    "    # Setter method for contact_info\n",
    "    def set_contact_info(self, contact_info):\n",
    "        self.__contact_info = contact_info\n",
    "\n",
    "    # Method to display customer details\n",
    "    def display_customer_info(self):\n",
    "        print(f\"Name: {self.__name}\")\n",
    "        print(f\"Address: {self.__address}\")\n",
    "        print(f\"Contact Information: {self.__contact_info}\")\n",
    "\n",
    "# Example usage\n",
    "customer1 = Customer(\"John Doe\", \"123 Main St\", \"john.doe@example.com\")\n",
    "\n",
    "# Accessing and modifying data through getter and setter methods\n",
    "print(customer1.get_name())  # Output: John Doe\n",
    "customer1.set_address(\"456 Elm St\")\n",
    "customer1.display_customer_info()\n",
    "\n",
    "\n",
    "# Explanation:\n",
    "# The Customer class encapsulates the attributes __name, __address, and __contact_info, making them private.\n",
    "# Getter and setter methods are provided to access and modify these private attributes. This ensures that changes to these attributes are controlled and validated if necessary.\n",
    "# The display_customer_info method provides a way to view the customer's details in a secure manner without exposing the internal state directly."
   ]
  },
  {
   "cell_type": "code",
   "execution_count": null,
   "id": "498dfe3d-ae42-4986-9b32-4cea06e654d5",
   "metadata": {},
   "outputs": [],
   "source": [
    "# Polymorphism:"
   ]
  },
  {
   "cell_type": "code",
   "execution_count": null,
   "id": "ad60c603-32f9-408b-90b1-c535ecd682c8",
   "metadata": {},
   "outputs": [],
   "source": [
    "# 1. What is polymorphism in\n",
    "\n",
    "# Polymorphism in Python is a concept in object-oriented programming that allows objects of different classes to be treated as objects of a common superclass. It refers to the ability to call the same method on different objects and have each object respond in its own way. Polymorphism is achieved through method overriding, where a child class provides a specific implementation of a method that is already defined in its parent class.\n",
    "\n",
    "# Example: If you have a parent class Animal with a method speak(), and child classes Dog, Cat, and Bird each implement their own version of speak(), calling speak() on an instance of any of these classes will produce different results, demonstrating polymorphismPython? Explain how it is related to object-oriented programming.\n"
   ]
  },
  {
   "cell_type": "code",
   "execution_count": null,
   "id": "b8cb5ba0-cf00-47ab-93d2-f81cfb664edc",
   "metadata": {},
   "outputs": [],
   "source": [
    "# 2. Describe the difference between compile-time polymorphism and runtime polymorphism in Python.\n",
    "\n",
    "# Compile-time polymorphism: Also known as method overloading, is resolved during the compilation process. In Python, method overloading is not natively supported as Python does not check for types at compile time. Instead, Python relies on dynamic typing and runtime method resolution.\n",
    "\n",
    "# Runtime polymorphism: Also known as method overriding, occurs when a child class provides a specific implementation of a method that is already defined in its parent class. Python supports runtime polymorphism, allowing objects of different classes to respond to the same method call in different ways based on the class they belong to."
   ]
  },
  {
   "cell_type": "code",
   "execution_count": 25,
   "id": "5f85c60a-068d-41fb-8f4b-428c7f1345fc",
   "metadata": {},
   "outputs": [
    {
     "name": "stdout",
     "output_type": "stream",
     "text": [
      "Area: 78.5\n",
      "Area: 16\n",
      "Area: 9.0\n"
     ]
    }
   ],
   "source": [
    "# 3. Create a Python class hierarchy for shapes (e.g., circle, square, triangle) and demonstrate polymorphism \n",
    " # through a common method, such as `calculate_area()`.\n",
    "    \n",
    "class Shape:\n",
    "    def calculate_area(self):\n",
    "        pass\n",
    "\n",
    "class Circle(Shape):\n",
    "    def __init__(self, radius):\n",
    "        self.radius = radius\n",
    "\n",
    "    def calculate_area(self):\n",
    "        return 3.14 * self.radius * self.radius\n",
    "\n",
    "class Square(Shape):\n",
    "    def __init__(self, side):\n",
    "        self.side = side\n",
    "\n",
    "    def calculate_area(self):\n",
    "        return self.side * self.side\n",
    "\n",
    "class Triangle(Shape):\n",
    "    def __init__(self, base, height):\n",
    "        self.base = base\n",
    "        self.height = height\n",
    "\n",
    "    def calculate_area(self):\n",
    "        return 0.5 * self.base * self.height\n",
    "\n",
    "# Demonstrating polymorphism\n",
    "shapes = [Circle(5), Square(4), Triangle(6, 3)]\n",
    "\n",
    "for shape in shapes:\n",
    "    print(f\"Area: {shape.calculate_area()}\")\n"
   ]
  },
  {
   "cell_type": "code",
   "execution_count": 26,
   "id": "b1c3c2e8-e6ac-4401-a1e4-86e09e285f5c",
   "metadata": {},
   "outputs": [
    {
     "name": "stdout",
     "output_type": "stream",
     "text": [
      "Bark\n",
      "Meow\n"
     ]
    }
   ],
   "source": [
    "# 4. Explain the concept of method overriding in polymorphism. Provide an example.\n",
    "\n",
    "class Animal:\n",
    "    def speak(self):\n",
    "        return \"Some generic animal sound\"\n",
    "\n",
    "class Dog(Animal):\n",
    "    def speak(self):\n",
    "        return \"Bark\"\n",
    "\n",
    "class Cat(Animal):\n",
    "    def speak(self):\n",
    "        return \"Meow\"\n",
    "\n",
    "# Method overriding in action\n",
    "dog = Dog()\n",
    "cat = Cat()\n",
    "\n",
    "print(dog.speak())  \n",
    "print(cat.speak())  \n"
   ]
  },
  {
   "cell_type": "code",
   "execution_count": 28,
   "id": "a0d7bf15-2225-49ef-9642-9d02ebbed0da",
   "metadata": {},
   "outputs": [
    {
     "name": "stdout",
     "output_type": "stream",
     "text": [
      "Bark\n",
      "Meow\n",
      "5\n",
      "9\n"
     ]
    }
   ],
   "source": [
    "# 5. How is polymorphism different from method overloading in Python? Provide examples for both.\n",
    "\n",
    "# Polymorphism allows objects of different classes to respond to the same method call based on the class they belong to. It is achieved through method overriding.\n",
    "\n",
    "class Animal:\n",
    "    def speak(self):\n",
    "        return \"Some generic animal sound\"\n",
    "\n",
    "class Dog(Animal):\n",
    "    def speak(self):\n",
    "        return \"Bark\"\n",
    "\n",
    "class Cat(Animal):\n",
    "    def speak(self):\n",
    "        return \"Meow\"\n",
    "\n",
    "def animal_sound(animal):\n",
    "    print(animal.speak())\n",
    "\n",
    "# Demonstrating polymorphism\n",
    "dog = Dog()\n",
    "cat = Cat()\n",
    "animal_sound(dog)  \n",
    "animal_sound(cat)  \n",
    "\n",
    "# Method overloading in Python refers to the ability to define multiple methods with the same name but different parameters. However, Python does not support method overloading directly like other languages (e.g., Java). Instead, you can achieve similar behavior by using default arguments or variable-length arguments (*args).\n",
    "\n",
    "class MathOperations:\n",
    "    def add(self, a, b, c=0):\n",
    "        return a + b + c\n",
    "\n",
    "math_ops = MathOperations()\n",
    "print(math_ops.add(2, 3))     \n",
    "print(math_ops.add(2, 3, 4))  \n"
   ]
  },
  {
   "cell_type": "code",
   "execution_count": 29,
   "id": "ec741953-3281-4d39-9228-62d1e1d3d78c",
   "metadata": {},
   "outputs": [
    {
     "name": "stdout",
     "output_type": "stream",
     "text": [
      "Dog says: Bark\n",
      "Cat says: Meow\n",
      "Bird says: Chirp\n"
     ]
    }
   ],
   "source": [
    "# 6. Create a Python class called `Animal` with a method `speak()`. Then, create child classes like `Dog`, `Cat`, and `Bird`, each with their own `speak()` method. Demonstrate polymorphism by calling the `speak()` method\n",
    "# on objects of different subclasses.\n",
    "\n",
    "class Animal:\n",
    "    def speak(self):\n",
    "        return \"Some generic animal sound\"\n",
    "\n",
    "class Dog(Animal):\n",
    "    def speak(self):\n",
    "        return \"Bark\"\n",
    "\n",
    "class Cat(Animal):\n",
    "    def speak(self):\n",
    "        return \"Meow\"\n",
    "\n",
    "class Bird(Animal):\n",
    "    def speak(self):\n",
    "        return \"Chirp\"\n",
    "\n",
    "# Demonstrating polymorphism\n",
    "animals = [Dog(), Cat(), Bird()]\n",
    "\n",
    "for animal in animals:\n",
    "    print(f\"{animal.__class__.__name__} says: {animal.speak()}\")\n",
    "\n"
   ]
  },
  {
   "cell_type": "code",
   "execution_count": 30,
   "id": "2281882b-c0d1-4a23-a6e6-9720e4fb6072",
   "metadata": {},
   "outputs": [
    {
     "name": "stdout",
     "output_type": "stream",
     "text": [
      "Circle area: 78.5\n",
      "Square area: 16\n"
     ]
    }
   ],
   "source": [
    "# 7. Discuss the use of abstract methods and classes in achieving polymorphism in Python. Provide an example\n",
    "# using the `abc` module.\n",
    "\n",
    "# Abstract methods and classes are used to define methods that must be implemented by any subclass. They serve as a blueprint for other classes. Abstract methods are declared using the @abstractmethod decorator, and classes containing abstract methods must be subclassed to create concrete classes.\n",
    "\n",
    "from abc import ABC, abstractmethod\n",
    "\n",
    "class Shape(ABC):\n",
    "    @abstractmethod\n",
    "    def calculate_area(self):\n",
    "        pass\n",
    "\n",
    "class Circle(Shape):\n",
    "    def __init__(self, radius):\n",
    "        self.radius = radius\n",
    "\n",
    "    def calculate_area(self):\n",
    "        return 3.14 * self.radius * self.radius\n",
    "\n",
    "class Square(Shape):\n",
    "    def __init__(self, side):\n",
    "        self.side = side\n",
    "\n",
    "    def calculate_area(self):\n",
    "        return self.side * self.side\n",
    "\n",
    "# Abstract class cannot be instantiated\n",
    "# shape = Shape()  # This will raise an error\n",
    "\n",
    "# Concrete classes must implement the abstract method\n",
    "circle = Circle(5)\n",
    "square = Square(4)\n",
    "\n",
    "print(f\"Circle area: {circle.calculate_area()}\")\n",
    "print(f\"Square area: {square.calculate_area()}\")\n"
   ]
  },
  {
   "cell_type": "code",
   "execution_count": 31,
   "id": "d422e87b-98a7-495c-8045-2040c16d0c33",
   "metadata": {},
   "outputs": [
    {
     "name": "stdout",
     "output_type": "stream",
     "text": [
      "Car engine starting...\n",
      "Bicycle pedaling...\n",
      "Boat engine starting...\n"
     ]
    }
   ],
   "source": [
    "# 8. Create a Python class hierarchy for a vehicle system (e.g., car, bicycle, boat) and implement a polymorphic `start()` method that prints a message specific to each vehicle type.\n",
    "\n",
    "class Vehicle:\n",
    "    def start(self):\n",
    "        pass\n",
    "\n",
    "class Car(Vehicle):\n",
    "    def start(self):\n",
    "        print(\"Car engine starting...\")\n",
    "\n",
    "class Bicycle(Vehicle):\n",
    "    def start(self):\n",
    "        print(\"Bicycle pedaling...\")\n",
    "\n",
    "class Boat(Vehicle):\n",
    "    def start(self):\n",
    "        print(\"Boat engine starting...\")\n",
    "\n",
    "# Demonstrating polymorphism\n",
    "vehicles = [Car(), Bicycle(), Boat()]\n",
    "\n",
    "for vehicle in vehicles:\n",
    "    vehicle.start()\n"
   ]
  },
  {
   "cell_type": "code",
   "execution_count": null,
   "id": "84465326-2100-496b-a029-8caf9b6ca6c7",
   "metadata": {},
   "outputs": [],
   "source": [
    "# 9. Explain the significance of the `isinstance()` and `issubclass()` functions in Python polymorphism.\n",
    "\n",
    "class Animal:\n",
    "    pass\n",
    "\n",
    "class Dog(Animal):\n",
    "    pass\n",
    "\n",
    "dog = Dog()\n",
    "\n",
    "# Checking if dog is an instance of Dog and Animal\n",
    "print(isinstance(dog, Dog))     \n",
    "print(isinstance(dog, Animal))  \n",
    "\n",
    "# Checking if Dog is a subclass of Animal\n",
    "print(issubclass(Dog, Animal))  \n",
    "\n",
    "\n",
    "# isinstance(): This function checks if an object is an instance of a class or a subclass thereof. It is useful in polymorphism to determine if an object belongs to a specific class or subclass.\n",
    "# issubclass(): This function checks if a class is a subclass of another class. It is used to determine inheritance relationships in polymorphism."
   ]
  },
  {
   "cell_type": "code",
   "execution_count": 32,
   "id": "2f3d4686-7b3a-437f-af18-ff54e3570376",
   "metadata": {},
   "outputs": [
    {
     "name": "stdout",
     "output_type": "stream",
     "text": [
      "Bark\n",
      "Meow\n"
     ]
    }
   ],
   "source": [
    "# 10. What is the role of the `@abstractmethod` decorator in achieving polymorphism in Python? Provide an\n",
    "# example.\n",
    "\n",
    "# The @abstractmethod decorator is used to declare an abstract method in an abstract base class. This method must be implemented by any subclass that inherits from the abstract base class. It enforces a contract that all subclasses must provide their own specific implementation of the abstract method, ensuring consistency in polymorphism.\n",
    "\n",
    "from abc import ABC, abstractmethod\n",
    "\n",
    "class Animal(ABC):\n",
    "    @abstractmethod\n",
    "    def speak(self):\n",
    "        pass\n",
    "\n",
    "class Dog(Animal):\n",
    "    def speak(self):\n",
    "        return \"Bark\"\n",
    "\n",
    "class Cat(Animal):\n",
    "    def speak(self):\n",
    "        return \"Meow\"\n",
    "\n",
    "# Abstract class cannot be instantiated\n",
    "# animal = Animal()  # This will raise an error\n",
    "\n",
    "dog = Dog()\n",
    "cat = Cat()\n",
    "\n",
    "print(dog.speak())  \n",
    "print(cat.speak())  \n"
   ]
  },
  {
   "cell_type": "code",
   "execution_count": 33,
   "id": "ddc8c95a-c80b-4477-8413-e543572c9958",
   "metadata": {},
   "outputs": [
    {
     "name": "stdout",
     "output_type": "stream",
     "text": [
      "Area: 78.5\n",
      "Area: 24\n",
      "Area: 10.5\n"
     ]
    }
   ],
   "source": [
    "# 11. Create a Python class called `Shape` with a polymorphic method `area()` that calculates the area of different shapes (e.g., circle, rectangle, triangle).\n",
    "\n",
    "class Shape:\n",
    "    def area(self):\n",
    "        pass\n",
    "\n",
    "class Circle(Shape):\n",
    "    def __init__(self, radius):\n",
    "        self.radius = radius\n",
    "\n",
    "    def area(self):\n",
    "        return 3.14 * self.radius * self.radius\n",
    "\n",
    "class Rectangle(Shape):\n",
    "    def __init__(self, width, height):\n",
    "        self.width = width\n",
    "        self.height = height\n",
    "\n",
    "    def area(self):\n",
    "        return self.width * self.height\n",
    "\n",
    "class Triangle(Shape):\n",
    "    def __init__(self, base, height):\n",
    "        self.base = base\n",
    "        self.height = height\n",
    "\n",
    "    def area(self):\n",
    "        return 0.5 * self.base * self.height\n",
    "\n",
    "# Demonstrating polymorphism\n",
    "shapes = [Circle(5), Rectangle(4, 6), Triangle(3, 7)]\n",
    "\n",
    "for shape in shapes:\n",
    "    print(f\"Area: {shape.area()}\")\n"
   ]
  },
  {
   "cell_type": "code",
   "execution_count": null,
   "id": "f5bbf17c-5c40-4729-8213-09ed37956992",
   "metadata": {},
   "outputs": [],
   "source": [
    "# 12. Discuss the benefits of polymorphism in terms of code reusability and flexibility in Python programs.\n",
    "\n",
    "# Polymorphism offers several key benefits in Python programs:\n",
    "\n",
    "# Code Reusability: Polymorphism allows you to write generic code that works with objects of different types. This reduces the need for duplicate code, as the same function or method can handle different data types or classes.\n",
    "\n",
    "# Flexibility: Polymorphism enables flexibility in your programs by allowing objects to be interchangeable. For example, a function that accepts a Shape object can work with any subclass of Shape, such as Circle, Rectangle, or Triangle.\n",
    "\n",
    "# Maintainability: With polymorphism, adding new functionality to a program is easier and less error-prone. You can add new classes that inherit from existing ones and override specific methods without altering the existing codebase.\n",
    "\n",
    "# Simplified Code: Polymorphism simplifies code by allowing for the implementation of methods that can work with multiple types of objects. This reduces the need for complex conditionals or type checks."
   ]
  },
  {
   "cell_type": "code",
   "execution_count": null,
   "id": "d758ae76-2849-47f5-ab4a-12797b6dab2a",
   "metadata": {},
   "outputs": [],
   "source": [
    "# 13. Explain the use of the `super()` function in Python polymorphism. How does it help call methods of parent\n",
    "# classes?\n",
    "\n",
    "class Animal:\n",
    "    def speak(self):\n",
    "        print(\"Some generic animal sound\")\n",
    "\n",
    "class Dog(Animal):\n",
    "    def speak(self):\n",
    "        super().speak()  # Calling the parent class method\n",
    "        print(\"Bark\")\n",
    "\n",
    "dog = Dog()\n",
    "dog.speak()  \n",
    "             \n",
    "\n",
    "# The super() function in Python is used to call a method from a parent class inside a child class. It is commonly used in polymorphism to extend or modify the behavior of inherited methods.\n",
    "\n",
    "# How super() Helps in Polymorphism:\n",
    "# Method Overriding: When a method is overridden in a subclass, super() allows you to call the parent class’s version of that method. This is useful for extending the functionality of a method rather than completely replacing it.\n",
    "# Constructor Chaining: super() can also be used in constructors (__init__ methods) to ensure that the parent class is properly initialized."
   ]
  },
  {
   "cell_type": "code",
   "execution_count": 34,
   "id": "774880e3-fce8-462e-b1e8-e00c338e5804",
   "metadata": {},
   "outputs": [
    {
     "name": "stdout",
     "output_type": "stream",
     "text": [
      "Withdrew 150 from Savings Account\n",
      "Withdrew 150 from Checking Account\n",
      "Charged 150 to Credit Card\n"
     ]
    }
   ],
   "source": [
    "# 14. Create a Python class hierarchy for a banking system with various account types (e.g., savings, checking, credit card) and demonstrate polymorphism by implementing a common `withdraw()` method.\n",
    "\n",
    "class Account:\n",
    "    def __init__(self, balance):\n",
    "        self.balance = balance\n",
    "\n",
    "    def withdraw(self, amount):\n",
    "        pass\n",
    "\n",
    "class SavingsAccount(Account):\n",
    "    def withdraw(self, amount):\n",
    "        if self.balance >= amount:\n",
    "            self.balance -= amount\n",
    "            print(f\"Withdrew {amount} from Savings Account\")\n",
    "        else:\n",
    "            print(\"Insufficient funds in Savings Account\")\n",
    "\n",
    "class CheckingAccount(Account):\n",
    "    def withdraw(self, amount):\n",
    "        if self.balance >= amount:\n",
    "            self.balance -= amount\n",
    "            print(f\"Withdrew {amount} from Checking Account\")\n",
    "        else:\n",
    "            print(\"Insufficient funds in Checking Account\")\n",
    "\n",
    "class CreditCardAccount(Account):\n",
    "    def withdraw(self, amount):\n",
    "        self.balance -= amount\n",
    "        print(f\"Charged {amount} to Credit Card\")\n",
    "\n",
    "# Demonstrating polymorphism\n",
    "accounts = [SavingsAccount(1000), CheckingAccount(500), CreditCardAccount(200)]\n",
    "\n",
    "for account in accounts:\n",
    "    account.withdraw(150)\n"
   ]
  },
  {
   "cell_type": "code",
   "execution_count": 35,
   "id": "ff296ef5-5642-4bfe-a0f8-dd2a0c363fa3",
   "metadata": {},
   "outputs": [
    {
     "name": "stdout",
     "output_type": "stream",
     "text": [
      "Point(6, 8)\n",
      "Point(6, 9)\n"
     ]
    }
   ],
   "source": [
    "# 15. Describe the concept of operator overloading in Python and how it relates to polymorphism. Provide\n",
    "# examples using operators like `+` and `*\n",
    "\n",
    "class Point:\n",
    "    def __init__(self, x, y):\n",
    "        self.x = x\n",
    "        self.y = y\n",
    "\n",
    "    def __add__(self, other):\n",
    "        return Point(self.x + other.x, self.y + other.y)\n",
    "\n",
    "    def __mul__(self, factor):\n",
    "        return Point(self.x * factor, self.y * factor)\n",
    "\n",
    "    def __str__(self):\n",
    "        return f\"Point({self.x}, {self.y})\"\n",
    "\n",
    "# Demonstrating operator overloading\n",
    "p1 = Point(2, 3)\n",
    "p2 = Point(4, 5)\n",
    "\n",
    "p3 = p1 + p2  # Uses __add__\n",
    "print(p3)  \n",
    "\n",
    "p4 = p1 * 3  # Uses __mul__\n",
    "print(p4)  \n",
    "\n",
    "# Operator overloading in Python allows you to define the behavior of standard operators (+, *, etc.) for custom objects by overriding special methods (also known as dunder methods). It is a form of polymorphism where the same operator behaves differently depending on the type of objects it is applied to."
   ]
  },
  {
   "cell_type": "code",
   "execution_count": 36,
   "id": "79aaf57d-031c-4e0a-830d-0c823fa50052",
   "metadata": {},
   "outputs": [
    {
     "name": "stdout",
     "output_type": "stream",
     "text": [
      "Bark\n",
      "Meow\n"
     ]
    }
   ],
   "source": [
    "# 16. What is dynamic polymorphism, and how is it achieved in Python?\n",
    "\n",
    "class Animal:\n",
    "    def speak(self):\n",
    "        return \"Some generic animal sound\"\n",
    "\n",
    "class Dog(Animal):\n",
    "    def speak(self):\n",
    "        return \"Bark\"\n",
    "\n",
    "class Cat(Animal):\n",
    "    def speak(self):\n",
    "        return \"Meow\"\n",
    "\n",
    "def make_animal_speak(animal):\n",
    "    print(animal.speak())\n",
    "\n",
    "# Demonstrating dynamic polymorphism\n",
    "dog = Dog()\n",
    "cat = Cat()\n",
    "\n",
    "make_animal_speak(dog)  \n",
    "make_animal_speak(cat) \n",
    "\n",
    "# Dynamic polymorphism refers to the ability of a method to behave differently based on the object that calls it, determined at runtime. It is achieved through method overriding in Python. When a method is overridden in a subclass, the version of the method that is executed depends on the type of the object that calls the method, and this is resolved at runtime"
   ]
  },
  {
   "cell_type": "code",
   "execution_count": 37,
   "id": "1e9c01d9-ffc0-4754-b918-90ed2d36e628",
   "metadata": {},
   "outputs": [
    {
     "name": "stdout",
     "output_type": "stream",
     "text": [
      "Salary: 55000.0\n",
      "Salary: 72000.0\n",
      "Salary: 63250.0\n"
     ]
    }
   ],
   "source": [
    "# 17. Create a Python class hierarchy for employees in a company (e.g., manager, developer, designer) and implement polymorphism through a common `calculate_salary()` method.\n",
    "\n",
    "class Employee:\n",
    "    def __init__(self, base_salary):\n",
    "        self.base_salary = base_salary\n",
    "\n",
    "    def calculate_salary(self):\n",
    "        pass\n",
    "\n",
    "class Manager(Employee):\n",
    "    def calculate_salary(self):\n",
    "        return self.base_salary + (self.base_salary * 0.1)  # 10% bonus\n",
    "\n",
    "class Developer(Employee):\n",
    "    def calculate_salary(self):\n",
    "        return self.base_salary + (self.base_salary * 0.2)  # 20% bonus\n",
    "\n",
    "class Designer(Employee):\n",
    "    def calculate_salary(self):\n",
    "        return self.base_salary + (self.base_salary * 0.15)  # 15% bonus\n",
    "\n",
    "# Demonstrating polymorphism\n",
    "employees = [Manager(50000), Developer(60000), Designer(55000)]\n",
    "\n",
    "for employee in employees:\n",
    "    print(f\"Salary: {employee.calculate_salary()}\")\n"
   ]
  },
  {
   "cell_type": "code",
   "execution_count": 38,
   "id": "4c68077c-2be8-4ba7-b155-8c3b35093484",
   "metadata": {},
   "outputs": [
    {
     "name": "stdout",
     "output_type": "stream",
     "text": [
      "8\n",
      "15\n"
     ]
    }
   ],
   "source": [
    "# 18. Discuss the concept of function pointers and how they can be used to achieve polymorphism in Python\n",
    "\n",
    "def execute_operation(operation, a, b):\n",
    "    return operation(a, b)\n",
    "\n",
    "def add(a, b):\n",
    "    return a + b\n",
    "\n",
    "def multiply(a, b):\n",
    "    return a * b\n",
    "\n",
    "# Demonstrating function pointers in Python\n",
    "print(execute_operation(add, 5, 3))      \n",
    "print(execute_operation(multiply, 5, 3)) \n",
    "\n",
    "# Function pointers are not directly used in Python as they are in languages like C or C++. However, Python functions are first-class objects, meaning they can be passed as arguments to other functions, stored in variables, or returned from other functions. This capability can be used to achieve a form of polymorphism by passing different functions (or methods) to another function."
   ]
  },
  {
   "cell_type": "code",
   "execution_count": 39,
   "id": "5695960f-3016-441f-a9b1-7c88afe87bf1",
   "metadata": {},
   "outputs": [
    {
     "name": "stdout",
     "output_type": "stream",
     "text": [
      "Bark\n"
     ]
    }
   ],
   "source": [
    "# 19. Explain the role of interfaces and abstract classes in polymorphism, drawing comparisons between them.\n",
    "\n",
    "from abc import ABC, abstractmethod\n",
    "\n",
    "class Animal(ABC):\n",
    "    @abstractmethod\n",
    "    def speak(self):\n",
    "        pass\n",
    "\n",
    "class Dog(Animal):\n",
    "    def speak(self):\n",
    "        return \"Bark\"\n",
    "\n",
    "class Cat(Animal):\n",
    "    def speak(self):\n",
    "        return \"Meow\"\n",
    "\n",
    "# Attempting to instantiate an abstract class will raise an error\n",
    "# animal = Animal()  # This will raise an error\n",
    "\n",
    "# Instantiating a concrete subclass works\n",
    "dog = Dog()\n",
    "print(dog.speak())  \n",
    "\n",
    "\n",
    "\n",
    "# Abstract Classes: An abstract class in Python is a class that cannot be instantiated on its own and is meant to be subclassed. It can contain abstract methods (methods without an implementation) that must be implemented by any subclass. Abstract classes can also contain concrete methods (methods with implementation). They provide a common interface for a group of related classes.\n",
    "\n",
    "# Interfaces: While Python does not have interfaces in the way languages like Java do, abstract classes can serve a similar role. An interface in this context would be a class that only contains abstract methods, enforcing a strict contract that any subclass must adhere to.\n",
    "\n",
    "# Comparison:\n",
    "# Abstract Classes can contain both abstract and concrete methods, allowing some shared functionality to be implemented at the abstract class level.\n",
    "# Interfaces (as simulated through abstract classes with only abstract methods) enforce a contract without providing any implementation details, ensuring that all subclasses provide their own specific implementation."
   ]
  },
  {
   "cell_type": "code",
   "execution_count": 40,
   "id": "8a1ec0de-60d4-4d6c-92b4-28ccb746db3d",
   "metadata": {},
   "outputs": [
    {
     "name": "stdout",
     "output_type": "stream",
     "text": [
      "Mammal is eating\n",
      "Mammal is sleeping\n",
      "Mammal sound\n",
      "Bird is pecking at food\n",
      "Bird is sleeping in its nest\n",
      "Chirp chirp\n",
      "Reptile is swallowing its prey whole\n",
      "Reptile is basking in the sun\n",
      "Hiss\n"
     ]
    }
   ],
   "source": [
    "# 20. Create a Python class for a zoo simulation, demonstrating polymorphism with different animal types (e.g., mammals, birds, reptiles) and their behavior (e.g., eating, sleeping, making sounds).\n",
    "\n",
    "class Animal:\n",
    "    def eat(self):\n",
    "        pass\n",
    "    \n",
    "    def sleep(self):\n",
    "        pass\n",
    "    \n",
    "    def make_sound(self):\n",
    "        pass\n",
    "\n",
    "class Mammal(Animal):\n",
    "    def eat(self):\n",
    "        return \"Mammal is eating\"\n",
    "\n",
    "    def sleep(self):\n",
    "        return \"Mammal is sleeping\"\n",
    "\n",
    "    def make_sound(self):\n",
    "        return \"Mammal sound\"\n",
    "\n",
    "class Bird(Animal):\n",
    "    def eat(self):\n",
    "        return \"Bird is pecking at food\"\n",
    "\n",
    "    def sleep(self):\n",
    "        return \"Bird is sleeping in its nest\"\n",
    "\n",
    "    def make_sound(self):\n",
    "        return \"Chirp chirp\"\n",
    "\n",
    "class Reptile(Animal):\n",
    "    def eat(self):\n",
    "        return \"Reptile is swallowing its prey whole\"\n",
    "\n",
    "    def sleep(self):\n",
    "        return \"Reptile is basking in the sun\"\n",
    "\n",
    "    def make_sound(self):\n",
    "        return \"Hiss\"\n",
    "\n",
    "# Demonstrating polymorphism\n",
    "zoo = [Mammal(), Bird(), Reptile()]\n",
    "\n",
    "for animal in zoo:\n",
    "    print(animal.eat())\n",
    "    print(animal.sleep())\n",
    "    print(animal.make_sound())\n"
   ]
  },
  {
   "cell_type": "code",
   "execution_count": null,
   "id": "924abbc9-60d1-48ac-b424-75d48976067c",
   "metadata": {},
   "outputs": [],
   "source": [
    "# Abstraction:\n"
   ]
  },
  {
   "cell_type": "code",
   "execution_count": null,
   "id": "15a7a6e3-8f67-4e9a-81d2-df48d7c50ab7",
   "metadata": {},
   "outputs": [],
   "source": [
    "# 1. What is abstraction in Python, and how does it relate to object-oriented programming?\n",
    "\n",
    "# Abstraction in Python refers to the concept of hiding the internal details and showing only the essential features of an object or a system. It allows programmers to focus on what an object does rather than how it does it. In the context of object-oriented programming (OOP), abstraction is achieved using classes and objects. It is closely related to other OOP concepts like encapsulation and polymorphism, as it allows for creating abstract classes that define a general blueprint for other classes without specifying the details of their implementation."
   ]
  },
  {
   "cell_type": "code",
   "execution_count": null,
   "id": "3bead0b5-2bed-4482-b1c8-86e009cd29c6",
   "metadata": {},
   "outputs": [],
   "source": [
    "# 2. Describe the benefits of abstraction in terms of code organization and complexity reduction.\n",
    "\n",
    "# Benefits of Abstraction:\n",
    "\n",
    "# Simplified Code: Abstraction allows programmers to work with high-level concepts without needing to understand all the underlying details. This reduces the complexity of the code, making it easier to write, read, and maintain.\n",
    "\n",
    "# Improved Code Organization: By defining abstract classes and methods, you can create a clear structure in your code. This makes it easier to manage large codebases and ensures that related functionality is grouped together logically.\n",
    "\n",
    "# Enhanced Modularity: Abstraction promotes modularity by allowing you to break down complex systems into smaller, more manageable parts. Each part can be developed and tested independently, improving the overall quality of the software.\n",
    "\n",
    "# Code Reusability: Abstract classes and methods allow you to create reusable components that can be extended and customized in different ways by child classes. This reduces duplication and promotes the reuse of code."
   ]
  },
  {
   "cell_type": "code",
   "execution_count": 41,
   "id": "5e9b4438-bff8-4991-84b0-5f87b6256004",
   "metadata": {},
   "outputs": [
    {
     "name": "stdout",
     "output_type": "stream",
     "text": [
      "Area: 78.5\n",
      "Area: 24\n"
     ]
    }
   ],
   "source": [
    "# 3. Create a Python class called `Shape` with an abstract method `calculate_area()`. Then, create child classes (e.g., `Circle`, `Rectangle`) that implement the `calculate_area()` method. Provide an example of\n",
    "# using these classes.\n",
    "\n",
    "from abc import ABC, abstractmethod\n",
    "\n",
    "class Shape(ABC):\n",
    "    @abstractmethod\n",
    "    def calculate_area(self):\n",
    "        pass\n",
    "\n",
    "class Circle(Shape):\n",
    "    def __init__(self, radius):\n",
    "        self.radius = radius\n",
    "\n",
    "    def calculate_area(self):\n",
    "        return 3.14 * self.radius * self.radius\n",
    "\n",
    "class Rectangle(Shape):\n",
    "    def __init__(self, width, height):\n",
    "        self.width = width\n",
    "        self.height = height\n",
    "\n",
    "    def calculate_area(self):\n",
    "        return self.width * self.height\n",
    "\n",
    "# Example usage\n",
    "shapes = [Circle(5), Rectangle(4, 6)]\n",
    "\n",
    "for shape in shapes:\n",
    "    print(f\"Area: {shape.calculate_area()}\")\n"
   ]
  },
  {
   "cell_type": "code",
   "execution_count": 42,
   "id": "44338153-7a47-4b05-8e4f-e1ce20cf52a2",
   "metadata": {},
   "outputs": [
    {
     "name": "stdout",
     "output_type": "stream",
     "text": [
      "Bark\n",
      "Meow\n"
     ]
    }
   ],
   "source": [
    "# 4. Explain the concept of abstract classes in Python and how they are defined using the `abc` module. Provide\n",
    "# an example.\n",
    "\n",
    "from abc import ABC, abstractmethod\n",
    "\n",
    "class Animal(ABC):\n",
    "    @abstractmethod\n",
    "    def speak(self):\n",
    "        pass\n",
    "\n",
    "class Dog(Animal):\n",
    "    def speak(self):\n",
    "        return \"Bark\"\n",
    "\n",
    "class Cat(Animal):\n",
    "    def speak(self):\n",
    "        return \"Meow\"\n",
    "\n",
    "# Example usage\n",
    "dog = Dog()\n",
    "cat = Cat()\n",
    "print(dog.speak())  \n",
    "print(cat.speak()) \n",
    "\n",
    "\n",
    "# Abstract Classes in Python are classes that cannot be instantiated on their own and are meant to be subclassed. They can contain one or more abstract methods, which are methods that are declared but contain no implementation. Abstract classes are defined using the abc module, where ABC is used as a base class and the @abstractmethod decorator is used to mark methods as abstract."
   ]
  },
  {
   "cell_type": "code",
   "execution_count": null,
   "id": "50b95c80-7af9-4ca8-b8e6-f8f40c62565f",
   "metadata": {},
   "outputs": [],
   "source": [
    "# 5. How do abstract classes differ from regular classes in Python? Discuss their use cases\n",
    "\n",
    "# Abstract Classes vs Regular Classes:\n",
    "\n",
    "# Instantiation: Abstract classes cannot be instantiated directly. They are meant to serve as base classes for other classes to inherit from. Regular classes can be instantiated to create objects.\n",
    "# Abstract Methods: Abstract classes can contain abstract methods, which are methods without an implementation. These methods must be implemented by any non-abstract subclass. Regular classes do not have abstract methods; all methods must be fully implemented.\n",
    "\n",
    "# Use Cases:\n",
    "# Abstract Classes: Used when you want to define a common interface for a group of subclasses. They are useful in situations where you want to ensure that certain methods are implemented by all subclasses, but you don’t want to provide a full implementation in the base class.\n",
    "# Regular Classes: Used when you want to create fully functional classes that can be instantiated to create objects."
   ]
  },
  {
   "cell_type": "code",
   "execution_count": 43,
   "id": "f30935ab-eb32-407f-974a-11e0e94e7daf",
   "metadata": {},
   "outputs": [
    {
     "name": "stdout",
     "output_type": "stream",
     "text": [
      "Deposited 500. New balance: 1500\n",
      "Withdrew 300. New balance: 1200\n",
      "1200\n"
     ]
    }
   ],
   "source": [
    "# 6. Create a Python class for a bank account and demonstrate abstraction by hiding the account balance and\n",
    "# providing methods to deposit and withdraw funds.\n",
    "\n",
    "class BankAccount:\n",
    "    def __init__(self, owner, balance=0):\n",
    "        self.owner = owner\n",
    "        self.__balance = balance  # Private attribute\n",
    "\n",
    "    def deposit(self, amount):\n",
    "        if amount > 0:\n",
    "            self.__balance += amount\n",
    "            print(f\"Deposited {amount}. New balance: {self.__balance}\")\n",
    "        else:\n",
    "            print(\"Deposit amount must be positive\")\n",
    "\n",
    "    def withdraw(self, amount):\n",
    "        if 0 < amount <= self.__balance:\n",
    "            self.__balance -= amount\n",
    "            print(f\"Withdrew {amount}. New balance: {self.__balance}\")\n",
    "        else:\n",
    "            print(\"Insufficient balance or invalid amount\")\n",
    "\n",
    "    def get_balance(self):\n",
    "        return self.__balance\n",
    "\n",
    "# Example usage\n",
    "account = BankAccount(\"John Doe\", 1000)\n",
    "account.deposit(500)    \n",
    "account.withdraw(300) \n",
    "print(account.get_balance())  \n"
   ]
  },
  {
   "cell_type": "code",
   "execution_count": null,
   "id": "01f9bf11-dc39-4959-bac4-3d61235df5ba",
   "metadata": {},
   "outputs": [],
   "source": [
    "# 7. Discuss the concept of interface classes in Python and their role in achieving abstraction\n",
    "\n",
    "# Interface Classes in Python are classes that define a set of methods that must be implemented by any class that inherits from them. These classes only define the methods (typically using the @abstractmethod decorator) and do not provide any implementation. Interface classes enforce a contract, ensuring that all subclasses implement the required methods.\n",
    "\n",
    "# Role in Achieving Abstraction:\n",
    "# Separation of Concerns: Interface classes allow you to separate the definition of an interface from its implementation, promoting cleaner code and better organization.\n",
    "# Polymorphism: By defining common interfaces, you can create polymorphic behavior where different classes implement the same interface but with different behavior.\n",
    "# Extensibility: Interface classes make it easy to extend functionality. New classes can be created to implement the interface without changing the existing codebase."
   ]
  },
  {
   "cell_type": "code",
   "execution_count": 44,
   "id": "2f3b5067-2bcd-417a-89be-ce88eee792ac",
   "metadata": {},
   "outputs": [
    {
     "name": "stdout",
     "output_type": "stream",
     "text": [
      "Dog is eating\n",
      "Dog is sleeping\n",
      "Cat is eating\n",
      "Cat is sleeping\n"
     ]
    }
   ],
   "source": [
    "# 8. Create a Python class hierarchy for animals and implement abstraction by defining common methods (e.g., `eat()`, `sleep()`) in an abstract base class.\n",
    "\n",
    "from abc import ABC, abstractmethod\n",
    "\n",
    "class Animal(ABC):\n",
    "    @abstractmethod\n",
    "    def eat(self):\n",
    "        pass\n",
    "\n",
    "    @abstractmethod\n",
    "    def sleep(self):\n",
    "        pass\n",
    "\n",
    "class Dog(Animal):\n",
    "    def eat(self):\n",
    "        return \"Dog is eating\"\n",
    "\n",
    "    def sleep(self):\n",
    "        return \"Dog is sleeping\"\n",
    "\n",
    "class Cat(Animal):\n",
    "    def eat(self):\n",
    "        return \"Cat is eating\"\n",
    "\n",
    "    def sleep(self):\n",
    "        return \"Cat is sleeping\"\n",
    "\n",
    "# Example usage\n",
    "animals = [Dog(), Cat()]\n",
    "\n",
    "for animal in animals:\n",
    "    print(animal.eat())\n",
    "    print(animal.sleep())\n"
   ]
  },
  {
   "cell_type": "code",
   "execution_count": null,
   "id": "bbde2e41-c8d1-4adb-b54c-979efb7e9d42",
   "metadata": {},
   "outputs": [],
   "source": [
    "# 9. Explain the significance of encapsulation in achieving abstraction. Provide examples.\n",
    "\n",
    "class Employee:\n",
    "    def __init__(self, name, salary):\n",
    "        self.name = name\n",
    "        self.__salary = salary  # Private attribute\n",
    "\n",
    "    def get_salary(self):\n",
    "        return self.__salary\n",
    "\n",
    "    def set_salary(self, amount):\n",
    "        if amount > 0:\n",
    "            self.__salary = amount\n",
    "        else:\n",
    "            print(\"Salary must be positive\")\n",
    "\n",
    "# Example usage\n",
    "employee = Employee(\"Alice\", 50000)\n",
    "print(employee.get_salary())  \n",
    "employee.set_salary(60000)\n",
    "print(employee.get_salary())  \n",
    "\n",
    "\n",
    "# Encapsulation is the concept of wrapping data (attributes) and methods (functions) that operate on the data into a single unit, known as a class. Encapsulation helps achieve abstraction by hiding the internal implementation details of a class from the outside world, exposing only the necessary parts through a well-defined interface.\n",
    "\n",
    "# Significance:\n",
    "# Data Protection: Encapsulation allows you to hide sensitive data from being accessed directly, protecting the integrity of the data.\n",
    "# Controlled Access: By providing getter and setter methods, encapsulation ensures controlled access to the class attributes, allowing validation or modification before the data is accessed or changed.\n",
    "# Simplified Interface: Encapsulation allows you to create a simple interface for interacting with complex systems, making it easier for other developers to use your class without needing to understand the internal workings."
   ]
  },
  {
   "cell_type": "code",
   "execution_count": 45,
   "id": "51f31451-6f63-4bad-a0f1-b64ca9977a47",
   "metadata": {},
   "outputs": [
    {
     "name": "stdout",
     "output_type": "stream",
     "text": [
      "Can't instantiate abstract class Shape with abstract method calculate_area\n",
      "Circle area: 78.5\n",
      "Square area: 16\n"
     ]
    }
   ],
   "source": [
    "# 10. What is the purpose of abstract methods, and how do they enforce abstraction in Python classes?\n",
    "\n",
    "# Abstract Methods are methods that are declared in an abstract class but have no implementation. They are meant to be overridden in subclasses, enforcing that any class inheriting from the abstract class must provide its own implementation of the method.\n",
    "\n",
    "# Purpose:\n",
    "# Enforce a Contract: Abstract methods enforce a contract that subclasses must adhere to, ensuring that certain methods are implemented in every subclass.\n",
    "# Facilitate Polymorphism: Abstract methods allow you to define common interfaces that can be implemented differently by different subclasses, enabling polymorphic behavior.\n",
    "# Guide Design: By using abstract methods, you can guide the design of subclasses, ensuring that they implement specific functionality.\n",
    "\n",
    "from abc import ABC, abstractmethod\n",
    "\n",
    "class Shape(ABC):\n",
    "    @abstractmethod\n",
    "    def calculate_area(self):\n",
    "        pass\n",
    "\n",
    "class Circle(Shape):\n",
    "    def __init__(self, radius):\n",
    "        self.radius = radius\n",
    "\n",
    "    def calculate_area(self):\n",
    "        return 3.14 * self.radius * self.radius\n",
    "\n",
    "class Square(Shape):\n",
    "    def __init__(self, side):\n",
    "        self.side = side\n",
    "\n",
    "    def calculate_area(self):\n",
    "        return self.side * self.side\n",
    "\n",
    "# Attempt to instantiate an abstract class will raise an error\n",
    "try:\n",
    "    shape = Shape()  # This will raise a TypeError\n",
    "except TypeError as e:\n",
    "    print(e)  # Output: Can't instantiate abstract class Shape with abstract methods calculate_area\n",
    "\n",
    "# Instantiate concrete subclasses\n",
    "circle = Circle(5)\n",
    "square = Square(4)\n",
    "\n",
    "print(f\"Circle area: {circle.calculate_area()}\")  \n",
    "print(f\"Square area: {square.calculate_area()}\")  \n",
    "\n",
    "\n",
    "# In this example:\n",
    "# The Shape class is abstract and defines an abstract method calculate_area.\n",
    "# Subclasses Circle and Square implement the calculate_area method.\n",
    "# Attempting to instantiate Shape directly will raise an error, enforcing that only subclasses with concrete implementations can be instantiated."
   ]
  },
  {
   "cell_type": "code",
   "execution_count": 46,
   "id": "590bf03f-92f5-4d22-bd61-c49f84c5cfb0",
   "metadata": {},
   "outputs": [
    {
     "name": "stdout",
     "output_type": "stream",
     "text": [
      "Car is starting\n",
      "Car is stopping\n",
      "Bicycle is being ridden\n",
      "Bicycle is stopping\n"
     ]
    }
   ],
   "source": [
    "# 11. Create a Python class for a vehicle system and demonstrate abstraction by defining common methods (e.g., `start()`, `stop()`) in an abstract base class.\n",
    "\n",
    "from abc import ABC, abstractmethod\n",
    "\n",
    "class Vehicle(ABC):\n",
    "    @abstractmethod\n",
    "    def start(self):\n",
    "        pass\n",
    "\n",
    "    @abstractmethod\n",
    "    def stop(self):\n",
    "        pass\n",
    "\n",
    "class Car(Vehicle):\n",
    "    def start(self):\n",
    "        return \"Car is starting\"\n",
    "\n",
    "    def stop(self):\n",
    "        return \"Car is stopping\"\n",
    "\n",
    "class Bicycle(Vehicle):\n",
    "    def start(self):\n",
    "        return \"Bicycle is being ridden\"\n",
    "\n",
    "    def stop(self):\n",
    "        return \"Bicycle is stopping\"\n",
    "\n",
    "# Example usage\n",
    "vehicles = [Car(), Bicycle()]\n",
    "\n",
    "for vehicle in vehicles:\n",
    "    print(vehicle.start())\n",
    "    print(vehicle.stop())\n",
    "\n"
   ]
  },
  {
   "cell_type": "code",
   "execution_count": 47,
   "id": "a59a3cb7-b46c-47e7-86a6-452906640894",
   "metadata": {},
   "outputs": [
    {
     "name": "stdout",
     "output_type": "stream",
     "text": [
      "78.5\n"
     ]
    }
   ],
   "source": [
    "# 12. Describe the use of abstract properties in Python and how they can be employed in abstract classes.\n",
    "\n",
    "from abc import ABC, abstractmethod\n",
    "\n",
    "class Shape(ABC):\n",
    "    @property\n",
    "    @abstractmethod\n",
    "    def area(self):\n",
    "        pass\n",
    "\n",
    "class Circle(Shape):\n",
    "    def __init__(self, radius):\n",
    "        self.radius = radius\n",
    "\n",
    "    @property\n",
    "    def area(self):\n",
    "        return 3.14 * self.radius * self.radius\n",
    "\n",
    "# Example usage\n",
    "circle = Circle(5)\n",
    "print(circle.area)  \n",
    "\n",
    "# Abstract Properties in Python are similar to abstract methods but are used to define abstract attributes that must be implemented by subclasses. They are defined using the @property decorator in conjunction with the @abstractmethod decorator. Abstract properties enforce that subclasses provide an implementation for these properties."
   ]
  },
  {
   "cell_type": "code",
   "execution_count": 48,
   "id": "f6e86b73-2621-49b9-8990-cddf54ffe6ce",
   "metadata": {},
   "outputs": [
    {
     "name": "stdout",
     "output_type": "stream",
     "text": [
      "Manager Alice has a salary of 90000\n",
      "Developer Bob has a salary of 80000\n",
      "Designer Charlie has a salary of 70000\n"
     ]
    }
   ],
   "source": [
    "# 13. Create a Python class hierarchy for employees in a company (e.g., manager, developer, designer) and implement abstraction by defining a common `get_salary()` method.\n",
    "\n",
    "from abc import ABC, abstractmethod\n",
    "\n",
    "class Employee(ABC):\n",
    "    @abstractmethod\n",
    "    def get_salary(self):\n",
    "        pass\n",
    "\n",
    "class Manager(Employee):\n",
    "    def __init__(self, name, salary):\n",
    "        self.name = name\n",
    "        self.salary = salary\n",
    "\n",
    "    def get_salary(self):\n",
    "        return f\"Manager {self.name} has a salary of {self.salary}\"\n",
    "\n",
    "class Developer(Employee):\n",
    "    def __init__(self, name, salary):\n",
    "        self.name = name\n",
    "        self.salary = salary\n",
    "\n",
    "    def get_salary(self):\n",
    "        return f\"Developer {self.name} has a salary of {self.salary}\"\n",
    "\n",
    "class Designer(Employee):\n",
    "    def __init__(self, name, salary):\n",
    "        self.name = name\n",
    "        self.salary = salary\n",
    "\n",
    "    def get_salary(self):\n",
    "        return f\"Designer {self.name} has a salary of {self.salary}\"\n",
    "\n",
    "# Example usage\n",
    "employees = [Manager(\"Alice\", 90000), Developer(\"Bob\", 80000), Designer(\"Charlie\", 70000)]\n",
    "\n",
    "for employee in employees:\n",
    "    print(employee.get_salary())\n",
    "\n"
   ]
  },
  {
   "cell_type": "code",
   "execution_count": null,
   "id": "8a1048e8-3e1f-4209-bd7a-fefa14f41155",
   "metadata": {},
   "outputs": [],
   "source": [
    "# 14. Discuss the differences between abstract classes and concrete classes in Python, including their\n",
    "# instantiation.\n",
    "\n",
    "# abstract Classes:\n",
    "# Instantiation: Cannot be instantiated directly. They are meant to be subclassed.\n",
    "# Purpose: Define a common interface for a group of related classes. Abstract classes can include abstract methods that must be implemented by any subclass.\n",
    "# Example Use Case: Defining a base class with common methods and properties that other classes can inherit and implement.\n",
    "\n",
    "# Concrete Classes:\n",
    "# Instantiation: Can be instantiated directly. They provide complete implementations for methods and properties.\n",
    "# Purpose: Provide actual functionality and can be used to create objects.\n",
    "# Example Use Case: Implementing a specific type of object that is fully functional and can be used in a program."
   ]
  },
  {
   "cell_type": "code",
   "execution_count": null,
   "id": "f672dadc-6faa-440f-839e-d7b2e2e2cb84",
   "metadata": {},
   "outputs": [],
   "source": [
    "# 15. Explain the concept of abstract data types (ADTs) and their role in achieving abstraction in Python.\n",
    "\n",
    "\n",
    "# Abstract Data Types (ADTs) are high-level descriptions of data structures that specify what operations can be performed on the data and what properties it must have, without specifying how these operations are implemented. ADTs are used to define the behavior of data structures like stacks, queues, lists, and trees, focusing on what the data structure does rather than how it is implemented.\n",
    "\n",
    "# Role in Achieving Abstraction:\n",
    "# Encapsulation of Data: ADTs encapsulate the data and operations, hiding the implementation details from the user.\n",
    "# Separation of Concerns: Allows for a clear separation between the interface (what operations can be performed) and the implementation (how the operations are performed).\n",
    "# Flexibility: Changes to the implementation of an ADT do not affect the code that uses the ADT, allowing for easier modifications and maintenance."
   ]
  },
  {
   "cell_type": "code",
   "execution_count": 49,
   "id": "cf10b491-e001-40b5-9280-d1fc254ab7e6",
   "metadata": {},
   "outputs": [
    {
     "name": "stdout",
     "output_type": "stream",
     "text": [
      "Laptop is powering on\n",
      "Laptop is shutting down\n",
      "Desktop is powering on\n",
      "Desktop is shutting down\n"
     ]
    }
   ],
   "source": [
    "# 16. Create a Python class for a computer system, demonstrating abstraction by defining common methods (e.g., `power_on()`, `shutdown()`) in an abstract base class.\n",
    "\n",
    "from abc import ABC, abstractmethod\n",
    "\n",
    "class Computer(ABC):\n",
    "    @abstractmethod\n",
    "    def power_on(self):\n",
    "        pass\n",
    "\n",
    "    @abstractmethod\n",
    "    def shutdown(self):\n",
    "        pass\n",
    "\n",
    "class Laptop(Computer):\n",
    "    def power_on(self):\n",
    "        return \"Laptop is powering on\"\n",
    "\n",
    "    def shutdown(self):\n",
    "        return \"Laptop is shutting down\"\n",
    "\n",
    "class Desktop(Computer):\n",
    "    def power_on(self):\n",
    "        return \"Desktop is powering on\"\n",
    "\n",
    "    def shutdown(self):\n",
    "        return \"Desktop is shutting down\"\n",
    "\n",
    "# Example usage\n",
    "computers = [Laptop(), Desktop()]\n",
    "\n",
    "for computer in computers:\n",
    "    print(computer.power_on())\n",
    "    print(computer.shutdown())\n"
   ]
  },
  {
   "cell_type": "code",
   "execution_count": 51,
   "id": "a4c68756-4a88-4199-bf76-095a65f1ff77",
   "metadata": {},
   "outputs": [],
   "source": [
    "# 17. Discuss the benefits of using abstraction in large-scale software development projects.\n",
    "\n",
    "# Benefits of Using Abstraction:\n",
    "\n",
    "# Code Maintainability: Abstraction allows developers to change or improve the implementation of a system without affecting other parts of the codebase. This leads to more maintainable and adaptable code.\n",
    "# Improved Design: It provides a clear separation of concerns, making the design of complex systems more manageable and easier to understand.\n",
    "# Enhanced Reusability: Abstract components can be reused across different parts of the system or in different projects, reducing redundancy and development time.\n",
    "# Easier Debugging: By focusing on high-level functionality rather than low-level details, developers can identify and fix issues more effectively."
   ]
  },
  {
   "cell_type": "code",
   "execution_count": null,
   "id": "a878b4c8-429a-475e-a260-764c7905b072",
   "metadata": {},
   "outputs": [],
   "source": [
    "# 18. Explain how abstraction enhances code reusability and modularity in Python programs.\n",
    "\n",
    "# Abstraction Enhances Code Reusability:\n",
    "# Reusable Components: By defining abstract interfaces and base classes, you can create reusable components that can be extended and customized for different use cases. This reduces duplication and encourages the reuse of existing code.\n",
    "# Consistent Interfaces: Abstract classes and methods define consistent interfaces that can be implemented by multiple subclasses, promoting code reuse across different parts of the application.\n",
    "\n",
    "# Abstraction Enhances Modularity:\n",
    "# Separation of Concerns: Abstraction allows you to divide a system into modular components, each responsible for a specific aspect of the functionality. This makes the system easier to manage and update.\n",
    "# Encapsulation: By hiding the internal details and exposing only the necessary functionality, abstraction ensures that each module can be developed and tested independently, improving overall system modularity."
   ]
  },
  {
   "cell_type": "code",
   "execution_count": 52,
   "id": "a88db7fb-27e5-4a0a-b4ee-f30511a2c730",
   "metadata": {},
   "outputs": [
    {
     "name": "stdout",
     "output_type": "stream",
     "text": [
      "Book '1984' added to the library.\n",
      "Book '1984' borrowed.\n"
     ]
    }
   ],
   "source": [
    "# 19. Create a Python class for a library system, implementing abstraction by defining common methods (e.g., `add_book()`, `borrow_book()`) in an abstract base class.\n",
    "\n",
    "from abc import ABC, abstractmethod\n",
    "\n",
    "class Library(ABC):\n",
    "    @abstractmethod\n",
    "    def add_book(self, book_title):\n",
    "        pass\n",
    "\n",
    "    @abstractmethod\n",
    "    def borrow_book(self, book_title):\n",
    "        pass\n",
    "\n",
    "class PublicLibrary(Library):\n",
    "    def __init__(self):\n",
    "        self.books = []\n",
    "\n",
    "    def add_book(self, book_title):\n",
    "        self.books.append(book_title)\n",
    "        return f\"Book '{book_title}' added to the library.\"\n",
    "\n",
    "    def borrow_book(self, book_title):\n",
    "        if book_title in self.books:\n",
    "            self.books.remove(book_title)\n",
    "            return f\"Book '{book_title}' borrowed.\"\n",
    "        else:\n",
    "            return f\"Book '{book_title}' not available.\"\n",
    "\n",
    "# Example usage\n",
    "library = PublicLibrary()\n",
    "print(library.add_book(\"1984\"))  \n",
    "print(library.borrow_book(\"1984\"))0.\n"
   ]
  },
  {
   "cell_type": "code",
   "execution_count": null,
   "id": "d58caa51-623c-44d4-b5f8-4e2294f48e12",
   "metadata": {},
   "outputs": [],
   "source": [
    "# 20. Describe the concept of method abstraction in Python and how it relates to polymorphism.\n",
    "\n",
    "from abc import ABC, abstractmethod\n",
    "\n",
    "class Shape(ABC):\n",
    "    @abstractmethod\n",
    "    def calculate_area(self):\n",
    "        pass\n",
    "\n",
    "class Circle(Shape):\n",
    "    def __init__(self, radius):\n",
    "        self.radius = radius\n",
    "\n",
    "    def calculate_area(self):\n",
    "        return 3.14 * self.radius * self.radius\n",
    "\n",
    "class Square(Shape):\n",
    "    def __init__(self, side):\n",
    "        self.side = side\n",
    "\n",
    "    def calculate_area(self):\n",
    "        return self.side * self.side\n",
    "\n",
    "# Example usage\n",
    "shapes = [Circle(5), Square(4)]\n",
    "\n",
    "for shape in shapes:\n",
    "    print(f\"Area: {shape.calculate_area()}\")\n",
    "\n",
    "    \n",
    "# Method Abstraction refers to defining methods in an abstract class without providing an implementation. This allows subclasses to provide their own implementations of these methods. Method abstraction helps define a common interface for a group of related classes, ensuring that they implement specific methods while leaving the details of their implementation to the subclasses.\n",
    "\n",
    "# Relation to Polymorphism:\n",
    "# Common Interface: Method abstraction provides a common interface that different subclasses can implement in various ways. This allows polymorphic behavior, where different subclasses can be treated uniformly through their common interface.\n",
    "# Flexibility: By abstracting methods, you allow for different implementations that can be used interchangeably. This promotes flexibility in code, enabling you to use different subclasses in a polymorphic manner."
   ]
  },
  {
   "cell_type": "code",
   "execution_count": null,
   "id": "dc9e269d-7730-4099-a8d7-abc129f33670",
   "metadata": {},
   "outputs": [],
   "source": [
    "# Composition:"
   ]
  },
  {
   "cell_type": "code",
   "execution_count": null,
   "id": "bbb90363-b55b-4552-b944-8143284073e5",
   "metadata": {},
   "outputs": [],
   "source": [
    "# 1. Explain the concept of composition in Python and how it is used to build complex objects from simpler ones.\n",
    "\n",
    "\n",
    "class Engine:\n",
    "    def __init__(self, horsepower):\n",
    "        self.horsepower = horsepower\n",
    "\n",
    "    def start(self):\n",
    "        return f\"Engine with {self.horsepower} horsepower is starting.\"\n",
    "\n",
    "class Car:\n",
    "    def __init__(self, brand, engine):\n",
    "        self.brand = brand\n",
    "        self.engine = engine\n",
    "\n",
    "    def drive(self):\n",
    "        return f\"Driving a {self.brand} car with {self.engine.start()}\"\n",
    "\n",
    "# Creating an Engine object\n",
    "engine = Engine(150)\n",
    "\n",
    "# Creating a Car object with composition\n",
    "car = Car(\"Toyota\", engine)\n",
    "\n",
    "print(car.drive())  \n",
    "\n",
    "\n",
    "\n",
    "\n",
    "# Composition in Python is a design principle in object-oriented programming where a class is composed of one or more objects from other classes, rather than inheriting from them. This allows you to build complex objects by combining simpler, reusable components.\n",
    "\n",
    "# How It Is Used:\n",
    "# Encapsulation: Composition helps in encapsulating functionality by combining objects to achieve desired behaviors.\n",
    "# Code Reusability: By using objects from other classes, you can reuse existing code and avoid duplication.\n",
    "# Flexibility: It provides flexibility to change or extend components without altering the existing codebase."
   ]
  },
  {
   "cell_type": "code",
   "execution_count": null,
   "id": "e97dd2e2-42e6-4793-9e1f-0c58e710613b",
   "metadata": {},
   "outputs": [],
   "source": [
    "# 2. Describe the difference between composition and inheritance in object-oriented programming.\n",
    "\n",
    "# Composition: Represents a \"has-a\" relationship. A class contains objects of other classes. It is used to build complex objects by combining simpler ones. Composition is more flexible as you can change the components at runtime.\n",
    "\n",
    "# Inheritance: Represents an \"is-a\" relationship. A class inherits from another class, gaining its attributes and methods. It is used to create a new class that is a specialized version of an existing class. Inheritance is less flexible compared to composition as it creates a tight coupling between the parent and child classes.\n",
    "\n",
    "# Example:\n",
    "# Composition: A Car has an Engine.\n",
    "# Inheritance: A ElectricCar is a Car"
   ]
  },
  {
   "cell_type": "code",
   "execution_count": 53,
   "id": "f3d0815f-16a7-4141-ab68-ee67c7a47f85",
   "metadata": {},
   "outputs": [
    {
     "name": "stdout",
     "output_type": "stream",
     "text": [
      "Book: Harry Potter, Author: J.K. Rowling, Birthdate: 1965-07-31\n"
     ]
    }
   ],
   "source": [
    "# 3. Create a Python class called `Author` with attributes for name and birthdate. Then, create a `Book` class\n",
    "# that contains an instance of `Author` as a composition. Provide an example of creating a `Book` object.\n",
    "\n",
    "class Author:\n",
    "    def __init__(self, name, birthdate):\n",
    "        self.name = name\n",
    "        self.birthdate = birthdate\n",
    "\n",
    "    def get_details(self):\n",
    "        return f\"Author: {self.name}, Birthdate: {self.birthdate}\"\n",
    "\n",
    "class Book:\n",
    "    def __init__(self, title, author):\n",
    "        self.title = title\n",
    "        self.author = author\n",
    "\n",
    "    def get_book_info(self):\n",
    "        return f\"Book: {self.title}, {self.author.get_details()}\"\n",
    "\n",
    "# Creating an Author object\n",
    "author = Author(\"J.K. Rowling\", \"1965-07-31\")\n",
    "\n",
    "# Creating a Book object with composition\n",
    "book = Book(\"Harry Potter\", author)\n",
    "\n",
    "print(book.get_book_info())  \n"
   ]
  },
  {
   "cell_type": "code",
   "execution_count": null,
   "id": "4d4af70c-58a8-4b23-a5bb-5d621d86a88c",
   "metadata": {},
   "outputs": [],
   "source": [
    "# 4. Discuss the benefits of using composition over inheritance in Python, especially in terms of code flexibility\n",
    "# and reusability.\n",
    "\n",
    "\n",
    "# Flexibility: Composition allows you to change the components dynamically, while inheritance creates a fixed hierarchy.\n",
    "# Reusability: Components in composition can be reused in different contexts without altering the inheritance hierarchy.\n",
    "# Avoiding Tight Coupling: Composition avoids tight coupling between classes, making the system more modular and easier to maintain."
   ]
  },
  {
   "cell_type": "code",
   "execution_count": 54,
   "id": "f8ab3512-65c4-4ce1-8e4b-1deae3db4695",
   "metadata": {},
   "outputs": [
    {
     "name": "stdout",
     "output_type": "stream",
     "text": [
      "Computer starting with Processing with 8 cores. and Loading 16 GB of RAM.\n"
     ]
    }
   ],
   "source": [
    "# 5. How can you implement composition in Python classes? Provide examples of using composition to create\n",
    "# complex objects.\n",
    "\n",
    "class CPU:\n",
    "    def __init__(self, cores):\n",
    "        self.cores = cores\n",
    "\n",
    "    def process(self):\n",
    "        return f\"Processing with {self.cores} cores.\"\n",
    "\n",
    "class RAM:\n",
    "    def __init__(self, size):\n",
    "        self.size = size\n",
    "\n",
    "    def load(self):\n",
    "        return f\"Loading {self.size} GB of RAM.\"\n",
    "\n",
    "class Computer:\n",
    "    def __init__(self, cpu, ram):\n",
    "        self.cpu = cpu\n",
    "        self.ram = ram\n",
    "\n",
    "    def start(self):\n",
    "        return f\"Computer starting with {self.cpu.process()} and {self.ram.load()}\"\n",
    "\n",
    "# Creating components\n",
    "cpu = CPU(8)\n",
    "ram = RAM(16)\n",
    "\n",
    "# Creating a Computer object with composition\n",
    "computer = Computer(cpu, ram)\n",
    "\n",
    "print(computer.start())  \n"
   ]
  },
  {
   "cell_type": "code",
   "execution_count": 55,
   "id": "8009bacc-e51e-41c8-9fde-ebc3adb68135",
   "metadata": {},
   "outputs": [
    {
     "name": "stdout",
     "output_type": "stream",
     "text": [
      "['Song: Song A by Artist A', 'Song: Song B by Artist B']\n"
     ]
    }
   ],
   "source": [
    "# 6. Create a Python class hierarchy for a music player system, using composition to represent playlists and\n",
    "# songs.\n",
    "\n",
    "class Song:\n",
    "    def __init__(self, title, artist):\n",
    "        self.title = title\n",
    "        self.artist = artist\n",
    "\n",
    "    def get_info(self):\n",
    "        return f\"Song: {self.title} by {self.artist}\"\n",
    "\n",
    "class Playlist:\n",
    "    def __init__(self):\n",
    "        self.songs = []\n",
    "\n",
    "    def add_song(self, song):\n",
    "        self.songs.append(song)\n",
    "\n",
    "    def play_all(self):\n",
    "        return [song.get_info() for song in self.songs]\n",
    "\n",
    "# Creating Songs\n",
    "song1 = Song(\"Song A\", \"Artist A\")\n",
    "song2 = Song(\"Song B\", \"Artist B\")\n",
    "\n",
    "# Creating Playlist with composition\n",
    "playlist = Playlist()\n",
    "playlist.add_song(song1)\n",
    "playlist.add_song(song2)\n",
    "\n",
    "print(playlist.play_all())  "
   ]
  },
  {
   "cell_type": "code",
   "execution_count": null,
   "id": "dc873f7b-450c-46ec-8972-4ff73f4c23b5",
   "metadata": {},
   "outputs": [],
   "source": [
    "# 7. Explain the concept of \"has-a\" relationships in composition and how it helps design software systems.\n",
    "\n",
    "\n",
    "# \"Has-A\" Relationship: In composition, a class contains objects of other classes. This relationship shows that a class has a certain component. It helps in creating modular systems where complex functionalities are built from simpler, independent components.\n",
    "\n",
    "# Example:\n",
    "# A Library has Books.\n",
    "# A Computer has CPU, RAM, and Storage."
   ]
  },
  {
   "cell_type": "code",
   "execution_count": 56,
   "id": "f0475ba7-03bc-45f0-a91d-ae5366345fe7",
   "metadata": {},
   "outputs": [
    {
     "name": "stdout",
     "output_type": "stream",
     "text": [
      "CPU: Intel i7, RAM: 16GB, Storage: 512GB\n"
     ]
    }
   ],
   "source": [
    "# 8. Create a Python class for a computer system, using composition to represent components like CPU, RAM,\n",
    "# and storage devices.\n",
    "\n",
    "class CPU:\n",
    "    def __init__(self, model):\n",
    "        self.model = model\n",
    "\n",
    "class RAM:\n",
    "    def __init__(self, size):\n",
    "        self.size = size\n",
    "\n",
    "class Storage:\n",
    "    def __init__(self, capacity):\n",
    "        self.capacity = capacity\n",
    "\n",
    "class Computer:\n",
    "    def __init__(self, cpu, ram, storage):\n",
    "        self.cpu = cpu\n",
    "        self.ram = ram\n",
    "        self.storage = storage\n",
    "\n",
    "    def get_specs(self):\n",
    "        return f\"CPU: {self.cpu.model}, RAM: {self.ram.size}GB, Storage: {self.storage.capacity}GB\"\n",
    "\n",
    "# Creating components\n",
    "cpu = CPU(\"Intel i7\")\n",
    "ram = RAM(16)\n",
    "storage = Storage(512)\n",
    "\n",
    "# Creating a Computer object with composition\n",
    "computer = Computer(cpu, ram, storage)\n",
    "\n",
    "print(computer.get_specs())  \n"
   ]
  },
  {
   "cell_type": "code",
   "execution_count": null,
   "id": "f74145f5-b2f8-4b79-a724-64b3a6aa14d5",
   "metadata": {},
   "outputs": [],
   "source": [
    "# 9. Describe the concept of \"delegation\" in composition and how it simplifies the design of complex systems.\n",
    "\n",
    "\n",
    "# Delegation is a design pattern where one object relies on another object to perform a task. It simplifies complex systems by breaking down responsibilities and promoting reuse of existing code.\n",
    "# Example: In the Computer example above, the Computer class delegates the responsibility of managing CPU, RAM, and Storage to their respective classes."
   ]
  },
  {
   "cell_type": "code",
   "execution_count": 57,
   "id": "5235eeee-e3ca-47b5-89a9-cc990230f18f",
   "metadata": {},
   "outputs": [
    {
     "name": "stdout",
     "output_type": "stream",
     "text": [
      "Engine: V8, Wheels: 18 inches, Transmission: Automatic\n"
     ]
    }
   ],
   "source": [
    "# 10. Create a Python class for a car, using composition to represent components like the engine, wheels, and\n",
    "# transmission.\n",
    "\n",
    "class Engine:\n",
    "    def __init__(self, type):\n",
    "        self.type = type\n",
    "\n",
    "class Wheel:\n",
    "    def __init__(self, size):\n",
    "        self.size = size\n",
    "\n",
    "class Transmission:\n",
    "    def __init__(self, transmission_type):\n",
    "        self.transmission_type = transmission_type\n",
    "\n",
    "class Car:\n",
    "    def __init__(self, engine, wheels, transmission):\n",
    "        self.engine = engine\n",
    "        self.wheels = wheels\n",
    "        self.transmission = transmission\n",
    "\n",
    "    def get_specs(self):\n",
    "        return f\"Engine: {self.engine.type}, Wheels: {self.wheels.size} inches, Transmission: {self.transmission.transmission_type}\"\n",
    "\n",
    "# Creating components\n",
    "engine = Engine(\"V8\")\n",
    "wheels = Wheel(18)\n",
    "transmission = Transmission(\"Automatic\")\n",
    "\n",
    "# Creating a Car object with composition\n",
    "car = Car(engine, wheels, transmission)\n",
    "\n",
    "print(car.get_specs())  "
   ]
  },
  {
   "cell_type": "code",
   "execution_count": 58,
   "id": "8d152761-40ec-4a0e-9012-2fe5aa985ee6",
   "metadata": {},
   "outputs": [
    {
     "name": "stdout",
     "output_type": "stream",
     "text": [
      "Car engine with 200 power started.\n"
     ]
    }
   ],
   "source": [
    "# 11. How can you encapsulate and hide the details of composed objects in Python classes to maintain\n",
    "# abstraction?\n",
    "\n",
    "class Engine:\n",
    "    def __init__(self, power):\n",
    "        self.__power = power\n",
    "\n",
    "    def get_power(self):\n",
    "        return self.__power\n",
    "\n",
    "class Car:\n",
    "    def __init__(self, engine_power):\n",
    "        self.__engine = Engine(engine_power)\n",
    "\n",
    "    def start(self):\n",
    "        return f\"Car engine with {self.__engine.get_power()} power started.\"\n",
    "\n",
    "car = Car(200)\n",
    "print(car.start())\n",
    "\n",
    "\n",
    "# Encapsulation involves hiding the internal details of a composed object to maintain abstraction. You can achieve this by:\n",
    "\n",
    "# Defining Private Attributes: Use private attributes (prefix with __) to hide details of composed objects from external access.\n",
    "# Providing Public Methods: Expose only necessary methods to interact with the composed objects.\n",
    "# Internal Access Control: Use methods to control how the internal state of composed objects is accessed or modified."
   ]
  },
  {
   "cell_type": "code",
   "execution_count": 67,
   "id": "e3a8609b-163a-4770-b4e8-4f7b2fdfe1b5",
   "metadata": {},
   "outputs": [
    {
     "name": "stdout",
     "output_type": "stream",
     "text": [
      "Course: CS101\n",
      "Students: ['Alice']\n",
      "Instructor: Prof. Smith\n",
      "Materials: ['Lecture Notes']\n"
     ]
    }
   ],
   "source": [
    "# 12. Create a Python class for a university course, using composition to represent students, instructors, and\n",
    "# course materials.\n",
    "\n",
    "class Student:\n",
    "    def __init__(self, name):\n",
    "        self.name = name\n",
    "\n",
    "class Instructor:\n",
    "    def __init__(self, name):\n",
    "        self.name = name\n",
    "\n",
    "class CourseMaterial:\n",
    "    def __init__(self, material_name):\n",
    "        self.material_name = material_name\n",
    "\n",
    "class UniversityCourse:\n",
    "    def __init__(self, course_name):\n",
    "        self.course_name = course_name\n",
    "        self.students = []\n",
    "        self.instructor = None\n",
    "        self.materials = []\n",
    "\n",
    "    def add_student(self, student):\n",
    "        self.students.append(student)\n",
    "\n",
    "    def set_instructor(self, instructor):\n",
    "        self.instructor = instructor\n",
    "\n",
    "    def add_material(self, material):\n",
    "        self.materials.append(material)\n",
    "\n",
    "# Usage\n",
    "course = UniversityCourse(\"CS101\")\n",
    "course.add_student(Student(\"Alice\"))\n",
    "course.set_instructor(Instructor(\"Prof. Smith\"))\n",
    "course.add_material(CourseMaterial(\"Lecture Notes\"))\n",
    "\n",
    "print(f\"Course: {course.course_name}\")\n",
    "print(f\"Students: {[student.name for student in course.students]}\")\n",
    "print(f\"Instructor: {course.instructor.name}\")\n",
    "print(f\"Materials: {[material.material_name for material in course.materials]}\")\n",
    "\n"
   ]
  },
  {
   "cell_type": "code",
   "execution_count": null,
   "id": "f65a19aa-1a91-4aff-90b9-3068cfe3abd1",
   "metadata": {},
   "outputs": [],
   "source": [
    "# 13. Discuss the challenges and drawbacks of composition, such as increased complexity and potential for\n",
    "# tight coupling between objects.\n",
    "\n",
    "# Increased Complexity: Managing composed objects can lead to increased complexity in design.\n",
    "# Tight Coupling: Changes in one class might necessitate changes in other classes, leading to tight coupling.\n",
    "# Overhead: Additional layers of objects can introduce overhead in terms of performance and memory.\n"
   ]
  },
  {
   "cell_type": "code",
   "execution_count": 68,
   "id": "c6cb12c9-6a3f-48f4-b09a-ccb4ab732fa1",
   "metadata": {},
   "outputs": [
    {
     "name": "stdout",
     "output_type": "stream",
     "text": [
      "Restaurant: Gourmet Bistro\n",
      "Dish: Pasta, Ingredients: pasta, tomato sauce, cheese\n"
     ]
    }
   ],
   "source": [
    "# 14. Create a Python class hierarchy for a restaurant system, using composition to represent menus, dishes,\n",
    "# and ingredients.\n",
    "\n",
    "class Dish:\n",
    "    def __init__(self, name, ingredients):\n",
    "        self.name = name\n",
    "        self.ingredients = ingredients\n",
    "\n",
    "class Menu:\n",
    "    def __init__(self):\n",
    "        self.dishes = []\n",
    "\n",
    "    def add_dish(self, dish):\n",
    "        self.dishes.append(dish)\n",
    "\n",
    "class Restaurant:\n",
    "    def __init__(self, name):\n",
    "        self.name = name\n",
    "        self.menu = Menu()\n",
    "\n",
    "    def add_dish_to_menu(self, dish):\n",
    "        self.menu.add_dish(dish)\n",
    "\n",
    "# Usage\n",
    "restaurant = Restaurant(\"Gourmet Bistro\")\n",
    "dish = Dish(\"Pasta\", [\"pasta\", \"tomato sauce\", \"cheese\"])\n",
    "restaurant.add_dish_to_menu(dish)\n",
    "\n",
    "print(f\"Restaurant: {restaurant.name}\")\n",
    "for dish in restaurant.menu.dishes:\n",
    "    print(f\"Dish: {dish.name}, Ingredients: {', '.join(dish.ingredients)}\")\n"
   ]
  },
  {
   "cell_type": "code",
   "execution_count": null,
   "id": "11228081-027e-411b-b475-e1f4d0abad3e",
   "metadata": {},
   "outputs": [],
   "source": [
    "# 15. Explain how composition enhances code maintainability and modularity in Python programs.\n",
    "\n",
    "# Modularity: By composing objects, you can break down complex systems into smaller, manageable pieces.\n",
    "# Maintainability: Changes to one component do not affect other components as long as the interface remains consistent.\n",
    "# Reusability: Components can be reused across different systems without modification."
   ]
  },
  {
   "cell_type": "code",
   "execution_count": 69,
   "id": "e3962147-f189-4f3d-bf63-4b17ba83407d",
   "metadata": {},
   "outputs": [
    {
     "name": "stdout",
     "output_type": "stream",
     "text": [
      "Character: Hero\n",
      "Weapon: Sword\n",
      "Armor: Shield\n",
      "Inventory: Potion\n"
     ]
    }
   ],
   "source": [
    "# 16. Create a Python class for a computer game character, using composition to represent attributes like\n",
    "# weapons, armor, and inventory.\n",
    "\n",
    "class Weapon:\n",
    "    def __init__(self, name):\n",
    "        self.name = name\n",
    "\n",
    "class Armor:\n",
    "    def __init__(self, name):\n",
    "        self.name = name\n",
    "\n",
    "class Inventory:\n",
    "    def __init__(self):\n",
    "        self.items = []\n",
    "\n",
    "    def add_item(self, item):\n",
    "        self.items.append(item)\n",
    "\n",
    "class GameCharacter:\n",
    "    def __init__(self, name):\n",
    "        self.name = name\n",
    "        self.weapon = None\n",
    "        self.armor = None\n",
    "        self.inventory = Inventory()\n",
    "\n",
    "    def equip_weapon(self, weapon):\n",
    "        self.weapon = weapon\n",
    "\n",
    "    def equip_armor(self, armor):\n",
    "        self.armor = armor\n",
    "\n",
    "# Usage\n",
    "character = GameCharacter(\"Hero\")\n",
    "character.equip_weapon(Weapon(\"Sword\"))\n",
    "character.equip_armor(Armor(\"Shield\"))\n",
    "character.inventory.add_item(\"Potion\")\n",
    "\n",
    "print(f\"Character: {character.name}\")\n",
    "print(f\"Weapon: {character.weapon.name}\")\n",
    "print(f\"Armor: {character.armor.name}\")\n",
    "print(f\"Inventory: {', '.join(character.inventory.items)}\")\n"
   ]
  },
  {
   "cell_type": "code",
   "execution_count": null,
   "id": "4173d5c7-b933-4307-a174-043d2ad46b98",
   "metadata": {},
   "outputs": [],
   "source": [
    "# 17. Describe the concept of \"aggregation\" in composition and how it differs from simple composition\n",
    "\n",
    "class Department:\n",
    "    def __init__(self, name):\n",
    "        self.name = name\n",
    "\n",
    "class University:\n",
    "    def __init__(self):\n",
    "        self.departments = []\n",
    "\n",
    "    def add_department(self, department):\n",
    "        self.departments.append(department)\n",
    "\n",
    "# Usage\n",
    "department = Department(\"Computer Science\")\n",
    "university = University()\n",
    "university.add_department(department)\n",
    "\n",
    "print(f\"University has departments: {[dept.name for dept in university.departments]}\")\n",
    "\n",
    "# Aggregation allows for independent existence of composed objects, while simple composition implies that the composed objects cannot exist independentl"
   ]
  },
  {
   "cell_type": "code",
   "execution_count": 70,
   "id": "5c31e36d-8cde-4c12-b30d-be5a939ef52f",
   "metadata": {},
   "outputs": [
    {
     "name": "stdout",
     "output_type": "stream",
     "text": [
      "House has rooms: ['Living Room']\n",
      "Furniture: ['Sofa']\n",
      "Appliances: ['Refrigerator']\n"
     ]
    }
   ],
   "source": [
    "# 18. Create a Python class for a house, using composition to represent rooms, furniture, and appliances.\n",
    "\n",
    "class Room:\n",
    "    def __init__(self, name):\n",
    "        self.name = name\n",
    "\n",
    "class Furniture:\n",
    "    def __init__(self, item):\n",
    "        self.item = item\n",
    "\n",
    "class Appliance:\n",
    "    def __init__(self, appliance):\n",
    "        self.appliance = appliance\n",
    "\n",
    "class House:\n",
    "    def __init__(self):\n",
    "        self.rooms = []\n",
    "        self.furniture = []\n",
    "        self.appliances = []\n",
    "\n",
    "    def add_room(self, room):\n",
    "        self.rooms.append(room)\n",
    "\n",
    "    def add_furniture(self, furniture):\n",
    "        self.furniture.append(furniture)\n",
    "\n",
    "    def add_appliance(self, appliance):\n",
    "        self.appliances.append(appliance)\n",
    "\n",
    "# Usage\n",
    "house = House()\n",
    "house.add_room(Room(\"Living Room\"))\n",
    "house.add_furniture(Furniture(\"Sofa\"))\n",
    "house.add_appliance(Appliance(\"Refrigerator\"))\n",
    "\n",
    "print(f\"House has rooms: {[room.name for room in house.rooms]}\")\n",
    "print(f\"Furniture: {[furniture.item for furniture in house.furniture]}\")\n",
    "print(f\"Appliances: {[appliance.appliance for appliance in house.appliances]}\")\n"
   ]
  },
  {
   "cell_type": "code",
   "execution_count": 71,
   "id": "b878a44b-f1d3-43ac-aae6-59f71644ced1",
   "metadata": {},
   "outputs": [
    {
     "name": "stdout",
     "output_type": "stream",
     "text": [
      "Car with V8 engine started.\n",
      "Car with Electric engine started.\n"
     ]
    }
   ],
   "source": [
    "# 19. How can you achieve flexibility in composed objects by allowing them to be replaced or modified\n",
    "# dynamically at runtime?\n",
    "\n",
    "class Engine:\n",
    "    def __init__(self, type):\n",
    "        self.type = type\n",
    "\n",
    "class Car:\n",
    "    def __init__(self, engine):\n",
    "        self.engine = engine\n",
    "\n",
    "    def start(self):\n",
    "        return f\"Car with {self.engine.type} engine started.\"\n",
    "\n",
    "# Usage\n",
    "car = Car(Engine(\"V8\"))\n",
    "print(car.start())  \n",
    "car.engine = Engine(\"Electric\")\n",
    "print(car.start())  \n"
   ]
  },
  {
   "cell_type": "code",
   "execution_count": 72,
   "id": "27021922-3fa0-4393-bfff-2085daa9b68e",
   "metadata": {},
   "outputs": [
    {
     "name": "stdout",
     "output_type": "stream",
     "text": [
      "Users: ['Alice']\n",
      "Posts: ['Hello World!']\n",
      "Comments: ['Nice post!']\n"
     ]
    }
   ],
   "source": [
    "# 20. Create a Python class for a social media application, using composition to represent users, posts, and\n",
    "# comments.\n",
    "\n",
    "class User:\n",
    "    def __init__(self, username):\n",
    "        self.username = username\n",
    "\n",
    "class Post:\n",
    "    def __init__(self, content):\n",
    "        self.content = content\n",
    "\n",
    "class Comment:\n",
    "    def __init__(self, text):\n",
    "        self.text = text\n",
    "\n",
    "class SocialMediaApp:\n",
    "    def __init__(self):\n",
    "        self.users = []\n",
    "        self.posts = []\n",
    "        self.comments = []\n",
    "\n",
    "    def add_user(self, user):\n",
    "        self.users.append(user)\n",
    "\n",
    "    def add_post(self, post):\n",
    "        self.posts.append(post)\n",
    "\n",
    "    def add_comment(self, comment):\n",
    "        self.comments.append(comment)\n",
    "\n",
    "# Usage\n",
    "app = SocialMediaApp()\n",
    "app.add_user(User(\"Alice\"))\n",
    "app.add_post(Post(\"Hello World!\"))\n",
    "app.add_comment(Comment(\"Nice post!\"))\n",
    "\n",
    "print(f\"Users: {[user.username for user in app.users]}\")\n",
    "print(f\"Posts: {[post.content for post in app.posts]}\")\n",
    "print(f\"Comments: {[comment.text for comment in app.comments]}\")\n"
   ]
  },
  {
   "cell_type": "code",
   "execution_count": null,
   "id": "817fb75d-b06f-4a6e-93de-ece52a9ac058",
   "metadata": {},
   "outputs": [],
   "source": []
  }
 ],
 "metadata": {
  "kernelspec": {
   "display_name": "Python 3 (ipykernel)",
   "language": "python",
   "name": "python3"
  },
  "language_info": {
   "codemirror_mode": {
    "name": "ipython",
    "version": 3
   },
   "file_extension": ".py",
   "mimetype": "text/x-python",
   "name": "python",
   "nbconvert_exporter": "python",
   "pygments_lexer": "ipython3",
   "version": "3.10.8"
  }
 },
 "nbformat": 4,
 "nbformat_minor": 5
}
