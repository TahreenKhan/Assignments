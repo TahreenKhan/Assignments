{
 "cells": [
  {
   "cell_type": "code",
   "execution_count": null,
   "id": "c1edc425-7298-4615-8f67-7c4dda3ed755",
   "metadata": {},
   "outputs": [],
   "source": [
    "# Sorting Assignment"
   ]
  },
  {
   "cell_type": "code",
   "execution_count": 1,
   "id": "0830b015-2cdf-404c-99ad-ccf7e0a3ce9c",
   "metadata": {},
   "outputs": [
    {
     "name": "stdout",
     "output_type": "stream",
     "text": [
      "3\n"
     ]
    }
   ],
   "source": [
    "# Problem 1.Given an array of n numbers, give an algorithm which gives the element appearing maximum\n",
    "# number of times?\n",
    "\n",
    "def most_frequent(arr):\n",
    "    freq = {}\n",
    "    for num in arr:\n",
    "        if num in freq:\n",
    "            freq[num] += 1\n",
    "        else:\n",
    "            freq[num] = 1\n",
    "    return max(freq, key=freq.get)\n",
    "\n",
    "# Example\n",
    "arr = [1, 3, 2, 3, 3, 2, 1]\n",
    "print(most_frequent(arr)) \n",
    "\n",
    "\n",
    "# Approach: Use a dictionary (or hash map) to count the occurrences of each element in the array. Then find the element with the maximum count.\n",
    "# Algorithm:\n",
    "# Create a dictionary to store the frequency of each element.\n",
    "# Traverse the array and count the occurrences of each element.\n"
   ]
  },
  {
   "cell_type": "code",
   "execution_count": 2,
   "id": "75730b2b-9465-4154-8f4f-dbd5ed55e7ee",
   "metadata": {},
   "outputs": [
    {
     "name": "stdout",
     "output_type": "stream",
     "text": [
      "5\n"
     ]
    }
   ],
   "source": [
    "# Problem 2 : We are given a list of n-1 integers and these integers are in the range of 1 to n . There are no\n",
    "# duplicates in the list. One of the integers is missing in the list. Give an algorithm to find that element Ex:\n",
    "# [1,2,4,6,3,7,8] 5 is the missing num.\n",
    "\n",
    "def missing_number(arr, n):\n",
    "    total_sum = n * (n + 1) // 2\n",
    "    arr_sum = sum(arr)\n",
    "    return total_sum - arr_sum\n",
    "\n",
    "# Example\n",
    "arr = [1, 2, 4, 6, 3, 7, 8]\n",
    "n = 8\n",
    "print(missing_number(arr, n))  \n",
    "\n",
    "# he sum of numbers from 1 to \n",
    "# n(n+1)/2. Subtract the sum of the given array from this to find the missing number."
   ]
  },
  {
   "cell_type": "code",
   "execution_count": 3,
   "id": "c11e5460-d5cd-4c7f-a524-29d0c2004a8c",
   "metadata": {},
   "outputs": [
    {
     "name": "stdout",
     "output_type": "stream",
     "text": [
      "3\n"
     ]
    }
   ],
   "source": [
    "# Problem 3 : Given an array of n positive numbers. All numbers occurs even number of times except 1 which\n",
    "# occurs odd number of times. Find that number in O(n) time and O(1) space. Ex: [1,2,3,2,3,1,3]. 3 is repeats odd\n",
    "# times.\n",
    "\n",
    "def find_odd_occurrence(arr):\n",
    "    result = 0\n",
    "    for num in arr:\n",
    "        result ^= num\n",
    "    return result\n",
    "\n",
    "# Example\n",
    "arr = [1, 2, 3, 2, 3, 1, 3]\n",
    "print(find_odd_occurrence(arr))  \n",
    "\n",
    "# XOR all elements. The result will be the odd-occurring element because all even-occurring elements will cancel out."
   ]
  },
  {
   "cell_type": "code",
   "execution_count": 4,
   "id": "b3e1fe90-a87e-436e-ae37-b25508b96f72",
   "metadata": {},
   "outputs": [
    {
     "name": "stdout",
     "output_type": "stream",
     "text": [
      "(7, 2)\n"
     ]
    }
   ],
   "source": [
    "# Problem 4 : Given an array of n elements. Find two elements in the array such that their sum is equal to given\n",
    "# element K.\n",
    "\n",
    "def find_two_sum(arr, K):\n",
    "    seen = set()\n",
    "    for num in arr:\n",
    "        complement = K - num\n",
    "        if complement in seen:\n",
    "            return num, complement\n",
    "        seen.add(num)\n",
    "    return None\n",
    "\n",
    "# Example\n",
    "arr = [2, 7, 11, 15]\n",
    "K = 9\n",
    "print(find_two_sum(arr, K))  \n",
    "\n"
   ]
  },
  {
   "cell_type": "code",
   "execution_count": 5,
   "id": "23f0c704-3d26-4895-b600-342d328ade20",
   "metadata": {},
   "outputs": [
    {
     "name": "stdout",
     "output_type": "stream",
     "text": [
      "(-80, 85)\n"
     ]
    }
   ],
   "source": [
    "# Problem 5 : Given an array of both positive and negative numbers, find two numbers such that their sum is\n",
    "# closest to 0. Ex: [ 1 ,60 ,-10, 70, -80,85]. Ans : -80,85.\n",
    "\n",
    "def closest_to_zero(arr):\n",
    "    arr.sort()\n",
    "    left, right = 0, len(arr) - 1\n",
    "    min_sum = float('inf')\n",
    "    result = None\n",
    "    while left < right:\n",
    "        current_sum = arr[left] + arr[right]\n",
    "        if abs(current_sum) < abs(min_sum):\n",
    "            min_sum = current_sum\n",
    "            result = (arr[left], arr[right])\n",
    "        if current_sum < 0:\n",
    "            left += 1\n",
    "        else:\n",
    "            right -= 1\n",
    "    return result\n",
    "\n",
    "# Example\n",
    "arr = [1, 60, -10, 70, -80, 85]\n",
    "print(closest_to_zero(arr)) \n"
   ]
  },
  {
   "cell_type": "code",
   "execution_count": null,
   "id": "5c25f36f-0286-41f5-bc00-99c76a0cddef",
   "metadata": {},
   "outputs": [],
   "source": [
    "# Problem 6 : Given an array of n elements . Find three elements such that their sum is equal to the given\n",
    "# number.\n",
    "\n",
    "def closest_to_zero(arr):\n",
    "    arr.sort()\n",
    "    left, right = 0, len(arr) - 1\n",
    "    min_sum = float('inf')\n",
    "    result = None\n",
    "    while left < right:\n",
    "        current_sum = arr[left] + arr[right]\n",
    "        if abs(current_sum) < abs(min_sum):\n",
    "            min_sum = current_sum\n",
    "            result = (arr[left], arr[right])\n",
    "        if current_sum < 0:\n",
    "            left += 1\n",
    "        else:\n",
    "            right -= 1\n",
    "    return result\n",
    "\n",
    "# Example\n",
    "arr = [1, 60, -10, 70, -80, 85]\n",
    "print(closest_to_zero(arr))  # Output: (-80, 85)\n"
   ]
  },
  {
   "cell_type": "code",
   "execution_count": null,
   "id": "dee9ba68-0fd1-4377-ae00-b2e657311820",
   "metadata": {},
   "outputs": [],
   "source": [
    "# Problem 7 : Given an array of n elements . Find three elements i, j, k in the array such that\n",
    "# i * i + j * j = k*k.\n"
   ]
  },
  {
   "cell_type": "code",
   "execution_count": null,
   "id": "b787efe7-34f2-4d24-bb44-7ab48d91c32d",
   "metadata": {},
   "outputs": [],
   "source": [
    "# Problem 8 : An element is a majority if it appears more than n/2 times. Give an algorithm takes an array of n\n",
    "# element as argument and identifies a majority (if it exists).\n"
   ]
  },
  {
   "cell_type": "code",
   "execution_count": null,
   "id": "82211d66-a722-405e-be6d-c6303e1228cc",
   "metadata": {},
   "outputs": [],
   "source": [
    "# Problem 9 : Given n × n matrix, and in each row all 1’s are followed by 0’s. Find the row with the maximum\n",
    "# number of 0’s.\n"
   ]
  },
  {
   "cell_type": "code",
   "execution_count": null,
   "id": "b87a2aee-6fd4-415c-8864-0255acef428d",
   "metadata": {},
   "outputs": [],
   "source": [
    "# Problem 10 : Sort an array of 0’s, 1’s and 2’s [or R’s, G’s and B’s]: Given an array A[] consisting of 0’s, 1’s and\n",
    "# 2’s, give an algorithm for sorting A[].The algorithm should put all 0’s first, then all 1’s and finally all 2’s at the\n",
    "# end. Example Input = {0,1,1,0,1,2,1,2,0,0,0,1}, Output = {0,0,0,0,0,1,1,1,1,1,2,2}\n"
   ]
  }
 ],
 "metadata": {
  "kernelspec": {
   "display_name": "Python 3 (ipykernel)",
   "language": "python",
   "name": "python3"
  },
  "language_info": {
   "codemirror_mode": {
    "name": "ipython",
    "version": 3
   },
   "file_extension": ".py",
   "mimetype": "text/x-python",
   "name": "python",
   "nbconvert_exporter": "python",
   "pygments_lexer": "ipython3",
   "version": "3.10.8"
  }
 },
 "nbformat": 4,
 "nbformat_minor": 5
}
