{
 "cells": [
  {
   "cell_type": "code",
   "execution_count": null,
   "id": "c1790804-14dd-4a42-8692-244687d597a2",
   "metadata": {},
   "outputs": [],
   "source": [
    "# Assignment : Time Complexity"
   ]
  },
  {
   "cell_type": "code",
   "execution_count": null,
   "id": "640ee4ee-ef3b-4a74-ac43-3806df07a153",
   "metadata": {},
   "outputs": [],
   "source": [
    "# Find time complexity of below code blocks :"
   ]
  },
  {
   "cell_type": "code",
   "execution_count": 7,
   "id": "26f09756-359d-405c-a780-89258081c2e0",
   "metadata": {},
   "outputs": [
    {
     "name": "stdout",
     "output_type": "stream",
     "text": [
      "Sorted array: [1, 1, 2, 3, 6, 8, 10]\n"
     ]
    }
   ],
   "source": [
    "# Problem 1 :\n",
    "# def quicksort(arr):\n",
    "# if len(arr) <= 1:\n",
    "# return arr\n",
    "# pivot = arr[len(arr) // 2]\n",
    "# left = [x for x in arr if x < pivot]\n",
    "# middle = [x for x in arr if x == pivot]\n",
    "# right = [x for x in arr if x > pivot]\n",
    "# return quicksort(left) + middle + quicksort(right)\n",
    "\n",
    "\n",
    "def quicksort(arr):\n",
    "    if len(arr) <= 1:\n",
    "        return arr\n",
    "    pivot = arr[len(arr) // 2]\n",
    "    left = [x for x in arr if x < pivot]\n",
    "    middle = [x for x in arr if x == pivot]\n",
    "    right = [x for x in arr if x > pivot]\n",
    "    return quicksort(left) + middle + quicksort(right)\n",
    "\n",
    "# Example usage of quicksort\n",
    "arr = [3, 6, 8, 10, 1, 2, 1]\n",
    "sorted_arr = quicksort(arr)\n",
    "print(\"Sorted array:\", sorted_arr)\n",
    "\n",
    "\n",
    "# Explanation:\n",
    "# Base Case: If the array length is 1 or less, it's already sorted.\n",
    "# Pivot Selection: Choose the middle element as the pivot.\n",
    "# Partitioning: Divide the array into three parts: less than pivot, equal to pivot, and greater than pivot.\n",
    "# Recursion: Recursively apply quicksort to the left and right partitions.\n",
    "# Combine: Concatenate the sorted left part, middle (pivot), and sorted right part.\n",
    "# Time Complexity: O(n log n) on average; O(n^2) in the worst case. Space Complexity: O(n) due to the recursion stack and additional lists."
   ]
  },
  {
   "cell_type": "code",
   "execution_count": 8,
   "id": "5f9ecfdf-636c-4aca-b23d-679e0216dce4",
   "metadata": {},
   "outputs": [
    {
     "name": "stdout",
     "output_type": "stream",
     "text": [
      "Total sum of matrix elements: 45\n"
     ]
    }
   ],
   "source": [
    "# Problem 2 :\n",
    "# def nested_loop_example(matrix):\n",
    "# rows, cols = len(matrix), len(matrix[0])\n",
    "# total = 0\n",
    "# for i in range(rows):\n",
    "# for j in range(cols):\n",
    "# total += matrix[i][j]\n",
    "# return total\n",
    "\n",
    "def nested_loop_example(matrix):\n",
    "    rows, cols = len(matrix), len(matrix[0])\n",
    "    total = 0\n",
    "    for i in range(rows):\n",
    "        for j in range(cols):\n",
    "            total += matrix[i][j]\n",
    "    return total\n",
    "\n",
    "# Example usage of nested_loop_example\n",
    "matrix = [\n",
    "    [1, 2, 3],\n",
    "    [4, 5, 6],\n",
    "    [7, 8, 9]\n",
    "]\n",
    "total_sum = nested_loop_example(matrix)\n",
    "print(\"Total sum of matrix elements:\", total_sum)\n",
    "\n",
    "# Explanation:\n",
    "# Initialization: Get the number of rows and columns.\n",
    "# Traversal: Use nested loops to iterate through each element of the matrix.\n",
    "# Accumulation: Sum all elements of the matrix.\n",
    "# Return: Return the total sum.\n",
    "# Time Complexity: O(m * n) where m is the number of rows and n is the number of columns. Space Complexity: O(1) as no additional space is used other than variables."
   ]
  },
  {
   "cell_type": "code",
   "execution_count": 9,
   "id": "d988b9ba-ae13-48dc-a5be-ab48d6472d09",
   "metadata": {},
   "outputs": [
    {
     "name": "stdout",
     "output_type": "stream",
     "text": [
      "Sum of array elements: 15\n"
     ]
    }
   ],
   "source": [
    "# Problem 3 :\n",
    "# def example_function(arr):\n",
    "# result = 0\n",
    "# for element in arr:\n",
    "# result += element\n",
    "# return result\n",
    "\n",
    "def example_function(arr):\n",
    "    result = 0\n",
    "    for element in arr:\n",
    "        result += element\n",
    "    return result\n",
    "# Example usage of example_function\n",
    "arr = [1, 2, 3, 4, 5]\n",
    "total_sum = example_function(arr)\n",
    "print(\"Sum of array elements:\", total_sum)\n",
    "\n",
    "\n",
    "# Explanation:\n",
    "# Initialization: Start with a result variable set to 0.\n",
    "# Traversal: Iterate through each element of the array.\n",
    "# Accumulation: Add each element to the result.\n",
    "# Return: Return the final sum.\n",
    "# # Time Complexity: O(n) where n is the number of elements in the array. Space Complexity: O(1) as only a constant amount of extra space is used."
   ]
  },
  {
   "cell_type": "code",
   "execution_count": 10,
   "id": "8f5da009-8aab-4561-8968-3c8e86166789",
   "metadata": {},
   "outputs": [
    {
     "name": "stdout",
     "output_type": "stream",
     "text": [
      "Length of longest increasing subsequence: 6\n"
     ]
    }
   ],
   "source": [
    "# Problem 4 :\n",
    "# def longest_increasing_subsequence(nums):\n",
    "# n = len(nums)\n",
    "# lis = [1] * n\n",
    "# for i in range(1, n):\n",
    "# for j in range(0, i):\n",
    "# if nums[i] > nums[j] and lis[i] < lis[j] + 1:\n",
    "# lis[i] = lis[j] + 1\n",
    "# return max(lis)\n",
    "\n",
    "def longest_increasing_subsequence(nums):\n",
    "    n = len(nums)\n",
    "    lis = [1] * n\n",
    "    for i in range(1, n):\n",
    "        for j in range(0, i):\n",
    "            if nums[i] > nums[j] and lis[i] < lis[j] + 1:\n",
    "                lis[i] = lis[j] + 1\n",
    "    return max(lis)\n",
    "\n",
    "# Example usage of longest_increasing_subsequence\n",
    "nums = [10, 22, 9, 33, 21, 50, 41, 60, 80]\n",
    "length_of_lis = longest_increasing_subsequence(nums)\n",
    "print(\"Length of longest increasing subsequence:\", length_of_lis)\n",
    "\n",
    "# Explanation:\n",
    "# Initialization: Create an array lis where lis[i] represents the length of the LIS ending at index i.\n",
    "# Nested Loops: Compare each pair of elements to determine if they can form an increasing subsequence.\n",
    "# Update: Update the lis value if a longer subsequence is found.\n",
    "# Return: Return the length of the longest subsequence found.\n",
    "# Time Complexity: O(n^2) due to the nested loops. Space Complexity: O(n) for storing the lis array."
   ]
  },
  {
   "cell_type": "code",
   "execution_count": null,
   "id": "772a1c23-58c1-4061-b4b5-8fafeac39cf0",
   "metadata": {},
   "outputs": [],
   "source": [
    "# Problem 5 :\n",
    "# def mysterious_function(arr):\n",
    "# n = len(arr)\n",
    "# result = 0\n",
    "# for i in range(n):\n",
    "# for j in range(i, n):\n",
    "# result += arr[i] * arr[j]\n",
    "# return result\n",
    "\n",
    "def mysterious_function(arr):\n",
    "    n = len(arr)\n",
    "    result = 0\n",
    "    for i in range(n):\n",
    "        for j in range(i, n):\n",
    "            result += arr[i] * arr[j]\n",
    "    return result\n",
    "\n",
    "# Example usage\n",
    "arr = [1, 2, 3]\n",
    "result = mysterious_function(arr)\n",
    "print(\"Result of mysterious_function:\", result)\n",
    "\n",
    "\n",
    "# Explanation of the Example\n",
    "# For the input array [1, 2, 3], the function performs the following calculations:\n",
    "\n",
    "# i = 0:\n",
    "\n",
    "# j = 0: result += 1 * 1 → result = 1\n",
    "# j = 1: result += 1 * 2 → result = 3\n",
    "# j = 2: result += 1 * 3 → result = 6\n",
    "# i = 1:\n",
    "\n",
    "# j = 1: result += 2 * 2 → result = 10\n",
    "# j = 2: result += 2 * 3 → result = 16\n",
    "# i = 2:\n",
    "\n",
    "# j = 2: result += 3 * 3 → result = 25\n",
    "# So, the final result for the array [1, 2, 3] is 25."
   ]
  },
  {
   "cell_type": "code",
   "execution_count": null,
   "id": "7a407ce3-a03d-4c39-8fa5-ce419811f644",
   "metadata": {},
   "outputs": [],
   "source": [
    "# Solve the following problems on recursion"
   ]
  },
  {
   "cell_type": "code",
   "execution_count": 11,
   "id": "bc5a6c87-97e2-4ebf-90f1-3f45e999f9ce",
   "metadata": {},
   "outputs": [
    {
     "name": "stdout",
     "output_type": "stream",
     "text": [
      "Sum of digits: 6\n"
     ]
    }
   ],
   "source": [
    "# Problem 6 : Sum of Digits\n",
    "# Write a recursive function to calculate the sum of digits of a given positive integer.\n",
    "# sum_of_digits(123) -> 6\n",
    "\n",
    "def sum_of_digits(n):\n",
    "    # Base case: if n is a single digit, return n itself\n",
    "    if n == 0:\n",
    "        return 0\n",
    "    else:\n",
    "        # Recursive case: return the last digit + sum of digits of the rest\n",
    "        return n % 10 + sum_of_digits(n // 10)\n",
    "\n",
    "# Example usage\n",
    "print(\"Sum of digits:\", sum_of_digits(123)) \n"
   ]
  },
  {
   "cell_type": "code",
   "execution_count": 12,
   "id": "41f934b7-735c-453d-aa49-cb8f0334637b",
   "metadata": {},
   "outputs": [
    {
     "name": "stdout",
     "output_type": "stream",
     "text": [
      "Fibonacci series: [0, 1, 1, 2, 3, 5]\n"
     ]
    }
   ],
   "source": [
    "# Problem 7: Fibonacci Series\n",
    "# Write a recursive function to generate the first n numbers of the Fibonacci series.\n",
    "# fibonacci_series(6) -> [0, 1, 1, 2, 3, 5]\n",
    "\n",
    "def fibonacci_series(n):\n",
    "    def fibonacci(n):\n",
    "        # Base cases\n",
    "        if n <= 1:\n",
    "            return n\n",
    "        else:\n",
    "            # Recursive case\n",
    "            return fibonacci(n - 1) + fibonacci(n - 2)\n",
    "    \n",
    "    return [fibonacci(i) for i in range(n)]\n",
    "\n",
    "# Example usage\n",
    "print(\"Fibonacci series:\", fibonacci_series(6))  \n"
   ]
  },
  {
   "cell_type": "code",
   "execution_count": 13,
   "id": "6e526fc8-ab99-45f7-b498-398d255446a6",
   "metadata": {},
   "outputs": [
    {
     "name": "stdout",
     "output_type": "stream",
     "text": [
      "Subset sum exists: True\n"
     ]
    }
   ],
   "source": [
    "# Problem 8 : Subset Sum\n",
    "# Given a set of positive integers and a target sum, write a recursive function to determine if there exists a subset\n",
    "# of the integers that adds up to the target sum.\n",
    "# subset_sum([3, 34, 4, 12, 5, 2], 9) -> True\n",
    "\n",
    "def subset_sum(arr, target):\n",
    "    # Base case: target is 0, subset sum found\n",
    "    if target == 0:\n",
    "        return True\n",
    "    # Base case: no elements left and target is not zero\n",
    "    if len(arr) == 0:\n",
    "        return False\n",
    "    # Recursive case: check if subset sum can be found including or excluding the last element\n",
    "    return subset_sum(arr[:-1], target) or subset_sum(arr[:-1], target - arr[-1])\n",
    "\n",
    "# Example usage\n",
    "print(\"Subset sum exists:\", subset_sum([3, 34, 4, 12, 5, 2], 9)) \n"
   ]
  },
  {
   "cell_type": "code",
   "execution_count": null,
   "id": "2e6aea05-f9e9-4c0f-86fe-128a8e88e045",
   "metadata": {},
   "outputs": [],
   "source": [
    "# Problem 9: Word Break\n",
    "# Given a non-empty string and a dictionary of words, write a recursive function to determine if the string can be\n",
    "# segmented into a space-separated sequence of dictionary words.\n",
    "# word_break( leetcode , [ leet , code ]) -> True\n",
    "\n",
    "def word_break(s, word_dict):\n",
    "    def can_break(start):\n",
    "        if start == len(s):\n",
    "            return True\n",
    "        for end in range(start + 1, len(s) + 1):\n",
    "            if s[start:end] in word_dict and can_break(end):\n",
    "                return True\n",
    "        return False\n",
    "    \n",
    "    return can_break(0)\n",
    "\n",
    "# Example usage\n",
    "print(\"Can word be broken:\", word_break(\"leetcode\", [\"leet\", \"code\"]))  \n"
   ]
  },
  {
   "cell_type": "code",
   "execution_count": 14,
   "id": "c3bd64fd-6542-44f9-884e-e5e6791f13b1",
   "metadata": {},
   "outputs": [
    {
     "name": "stdout",
     "output_type": "stream",
     "text": [
      "N Queens solution: [['..Q.', 'Q...', '...Q', '.Q..'], ['.Q..', '...Q', 'Q...', '..Q.']]\n"
     ]
    }
   ],
   "source": [
    "# Problem 10 : N-Queens\n",
    "# Implement a recursive function to solve the N Queens problem, where you have to place N queens on an N×N\n",
    "# chessboard in such a way that no two queens threaten each other.\n",
    "# n_queens(4)\n",
    "# [\n",
    "# [\".Q..\",\n",
    "# \"...Q\",\n",
    "# \"Q...\",\n",
    "# \"..Q.\"],\n",
    "# [\"..Q.\",\n",
    "# \"Q...\",\n",
    "# \"...Q\",\n",
    "# \".Q..\"]\n",
    "# ]\n",
    "\n",
    "def n_queens(n):\n",
    "    def is_safe(board, row, col):\n",
    "        # Check this row on left side\n",
    "        for i in range(col):\n",
    "            if board[row][i] == 'Q':\n",
    "                return False\n",
    "        \n",
    "        # Check upper diagonal on left side\n",
    "        for i, j in zip(range(row, -1, -1), range(col, -1, -1)):\n",
    "            if board[i][j] == 'Q':\n",
    "                return False\n",
    "        \n",
    "        # Check lower diagonal on left side\n",
    "        for i, j in zip(range(row, n, 1), range(col, -1, -1)):\n",
    "            if board[i][j] == 'Q':\n",
    "                return False\n",
    "        \n",
    "        return True\n",
    "    \n",
    "    def solve(board, col):\n",
    "        if col >= n:\n",
    "            result.append([''.join(row) for row in board])\n",
    "            return\n",
    "        \n",
    "        for i in range(n):\n",
    "            if is_safe(board, i, col):\n",
    "                board[i][col] = 'Q'\n",
    "                solve(board, col + 1)\n",
    "                board[i][col] = '.'  # backtrack\n",
    "    \n",
    "    result = []\n",
    "    board = [['.' for _ in range(n)] for _ in range(n)]\n",
    "    solve(board, 0)\n",
    "    return result\n",
    "\n",
    "# Example usage\n",
    "print(\"N Queens solution:\", n_queens(4))\n",
    "\n"
   ]
  },
  {
   "cell_type": "code",
   "execution_count": null,
   "id": "c031ae14-19ab-46f0-a7b5-c4846a4e0c1d",
   "metadata": {},
   "outputs": [],
   "source": []
  }
 ],
 "metadata": {
  "kernelspec": {
   "display_name": "Python 3 (ipykernel)",
   "language": "python",
   "name": "python3"
  },
  "language_info": {
   "codemirror_mode": {
    "name": "ipython",
    "version": 3
   },
   "file_extension": ".py",
   "mimetype": "text/x-python",
   "name": "python",
   "nbconvert_exporter": "python",
   "pygments_lexer": "ipython3",
   "version": "3.10.8"
  }
 },
 "nbformat": 4,
 "nbformat_minor": 5
}
