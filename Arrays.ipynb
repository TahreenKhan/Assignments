{
 "cells": [
  {
   "cell_type": "code",
   "execution_count": null,
   "id": "eeaf3290-502f-4960-a41a-591950a40413",
   "metadata": {},
   "outputs": [],
   "source": [
    "# Arrays"
   ]
  },
  {
   "cell_type": "code",
   "execution_count": 1,
   "id": "9b8e3ea0-d763-435c-8a57-ec9b48fb0201",
   "metadata": {},
   "outputs": [
    {
     "name": "stdout",
     "output_type": "stream",
     "text": [
      "True\n"
     ]
    }
   ],
   "source": [
    "# 1. Given an array, check if it contains any duplicates or not.\n",
    "# arr = [1, 2, 4, 2, 5, 9]\n",
    "# Output = True\n",
    "\n",
    "def contains_duplicates(arr):\n",
    "    return len(arr) != len(set(arr))\n",
    "\n",
    "# Call the function\n",
    "arr = [1, 2, 4, 2, 5, 9]\n",
    "output = contains_duplicates(arr)\n",
    "print(output)  \n",
    "\n",
    "\n",
    "# Explanation:\n",
    "# The function contains_duplicates works by converting the list to a set using set(arr). Sets automatically remove duplicates, so if the length of the set is different from the length of the original list, it means there were duplicates.\n",
    "# In this case, since 2 appears twice, the function returns True."
   ]
  },
  {
   "cell_type": "code",
   "execution_count": 2,
   "id": "2c79bcd7-0e78-4d2b-a83e-8138ed49354a",
   "metadata": {},
   "outputs": [
    {
     "name": "stdout",
     "output_type": "stream",
     "text": [
      "[5, 6, 7, 1, 2, 3, 4]\n"
     ]
    }
   ],
   "source": [
    "# 2. Given an array and an integer k, rotate the array to the right by k steps.\n",
    "# arr = [1, 2, 3, 4, 5, 6, 7] k = 3\n",
    "# Output = [5, 6, 7, 1, 2, 3, 4]\n",
    "\n",
    "def rotate_array(arr, k):\n",
    "    k = k % len(arr)  # In case k is greater than the length of the array\n",
    "    return arr[-k:] + arr[:-k]\n",
    "\n",
    "# Call the function\n",
    "arr = [1, 2, 3, 4, 5, 6, 7]\n",
    "k = 3\n",
    "output = rotate_array(arr, k)\n",
    "print(output)  \n",
    "\n",
    "\n",
    "# Explanation:\n",
    "# The function rotate_array first calculates k % len(arr) to handle cases where k is larger than the length of the array.\n",
    "# Then it slices the array into two parts: the last k elements (arr[-k:]) and the rest (arr[:-k]), and concatenates them.\n",
    "# This operation effectively rotates the array as required."
   ]
  },
  {
   "cell_type": "code",
   "execution_count": 3,
   "id": "210850e5-6c37-4575-8a7e-34fabfbae62a",
   "metadata": {},
   "outputs": [
    {
     "name": "stdout",
     "output_type": "stream",
     "text": [
      "[12, 9, 7, 5, 4, 2]\n"
     ]
    }
   ],
   "source": [
    "# 3. Reverse the given array in-place, means without using any extra data structure.\n",
    "# arr = [2, 4, 5, 7, 9, 12]\n",
    "# Output = [12, 9, 7, 5, 4, 2]\n",
    "\n",
    "def reverse_array(arr):\n",
    "    left, right = 0, len(arr) - 1\n",
    "    while left < right:\n",
    "        arr[left], arr[right] = arr[right], arr[left]\n",
    "        left += 1\n",
    "        right -= 1\n",
    "\n",
    "# Call the function\n",
    "arr = [2, 4, 5, 7, 9, 12]\n",
    "reverse_array(arr)\n",
    "print(arr)  \n",
    "\n",
    "# Explanation:\n",
    "# The function reverse_array uses two pointers (left and right) that start from the beginning and the end of the array, respectively.\n",
    "# It swaps elements at these pointers and then moves them towards the center until the entire array is reversed.\n",
    "# This approach does not use any additional data structure, ensuring an in-place reversal."
   ]
  },
  {
   "cell_type": "code",
   "execution_count": 4,
   "id": "554b0a39-acf2-41f6-85f9-d850e4a5fef4",
   "metadata": {},
   "outputs": [
    {
     "name": "stdout",
     "output_type": "stream",
     "text": [
      "20\n"
     ]
    }
   ],
   "source": [
    "# 4. Given an array of integers, find the maximum element in an array\n",
    "# arr = [10, 5, 20, 8, 15]\n",
    "# Output = 20\n",
    "\n",
    "def find_maximum(arr):\n",
    "    max_value = arr[0]\n",
    "    for num in arr:\n",
    "        if num > max_value:\n",
    "            max_value = num\n",
    "    return max_value\n",
    "\n",
    "# Call the function\n",
    "arr = [10, 5, 20, 8, 15]\n",
    "output = find_maximum(arr)\n",
    "print(output) \n",
    "\n",
    "\n",
    "# Explanation:\n",
    "# The function find_maximum initializes max_value with the first element of the array.\n",
    "# It then iterates through the array, updating max_value whenever a larger element is found.\n",
    "# By the end of the loop, max_value holds the largest element in the array, which is returned as the output."
   ]
  },
  {
   "cell_type": "code",
   "execution_count": 5,
   "id": "04170867-c3e5-4305-bee7-c3555f9d38bf",
   "metadata": {},
   "outputs": [
    {
     "name": "stdout",
     "output_type": "stream",
     "text": [
      "[1, 2, 3, 4, 5]\n"
     ]
    }
   ],
   "source": [
    "# 5. Given a sorted array, remove the duplicate element without using any extra data structure.\n",
    "# arr = [1, 1, 2, 2, 2, 3, 3, 4, 4, 4, 5, 5]\n",
    "# Output = [1, 2, 3, 4, 5]\n",
    "\n",
    "def remove_duplicates(arr):\n",
    "    if not arr:\n",
    "        return []\n",
    "    \n",
    "    unique_index = 0\n",
    "    for i in range(1, len(arr)):\n",
    "        if arr[i] != arr[unique_index]:\n",
    "            unique_index += 1\n",
    "            arr[unique_index] = arr[i]\n",
    "    \n",
    "    return arr[:unique_index + 1]\n",
    "\n",
    "# Call the function\n",
    "arr = [1, 1, 2, 2, 2, 3, 3, 4, 4, 4, 5, 5]\n",
    "output = remove_duplicates(arr)\n",
    "print(output)  \n",
    "\n",
    "\n",
    "# Explanation:\n",
    "# The function remove_duplicates uses two pointers: unique_index to track the position of the last unique element and i to traverse the array.\n",
    "# When a new unique element is found, it is moved to the position after the last unique element.\n",
    "# Finally, the function returns the portion of the array up to unique_index + 1, which contains only the unique elements.\n",
    "# This method works in-place, requiring no extra space."
   ]
  },
  {
   "cell_type": "code",
   "execution_count": null,
   "id": "ce547150-fb51-48a9-91be-71f8f7e1a89e",
   "metadata": {},
   "outputs": [],
   "source": []
  }
 ],
 "metadata": {
  "kernelspec": {
   "display_name": "Python 3 (ipykernel)",
   "language": "python",
   "name": "python3"
  },
  "language_info": {
   "codemirror_mode": {
    "name": "ipython",
    "version": 3
   },
   "file_extension": ".py",
   "mimetype": "text/x-python",
   "name": "python",
   "nbconvert_exporter": "python",
   "pygments_lexer": "ipython3",
   "version": "3.10.8"
  }
 },
 "nbformat": 4,
 "nbformat_minor": 5
}
