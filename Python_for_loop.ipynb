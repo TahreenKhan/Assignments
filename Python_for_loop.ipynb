{
 "cells": [
  {
   "cell_type": "code",
   "execution_count": 31,
   "id": "cea6ff8b-0288-4b57-b133-dfde507658e8",
   "metadata": {},
   "outputs": [
    {
     "data": {
      "application/javascript": [
       "IPython.notebook.set_autosave_interval(120000)"
      ]
     },
     "metadata": {},
     "output_type": "display_data"
    },
    {
     "name": "stdout",
     "output_type": "stream",
     "text": [
      "Autosaving every 120 seconds\n"
     ]
    }
   ],
   "source": [
    "%autosave 120"
   ]
  },
  {
   "cell_type": "code",
   "execution_count": null,
   "id": "09a9f8d8-cf73-4d8b-86b1-2061c0e090ea",
   "metadata": {},
   "outputs": [],
   "source": [
    "# Assignment Questions"
   ]
  },
  {
   "cell_type": "code",
   "execution_count": null,
   "id": "cc3ce6b6-07cc-4a7c-8298-0e36519b903b",
   "metadata": {},
   "outputs": [],
   "source": [
    "# Basic Level:"
   ]
  },
  {
   "cell_type": "code",
   "execution_count": 3,
   "id": "b6dbf828-9e07-48fa-9d65-9af1f4d6fc65",
   "metadata": {},
   "outputs": [
    {
     "name": "stdout",
     "output_type": "stream",
     "text": [
      "1\n",
      "2\n",
      "3\n",
      "4\n",
      "5\n",
      "6\n",
      "7\n",
      "8\n",
      "9\n",
      "10\n"
     ]
    }
   ],
   "source": [
    "# 1. Write a Python program to print the numbers from 1 to 10 using a `for` loop.\n",
    "\n",
    "for i in range(1,11):\n",
    "    print(i)\n",
    "    \n",
    "# here forloop is used to print number from 1 to 10 "
   ]
  },
  {
   "cell_type": "code",
   "execution_count": 8,
   "id": "eabc53dc-b418-4c19-a96f-8bd279a01f16",
   "metadata": {},
   "outputs": [],
   "source": [
    "# 2. Create a program that calculates the sum of all numbers in a list using a `for` loop.\n",
    "\n",
    "def sum_all(l):\n",
    "    try:\n",
    "        if not isinstance(l,list):\n",
    "            raise TypeError(\"Input must be a list\")\n",
    "        sum_it = 0\n",
    "        for i in l:\n",
    "            sum_it += i\n",
    "        return sum_it\n",
    "    except TypeError as e:\n",
    "        print(e)\n",
    "\n",
    "#If statement is used where the function isinstance is used to limit the user input to list other wise the code raises type error.\n",
    "#The variable sum_it is initialized to zero , this stores the sum of all the numbers in list.\n",
    "# for loop is used to call every element and sum it up to the sum_it variable."
   ]
  },
  {
   "cell_type": "code",
   "execution_count": 9,
   "id": "e4542a00-7176-441e-8c9f-894e24c75099",
   "metadata": {},
   "outputs": [
    {
     "data": {
      "text/plain": [
       "11"
      ]
     },
     "execution_count": 9,
     "metadata": {},
     "output_type": "execute_result"
    }
   ],
   "source": [
    "sum_all([1,2,3,5])\n"
   ]
  },
  {
   "cell_type": "code",
   "execution_count": 10,
   "id": "d315abae-f963-4432-a8af-339a3e893d3a",
   "metadata": {},
   "outputs": [
    {
     "name": "stdout",
     "output_type": "stream",
     "text": [
      "Input must be a list\n"
     ]
    }
   ],
   "source": [
    "sum_all((1,2,3))\n",
    "# isinstance function is limiting the input to list only as here input is tuble thus gives error "
   ]
  },
  {
   "cell_type": "code",
   "execution_count": null,
   "id": "4d7bd9bf-0b69-4c7b-b6fd-fa7f4a4a8fac",
   "metadata": {},
   "outputs": [],
   "source": []
  },
  {
   "cell_type": "code",
   "execution_count": 41,
   "id": "0574bebf-1bc9-4c94-8f85-1a46bfd3e80c",
   "metadata": {},
   "outputs": [],
   "source": [
    "# 3. Write a program to print the characters of a string in reverse order using a `for` loop\n",
    "def reverse_string(s):\n",
    "    if not isinstance(s, str):\n",
    "        raise TypeError(\"Input should be string.\")\n",
    "    reverse_string = \"\"    \n",
    "    for i in range(len(s)-1,-1,-1):\n",
    "        reverse_string+= s[i]\n",
    "    return reverse_string\n",
    "\n",
    "# the function string(s) accepts one argument \n",
    "# if statement uses isinstance function to limit the user input to string.\n",
    "# variable reverse_string is initialized which is empty, but later accepts elements and return them in reverse order\n",
    "# for loop call every element in reverse order for that range and indexing method is used where iteration starts from total length of string-1,-1(this denotes the last charater),-1(ensures that loop run in reverse order)"
   ]
  },
  {
   "cell_type": "code",
   "execution_count": 42,
   "id": "7d4f7766-fe02-4f4b-8374-23645f4e0666",
   "metadata": {},
   "outputs": [
    {
     "data": {
      "text/plain": [
       "'dlrow olleH'"
      ]
     },
     "execution_count": 42,
     "metadata": {},
     "output_type": "execute_result"
    }
   ],
   "source": [
    "reverse_string(\"Hello world\")"
   ]
  },
  {
   "cell_type": "code",
   "execution_count": 2,
   "id": "461b972e-1379-4892-ab13-f9db4196b9a8",
   "metadata": {},
   "outputs": [],
   "source": [
    "# 4. Develop a program that finds the factorial of a given number using a `for` loop.\n",
    "\n",
    "def factorial(n):\n",
    "    if n<0:\n",
    "        return f\"factorial is not defined for negative numbers.\"\n",
    "    elif n==0:\n",
    "        return 1\n",
    "    else:\n",
    "        fact = 1\n",
    "        for i in range(1,n+1):\n",
    "            fact *= i\n",
    "    return fact\n",
    "\n",
    "# factorial is non-negative integer'n' denoted by n!, is the product of all the positive integers less than or equal to n, with special case that 0! = 1.\n",
    "# first if statement dismisses the negative integers and elif n==0 return 1, as 0!= 1. and else statement initalizes variable 'fact'= 1 for perfect iteration in for loop.\n",
    "# for loop uses range method to iterate through the elements of n and multiplying all the preceding numbers of 'n'starting from first element(1) to last element(n+1)\n",
    "# the forloop interates over every element and multiples every iteration with the previous ones add a"
   ]
  },
  {
   "cell_type": "code",
   "execution_count": 3,
   "id": "db17cc45-0a4c-4cb4-8bb9-c8b2b86888ec",
   "metadata": {},
   "outputs": [
    {
     "data": {
      "text/plain": [
       "120"
      ]
     },
     "execution_count": 3,
     "metadata": {},
     "output_type": "execute_result"
    }
   ],
   "source": [
    "factorial(5)\n"
   ]
  },
  {
   "cell_type": "code",
   "execution_count": 4,
   "id": "55a445b5-c8ad-420c-8308-f50b34f85d4d",
   "metadata": {},
   "outputs": [
    {
     "data": {
      "text/plain": [
       "3628800"
      ]
     },
     "execution_count": 4,
     "metadata": {},
     "output_type": "execute_result"
    }
   ],
   "source": [
    "factorial(10)\n"
   ]
  },
  {
   "cell_type": "code",
   "execution_count": 5,
   "id": "a1cd3dce-ed63-4916-ba24-e4301f54a888",
   "metadata": {},
   "outputs": [],
   "source": [
    "# 5. Create a program to print the multiplication table of a given number using a `for` loop\n",
    "\n",
    "def multiplication_table(x):\n",
    "    for i in range(1,11):\n",
    "        print(f\"{x} * {i} = {x*i}\")\n",
    "        \n",
    "# the function 'multiplication_table' accepts single argument 'x'(denotes what number table) and returns the whole table of input integer from 1-10    "
   ]
  },
  {
   "cell_type": "code",
   "execution_count": 6,
   "id": "990d6dc3-c1db-48cf-816c-7b47eef135f8",
   "metadata": {},
   "outputs": [
    {
     "name": "stdout",
     "output_type": "stream",
     "text": [
      "2 * 1 = 2\n",
      "2 * 2 = 4\n",
      "2 * 3 = 6\n",
      "2 * 4 = 8\n",
      "2 * 5 = 10\n",
      "2 * 6 = 12\n",
      "2 * 7 = 14\n",
      "2 * 8 = 16\n",
      "2 * 9 = 18\n",
      "2 * 10 = 20\n"
     ]
    }
   ],
   "source": [
    "multiplication_table(2)"
   ]
  },
  {
   "cell_type": "code",
   "execution_count": 13,
   "id": "8ffb7970-4fa9-426d-908b-35a16012b5c6",
   "metadata": {},
   "outputs": [],
   "source": [
    "# 6. Write a program that counts the number of even and odd numbers in a list using a `for` loop.\n",
    "\n",
    "def count_even_odd(x):\n",
    "    \n",
    "    if not isinstance(x,list):\n",
    "        raise TypeError(\"Input should be list.\")\n",
    "        \n",
    "    count_even = 0\n",
    "    count_odd = 0\n",
    "    for i in (x):\n",
    "        if i%2==0:\n",
    "            count_even += 1\n",
    "        else:\n",
    "            count_odd += 1\n",
    "    return f\"Input list contains {count_even} even numbers and {count_odd} odd numbers.\"\n",
    "        \n",
    "    \n",
    "# code defines function\"count_even_odd\" which accepts single argument 'x' limited to 'list' of elements and returns the count of total count of odd and even elements in the list.\n",
    "# code initializes variables 'count_even' and 'count_odd' with integer value '0'. \n",
    "# for loop iterate over every element of 'x' and finds whether it's even(i%2==0) or odd using 'if-else statement'"
   ]
  },
  {
   "cell_type": "code",
   "execution_count": 15,
   "id": "141feb5c-f058-49c6-b482-d581d94552a3",
   "metadata": {},
   "outputs": [
    {
     "data": {
      "text/plain": [
       "'Input list contains 5 even numbers and 6 odd numbers.'"
      ]
     },
     "execution_count": 15,
     "metadata": {},
     "output_type": "execute_result"
    }
   ],
   "source": [
    "count_even_odd([1,2,3,4,5,6,7,8,9,10,11])"
   ]
  },
  {
   "cell_type": "code",
   "execution_count": 18,
   "id": "85e1e1c5-f160-4605-b26e-c0cc7d46ef79",
   "metadata": {},
   "outputs": [
    {
     "name": "stdout",
     "output_type": "stream",
     "text": [
      "The square of 1 is: 1\n",
      "The square of 2 is: 4\n",
      "The square of 3 is: 9\n",
      "The square of 4 is: 16\n",
      "The square of 5 is: 25\n"
     ]
    }
   ],
   "source": [
    "# 7. Develop a program that prints the squares of numbers from 1 to 5 using a `for` loop.\n",
    "\n",
    "for i in range(1,6):\n",
    "    square = i**2\n",
    "    print(f\"The square of {i} is: {square}\")\n",
    "        \n",
    "#  the programs uses forloop for iteration in index range 1-6 and every iteration is squared up using i**2 , and the final statement with squared up values is printed"
   ]
  },
  {
   "cell_type": "code",
   "execution_count": 23,
   "id": "b2caaed1-bf27-4d37-966d-86c66d46ce24",
   "metadata": {},
   "outputs": [],
   "source": [
    "# 8. Create a program to find the length of a string without using the `len()` function.\n",
    "\n",
    "def length_of_string(x):\n",
    "    if not isinstance(x,str):\n",
    "        raise TypeError(\"Input should be a string\")\n",
    "    length = 0\n",
    "    for i in x:\n",
    "        length += 1\n",
    "    return length\n",
    "        \n",
    "#   the function 'length of string' accepts single argument limited to string(using isinstance func.) and returns the length of string with the help of forloop.\n",
    "# code initializest the variable 'length =0' and forloop iterates over every elememts of string, thereby add +1 value to the 'length' \n",
    "# so here no. of iteration is equal to length of string.\n",
    "        "
   ]
  },
  {
   "cell_type": "code",
   "execution_count": 24,
   "id": "471d8a6e-c734-4f96-a4a6-ed39834f49fd",
   "metadata": {},
   "outputs": [
    {
     "data": {
      "text/plain": [
       "26"
      ]
     },
     "execution_count": 24,
     "metadata": {},
     "output_type": "execute_result"
    }
   ],
   "source": [
    "length_of_string(\"Hello, My name is Tahreen.\")"
   ]
  },
  {
   "cell_type": "code",
   "execution_count": 26,
   "id": "ced85d9c-cbaa-4a08-bf39-6f2959e920b9",
   "metadata": {},
   "outputs": [],
   "source": [
    "# 9. Write a program that calculates the average of a list of numbers using a `for` loop.\n",
    "\n",
    "def average_no(x):\n",
    "    if not isinstance(x,list):\n",
    "        raise TypeError(\"Input should be a list\")\n",
    "    \n",
    "    total_sum = 0\n",
    "    total_terms = 0\n",
    "    for i in x:\n",
    "        total_sum += i\n",
    "        total_terms += 1\n",
    "    \n",
    "    return total_sum/total_terms\n",
    "        \n",
    "# function 'average_no' is defined which accepts single argument limited to list using isinstance function and returns average no. of list, using it's element.\n",
    "# code starts a variable having '0' value and starts a forloop, which iterates over each elements of x \n",
    "# in forloop after iterating adds the sum of all elements in 'total_sum' and no.of terms are added in 'total_terms'\n",
    "# using the formula of avg no. = total sum of elements / total no. of terms , the function average_no. return the average number of list of elements.\n",
    "    "
   ]
  },
  {
   "cell_type": "code",
   "execution_count": 28,
   "id": "2d441e01-ede8-4232-ac28-de4d2a22ae64",
   "metadata": {},
   "outputs": [
    {
     "data": {
      "text/plain": [
       "5.5"
      ]
     },
     "execution_count": 28,
     "metadata": {},
     "output_type": "execute_result"
    }
   ],
   "source": [
    "average_no([1,2,3,4,5,6,7,8,9,10])"
   ]
  },
  {
   "cell_type": "code",
   "execution_count": 6,
   "id": "1bd64721-d9b9-44b7-a62e-71cbc5d300cf",
   "metadata": {},
   "outputs": [],
   "source": [
    "# 10. Develop a program that prints the first `n` Fibonacci numbers using a `for` loop.\n",
    "\n",
    "def fibonacci_num(x):\n",
    "    if not isinstance(x,int) or x<1:\n",
    "        raise ValueError(\"Input should be a positive integer greater than 0\")\n",
    "        \n",
    "    fibonacci = [0,1]\n",
    "    for i in range(2,x):\n",
    "        next_fib = fibonacci[i-1]+fibonacci[i-2]\n",
    "        fibonacci.append(next_fib)\n",
    "        \n",
    "    return fibonacci[:x]\n",
    "\n",
    "\n",
    "# code defines a function \"fobonacci_num\" and accept single argument(no. of fibonacci number required as by user input).\n",
    "# isinstance function using if not statement is used to ensure input is integer and positive otherwise raises value error.\n",
    "# variable fibonacci is defined having [0,1] , however these are first two fibonacci numbers and there starting point\n",
    "# for loop is used with range(2,x) , this iterates user input value from 2 to its last value.\n",
    "# variable next_fibonacci defines code for the next fibonacci numbers by adding the last two preceding numbers in a list.\n",
    "# function append is used to add all the receding number in fibonacci list \n",
    "# [:x]= specifies the range of element, ':' indicate the slicing of list and 'x'  specifies the end index upto which the element should be included\n",
    "# and thus return statement returns all inclusive values of fibonacci list"
   ]
  },
  {
   "cell_type": "code",
   "execution_count": 7,
   "id": "f796cfc4-1763-4203-b0bd-e4a0e5cdac83",
   "metadata": {},
   "outputs": [
    {
     "data": {
      "text/plain": [
       "[0, 1, 1, 2]"
      ]
     },
     "execution_count": 7,
     "metadata": {},
     "output_type": "execute_result"
    }
   ],
   "source": [
    "fibonacci_num(4)"
   ]
  },
  {
   "cell_type": "code",
   "execution_count": 8,
   "id": "5caa13d5-3544-477d-ad4d-2f6fe058c2e7",
   "metadata": {},
   "outputs": [
    {
     "data": {
      "text/plain": [
       "[0, 1, 1, 2, 3, 5, 8, 13, 21, 34]"
      ]
     },
     "execution_count": 8,
     "metadata": {},
     "output_type": "execute_result"
    }
   ],
   "source": [
    "fibonacci_num(10)"
   ]
  },
  {
   "cell_type": "code",
   "execution_count": null,
   "id": "7bfb879c-957e-4fbf-80c8-77a5aa7ef0c4",
   "metadata": {},
   "outputs": [],
   "source": [
    "# Intermediate level"
   ]
  },
  {
   "cell_type": "code",
   "execution_count": 15,
   "id": "d733c79e-b2d8-4835-a236-57aa28ca3751",
   "metadata": {},
   "outputs": [],
   "source": [
    "# 11. Write a program to check if a given list contains any duplicates using a `for` loop.\n",
    "\n",
    "def find_duplicates(x):\n",
    "    if not isinstance(x,list):\n",
    "        raise TypeError(\"Input shoudl be list only\")\n",
    "    \n",
    "    duplicate = []  \n",
    "    for i in range(len(x)):\n",
    "        for j in range(i+1,len(x)):\n",
    "            if x[i]==x[j]and x[i] not in duplicate:\n",
    "                duplicate.append(x[i]) \n",
    "    return duplicate\n",
    "            \n",
    "\n",
    "# Function 'find_duplicates' is defined, which finds the duplicates present in a list.\n",
    "# the isinstance function is used to limit the user input to list only or else it raises type error.\n",
    "# The variable named duplicate is initialized with empty list.\n",
    "# for loop is started which iterates in the range of lenth of 'x'.\n",
    "# inside itn another forloop is started in the range(i+1, len(x)) this 1oop iterates over the index of x\n",
    "# if statement inside the second forloop checks whether the element at index(j) equal to element present(i) , and whether the element is already present in variable duplicate.\n",
    "# if variable duplicate lacks that element , we append the element(satisfying the above condition) in teh variable duplicate(having list of duplicates)\n",
    "# And at last return fucntion returns the list of duplicates."
   ]
  },
  {
   "cell_type": "code",
   "execution_count": 16,
   "id": "94278530-883d-4025-a118-6977678f84f5",
   "metadata": {},
   "outputs": [
    {
     "data": {
      "text/plain": [
       "[3]"
      ]
     },
     "execution_count": 16,
     "metadata": {},
     "output_type": "execute_result"
    }
   ],
   "source": [
    "find_duplicates([1,2,3,3,4])"
   ]
  },
  {
   "cell_type": "code",
   "execution_count": 17,
   "id": "08bee1e1-5923-4a5d-a03a-01a8b472b82d",
   "metadata": {},
   "outputs": [
    {
     "data": {
      "text/plain": [
       "['saad']"
      ]
     },
     "execution_count": 17,
     "metadata": {},
     "output_type": "execute_result"
    }
   ],
   "source": [
    "find_duplicates([\"saad\",1,2,4,'saad'])"
   ]
  },
  {
   "cell_type": "code",
   "execution_count": 19,
   "id": "826263fa-5b30-4aed-a6c7-48d8039a4945",
   "metadata": {},
   "outputs": [
    {
     "data": {
      "text/plain": [
       "['hug', 'pad']"
      ]
     },
     "execution_count": 19,
     "metadata": {},
     "output_type": "execute_result"
    }
   ],
   "source": [
    "find_duplicates(['hug', 'pad','hug','pad','pad',1,2,3.44])"
   ]
  },
  {
   "cell_type": "code",
   "execution_count": 6,
   "id": "fdaa29f8-b631-4c7b-855b-5f241611d017",
   "metadata": {},
   "outputs": [],
   "source": [
    "# 12. Create a program that prints the prime numbers in a given range using a `for` loop\n",
    "\n",
    "def is_prime(num):\n",
    "    if num<=1:\n",
    "        return False\n",
    "    for i in range(2,int(num**0.5)+1):\n",
    "        if num%i==0:\n",
    "            return False\n",
    "    return True\n",
    "   \n",
    "def print_prime_numbers(start, end):\n",
    "    prime_numbers = []\n",
    "    for i in range(start, end+1):\n",
    "        if is_prime(i):\n",
    "            prime_numbers.append(i)\n",
    "    return prime_numbers\n",
    "\n",
    "# the function \"is_prime\" accepts single argument\"num', and checks whether the number is prime or not.\n",
    "#      here if statement avoids any negative input, and for loop iterates over the range(from 2 to num**0.5+1) , this forloop range satisfy the prime number condition.\n",
    "#      if statement inside forloop checks the divisibility of number by itself, 2 or any other number. if yes is returns false, if no it returns true.\n",
    "# the another function \"Print_prime_numbers is defined\" with two arguments (start, end) , hence allowing the user to define there input range.\n",
    "#      the variable \"prime_number\" is defined with an empty list, and forloop is started which iterates over the input range.\n",
    "#      the function \"is_prime\" is used to define a condition of prime number and on satisfying so the iterated element is appended to the variable prime_number using \"append\" function.\n",
    "#      the return statement returns the list of prime numbers."
   ]
  },
  {
   "cell_type": "code",
   "execution_count": 12,
   "id": "8932f8eb-5870-42d9-9bd9-afc283cc49b7",
   "metadata": {},
   "outputs": [
    {
     "data": {
      "text/plain": [
       "[2, 3, 5, 7, 11, 13, 17, 19, 23, 29, 31, 37, 41, 43, 47]"
      ]
     },
     "execution_count": 12,
     "metadata": {},
     "output_type": "execute_result"
    }
   ],
   "source": [
    "print_prime_numbers(1,50)"
   ]
  },
  {
   "cell_type": "code",
   "execution_count": 2,
   "id": "e14d5f02-b143-4100-ad40-eb6e582fcd98",
   "metadata": {},
   "outputs": [],
   "source": [
    "# 13. Develop a program that counts the number of vowels in a string using a `for` loop.\n",
    "\n",
    "def count_vowels(x):\n",
    "    if not isinstance(x, str):\n",
    "        raise TypeError(\"Input should be string only\")\n",
    "        \n",
    "    vowels = \"AEIOUaeiou\"\n",
    "    count = 0\n",
    "    for i in x:\n",
    "        if i in vowels:\n",
    "            count+=1\n",
    "    return f\"Total number of vowel in string: {count}\"\n",
    "\n",
    "# the function \"count_vowel\" is defined which accepts single argument \"x' and return the total count of vowel present in a string.\n",
    "# the function \"isinstance\" limits the user input to string only.\n",
    "# the variable vowel is initialized with the small and capital vowels and the variable \"count\" is initialized with zero integer which counts the number of vowel in a string.\n",
    "# forloop iterates over the elements in string and if statement identifies vowels and adds the number of counts in variable \"count'\n",
    "# the return statement returns the total number of vowels present in string using f-string method.\n",
    "        "
   ]
  },
  {
   "cell_type": "code",
   "execution_count": 3,
   "id": "356eb9c3-c614-42e0-a04b-b0556355b7cf",
   "metadata": {},
   "outputs": [
    {
     "data": {
      "text/plain": [
       "'Total number of vowel in string: 3'"
      ]
     },
     "execution_count": 3,
     "metadata": {},
     "output_type": "execute_result"
    }
   ],
   "source": [
    "count_vowels(\"Hello world\")"
   ]
  },
  {
   "cell_type": "code",
   "execution_count": 4,
   "id": "cbb8cedd-4a8d-4b7d-ae36-13876df298f3",
   "metadata": {},
   "outputs": [
    {
     "data": {
      "text/plain": [
       "'Total number of vowel in string: 17'"
      ]
     },
     "execution_count": 4,
     "metadata": {},
     "output_type": "execute_result"
    }
   ],
   "source": [
    "count_vowels(\"This noon is raining, temperature is cool today.\")"
   ]
  },
  {
   "cell_type": "code",
   "execution_count": 2,
   "id": "d89bb983-5c2f-471a-a1e6-364b78a1e16f",
   "metadata": {},
   "outputs": [],
   "source": [
    " # 14. Write a program to find the maximum element in a 2D list using a nested `for` loop.\n",
    "\n",
    "def max_element_2d_list(x):\n",
    "    if not isinstance(x,list):\n",
    "        raise TypeError(\"Input should be 2d list only\")\n",
    "    \n",
    "    max_element = float('-inf')\n",
    "    for row in x:\n",
    "        for element in row:\n",
    "            if element>max_element: \n",
    "                max_element = element\n",
    "    return max_element\n",
    "\n",
    "# the function 'max_element_2d_list' accepts only 2d list as a single argument 'x' and finds out the maximum elemnet present in a 2d list\n",
    "# isinstance function ensures that input should be list only.\n",
    "# the variable max_element with float('-inf') ensures the variable has the least value\n",
    "# for-loop iterates through rows in the form of sublist and nested for-loop iterates through elements present sublists \n",
    "# with the help of if statment if the element is greater than the integer present in max_element , it replaces the lower value in it \n",
    "# finally the return function returns the max_element present in a 2d list."
   ]
  },
  {
   "cell_type": "code",
   "execution_count": 3,
   "id": "40b691ab-9dfb-4491-b69e-97d5cea24bf9",
   "metadata": {},
   "outputs": [
    {
     "data": {
      "text/plain": [
       "9"
      ]
     },
     "execution_count": 3,
     "metadata": {},
     "output_type": "execute_result"
    }
   ],
   "source": [
    "max_element_2d_list([[1,2,3],\n",
    "                     [4,5,6],\n",
    "                     [7,8,9]])"
   ]
  },
  {
   "cell_type": "code",
   "execution_count": 6,
   "id": "87f981af-190d-4912-af97-ab88c4a17cc6",
   "metadata": {},
   "outputs": [
    {
     "data": {
      "text/plain": [
       "45"
      ]
     },
     "execution_count": 6,
     "metadata": {},
     "output_type": "execute_result"
    }
   ],
   "source": [
    "max_element_2d_list([[6,5,7],[45,3,6]])"
   ]
  },
  {
   "cell_type": "code",
   "execution_count": 8,
   "id": "b214f84d-13af-4f32-b28c-2456d64ce1e5",
   "metadata": {},
   "outputs": [],
   "source": [
    "# 15. Create a program that removes all occurrences of a specific element from a list using a `for` loop.\n",
    "\n",
    "def remove_element_from_list(lst,element):\n",
    "    \n",
    "    if not isinstance(lst,list):\n",
    "        raise TypeError(\"First input should be list only.\")\n",
    "        \n",
    "    my_list = []\n",
    "    for i in lst:\n",
    "        if i!=element:\n",
    "            my_list.append(i)\n",
    "    return my_list\n",
    "\n",
    "# the function 'remove_element_from_list' is defined which accepts two argument ,first one limited to list and second could be any element.\n",
    "# the function 'isinstance' limits input to list only.\n",
    "# empty list and for-loop is initialized , where for-loop iterates through every element in input list and appends it to the empty list if it's not the input element\n",
    "# return function returns the input list eliminating the desired input element .\n"
   ]
  },
  {
   "cell_type": "code",
   "execution_count": 10,
   "id": "cf57fca4-9682-40c5-b4b1-5f9055fc4063",
   "metadata": {},
   "outputs": [
    {
     "data": {
      "text/plain": [
       "[2, 3, 6, 5, 6, 7]"
      ]
     },
     "execution_count": 10,
     "metadata": {},
     "output_type": "execute_result"
    }
   ],
   "source": [
    "remove_element_from_list([2,3,4,6,5,4,7,4,4],4)"
   ]
  },
  {
   "cell_type": "code",
   "execution_count": 3,
   "id": "5cae18ff-83e2-4e6b-8529-85a42b1a4745",
   "metadata": {},
   "outputs": [
    {
     "name": "stdout",
     "output_type": "stream",
     "text": [
      "1 * 1 = 1\n",
      "1 * 2 = 2\n",
      "1 * 3 = 3\n",
      "1 * 4 = 4\n",
      "1 * 5 = 5\n",
      "2 * 1 = 2\n",
      "2 * 2 = 4\n",
      "2 * 3 = 6\n",
      "2 * 4 = 8\n",
      "2 * 5 = 10\n",
      "3 * 1 = 3\n",
      "3 * 2 = 6\n",
      "3 * 3 = 9\n",
      "3 * 4 = 12\n",
      "3 * 5 = 15\n",
      "4 * 1 = 4\n",
      "4 * 2 = 8\n",
      "4 * 3 = 12\n",
      "4 * 4 = 16\n",
      "4 * 5 = 20\n",
      "5 * 1 = 5\n",
      "5 * 2 = 10\n",
      "5 * 3 = 15\n",
      "5 * 4 = 20\n",
      "5 * 5 = 25\n"
     ]
    }
   ],
   "source": [
    "# 16. Develop a program that generates a multiplication table for numbers from 1 to 5 using a nested `for` loop.\n",
    "\n",
    "for x in range(1,6):\n",
    "    for i in range(1,6):\n",
    "        print(f\"{x} * {i} = {x*i}\")\n",
    "        \n",
    "# for loop and nested forloop with range function is used for iteration of number from 1-5 and print statement provides the condition for multiplication table \n",
    "# and print statement prints table of each iterated number.\n"
   ]
  },
  {
   "cell_type": "code",
   "execution_count": 4,
   "id": "67bd496c-4c7c-425d-804c-0625e45b5707",
   "metadata": {},
   "outputs": [],
   "source": [
    "# 17. Write a program that converts a list of Fahrenheit temperatures to Celsius using a `for` loop.\n",
    "\n",
    "def fahrenheit_to_celcius(x):\n",
    "    celcius = 5/9*(x-32)\n",
    "    return celcius"
   ]
  },
  {
   "cell_type": "code",
   "execution_count": 5,
   "id": "408ddcaf-13fd-45a3-9d7d-675ee42faad0",
   "metadata": {},
   "outputs": [
    {
     "data": {
      "text/plain": [
       "82.22222222222223"
      ]
     },
     "execution_count": 5,
     "metadata": {},
     "output_type": "execute_result"
    }
   ],
   "source": [
    "fahrenheit_to_celcius(180)"
   ]
  },
  {
   "cell_type": "code",
   "execution_count": 21,
   "id": "049d3d6d-fc4d-434f-a59a-d06a35e63f9c",
   "metadata": {},
   "outputs": [],
   "source": [
    "# 18. Create a program to print the common elements from two lists using a `for` loop.\n",
    "\n",
    "def common_element(l1,l2):\n",
    "    if not isinstance(l1,list):\n",
    "        raise TypeError(\"Input should be list only.\")\n",
    "    if not isinstance(l2,list):\n",
    "        raise TypeError(\"Input should be list only.\")\n",
    "        \n",
    "    common = []\n",
    "    for i in l1:\n",
    "        for j in l2:\n",
    "            if i == j and i not in common:\n",
    "                common.append(i)\n",
    "    \n",
    "    if common:\n",
    "        return common\n",
    "    else:\n",
    "        return f\"Nothing common in the provided list.\"\n",
    "       \n",
    "# The function \"common_elements\" accepts 2 arguments limited to list using 'isinstance' function and return the common elements between two provided list.\n",
    "# variable 'common' with empty list is initialized and two for-loop is used for iteration of each list.\n",
    "# if-statment inside nested forloop find common elemend and appends it to the empty list of common and ensure no duplicate reach there.\n",
    "# another if-statement returns common if present and if not then it simply denies it's presence in the list and lets the user know about it."
   ]
  },
  {
   "cell_type": "code",
   "execution_count": 22,
   "id": "00de0ebb-3d78-44ca-a7ed-7ce94d5e17c0",
   "metadata": {},
   "outputs": [
    {
     "data": {
      "text/plain": [
       "'Nothing common in the provided list.'"
      ]
     },
     "execution_count": 22,
     "metadata": {},
     "output_type": "execute_result"
    }
   ],
   "source": [
    "common_element([2,3],[5,6])"
   ]
  },
  {
   "cell_type": "code",
   "execution_count": 23,
   "id": "68d01620-f646-4fd7-96a6-8e7cf4db095c",
   "metadata": {},
   "outputs": [
    {
     "data": {
      "text/plain": [
       "[4, 5]"
      ]
     },
     "execution_count": 23,
     "metadata": {},
     "output_type": "execute_result"
    }
   ],
   "source": [
    "common_element([1,12,4,5,4,6,7],[2,3,4,5,4,8,10])"
   ]
  },
  {
   "cell_type": "code",
   "execution_count": 47,
   "id": "158f17f8-6931-4dbb-a927-864027c99e40",
   "metadata": {},
   "outputs": [],
   "source": [
    "# 19. Develop a program that prints the pattern of right-angled triangles using a `for` loop. Use ‘*’ to draw the pattern\n",
    "\n",
    "def print_right_angled_triangle(h):\n",
    "    if not isinstance(h,int) or h<=0:\n",
    "        raise TypeError(\"Input should be positive integer only.\")\n",
    "        \n",
    "    for i in range(1,h+1):\n",
    "        print('*' * i)\n",
    "        "
   ]
  },
  {
   "cell_type": "code",
   "execution_count": 48,
   "id": "01435639-064e-498c-a28c-a466581ce5e9",
   "metadata": {},
   "outputs": [
    {
     "name": "stdout",
     "output_type": "stream",
     "text": [
      "*\n",
      "**\n",
      "***\n",
      "****\n",
      "*****\n"
     ]
    }
   ],
   "source": [
    "print_right_angled_triangle(5)"
   ]
  },
  {
   "cell_type": "code",
   "execution_count": 60,
   "id": "07735839-1a75-4921-a756-cb63490cb998",
   "metadata": {},
   "outputs": [],
   "source": [
    "# 20. Write a program to find the greatest common divisor (GCD) of two numbers using a `for` loop.\n",
    "\n",
    "def find_GCD(x,y):\n",
    "    if not isinstance(x,int) and isinstance(y,int):\n",
    "        raise TypeError(\"Input should be integer only.\")\n",
    "    if x<=0 and y<=0:\n",
    "        raise ValueError(\"Input should be positive integer.\")\n",
    "    \n",
    "    gcd = 1\n",
    "    for i in range(1,min(x,y)+1):\n",
    "        if x%i==0 and y%i==0:\n",
    "            gcd = i\n",
    "    return gcd\n",
    "\n",
    "# the function named 'find_GCD' accepts two argument limited to positive integer only . and return the GCD using for-loop.\n",
    "# the gcd variable having minimum value(1) is initalized. \n",
    "# for-loop iterates in in range of 1 to input values. and if till then the greatest GCD which is divisible by both the input integers is found ,\n",
    "# the varaible gcd is updated .and return statement returns the updated value."
   ]
  },
  {
   "cell_type": "code",
   "execution_count": 61,
   "id": "8aa8cc45-ae6e-41de-9921-1941fe0968f3",
   "metadata": {},
   "outputs": [
    {
     "data": {
      "text/plain": [
       "14"
      ]
     },
     "execution_count": 61,
     "metadata": {},
     "output_type": "execute_result"
    }
   ],
   "source": [
    "find_GCD(56,98)"
   ]
  },
  {
   "cell_type": "code",
   "execution_count": null,
   "id": "61f2069e-96dc-47cc-a54c-cfce1222cfd8",
   "metadata": {},
   "outputs": [],
   "source": [
    "# Advanced Level:"
   ]
  },
  {
   "cell_type": "code",
   "execution_count": 35,
   "id": "68dfd8f3-732c-4783-bb6a-bb4928aa53ea",
   "metadata": {},
   "outputs": [],
   "source": [
    "# 21. Create a program that calculates the sum of the digits of numbers in a list using a list comprehension.\n",
    "\n",
    "def sum_all_digits(l1):\n",
    "    try:\n",
    "    \n",
    "        if not isinstance(l1,list):\n",
    "            raise TypeError(\"Input should be list only.\")\n",
    "        for number in l1:\n",
    "            if not isinstance(number, int) or number< 10:\n",
    "                raise ValueError(\"Elements in list should be integers with two digits.\")\n",
    "            \n",
    "        list_comprehension = [sum(int(digits) for digits in str(number)) for number in l1]\n",
    "        return list_comprehension\n",
    "        \n",
    "    except (TypeError, ValueError) as e:\n",
    "        print(e)\n",
    "        \n",
    "# the function \"sum_all_digits\" accepts single argument limited to list and integer less greater than 10(ensures two digit elements) and returns the sum of individual digits in input list.\n",
    "# isinstance function limits the input to list and integer more than 2 digits \n",
    "# list comprehension is used where each element is converted to string first and then digits of every elements summed up individually by converting them to integer. \n",
    "# the final list presents itself as the sum of digits of individual elements.\n",
    "# try-except function is used to handle the typeerror and value error gracefully without crashing the code. and making it user friendly."
   ]
  },
  {
   "cell_type": "code",
   "execution_count": 25,
   "id": "f775dcb3-855f-44ee-a250-8ba508e907d7",
   "metadata": {},
   "outputs": [
    {
     "data": {
      "text/plain": [
       "[3, 10, 17, 7]"
      ]
     },
     "execution_count": 25,
     "metadata": {},
     "output_type": "execute_result"
    }
   ],
   "source": [
    "sum_digits([12,334,566,34])"
   ]
  },
  {
   "cell_type": "code",
   "execution_count": 36,
   "id": "fdef4eb4-c4f8-4ad7-ae74-f78a569a6e3b",
   "metadata": {},
   "outputs": [
    {
     "name": "stdout",
     "output_type": "stream",
     "text": [
      "Elements in list should be integers with two digits.\n"
     ]
    }
   ],
   "source": [
    "sum_all_digits([1,2,4])"
   ]
  },
  {
   "cell_type": "code",
   "execution_count": 30,
   "id": "99486334-e84b-4426-9256-cf6b4e43fb95",
   "metadata": {},
   "outputs": [
    {
     "name": "stdout",
     "output_type": "stream",
     "text": [
      "Input should be list only.\n"
     ]
    }
   ],
   "source": [
    "sum_all_digits((13,46,74))"
   ]
  },
  {
   "cell_type": "code",
   "execution_count": 15,
   "id": "41c98cf4-31e1-4754-94d8-de06b165b9e1",
   "metadata": {},
   "outputs": [],
   "source": [
    "# 22. Write a program to find the prime factors of a given number using a `for` loop and list comprehension.\n",
    "\n",
    "def prime_factor(n):\n",
    "    # if not isinstance(n, int):\n",
    "    #     raise TypeError(\"Input should be Integer only.\")\n",
    "    factor = []\n",
    "    while n%2==0:\n",
    "        factor.append(2)\n",
    "        n//=2\n",
    "    for i in range(3, int(n**0.5)+1, 2):\n",
    "        while n%i==0:\n",
    "            factor.append(i)\n",
    "            n//=i\n",
    "    if n>2:\n",
    "        factor.append(n)\n",
    "    \n",
    "    return factor\n",
    "        \n",
    "# the function prime_factor accepts single argument and returns the prime factor of the input number.\n",
    "# the variable factor initializes empty list, where prime factor of the given number are stored. \n",
    "# first while loop ensure the number the input number is complety divided by 2 and the no. of times the number is divides by two , 2 is appended to the factor list.\n",
    "# for loop is initialized for odd number simultanously applying the range which supports odd and prime number.\n",
    "# the second while loop is initialized to continously divide the number untill its not -divisible by it and appending each factor to the factor list, \n",
    "# And if the number is greater than 2 like in float , it appended to the factors list. \n",
    "# the return function return the list of factors of the input number."
   ]
  },
  {
   "cell_type": "code",
   "execution_count": 8,
   "id": "468cc2bd-f34c-4140-95cd-c7eca9698f38",
   "metadata": {},
   "outputs": [
    {
     "data": {
      "text/plain": [
       "[2, 2, 2, 3]"
      ]
     },
     "execution_count": 8,
     "metadata": {},
     "output_type": "execute_result"
    }
   ],
   "source": [
    "prime_factor(24)"
   ]
  },
  {
   "cell_type": "code",
   "execution_count": 9,
   "id": "cd4e554c-8d97-4f2f-b52d-243ee2226a97",
   "metadata": {},
   "outputs": [
    {
     "data": {
      "text/plain": [
       "[2, 3, 13]"
      ]
     },
     "execution_count": 9,
     "metadata": {},
     "output_type": "execute_result"
    }
   ],
   "source": [
    "prime_factor(78)"
   ]
  },
  {
   "cell_type": "code",
   "execution_count": 16,
   "id": "e7262cc6-a334-4727-bea9-7830deb07d2c",
   "metadata": {},
   "outputs": [
    {
     "data": {
      "text/plain": [
       "[2.47]"
      ]
     },
     "execution_count": 16,
     "metadata": {},
     "output_type": "execute_result"
    }
   ],
   "source": [
    "prime_factor(2.47)"
   ]
  },
  {
   "cell_type": "code",
   "execution_count": 11,
   "id": "86972dfb-af32-42fa-842d-991e5a90e473",
   "metadata": {},
   "outputs": [],
   "source": [
    "# 23. Develop a program that extracts unique elements from a list and stores them in a new list using a list comprehension.\n",
    "\n",
    "def find_unique_element(l1):\n",
    "    try:\n",
    "        if not isinstance(l1, list):\n",
    "            raise TypeError(\"Input should be list only.\")\n",
    "        l2 = []    \n",
    "        list_comprehension = [l2.append(i) for i in l1 if l1.count(i)==1]\n",
    "        return l2\n",
    " \n",
    "    except TypeError as e :\n",
    "        print(e)\n",
    "    \n",
    "# the function 'find_unique_element' find the unique element present in user input list and returns it to the user.\n",
    "# isinstance function is used to limit the user input to list only and try-except funciton handles the error gracefully.\n",
    "# variable 'l2' initializes empty list and list comprehension is used to append "
   ]
  },
  {
   "cell_type": "code",
   "execution_count": 12,
   "id": "ebd0e20f-510d-44db-9558-3f84240e48e4",
   "metadata": {},
   "outputs": [
    {
     "data": {
      "text/plain": [
       "[2, 4, 'shit']"
      ]
     },
     "execution_count": 12,
     "metadata": {},
     "output_type": "execute_result"
    }
   ],
   "source": [
    "find_unique_element((1, 1, 2, 4, 5, 5, 'hello', 'hello', 'shit'))"
   ]
  },
  {
   "cell_type": "code",
   "execution_count": 19,
   "id": "e068c2a9-8973-44ed-8b4f-8ffe9016fc01",
   "metadata": {},
   "outputs": [],
   "source": [
    "# 24. Create a program that generates a list of all palindromic numbers up to a specified limit using a list comprehension.\n",
    "\n",
    "def palindromic_number(num):\n",
    "    return str(num)==str(num)[::-1]\n",
    "\n",
    "def palindromic_number_limit(limit):\n",
    "    list_comprehension = [i for i in range(limit+1) if palindromic_number(i)]\n",
    "    return(list_comprehension)\n",
    "       \n",
    "# this code uses two functions first 'palindromic sequence' it checks whether the number satisfies palindromic condition or not using indexing method.\n",
    "# seconod accept limit of sequence from the user and uses list com"
   ]
  },
  {
   "cell_type": "code",
   "execution_count": 20,
   "id": "369eefaf-6e99-4648-aef7-db00b58bfaae",
   "metadata": {},
   "outputs": [
    {
     "data": {
      "text/plain": [
       "[0, 1, 2, 3, 4, 5, 6, 7, 8, 9, 11, 22, 33, 44, 55, 66, 77, 88, 99]"
      ]
     },
     "execution_count": 20,
     "metadata": {},
     "output_type": "execute_result"
    }
   ],
   "source": [
    "palindromic_number_limit(100)"
   ]
  },
  {
   "cell_type": "code",
   "execution_count": 22,
   "id": "60db6e08-4e89-4dd1-b288-c67a2e0a4998",
   "metadata": {},
   "outputs": [
    {
     "data": {
      "text/plain": [
       "[0,\n",
       " 1,\n",
       " 2,\n",
       " 3,\n",
       " 4,\n",
       " 5,\n",
       " 6,\n",
       " 7,\n",
       " 8,\n",
       " 9,\n",
       " 11,\n",
       " 22,\n",
       " 33,\n",
       " 44,\n",
       " 55,\n",
       " 66,\n",
       " 77,\n",
       " 88,\n",
       " 99,\n",
       " 101,\n",
       " 111,\n",
       " 121,\n",
       " 131,\n",
       " 141,\n",
       " 151,\n",
       " 161,\n",
       " 171,\n",
       " 181,\n",
       " 191]"
      ]
     },
     "execution_count": 22,
     "metadata": {},
     "output_type": "execute_result"
    }
   ],
   "source": [
    "palindromic_number_limit(200)"
   ]
  },
  {
   "cell_type": "code",
   "execution_count": 1,
   "id": "932ca92a-2baa-4199-9776-cbc7d8cd01b7",
   "metadata": {},
   "outputs": [],
   "source": [
    "# 25. Write a program to flatten a nested list using list comprehension.\n",
    "\n",
    "def flatten_nested_list(nested_list):\n",
    "    flattened_list = [item for sublist in nested_list for item in(sublist if isinstance(sublist, list) else[sublist]) ]\n",
    "    return flattened_list\n",
    "\n",
    "# In function \"flatten_nested_list\" accepts single argument and flattens nested list and single elements are returned as it is .\n",
    "# the variable 'flattened_list' uses list comprehension for the following purpose.\n",
    "# finally flattened list is returned.\n"
   ]
  },
  {
   "cell_type": "code",
   "execution_count": 2,
   "id": "95c2304f-7405-44ec-b4dd-a2114d16c363",
   "metadata": {},
   "outputs": [
    {
     "data": {
      "text/plain": [
       "[1, 2, 45, 6]"
      ]
     },
     "execution_count": 2,
     "metadata": {},
     "output_type": "execute_result"
    }
   ],
   "source": [
    "flatten_nested_list([1,2,45,6])\n",
    "# the function returns the list as it is when nested list not found"
   ]
  },
  {
   "cell_type": "code",
   "execution_count": 3,
   "id": "ddd47034-b075-4fa4-b5e4-70e1022b2fd7",
   "metadata": {},
   "outputs": [
    {
     "data": {
      "text/plain": [
       "[1, 2, 3, 56, 7, 3]"
      ]
     },
     "execution_count": 3,
     "metadata": {},
     "output_type": "execute_result"
    }
   ],
   "source": [
    "flatten_nested_list([[1,2,3],[56,7,3]])\n",
    "# The function flattened both the nested list and returned it."
   ]
  },
  {
   "cell_type": "code",
   "execution_count": 4,
   "id": "1903780f-cd4a-4fc1-827e-55dfd5e9c393",
   "metadata": {},
   "outputs": [
    {
     "data": {
      "text/plain": [
       "[1, 2, 3, 5, 6, 7, 4, 9, 0, 7, 'hello', 'hey', 'hii']"
      ]
     },
     "execution_count": 4,
     "metadata": {},
     "output_type": "execute_result"
    }
   ],
   "source": [
    "flatten_nested_list([[1,2,3],5,6,[7,4,9],0,7,['hello','hey','hii']])\n",
    "# here the code is tested with both sublist and elements without sublist and it flattens everything out."
   ]
  },
  {
   "cell_type": "code",
   "execution_count": 5,
   "id": "0c373241-4a4b-42f2-a296-b55ffdd0a846",
   "metadata": {},
   "outputs": [
    {
     "data": {
      "text/plain": [
       "[1, 2, 3, 4, 5, 6]"
      ]
     },
     "execution_count": 5,
     "metadata": {},
     "output_type": "execute_result"
    }
   ],
   "source": [
    "flatten_nested_list(([1,2,3],4,5,6))\n",
    "# nested list inside tuple is also flattened , thus user can input nested list inside anything , tuple, set, list."
   ]
  },
  {
   "cell_type": "code",
   "execution_count": 55,
   "id": "7e930878-1b9c-4210-99e7-355e6fc0b88d",
   "metadata": {},
   "outputs": [],
   "source": [
    "# 26. Develop a program that computes the sum of even and odd numbers in a list separately using list comprehension.\n",
    "\n",
    "def summ(limit):\n",
    "    \n",
    "    even = sum([i for i in range(limit+1) if i%2==0])\n",
    "    odd = sum([i for i in range(limit+1) if i%2!=0])\n",
    "    \n",
    "    return f\"Sum of even number:{even}, sum of odd numbers: {odd}\"\n",
    "\n",
    "\n",
    "# the funciton \"summ\" accepts single argument as limit of the number upto which sum of even and sum of oddd numbers are required.\n",
    "# The variable even uses list comprehension to filter out list of even numbers and then using 'sum' function add them all .\n",
    "# the variable odd uses list comprehension to filter out all the odd numbers and then using 'sum' funciton adds them all.\n",
    "# at last the return function returns the summ of even and odd with user friendly statement."
   ]
  },
  {
   "cell_type": "code",
   "execution_count": 56,
   "id": "086e82db-56c7-41ad-b086-3ee3c564c1e2",
   "metadata": {},
   "outputs": [
    {
     "data": {
      "text/plain": [
       "'Sum of even number:30, sum of odd numbers: 25'"
      ]
     },
     "execution_count": 56,
     "metadata": {},
     "output_type": "execute_result"
    }
   ],
   "source": [
    "summ(10)"
   ]
  },
  {
   "cell_type": "code",
   "execution_count": 57,
   "id": "76bc7852-ebc7-47cf-8578-2dd8755997ac",
   "metadata": {},
   "outputs": [
    {
     "name": "stdout",
     "output_type": "stream",
     "text": [
      "[0, 1, 9, 16, 25, 36, 49, 64, 81, 100]\n"
     ]
    }
   ],
   "source": [
    "# 27. Create a program that generates a list of squares of odd numbers between 1 and 10 using list comprehension.\n",
    "\n",
    "a = [i**2 for i in range(11) if i!=2]\n",
    "print(a)\n",
    "\n",
    "# variable 'a' contains list comprehension which finds square of each integer in the list ranging from from 1 to 10 if it's not('!=') divisible by 2\n",
    "# this condition simply filters out all the odd numbers.in the list , square them , and odd number are in the range of 1-11\n",
    "# The print statement prints the comprehension."
   ]
  },
  {
   "cell_type": "code",
   "execution_count": 20,
   "id": "f181f377-7dbd-47a9-ac59-3f06dc525f06",
   "metadata": {},
   "outputs": [
    {
     "name": "stdout",
     "output_type": "stream",
     "text": [
      "{'a': 1, 'b': 2, 'c': 3, 'd': 4}\n"
     ]
    }
   ],
   "source": [
    "# 28. Write a program that combines two lists into a dictionary using list comprehension.\n",
    "l1 = ['a','b','c','d']\n",
    "l2 = [1,2,3,4]\n",
    "pairing = dict([(key, value) for key, value in zip(l1,l2)])\n",
    "print(pairing)\n",
    "\n",
    "#l1 is the list of keys, and l2 the list of values. \n",
    "# the variable 'pairing' uses list comprehention to combine two lsit's into a dictionary using 'dict' function\n",
    "# here zip funciton is used which pair key with the corresponding values\n",
    "# and finally print statement prints the dicitonary with key and values by combining both the list."
   ]
  },
  {
   "cell_type": "code",
   "execution_count": 21,
   "id": "a7dfafd2-7a17-4bd3-b3a2-a5c1a9be2adb",
   "metadata": {},
   "outputs": [
    {
     "name": "stdout",
     "output_type": "stream",
     "text": [
      "['I', 'a', 'o', 'o', 'e', 'o', 'e', 'a', 'e']\n"
     ]
    }
   ],
   "source": [
    "# 29. Develop a program that extracts the vowels from a string and stores them in a list using list comprehension.\n",
    "\n",
    "vowel = 'aeiouAEIOU'\n",
    "strings =\"I am so lonely , broken angel\"\n",
    "d = [char for char in strings if char in vowel]\n",
    "print(d)\n",
    "\n",
    "# var 'vowel' contians vowel both in small and capital letters. variable 'strings' contain string for list comprehension stored in variable 'd'\n",
    "# list comprehesion filters out all the vowel in string if it's in variable 'vowel' and prints it. \n",
    "\n"
   ]
  },
  {
   "cell_type": "code",
   "execution_count": 22,
   "id": "ff78a8f4-2e19-467f-9b91-c77ea50fed9f",
   "metadata": {},
   "outputs": [
    {
     "name": "stdout",
     "output_type": "stream",
     "text": [
      "['134', '667745']\n"
     ]
    }
   ],
   "source": [
    "# 30. Create a program that removes all non-numeric characters from a list of strings using list comprehension.\n",
    "\n",
    "s = ['hello','hello134' , 'saibas6677 45' , 'dgkkkk' ]\n",
    "l = [''.join([char for char in term if char.isdigit()]) for term in s if any(char.isdigit() for char in term)]\n",
    "print(l)\n",
    "\n",
    "# variable 's' contains list of strings some of them have numerics which  the code filter's out using list comprehension stored in l.\n",
    "# \"''.join()\" function joins every term in the form of string and then iterates over it's character to find whether it contains numeric or not, \n",
    "# if numeric is found it stores in 'l' and filters out all the non-numeric stuff. \n",
    "# 'any' function is used to remove unecessary empty string occupying space without any numerics.\n"
   ]
  },
  {
   "cell_type": "code",
   "execution_count": null,
   "id": "78a997c2-b0aa-48df-8484-8b63a0376985",
   "metadata": {},
   "outputs": [],
   "source": [
    "# Challenge Level:"
   ]
  },
  {
   "cell_type": "code",
   "execution_count": 1,
   "id": "4b86cd04-6544-40d6-9dee-dcc8d6593702",
   "metadata": {},
   "outputs": [
    {
     "name": "stdout",
     "output_type": "stream",
     "text": [
      "Prime numbers up to 50:\n",
      "[2, 3, 5, 7, 11, 13, 17, 19, 23, 29, 31, 37, 41, 43, 47]\n"
     ]
    }
   ],
   "source": [
    "# 31. Write a program to generate a list of prime numbers using the Sieve of Eratosthenes algorithm and list comprehension.\n",
    "\n",
    "def sieve_of_eratosthenes(n):\n",
    "    # Create a boolean array \"prime[0..n]\" and initialize all entries as True\n",
    "    prime = [True] * (n+1)\n",
    "    p = 2\n",
    "    while (p * p <= n):\n",
    "        # If prime[p] is not changed, then it is a prime\n",
    "        if prime[p] == True:\n",
    "            # Updating all multiples of p to False\n",
    "            for i in range(p * p, n+1, p):\n",
    "                prime[i] = False\n",
    "        p += 1\n",
    "    \n",
    "    # Using list comprehension to extract prime numbers from the sieve\n",
    "    prime_numbers = [p for p in range(2, n+1) if prime[p]]\n",
    "    return prime_numbers\n",
    "\n",
    "# Example usage:\n",
    "n = 50\n",
    "print(f\"Prime numbers up to {n}:\")\n",
    "print(sieve_of_eratosthenes(n))\n"
   ]
  },
  {
   "cell_type": "code",
   "execution_count": 2,
   "id": "b2f844e7-f352-4e51-9008-01b3f962ca68",
   "metadata": {},
   "outputs": [
    {
     "name": "stdout",
     "output_type": "stream",
     "text": [
      "Pythagorean triplets up to 30:\n",
      "[(3, 4, 5), (5, 12, 13), (6, 8, 10), (7, 24, 25), (8, 15, 17), (9, 12, 15), (10, 24, 26), (12, 16, 20), (15, 20, 25), (18, 24, 30), (20, 21, 29)]\n"
     ]
    }
   ],
   "source": [
    "# 32. Create a program that generates a list of all Pythagorean triplets up to a specified limit using list\n",
    "# comprehension.\n",
    "\n",
    "def pythagorean_triplets(limit):\n",
    "    # Using list comprehension to generate triplets\n",
    "    triplets = [(a, b, c) \n",
    "                for a in range(1, limit + 1) \n",
    "                for b in range(a, limit + 1) \n",
    "                for c in range(b, limit + 1) \n",
    "                if a**2 + b**2 == c**2]\n",
    "    return triplets\n",
    "\n",
    "# Example usage:\n",
    "limit = 30\n",
    "print(f\"Pythagorean triplets up to {limit}:\")\n",
    "print(pythagorean_triplets(limit))\n"
   ]
  },
  {
   "cell_type": "code",
   "execution_count": 3,
   "id": "052991dc-512d-482b-9f4f-1d4a9363ea5b",
   "metadata": {},
   "outputs": [
    {
     "name": "stdout",
     "output_type": "stream",
     "text": [
      "All possible combinations:\n",
      "[(1, 'a'), (1, 'b'), (1, 'c'), (2, 'a'), (2, 'b'), (2, 'c'), (3, 'a'), (3, 'b'), (3, 'c')]\n"
     ]
    }
   ],
   "source": [
    "# 33. Develop a program that generates a list of all possible combinations of two lists using list comprehension.\n",
    "\n",
    "def generate_combinations(list1, list2):\n",
    "    # Using list comprehension to generate all possible combinations\n",
    "    combinations = [(x, y) for x in list1 for y in list2]\n",
    "    return combinations\n",
    "\n",
    "# Example usage:\n",
    "list1 = [1, 2, 3]\n",
    "list2 = ['a', 'b', 'c']\n",
    "print(\"All possible combinations:\")\n",
    "print(generate_combinations(list1, list2))\n"
   ]
  },
  {
   "cell_type": "code",
   "execution_count": 4,
   "id": "a196fea8-f8d8-4f4a-89e2-8170b091ac15",
   "metadata": {},
   "outputs": [
    {
     "name": "stdout",
     "output_type": "stream",
     "text": [
      "Mean: 3.3333333333333335\n",
      "Median: 4\n",
      "Mode: [4]\n"
     ]
    }
   ],
   "source": [
    "# 34. Write a program that calculates the mean, median, and mode of a list of numbers using list\n",
    "# comprehension.\n",
    "\n",
    "from collections import Counter\n",
    "\n",
    "def calculate_mean(numbers):\n",
    "    # Calculate the mean using list comprehension\n",
    "    mean = sum(numbers) / len(numbers)\n",
    "    return mean\n",
    "\n",
    "def calculate_median(numbers):\n",
    "    # Sort the list first\n",
    "    sorted_numbers = sorted(numbers)\n",
    "    n = len(numbers)\n",
    "    \n",
    "    # Check if the list has an odd or even number of elements\n",
    "    if n % 2 == 1:\n",
    "        # If odd, return the middle element\n",
    "        median = sorted_numbers[n // 2]\n",
    "    else:\n",
    "        # If even, return the average of the two middle elements\n",
    "        median = (sorted_numbers[(n // 2) - 1] + sorted_numbers[n // 2]) / 2\n",
    "    return median\n",
    "\n",
    "def calculate_mode(numbers):\n",
    "    # Calculate the frequency of each number using Counter\n",
    "    frequency = Counter(numbers)\n",
    "    \n",
    "    # Find the maximum frequency\n",
    "    max_freq = max(frequency.values())\n",
    "    \n",
    "    # Use list comprehension to get all elements with the max frequency\n",
    "    mode = [num for num, freq in frequency.items() if freq == max_freq]\n",
    "    \n",
    "    # If all numbers are equally frequent, there's no mode, so return None\n",
    "    if len(mode) == len(frequency):\n",
    "        return None\n",
    "    return mode\n",
    "\n",
    "# Example usage:\n",
    "numbers = [1, 2, 2, 3, 4, 4, 4, 5, 5]\n",
    "\n",
    "mean = calculate_mean(numbers)\n",
    "median = calculate_median(numbers)\n",
    "mode = calculate_mode(numbers)\n",
    "\n",
    "print(f\"Mean: {mean}\")\n",
    "print(f\"Median: {median}\")\n",
    "print(f\"Mode: {mode}\")\n"
   ]
  },
  {
   "cell_type": "code",
   "execution_count": 6,
   "id": "80ba66ad-a601-4eed-91e0-7e268acd6d9f",
   "metadata": {},
   "outputs": [
    {
     "name": "stdout",
     "output_type": "stream",
     "text": [
      "Pascal's Triangle with 5 rows:\n",
      "[1]\n",
      "[1, 1]\n",
      "[1, 2, 1]\n",
      "[1, 3, 3, 1]\n",
      "[1, 4, 6, 4, 1]\n"
     ]
    }
   ],
   "source": [
    "# 35. Create a program that generates Pascal's triangle up to a specified number of rows using list\n",
    "# comprehension.\n",
    "\n",
    "def generate_pascals_triangle(n):\n",
    "    # Initialize the triangle as an empty list\n",
    "    triangle = []\n",
    "\n",
    "    # Generate Pascal's triangle using list comprehension\n",
    "    for row in range(n):\n",
    "        # Each row starts with a list of 1s\n",
    "        new_row = [1 if i == 0 or i == row else triangle[row-1][i-1] + triangle[row-1][i] \n",
    "                   for i in range(row + 1)]\n",
    "        triangle.append(new_row)\n",
    "    \n",
    "    return triangle\n",
    "\n",
    "# Example usage:\n",
    "n = 5\n",
    "pascals_triangle = generate_pascals_triangle(n)\n",
    "\n",
    "print(f\"Pascal's Triangle with {n} rows:\")\n",
    "for row in pascals_triangle:\n",
    "    print(row)\n"
   ]
  },
  {
   "cell_type": "code",
   "execution_count": 7,
   "id": "ba04290a-bc1b-481f-a0b1-0a20ba56b7e4",
   "metadata": {},
   "outputs": [
    {
     "name": "stdout",
     "output_type": "stream",
     "text": [
      "Sum of the digits of the factorials from 1 to 5:\n",
      "[1, 2, 6, 6, 3]\n"
     ]
    }
   ],
   "source": [
    "# 36. Develop a program that calculates the sum of the digits of a factorial of numbers from 1 to 5 using list\n",
    "# comprehension.\n",
    "\n",
    "import math\n",
    "\n",
    "def sum_of_digits_factorials(n):\n",
    "    # Calculate the factorial of n\n",
    "    factorial_value = math.factorial(n)\n",
    "    \n",
    "    # Convert the factorial value to a string, then a list of digits, then sum them\n",
    "    digit_sum = sum(int(digit) for digit in str(factorial_value))\n",
    "    \n",
    "    return digit_sum\n",
    "\n",
    "# Example usage: Calculate the sum of digits for factorials of numbers from 1 to 5\n",
    "results = [sum_of_digits_factorials(i) for i in range(1, 6)]\n",
    "\n",
    "print(\"Sum of the digits of the factorials from 1 to 5:\")\n",
    "print(results)\n"
   ]
  },
  {
   "cell_type": "code",
   "execution_count": 9,
   "id": "8028796e-0cbf-43db-aeae-1a712f24137a",
   "metadata": {},
   "outputs": [
    {
     "name": "stdout",
     "output_type": "stream",
     "text": [
      "The longest words in the sentence are: quick, brown, jumps\n"
     ]
    }
   ],
   "source": [
    "# 37. Write a program that finds the longest word in a sentence using list comprehension\n",
    "\n",
    "def find_longest_words(sentence):\n",
    "    # Split the sentence into words\n",
    "    words = sentence.split()\n",
    "    \n",
    "    # Determine the maximum length of words\n",
    "    max_length = max(len(word) for word in words)\n",
    "    \n",
    "    # Use list comprehension to find all words with the maximum length\n",
    "    longest_words = [word for word in words if len(word) == max_length]\n",
    "    \n",
    "    return longest_words\n",
    "\n",
    "# Example usage:\n",
    "sentence = \"The quick brown fox jumps over the lazy dog\"\n",
    "longest_words = find_longest_words(sentence)\n",
    "\n",
    "print(f\"The longest words in the sentence are: {', '.join(longest_words)}\")\n"
   ]
  },
  {
   "cell_type": "code",
   "execution_count": 10,
   "id": "fc4516da-b2c1-414b-9b08-0f59ec2eb3dc",
   "metadata": {},
   "outputs": [
    {
     "name": "stdout",
     "output_type": "stream",
     "text": [
      "Strings with more than three vowels:\n",
      "['beautiful', 'extraordinary']\n"
     ]
    }
   ],
   "source": [
    "# 38. Create a program that filters a list of strings to include only those with more than three vowels using list\n",
    "# comprehension.\n",
    "\n",
    "def count_vowels(word):\n",
    "    # Define the vowels\n",
    "    vowels = 'aeiou'\n",
    "    # Count the number of vowels in the word\n",
    "    return sum(1 for char in word.lower() if char in vowels)\n",
    "\n",
    "def filter_strings_with_vowels(strings):\n",
    "    # Use list comprehension to filter strings with more than three vowels\n",
    "    filtered_strings = [s for s in strings if count_vowels(s) > 3]\n",
    "    return filtered_strings\n",
    "\n",
    "# Example usage:\n",
    "strings = [\"hello\", \"beautiful\", \"world\", \"amazing\", \"extraordinary\"]\n",
    "filtered_strings = filter_strings_with_vowels(strings)\n",
    "\n",
    "print(\"Strings with more than three vowels:\")\n",
    "print(filtered_strings)\n"
   ]
  },
  {
   "cell_type": "code",
   "execution_count": 13,
   "id": "2a728160-fbb5-4321-a4b7-db0adb866b85",
   "metadata": {},
   "outputs": [
    {
     "name": "stdout",
     "output_type": "stream",
     "text": [
      "The total sum of the digits of numbers from 1 to 1000 is: 13501\n"
     ]
    }
   ],
   "source": [
    "# 39. Develop a program that calculates the sum of the digits of numbers from 1 to 1000 using list\n",
    "# comprehension.\n",
    "\n",
    "def sum_of_digits(n):\n",
    "    # Calculate the sum of the digits of a number n\n",
    "    return sum(int(digit) for digit in str(n))\n",
    "\n",
    "# Calculate the sum of the digits for numbers from 1 to 1000 using list comprehension\n",
    "total_sum_of_digits = sum(sum_of_digits(num) for num in range(1, 1001))\n",
    "\n",
    "print(f\"The total sum of the digits of numbers from 1 to 1000 is: {total_sum_of_digits}\")\n"
   ]
  },
  {
   "cell_type": "code",
   "execution_count": 12,
   "id": "3b6b022d-4995-4a6b-af09-6fefd3c86101",
   "metadata": {},
   "outputs": [
    {
     "name": "stdout",
     "output_type": "stream",
     "text": [
      "The total sum of the digits of numbers from 1 to 1000 is: 13501\n"
     ]
    }
   ],
   "source": [
    "# 40. Write a program that generates a list of prime palindromic numbers using list comprehension.\n",
    "\n",
    "def sum_of_digits(n):\n",
    "    # Calculate the sum of the digits of a number n\n",
    "    return sum(int(digit) for digit in str(n))\n",
    "\n",
    "# Calculate the sum of the digits for numbers from 1 to 1000 using list comprehension\n",
    "total_sum_of_digits = sum(sum_of_digits(num) for num in range(1, 1001))\n",
    "\n",
    "print(f\"The total sum of the digits of numbers from 1 to 1000 is: {total_sum_of_digits}\")\n"
   ]
  },
  {
   "cell_type": "code",
   "execution_count": null,
   "id": "4e10012e-d7a0-43b5-9176-c506d1d43894",
   "metadata": {},
   "outputs": [],
   "source": []
  }
 ],
 "metadata": {
  "kernelspec": {
   "display_name": "Python 3 (ipykernel)",
   "language": "python",
   "name": "python3"
  },
  "language_info": {
   "codemirror_mode": {
    "name": "ipython",
    "version": 3
   },
   "file_extension": ".py",
   "mimetype": "text/x-python",
   "name": "python",
   "nbconvert_exporter": "python",
   "pygments_lexer": "ipython3",
   "version": "3.10.8"
  }
 },
 "nbformat": 4,
 "nbformat_minor": 5
}
