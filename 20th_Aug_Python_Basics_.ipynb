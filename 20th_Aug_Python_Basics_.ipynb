{
 "cells": [
  {
   "cell_type": "code",
   "execution_count": 1,
   "id": "b4e7e6e9-68c7-41dc-b4a8-fa06002f10c2",
   "metadata": {},
   "outputs": [
    {
     "data": {
      "application/javascript": [
       "IPython.notebook.set_autosave_interval(120000)"
      ]
     },
     "metadata": {},
     "output_type": "display_data"
    },
    {
     "name": "stdout",
     "output_type": "stream",
     "text": [
      "Autosaving every 120 seconds\n"
     ]
    }
   ],
   "source": [
    "%autosave 120"
   ]
  },
  {
   "cell_type": "code",
   "execution_count": 4,
   "id": "c33565f0-24d7-42e7-99a7-a8d3c84a6c07",
   "metadata": {},
   "outputs": [],
   "source": [
    "# STRING BASED ASSIGNMENT PROBLEMS"
   ]
  },
  {
   "cell_type": "code",
   "execution_count": 4,
   "id": "7edd428c-9d94-4efb-930e-a7726924c767",
   "metadata": {},
   "outputs": [],
   "source": [
    "# STRING BASED ASSIGNMENT PROBLEMS"
   ]
  },
  {
   "cell_type": "code",
   "execution_count": 5,
   "id": "2ecaa63b-ae61-401e-9711-142d6245b24f",
   "metadata": {},
   "outputs": [],
   "source": [
    "#1. write a program to reverse a string.\n",
    "\n",
    "def reverse_string(x):\n",
    "    return(x[::-1])\n",
    "\n",
    "# funtion named reverse_string is created. with single argument 'x', denotes normal string.\n",
    "# return statement return'x' by reversing it's string using indexing method."
   ]
  },
  {
   "cell_type": "code",
   "execution_count": 6,
   "id": "c94e56f3-355e-4357-8c57-64380cb44a32",
   "metadata": {},
   "outputs": [
    {
     "data": {
      "text/plain": [
       "'neerhaT'"
      ]
     },
     "execution_count": 6,
     "metadata": {},
     "output_type": "execute_result"
    }
   ],
   "source": [
    "reverse_string('Tahreen')"
   ]
  },
  {
   "cell_type": "code",
   "execution_count": 1,
   "id": "d5585be5-3b19-4513-917d-168d23f7b71d",
   "metadata": {},
   "outputs": [
    {
     "name": "stdin",
     "output_type": "stream",
     "text": [
      "Enter a string: Amima\n"
     ]
    },
    {
     "name": "stdout",
     "output_type": "stream",
     "text": [
      "Is is a palindrome\n"
     ]
    }
   ],
   "source": [
    "# 2. check if the string is palindrome\n",
    "\n",
    "def is_palindrome(s):\n",
    "    s=s.lower().replace(\" \",\"\")\n",
    "    return s==s[::-1]\n",
    "\n",
    "s = input('Enter a string:')\n",
    "if is_palindrome(s):\n",
    "    print('Is is a palindrome')\n",
    "else:\n",
    "    print('it is not a palindrome')\n",
    "\n",
    "#     the function is_palindrome accepts argument 's' which denotes string. and \n",
    "# "
   ]
  },
  {
   "cell_type": "code",
   "execution_count": 15,
   "id": "2f28d842-0e14-4681-bb7c-71e55dad99bf",
   "metadata": {},
   "outputs": [
    {
     "data": {
      "text/plain": [
       "False"
      ]
     },
     "execution_count": 15,
     "metadata": {},
     "output_type": "execute_result"
    }
   ],
   "source": [
    "is_palindrome('saad khan')"
   ]
  },
  {
   "cell_type": "code",
   "execution_count": 23,
   "id": "4bd6df0b-0f82-472f-a4e8-29e55c7f0d7a",
   "metadata": {},
   "outputs": [],
   "source": [
    "# 3. convert a string to uppercase\n",
    "\n",
    "def upper_case(x):\n",
    "    return x.upper()"
   ]
  },
  {
   "cell_type": "code",
   "execution_count": 24,
   "id": "33c4930c-e9c4-4e6b-ac46-ef21b4fc11bb",
   "metadata": {},
   "outputs": [
    {
     "data": {
      "text/plain": [
       "'SAADUCHIBIL'"
      ]
     },
     "execution_count": 24,
     "metadata": {},
     "output_type": "execute_result"
    }
   ],
   "source": [
    "upper_case('saaduchibil')"
   ]
  },
  {
   "cell_type": "code",
   "execution_count": 25,
   "id": "c04c4756-fc40-4b08-a976-c29d746ee492",
   "metadata": {},
   "outputs": [],
   "source": [
    "# 4. convert a string to lower case\n",
    "\n",
    "def lower_case(x):\n",
    "    return x.lower()\n"
   ]
  },
  {
   "cell_type": "code",
   "execution_count": 27,
   "id": "dbe1694c-55e9-49a4-a566-236ea56d7bc5",
   "metadata": {},
   "outputs": [
    {
     "data": {
      "text/plain": [
       "'stomach and intestine are in continuation'"
      ]
     },
     "execution_count": 27,
     "metadata": {},
     "output_type": "execute_result"
    }
   ],
   "source": [
    "lower_case('STOmacH AND INTESTINE ARE IN CONTINUATION')"
   ]
  },
  {
   "cell_type": "code",
   "execution_count": 63,
   "id": "e2a1c57c-41c8-4d25-bc50-0912e74e940f",
   "metadata": {},
   "outputs": [],
   "source": [
    "# 5. Count the number of vowels in a string:\n",
    "# METHOD 1;\n",
    "\n",
    "def vowels_count(x):\n",
    "    a = 'aeiouAEIOU'\n",
    "    b = 0\n",
    "    for i in x:\n",
    "        if i in a:\n",
    "            b+=1\n",
    "    print('The no. of vowels in string are:',b)\n",
    "\n"
   ]
  },
  {
   "cell_type": "code",
   "execution_count": 64,
   "id": "10d343fb-6859-4b18-a97e-c2812a09c81a",
   "metadata": {},
   "outputs": [
    {
     "name": "stdout",
     "output_type": "stream",
     "text": [
      "The no. of vowels in string are: 8\n"
     ]
    }
   ],
   "source": [
    "vowels_count('Hello world this is Tahreen.')\n"
   ]
  },
  {
   "cell_type": "code",
   "execution_count": 57,
   "id": "fae85613-7817-47de-b277-58b13dd877c2",
   "metadata": {},
   "outputs": [],
   "source": [
    "# METHOD 2;\n",
    "def vowels(x):\n",
    "    print(\"no. of 'a' in string is\", x.count('a'))\n",
    "    print(\"no. of 'e' in string is\", x.count('e'))\n",
    "    print(\"no. of 'i' in string is\", x.count('i'))\n",
    "    print(\"no. of 'o' in string is\", x.count('o'))\n",
    "    print(\"no. of 'u' in string is\", x.count('u'))"
   ]
  },
  {
   "cell_type": "code",
   "execution_count": 58,
   "id": "56b7fc54-1188-42ba-a49c-07279be3e339",
   "metadata": {},
   "outputs": [
    {
     "name": "stdout",
     "output_type": "stream",
     "text": [
      "no. of 'a' in string is 0\n",
      "no. of 'e' in string is 1\n",
      "no. of 'i' in string is 0\n",
      "no. of 'o' in string is 1\n",
      "no. of 'u' in string is 0\n"
     ]
    }
   ],
   "source": [
    "vowels('Hello')"
   ]
  },
  {
   "cell_type": "code",
   "execution_count": 91,
   "id": "7090c01d-1f7b-410c-8c96-efe4c2038bd8",
   "metadata": {},
   "outputs": [],
   "source": [
    "# 6.Count the number of consonants in a string\n",
    "def consonant(x):\n",
    "    c = 'aeiouAEIOU'\n",
    "    d = 0\n",
    "    for i in x:\n",
    "        if i!=\" \"and i not in c:\n",
    "            d+=1\n",
    "    print(\"The no. of consonant in the strings are:\",d)"
   ]
  },
  {
   "cell_type": "code",
   "execution_count": 92,
   "id": "ed221b6c-7ef2-443a-8838-50b11e7681d8",
   "metadata": {},
   "outputs": [
    {
     "name": "stdout",
     "output_type": "stream",
     "text": [
      "The no. of consonant in the strings are: 7\n"
     ]
    }
   ],
   "source": [
    "consonant('Tahreen khan')"
   ]
  },
  {
   "cell_type": "code",
   "execution_count": 97,
   "id": "eae669cf-38eb-4503-bcf3-ab15958554d4",
   "metadata": {},
   "outputs": [],
   "source": [
    "# 7. Remove all whitespaces from a string.\n",
    "def remove_whitespace(x):\n",
    "    return x.replace(' ','')\n"
   ]
  },
  {
   "cell_type": "code",
   "execution_count": 98,
   "id": "3f15fea5-fa61-49ed-aa41-5df9b1fdf587",
   "metadata": {},
   "outputs": [
    {
     "data": {
      "text/plain": [
       "'Helloteacherstherearelotofquestionsintheassignment.'"
      ]
     },
     "execution_count": 98,
     "metadata": {},
     "output_type": "execute_result"
    }
   ],
   "source": [
    "remove_whitespace('Hello teachers there are lot of questions in the assignment.')"
   ]
  },
  {
   "cell_type": "code",
   "execution_count": 99,
   "id": "3fd24b08-d746-480a-b067-6e09a957ed2b",
   "metadata": {},
   "outputs": [],
   "source": [
    "# 8. Find the length of a string without using the `len()` function.\n",
    "\n",
    "def length_of_string(x):\n",
    "    n = 0\n",
    "    for i in x:\n",
    "        n +=1\n",
    "    print(n)"
   ]
  },
  {
   "cell_type": "code",
   "execution_count": 100,
   "id": "cf148dad-5895-4b1c-ad2e-b1bf4ec79e3e",
   "metadata": {},
   "outputs": [
    {
     "name": "stdout",
     "output_type": "stream",
     "text": [
      "8\n"
     ]
    }
   ],
   "source": [
    "length_of_string('Tahreen ')"
   ]
  },
  {
   "cell_type": "code",
   "execution_count": 57,
   "id": "21896fdb-5153-49d9-b0e1-858a4535ca5f",
   "metadata": {},
   "outputs": [],
   "source": [
    "#9. Check if a string contains a specific word.\n",
    "# METHOD 1\n",
    "\n",
    "def specific_word(string,word):\n",
    "    return word in string"
   ]
  },
  {
   "cell_type": "code",
   "execution_count": 58,
   "id": "d0bfc658-3b11-41ec-88b3-aba08f3942ee",
   "metadata": {},
   "outputs": [
    {
     "data": {
      "text/plain": [
       "True"
      ]
     },
     "execution_count": 58,
     "metadata": {},
     "output_type": "execute_result"
    }
   ],
   "source": [
    "specific_word('Roots absorb water through the process of diffusion','diffusion')"
   ]
  },
  {
   "cell_type": "code",
   "execution_count": 60,
   "id": "f3e7d230-ad9e-4b5d-89da-603cccf3c7c4",
   "metadata": {},
   "outputs": [
    {
     "data": {
      "text/plain": [
       "False"
      ]
     },
     "execution_count": 60,
     "metadata": {},
     "output_type": "execute_result"
    }
   ],
   "source": [
    "specific_word('The ladder of failure reaches to success','quiet')"
   ]
  },
  {
   "cell_type": "code",
   "execution_count": 5,
   "id": "fe4dfd2b-5420-4742-85d8-8f87e67330b5",
   "metadata": {},
   "outputs": [],
   "source": [
    "# METHOD 2:\n",
    "\n",
    "def comment(x):\n",
    "    restricted_word = ['fucked','dirty','sexy']\n",
    "    for word in restricted_word:\n",
    "        if word in x:\n",
    "            print('Your comment is not postable')\n",
    "            return\n",
    "    print('postable comment')"
   ]
  },
  {
   "cell_type": "code",
   "execution_count": 6,
   "id": "acca74a3-1f40-44ec-ab82-0d52d59e721f",
   "metadata": {},
   "outputs": [
    {
     "name": "stdout",
     "output_type": "stream",
     "text": [
      "Your comment is not postable\n"
     ]
    }
   ],
   "source": [
    "comment(\"The Govt. hands are dirty with the blood of poor people.\")"
   ]
  },
  {
   "cell_type": "code",
   "execution_count": 30,
   "id": "9dfa26b4-8dfd-4429-961a-4f1e58ccf23f",
   "metadata": {},
   "outputs": [
    {
     "name": "stdout",
     "output_type": "stream",
     "text": [
      "postable comment\n"
     ]
    }
   ],
   "source": [
    "comment('Killing civilians in a war is a sin')"
   ]
  },
  {
   "cell_type": "code",
   "execution_count": 2,
   "id": "d737bfaf-f0e4-4cd0-97ed-4b1584c65043",
   "metadata": {},
   "outputs": [],
   "source": [
    "#10. Replace a word in a string with another word\n",
    "\n",
    "def replace(x):\n",
    "    return x.replace('bad','good')\n",
    "        "
   ]
  },
  {
   "cell_type": "code",
   "execution_count": 3,
   "id": "79ac2677-f86f-4792-858b-0fc31a98ff5e",
   "metadata": {},
   "outputs": [
    {
     "data": {
      "text/plain": [
       "'Extremely right wing political parties are good for democracy of India'"
      ]
     },
     "execution_count": 3,
     "metadata": {},
     "output_type": "execute_result"
    }
   ],
   "source": [
    "replace('Extremely right wing political parties are bad for democracy of India')"
   ]
  },
  {
   "cell_type": "code",
   "execution_count": 51,
   "id": "9ec2c9f0-9b7a-47e0-8abf-ab36b3c19bc7",
   "metadata": {},
   "outputs": [],
   "source": [
    "# 11. Count the occurrences of a word in a string\n",
    "def count(x,word):\n",
    "    return f\"The count of '{word}' in the string is:\",x.count(word)"
   ]
  },
  {
   "cell_type": "code",
   "execution_count": 52,
   "id": "0439b067-9ab9-428e-88cb-d6d829809163",
   "metadata": {},
   "outputs": [
    {
     "data": {
      "text/plain": [
       "(\"The count of 'wise' in the string is:\", 3)"
      ]
     },
     "execution_count": 52,
     "metadata": {},
     "output_type": "execute_result"
    }
   ],
   "source": [
    "count('the wise man and wise women make up a wise society','wise')"
   ]
  },
  {
   "cell_type": "code",
   "execution_count": 44,
   "id": "10ac6b1f-d7fd-45a8-a42b-9481191f3b8f",
   "metadata": {},
   "outputs": [],
   "source": [
    "# 12. Find the first occurrence of a word in a string:\n",
    "\n",
    "def first_occurence(x,word):\n",
    "    if x.find(word)!=-1:\n",
    "        print(f'The first occurence of \"{word}\" in string is',x.find(word))\n",
    "        return\n",
    "    print(f'The \"{word}\" is absent from the string.')\n"
   ]
  },
  {
   "cell_type": "code",
   "execution_count": 65,
   "id": "06475de9-52b7-4a38-b153-78f9ce952997",
   "metadata": {},
   "outputs": [
    {
     "name": "stdout",
     "output_type": "stream",
     "text": [
      "The first occurence of \"Biden\" in string is 4\n"
     ]
    }
   ],
   "source": [
    "first_occurence('Joe Biden became the president of America','Biden')"
   ]
  },
  {
   "cell_type": "code",
   "execution_count": 45,
   "id": "bc6b0f7d-dc92-4646-af4d-e6fa9c8f789f",
   "metadata": {},
   "outputs": [
    {
     "name": "stdout",
     "output_type": "stream",
     "text": [
      "The \"lili\" is absent from the string.\n"
     ]
    }
   ],
   "source": [
    "first_occurence('words come out of tongue and tongue sound like words','lili')"
   ]
  },
  {
   "cell_type": "code",
   "execution_count": 54,
   "id": "8a9a606f-e513-4d73-98b5-efb3e736b878",
   "metadata": {},
   "outputs": [],
   "source": [
    "# 13. Find the last occurrence of a word in a string:\n",
    "\n",
    "def last_occurence(x,word):\n",
    "    if x.rfind(word):\n",
    "        print(f\"The last occurence of '{word}' in the string is\", x.rfind(word))\n",
    "        return\n",
    "    print(f\"The '{word}' is not the last occcurence of the string\")"
   ]
  },
  {
   "cell_type": "code",
   "execution_count": 55,
   "id": "8225218a-f88d-42e5-b711-287202807d5d",
   "metadata": {},
   "outputs": [
    {
     "name": "stdout",
     "output_type": "stream",
     "text": [
      "The last occurence of you in the string is 24\n"
     ]
    }
   ],
   "source": [
    "last_occurence('hii , tina nice to meet you','you')"
   ]
  },
  {
   "cell_type": "code",
   "execution_count": 66,
   "id": "392a9664-a739-47c2-b717-428b72fdbafc",
   "metadata": {},
   "outputs": [],
   "source": [
    "# 14. Split a string into a list of word'\n",
    "\n",
    "def split_string(x):\n",
    "    return x.split()\n"
   ]
  },
  {
   "cell_type": "code",
   "execution_count": 67,
   "id": "23698433-a783-4920-9ccc-e7de0d39df4b",
   "metadata": {},
   "outputs": [
    {
     "data": {
      "text/plain": [
       "['Namaskar', 'mitro', 'jahan', 'hai', 'wahi', 'rahe.']"
      ]
     },
     "execution_count": 67,
     "metadata": {},
     "output_type": "execute_result"
    }
   ],
   "source": [
    "split_string('Namaskar mitro jahan hai wahi rahe.')"
   ]
  },
  {
   "cell_type": "code",
   "execution_count": 9,
   "id": "7715d61f-3ba4-473f-8898-3dfb15043ada",
   "metadata": {},
   "outputs": [],
   "source": [
    "# 15. Join a list of words into a string:\n",
    "\n",
    "def join_list(x):\n",
    "    return ' '.join(x)\n"
   ]
  },
  {
   "cell_type": "code",
   "execution_count": 11,
   "id": "5bb7b0fd-ef77-41fd-bd6d-7dbe40efb082",
   "metadata": {},
   "outputs": [
    {
     "data": {
      "text/plain": [
       "'hello world how are you'"
      ]
     },
     "execution_count": 11,
     "metadata": {},
     "output_type": "execute_result"
    }
   ],
   "source": [
    "join_list(['hello','world','how','are','you'])"
   ]
  },
  {
   "cell_type": "code",
   "execution_count": 13,
   "id": "4c577e02-16f2-464b-a9af-07b1d67b39ec",
   "metadata": {},
   "outputs": [],
   "source": [
    "# 16. Convert a string where words are separated by spaces to one where words\n",
    "# are separated by underscores.\n",
    "def string(x):\n",
    "    return x.replace(' ','_')"
   ]
  },
  {
   "cell_type": "code",
   "execution_count": 14,
   "id": "d370ebdc-09d1-4e17-adcd-28a19f51c4bb",
   "metadata": {},
   "outputs": [
    {
     "data": {
      "text/plain": [
       "'I_made_a_very_beautifull_wall_piece'"
      ]
     },
     "execution_count": 14,
     "metadata": {},
     "output_type": "execute_result"
    }
   ],
   "source": [
    "string('I made a very beautifull wall piece')"
   ]
  },
  {
   "cell_type": "code",
   "execution_count": 19,
   "id": "05b819c7-fabf-4aa2-aede-595a11118ad6",
   "metadata": {},
   "outputs": [],
   "source": [
    "# 17. Check if a string starts with a specific word or phrase\n",
    "def startswith(x,word):\n",
    "    return x.startswith(word)\n"
   ]
  },
  {
   "cell_type": "code",
   "execution_count": 20,
   "id": "34f16d86-9742-4d04-96a2-20785c25ce0d",
   "metadata": {},
   "outputs": [
    {
     "data": {
      "text/plain": [
       "True"
      ]
     },
     "execution_count": 20,
     "metadata": {},
     "output_type": "execute_result"
    }
   ],
   "source": [
    "startswith('Helena is a good girl','Helena')"
   ]
  },
  {
   "cell_type": "code",
   "execution_count": 22,
   "id": "14ea8b4d-de3b-490f-a91b-a5ac6206923d",
   "metadata": {},
   "outputs": [
    {
     "data": {
      "text/plain": [
       "False"
      ]
     },
     "execution_count": 22,
     "metadata": {},
     "output_type": "execute_result"
    }
   ],
   "source": [
    "startswith('saaduchibil is a good boy','saiba')"
   ]
  },
  {
   "cell_type": "code",
   "execution_count": 23,
   "id": "18a84274-a844-427a-8b4f-e3a3a6a1e0ca",
   "metadata": {},
   "outputs": [],
   "source": [
    "# 18. Check if a string ends with a specific word or phrase.\n",
    "def endswith(x,word):\n",
    "    return x.endswith(word)\n"
   ]
  },
  {
   "cell_type": "code",
   "execution_count": 24,
   "id": "57f5234e-a9be-4719-9e51-6578fe5b58c6",
   "metadata": {},
   "outputs": [
    {
     "data": {
      "text/plain": [
       "True"
      ]
     },
     "execution_count": 24,
     "metadata": {},
     "output_type": "execute_result"
    }
   ],
   "source": [
    "endswith('Sometimes i like typing very much','much')"
   ]
  },
  {
   "cell_type": "code",
   "execution_count": 25,
   "id": "3eee3f5f-dd05-4b74-942c-ef6f71869f11",
   "metadata": {},
   "outputs": [
    {
     "data": {
      "text/plain": [
       "False"
      ]
     },
     "execution_count": 25,
     "metadata": {},
     "output_type": "execute_result"
    }
   ],
   "source": [
    "endswith('My younger brother farts too many times a day.','brother')"
   ]
  },
  {
   "cell_type": "code",
   "execution_count": 27,
   "id": "ef855704-310e-4f0b-afd8-14fa1c6fdaf0",
   "metadata": {},
   "outputs": [],
   "source": [
    "# 19. Convert a string to title case (e.g., \"hello world\" to \"Hello World\"):\n",
    "\n",
    "def title_case(x):\n",
    "    return x.title()\n"
   ]
  },
  {
   "cell_type": "code",
   "execution_count": 29,
   "id": "72ac529a-8af4-4805-8ee3-19721fe868d8",
   "metadata": {},
   "outputs": [
    {
     "data": {
      "text/plain": [
       "'People Should Stop Using Strong Perfumes'"
      ]
     },
     "execution_count": 29,
     "metadata": {},
     "output_type": "execute_result"
    }
   ],
   "source": [
    "title_case('people should stop using strong perfumes')"
   ]
  },
  {
   "cell_type": "code",
   "execution_count": 12,
   "id": "d82f5714-4816-402d-872f-ebc436733220",
   "metadata": {},
   "outputs": [],
   "source": [
    "# 20. Find the longest word in a string.\n",
    "\n",
    "def longest_word(x):\n",
    "    return max(x.split(),key = len)"
   ]
  },
  {
   "cell_type": "code",
   "execution_count": 16,
   "id": "319b58ba-2a52-4179-8fb9-e1e93b199108",
   "metadata": {},
   "outputs": [
    {
     "data": {
      "text/plain": [
       "'differentiation'"
      ]
     },
     "execution_count": 16,
     "metadata": {},
     "output_type": "execute_result"
    }
   ],
   "source": [
    "longest_word('once you understand differentiation is easy its just very time consuming.')"
   ]
  },
  {
   "cell_type": "code",
   "execution_count": 17,
   "id": "77c77cf7-02c3-4b57-9501-77983b8e3c12",
   "metadata": {},
   "outputs": [],
   "source": [
    "# 21. Find the shortest word in a string.\n",
    "\n",
    "def shortest_word(x):\n",
    "    return min(x.split(), key = len)"
   ]
  },
  {
   "cell_type": "code",
   "execution_count": 21,
   "id": "ad9f9a60-c531-4c4e-9462-fc50ec35e2d9",
   "metadata": {},
   "outputs": [
    {
     "data": {
      "text/plain": [
       "'a'"
      ]
     },
     "execution_count": 21,
     "metadata": {},
     "output_type": "execute_result"
    }
   ],
   "source": [
    "shortest_word('Joe biden gave a speech about Indian press in veitnam')"
   ]
  },
  {
   "cell_type": "code",
   "execution_count": 30,
   "id": "2b526d65-2026-449f-9411-4c5423d169c4",
   "metadata": {},
   "outputs": [],
   "source": [
    "# 22. Reverse the order of words in a string\n",
    "\n",
    "def reverse_order(x):\n",
    "    return ' '.join(x.split()[::-1])"
   ]
  },
  {
   "cell_type": "code",
   "execution_count": 31,
   "id": "c9573d75-9572-4a80-83d4-af4d016580b3",
   "metadata": {},
   "outputs": [
    {
     "data": {
      "text/plain": [
       "'country a for press independent of importance gave He'"
      ]
     },
     "execution_count": 31,
     "metadata": {},
     "output_type": "execute_result"
    }
   ],
   "source": [
    "reverse_order('He gave importance of independent press for a country')"
   ]
  },
  {
   "cell_type": "code",
   "execution_count": 11,
   "id": "599889c9-ec30-4aff-a23a-a31aea2367c3",
   "metadata": {},
   "outputs": [],
   "source": [
    "# 23. Check if a string is alphanumeric.\n",
    "\n",
    "def is_alphanumeric(x):\n",
    "    return ''.join(x.split()).isalnum()\n",
    "\n",
    "# EXPLANATION;here is converted string to list usind split method and then joined it again so as to ask for alphanumeric condition\n",
    "# isalnum fuction is not applicable to list thus used join function to convert it again to a string.\n",
    "# here split function is used to remove spaces and puctuatin if any in order to get accurate answer or so the condition comes out true"
   ]
  },
  {
   "cell_type": "code",
   "execution_count": 12,
   "id": "8467e8bc-d1a8-44a5-9640-cfd3d4de438e",
   "metadata": {},
   "outputs": [
    {
     "data": {
      "text/plain": [
       "True"
      ]
     },
     "execution_count": 12,
     "metadata": {},
     "output_type": "execute_result"
    }
   ],
   "source": [
    "is_alphanumeric('how are you now a days so letsn485687')"
   ]
  },
  {
   "cell_type": "code",
   "execution_count": 13,
   "id": "9930bd37-78bd-4841-a0f2-3f6a8dea14f4",
   "metadata": {},
   "outputs": [
    {
     "data": {
      "text/plain": [
       "True"
      ]
     },
     "execution_count": 13,
     "metadata": {},
     "output_type": "execute_result"
    }
   ],
   "source": [
    "is_alphanumeric('sony234')"
   ]
  },
  {
   "cell_type": "code",
   "execution_count": 15,
   "id": "40fa33eb-aa76-43db-a5af-5b7fc57839d4",
   "metadata": {},
   "outputs": [
    {
     "data": {
      "text/plain": [
       "True"
      ]
     },
     "execution_count": 15,
     "metadata": {},
     "output_type": "execute_result"
    }
   ],
   "source": [
    "is_alphanumeric(\"HEllo wrod\")"
   ]
  },
  {
   "cell_type": "code",
   "execution_count": 49,
   "id": "c79559f4-d9a7-4394-b77d-57dac97fbd1c",
   "metadata": {},
   "outputs": [],
   "source": [
    "# 24. Extract all digits from a string:\n",
    "\n",
    "def extract_digits(x):\n",
    "    return ''.join([i for i in x if i.isdigit()])"
   ]
  },
  {
   "cell_type": "code",
   "execution_count": 50,
   "id": "c31f2a25-becb-493e-b23d-2e19580a3b15",
   "metadata": {},
   "outputs": [
    {
     "data": {
      "text/plain": [
       "'7890454545654'"
      ]
     },
     "execution_count": 50,
     "metadata": {},
     "output_type": "execute_result"
    }
   ],
   "source": [
    "extract_digits('7890 could you 4545find a456y ways54.')"
   ]
  },
  {
   "cell_type": "code",
   "execution_count": 54,
   "id": "0a61b55b-ffd1-4a3e-9220-8e7683bf88b6",
   "metadata": {},
   "outputs": [],
   "source": [
    "# 25. Extract all alphabets from a string.\n",
    "\n",
    "def extract_alphabets(x):\n",
    "    return ''.join([i for i in x if i.isalpha()])"
   ]
  },
  {
   "cell_type": "code",
   "execution_count": 55,
   "id": "2cd38cb7-6be3-4422-9fa7-f08154824fe2",
   "metadata": {},
   "outputs": [
    {
     "data": {
      "text/plain": [
       "'Helloworldthis'"
      ]
     },
     "execution_count": 55,
     "metadata": {},
     "output_type": "execute_result"
    }
   ],
   "source": [
    "extract_alphabets('Hello 456world  3546 this456 ')"
   ]
  },
  {
   "cell_type": "code",
   "execution_count": 14,
   "id": "7c927528-8c27-4029-b527-9fe2a178febb",
   "metadata": {},
   "outputs": [],
   "source": [
    "# 26. Count the number of uppercase letters in a string:\n",
    "\n",
    "def count_uppercase(x):\n",
    "    return sum(1 for i in x if i.isupper())\n"
   ]
  },
  {
   "cell_type": "code",
   "execution_count": 15,
   "id": "4ad74c3c-dd66-456e-8a10-16cca83fee2b",
   "metadata": {},
   "outputs": [
    {
     "data": {
      "text/plain": [
       "2"
      ]
     },
     "execution_count": 15,
     "metadata": {},
     "output_type": "execute_result"
    }
   ],
   "source": [
    "count_uppercase('Hello world, this is Tahreen.')"
   ]
  },
  {
   "cell_type": "code",
   "execution_count": 16,
   "id": "56ec2f75-5106-4398-9116-25ab3c68540c",
   "metadata": {},
   "outputs": [],
   "source": [
    "# 27. Count the number of lowercase letters in a string.\n",
    "\n",
    "def count_lowercase(x):\n",
    "    return sum(1 for i in x if i.islower())"
   ]
  },
  {
   "cell_type": "code",
   "execution_count": 22,
   "id": "18d1bf0c-2aa3-41a4-90ce-5f9550ecf91e",
   "metadata": {},
   "outputs": [
    {
     "data": {
      "text/plain": [
       "7"
      ]
     },
     "execution_count": 22,
     "metadata": {},
     "output_type": "execute_result"
    }
   ],
   "source": [
    "count_lowercase('saad saaD')"
   ]
  },
  {
   "cell_type": "code",
   "execution_count": 31,
   "id": "7df67f68-63e9-495a-8a89-8c315db01852",
   "metadata": {},
   "outputs": [],
   "source": [
    "# 28. Swap the case of each character in a string.\n",
    "def swapcase(x):\n",
    "    return x.swapcase()"
   ]
  },
  {
   "cell_type": "code",
   "execution_count": 32,
   "id": "627814d8-d500-4fae-b3c1-d51de6978cf8",
   "metadata": {},
   "outputs": [
    {
     "data": {
      "text/plain": [
       "'tHERE IS A WAR GOING ON BETWEEN iSRAEL AND pALESTINIAN cIVILIANS'"
      ]
     },
     "execution_count": 32,
     "metadata": {},
     "output_type": "execute_result"
    }
   ],
   "source": [
    "swapcase('There is a war going on between Israel and Palestinian Civilians')"
   ]
  },
  {
   "cell_type": "code",
   "execution_count": 16,
   "id": "8c96e452-1468-4c6d-8a82-3fc223b986ca",
   "metadata": {},
   "outputs": [],
   "source": [
    "# 29. Remove a specific word from a string.\n",
    "\n",
    "def remove(x,word):\n",
    "    return x.replace(word,'').strip(' ')\n",
    "\n",
    "# EXPLANATION: here the reusable def fuction is taking two input 'x: input string',and 'word: the word to be removed'\n",
    "# replace function is used to remove the 'word' from string x and strip function is used to remove the unecessary spaces present in the string after the removal of specific word."
   ]
  },
  {
   "cell_type": "code",
   "execution_count": 17,
   "id": "3cd5e450-fbeb-482f-adee-8971015ebd48",
   "metadata": {},
   "outputs": [
    {
     "data": {
      "text/plain": [
       "'hi how are you'"
      ]
     },
     "execution_count": 17,
     "metadata": {},
     "output_type": "execute_result"
    }
   ],
   "source": [
    "remove('hey hi how are you hey','hey')"
   ]
  },
  {
   "cell_type": "code",
   "execution_count": 32,
   "id": "49a10891-a566-41d1-8aca-c31df239e939",
   "metadata": {},
   "outputs": [],
   "source": [
    "# 30. Check if a string is a valid email address:\n",
    "\n",
    "import re\n",
    "def email(x):\n",
    "    y = r'^[\\w\\.-]+@[\\w\\.-]+\\.\\w+$'\n",
    "    if re.match(y,x):\n",
    "        print('valid email adress')\n",
    "        return\n",
    "    print('invalid email address')\n",
    "    \n",
    "# EXPLANATION: after importing 're' y is the pattern given for valid email address\n",
    "# Using if method there is a comparison/matching between 'x:input' and 'y:pattern for valid email' with the help of re.match fuction\n",
    "# For user's convenience if method is letting them know wether the email is valid or not."
   ]
  },
  {
   "cell_type": "code",
   "execution_count": 35,
   "id": "96ab0671-1a24-4da2-a307-c2299a294e05",
   "metadata": {},
   "outputs": [
    {
     "name": "stdout",
     "output_type": "stream",
     "text": [
      "valid email adress\n"
     ]
    }
   ],
   "source": [
    "email('Tahreen345@gmail.com')"
   ]
  },
  {
   "cell_type": "code",
   "execution_count": 36,
   "id": "06900640-0628-4721-969d-23df0859dd29",
   "metadata": {},
   "outputs": [
    {
     "name": "stdout",
     "output_type": "stream",
     "text": [
      "valid email adress\n"
     ]
    }
   ],
   "source": [
    "email('3456@gmail.com')"
   ]
  },
  {
   "cell_type": "code",
   "execution_count": 39,
   "id": "70403ae2-e80e-4151-b819-3c8b312c853a",
   "metadata": {},
   "outputs": [
    {
     "name": "stdout",
     "output_type": "stream",
     "text": [
      "valid email adress\n"
     ]
    }
   ],
   "source": [
    "email('....@gmail.com')"
   ]
  },
  {
   "cell_type": "code",
   "execution_count": 40,
   "id": "6a86ac8d-1013-4cbb-a9fb-336ba79905e7",
   "metadata": {},
   "outputs": [
    {
     "name": "stdout",
     "output_type": "stream",
     "text": [
      "invalid email address\n"
     ]
    }
   ],
   "source": [
    "email('  @gmail.com')"
   ]
  },
  {
   "cell_type": "code",
   "execution_count": 41,
   "id": "1240b3ae-c445-40be-b137-44d2b66c21d7",
   "metadata": {},
   "outputs": [
    {
     "name": "stdout",
     "output_type": "stream",
     "text": [
      "invalid email address\n"
     ]
    }
   ],
   "source": [
    "email('saadkhan')"
   ]
  },
  {
   "cell_type": "code",
   "execution_count": 69,
   "id": "bd8b2308-7b2f-4908-892d-8a392f22c52b",
   "metadata": {},
   "outputs": [],
   "source": [
    "# 31. Extract the username from an email address string.\n",
    "\n",
    "import re\n",
    "def user_name(x):\n",
    "    pattern = r'^[\\w\\.-]+@[\\w\\.-]+\\.\\w+$'\n",
    "    if re.match(pattern,x):\n",
    "        print('The username of your email address is:', x.split('@')[0])\n",
    "        return\n",
    "    print('Invalid email address')\n",
    "\n"
   ]
  },
  {
   "cell_type": "code",
   "execution_count": 71,
   "id": "b337fe0e-f66c-492d-9067-f2ca5df3cf46",
   "metadata": {},
   "outputs": [
    {
     "name": "stdout",
     "output_type": "stream",
     "text": [
      "The username of your email address is: Tahreen345\n"
     ]
    }
   ],
   "source": [
    "user_name('Tahreen345@gmail.com')"
   ]
  },
  {
   "cell_type": "code",
   "execution_count": 73,
   "id": "cea27654-3290-4833-974b-e75028cba667",
   "metadata": {},
   "outputs": [
    {
     "name": "stdout",
     "output_type": "stream",
     "text": [
      "Invalid email address\n"
     ]
    }
   ],
   "source": [
    "user_name('Narendra@..')"
   ]
  },
  {
   "cell_type": "code",
   "execution_count": 76,
   "id": "1473d172-1e55-4815-be10-4177d0572915",
   "metadata": {},
   "outputs": [],
   "source": [
    "# 32. Extract the domain name from an email address string.\n",
    "\n",
    "import re\n",
    "def domain_name(x):\n",
    "    pattern = r'^[\\w\\.-]+@[\\w\\.-]+\\.\\w+$'\n",
    "    if re.match(pattern,x):\n",
    "        print('The domain name of your email id is:', x.split('@')[1])\n",
    "        return\n",
    "    print('Invalid email address')"
   ]
  },
  {
   "cell_type": "code",
   "execution_count": 77,
   "id": "a787ba9d-485c-4662-b969-a98b036dfa03",
   "metadata": {},
   "outputs": [
    {
     "name": "stdout",
     "output_type": "stream",
     "text": [
      "The domain name of your email id is: gmail.com\n"
     ]
    }
   ],
   "source": [
    "domain_name('shreya@gmail.com')"
   ]
  },
  {
   "cell_type": "code",
   "execution_count": 79,
   "id": "cfc348bc-c154-479f-8acd-e49729d1357a",
   "metadata": {},
   "outputs": [
    {
     "name": "stdout",
     "output_type": "stream",
     "text": [
      "Invalid email address\n"
     ]
    }
   ],
   "source": [
    "domain_name('shreya@....')"
   ]
  },
  {
   "cell_type": "code",
   "execution_count": 97,
   "id": "c3f8983b-6138-4aa0-bada-e7699de71982",
   "metadata": {},
   "outputs": [],
   "source": [
    "# 33. Replace multiple spaces in a string with a single space\n",
    "\n",
    "def replace_multiple_spaces(x):\n",
    "    return ' '.join(x.split())"
   ]
  },
  {
   "cell_type": "code",
   "execution_count": 98,
   "id": "7f7ae1d0-4db9-46ee-bc6e-02fc4f988eb4",
   "metadata": {},
   "outputs": [
    {
     "data": {
      "text/plain": [
       "'hi hello how are you'"
      ]
     },
     "execution_count": 98,
     "metadata": {},
     "output_type": "execute_result"
    }
   ],
   "source": [
    "replace_multiple_spaces('  hi    hello   how are    you   ')"
   ]
  },
  {
   "cell_type": "code",
   "execution_count": 118,
   "id": "39bbe8ec-13cd-458d-a75f-cdc7052de7f4",
   "metadata": {},
   "outputs": [],
   "source": [
    "# 34. Check if a string is a valid URL.\n",
    "from urllib.parse import urlparse\n",
    " \n",
    "def url(x):\n",
    "    try:\n",
    "        result = urlparse(x)\n",
    "        return all([result.scheme, result.netloc])\n",
    "    except Exception:\n",
    "        return False"
   ]
  },
  {
   "cell_type": "code",
   "execution_count": 119,
   "id": "e450f2aa-d6e8-4454-a96a-e034137ceaf0",
   "metadata": {},
   "outputs": [
    {
     "data": {
      "text/plain": [
       "True"
      ]
     },
     "execution_count": 119,
     "metadata": {},
     "output_type": "execute_result"
    }
   ],
   "source": [
    "url('https://www.example.com')"
   ]
  },
  {
   "cell_type": "code",
   "execution_count": 120,
   "id": "a61e7dc8-c59d-4b58-90af-c63301fc5c77",
   "metadata": {},
   "outputs": [
    {
     "data": {
      "text/plain": [
       "False"
      ]
     },
     "execution_count": 120,
     "metadata": {},
     "output_type": "execute_result"
    }
   ],
   "source": [
    "url('fgfd')"
   ]
  },
  {
   "cell_type": "code",
   "execution_count": 130,
   "id": "f5ec8e9f-8947-445b-a9dd-67a6120a9fc5",
   "metadata": {},
   "outputs": [],
   "source": [
    "from urllib.parse import urlparse\n",
    "\n",
    "def extract_protocol(x):\n",
    "    result = urlparse(x)\n",
    "    if all([result.scheme , result.netloc]):\n",
    "        print('The protocol of given url is:',x.split(':')[0])\n",
    "        return\n",
    "    print('Invalid URL.')"
   ]
  },
  {
   "cell_type": "code",
   "execution_count": 127,
   "id": "e456cf12-e5da-4833-af28-33afaa72311b",
   "metadata": {},
   "outputs": [
    {
     "name": "stdout",
     "output_type": "stream",
     "text": [
      "The protocol of given url is: https\n"
     ]
    }
   ],
   "source": [
    "extract_protocol('https://www.example.com')"
   ]
  },
  {
   "cell_type": "code",
   "execution_count": 131,
   "id": "31a4e7c2-dc26-48e0-b0db-2c05181e3555",
   "metadata": {},
   "outputs": [
    {
     "name": "stdout",
     "output_type": "stream",
     "text": [
      "Invalid URL.\n"
     ]
    }
   ],
   "source": [
    "extract_protocol('http : ww.k.com')"
   ]
  },
  {
   "cell_type": "code",
   "execution_count": 17,
   "id": "85fbfcb6-7f78-40c4-8516-6447590422ac",
   "metadata": {},
   "outputs": [],
   "source": [
    "# 36. Find the frequency of each character in a string.\n",
    "\n",
    "def frequency(x):\n",
    "    y ={}\n",
    "    for i in x:\n",
    "        if i in y:\n",
    "            y[i] += 1\n",
    "        else:\n",
    "            y[i] = 1\n",
    "    return f\"The frequency of letters in string are : {y}\""
   ]
  },
  {
   "cell_type": "code",
   "execution_count": 18,
   "id": "5bd81f70-882f-4f76-85a4-513abf93b6b4",
   "metadata": {},
   "outputs": [
    {
     "data": {
      "text/plain": [
       "\"The frequency ofletters in string are : {'H': 1, 'e': 1, 'l': 3, 'o': 2, ' ': 1, 'w': 1, 'r': 1, 'd': 1}\""
      ]
     },
     "execution_count": 18,
     "metadata": {},
     "output_type": "execute_result"
    }
   ],
   "source": [
    "frequency('Hello world')\n"
   ]
  },
  {
   "cell_type": "code",
   "execution_count": 11,
   "id": "4eeb9cc1-66fe-4fd1-82fa-01d659489ba7",
   "metadata": {},
   "outputs": [],
   "source": [
    "# 37. Remove all punctuation from a string.\n",
    "import string\n",
    "def remove_punctuation(x):\n",
    "    translator_map = str.maketrans(\"\",\"\",string.punctuation)\n",
    "    clean_string = x.translate(translator_map)\n",
    "    print('The original string:',x)\n",
    "    return f\"cleaned string: {clean_string}\""
   ]
  },
  {
   "cell_type": "code",
   "execution_count": 12,
   "id": "750ad21a-fff6-4eae-83c4-303ec4b7c615",
   "metadata": {},
   "outputs": [
    {
     "name": "stdout",
     "output_type": "stream",
     "text": [
      "The original string: Journalist: Israel, is killing innocent civilians who are defending themselves\n"
     ]
    },
    {
     "data": {
      "text/plain": [
       "'cleaned string: Journalist Israel is killing innocent civilians who are defending themselves'"
      ]
     },
     "execution_count": 12,
     "metadata": {},
     "output_type": "execute_result"
    }
   ],
   "source": [
    "remove_punctuation('Journalist: Israel, is killing innocent civilians who are defending themselves')"
   ]
  },
  {
   "cell_type": "code",
   "execution_count": 23,
   "id": "de66aff0-ba50-4b30-a83c-050201595bde",
   "metadata": {},
   "outputs": [],
   "source": [
    "# 38. Check if a string contains only digits.\n",
    "def only_digits(x):\n",
    "    return x.isdigit()"
   ]
  },
  {
   "cell_type": "code",
   "execution_count": 25,
   "id": "ede31b28-ca1e-47a9-a95e-ab618bb19276",
   "metadata": {},
   "outputs": [
    {
     "data": {
      "text/plain": [
       "False"
      ]
     },
     "execution_count": 25,
     "metadata": {},
     "output_type": "execute_result"
    }
   ],
   "source": [
    "only_digits('hello world 3456 dfhg3456')"
   ]
  },
  {
   "cell_type": "code",
   "execution_count": 26,
   "id": "4aa5f92a-0fd1-4454-b886-65e8dd8d07e0",
   "metadata": {},
   "outputs": [
    {
     "data": {
      "text/plain": [
       "True"
      ]
     },
     "execution_count": 26,
     "metadata": {},
     "output_type": "execute_result"
    }
   ],
   "source": [
    "only_digits('43567')"
   ]
  },
  {
   "cell_type": "code",
   "execution_count": 57,
   "id": "a29e4a1b-d312-40ee-bbca-6397e8074312",
   "metadata": {},
   "outputs": [],
   "source": [
    "# 39. Check if a string contains only alphabets\n",
    "def only_alphabets(x):\n",
    "    y = ''.join(a.split())\n",
    "    return y.isalpha()"
   ]
  },
  {
   "cell_type": "code",
   "execution_count": 58,
   "id": "f2d2f2ec-fdb5-4d9c-9dd3-2399936f5111",
   "metadata": {},
   "outputs": [
    {
     "data": {
      "text/plain": [
       "True"
      ]
     },
     "execution_count": 58,
     "metadata": {},
     "output_type": "execute_result"
    }
   ],
   "source": [
    "only_alphabets('saaduchibil')"
   ]
  },
  {
   "cell_type": "code",
   "execution_count": 59,
   "id": "4bb01f0a-5b1b-47d1-ae67-ef6fa38183fc",
   "metadata": {},
   "outputs": [
    {
     "data": {
      "text/plain": [
       "True"
      ]
     },
     "execution_count": 59,
     "metadata": {},
     "output_type": "execute_result"
    }
   ],
   "source": [
    "only_alphabets('saad345')"
   ]
  },
  {
   "cell_type": "code",
   "execution_count": 60,
   "id": "638afab7-911d-4676-b3fb-0dad1f2dbec2",
   "metadata": {},
   "outputs": [
    {
     "data": {
      "text/plain": [
       "True"
      ]
     },
     "execution_count": 60,
     "metadata": {},
     "output_type": "execute_result"
    }
   ],
   "source": [
    "only_alphabets('7890')"
   ]
  },
  {
   "cell_type": "code",
   "execution_count": 66,
   "id": "8e9ac08d-60ee-4574-8498-8391a006b026",
   "metadata": {},
   "outputs": [],
   "source": [
    "# 40. Convert a string to a list of characters\n",
    "def list_conversion(x):\n",
    "    return list(x)"
   ]
  },
  {
   "cell_type": "code",
   "execution_count": 68,
   "id": "f0a84cb6-1e6a-4968-9c70-9b101b9c13b1",
   "metadata": {},
   "outputs": [
    {
     "data": {
      "text/plain": [
       "['h', 'e', 'l', 'l', 'o']"
      ]
     },
     "execution_count": 68,
     "metadata": {},
     "output_type": "execute_result"
    }
   ],
   "source": [
    "list_conversion('hello')"
   ]
  },
  {
   "cell_type": "code",
   "execution_count": 85,
   "id": "e712a63e-2b88-4c5f-bc32-ce6803e594a1",
   "metadata": {},
   "outputs": [],
   "source": [
    "# 41. Check if two strings are anagrams.\n",
    "\n",
    "def are_anagrame(x,y):\n",
    "    return sorted(x.replace(\" \",\"\").lower())==sorted(y.replace(\" \",\"\").lower())"
   ]
  },
  {
   "cell_type": "code",
   "execution_count": 86,
   "id": "525e01ee-73f0-4ab8-94f1-6041791fa7dd",
   "metadata": {},
   "outputs": [
    {
     "data": {
      "text/plain": [
       "True"
      ]
     },
     "execution_count": 86,
     "metadata": {},
     "output_type": "execute_result"
    }
   ],
   "source": [
    "are_anagrame('who are you saaduchibil?','saaduchibil? who are you')"
   ]
  },
  {
   "cell_type": "code",
   "execution_count": 87,
   "id": "506f972c-e580-43f5-be41-369d22e2ae0a",
   "metadata": {},
   "outputs": [
    {
     "data": {
      "text/plain": [
       "False"
      ]
     },
     "execution_count": 87,
     "metadata": {},
     "output_type": "execute_result"
    }
   ],
   "source": [
    "are_anagrame('saaduchibil is no one but saad','yes thats right')"
   ]
  },
  {
   "cell_type": "code",
   "execution_count": 79,
   "id": "8409bd91-82aa-456c-8470-9a67b0d34b49",
   "metadata": {},
   "outputs": [],
   "source": [
    "# 42. Encode a string using a Caesar cipher\n",
    "\n",
    "def encode_string(text,shift):\n",
    "    encoded_string = \"\"\n",
    "    for i in text:\n",
    "        if i.isalnum():\n",
    "            encoded_char = chr((ord(i)+shift-ord('a'))%26+ord('a'))\n",
    "        else:\n",
    "            encoded_char = i\n",
    "            \n",
    "        encoded_string += encoded_char\n",
    "    return f'The encoded string is : {encoded_string}'"
   ]
  },
  {
   "cell_type": "code",
   "execution_count": 80,
   "id": "8fea932f-11f1-4e1e-b3f6-04fa3397aae2",
   "metadata": {},
   "outputs": [
    {
     "data": {
      "text/plain": [
       "'The encoded string is : lipps asvph'"
      ]
     },
     "execution_count": 80,
     "metadata": {},
     "output_type": "execute_result"
    }
   ],
   "source": [
    "encode_string('hello world',4)"
   ]
  },
  {
   "cell_type": "code",
   "execution_count": 89,
   "id": "1be46911-201b-4baa-a6f8-1b60f8e587de",
   "metadata": {},
   "outputs": [],
   "source": [
    "# 43. Decode a Caesar cipher encoded string.\n",
    "\n",
    "def decode_string(text,shift):\n",
    "    decoded_string = \"\"\n",
    "    for i in text:\n",
    "        if i.isalpha():\n",
    "            decoded_char = chr((ord(i)-shift-ord('a'))%26+ord('a'))\n",
    "        else:\n",
    "            decoded_char = i\n",
    "            \n",
    "        decoded_string += decoded_char\n",
    "    return f\"The decoded string is : {decoded_string}\"\n",
    "                               "
   ]
  },
  {
   "cell_type": "code",
   "execution_count": 90,
   "id": "56e51cb0-ce0f-4e09-9b0d-cef1154b4724",
   "metadata": {},
   "outputs": [
    {
     "data": {
      "text/plain": [
       "'The decoded string is : hello world'"
      ]
     },
     "execution_count": 90,
     "metadata": {},
     "output_type": "execute_result"
    }
   ],
   "source": [
    "decode_string('lipps asvph',4)"
   ]
  },
  {
   "cell_type": "code",
   "execution_count": 1,
   "id": "1ef8bfe0-e44d-4f35-a9f1-d4b9ecdca9a0",
   "metadata": {},
   "outputs": [],
   "source": [
    "# 44. Find the most frequent word in a string.\n",
    "\n",
    "import re\n",
    "from collections import Counter\n",
    "\n",
    "def most_frequent_word(x):\n",
    "    remove_punctuation = re.sub(r'[^\\w\\s]','',x).lower()\n",
    "    make_list = remove_punctuation.split()\n",
    "    count_frequency = Counter(make_list)\n",
    "    most_frequent_word = count_frequency.most_common(1)[0][0]\n",
    "    return most_frequent_word"
   ]
  },
  {
   "cell_type": "code",
   "execution_count": 2,
   "id": "14340139-3323-4825-9e0e-41f4df84b034",
   "metadata": {},
   "outputs": [
    {
     "data": {
      "text/plain": [
       "'cat'"
      ]
     },
     "execution_count": 2,
     "metadata": {},
     "output_type": "execute_result"
    }
   ],
   "source": [
    "most_frequent_word('cat is cute but cat is lazy, cat sleeps a lot.')"
   ]
  },
  {
   "cell_type": "code",
   "execution_count": 12,
   "id": "7c287bf4-b3c4-4dbc-acd7-fb5679550c8a",
   "metadata": {},
   "outputs": [],
   "source": [
    "# 45. Find all unique words in a string.\n",
    "\n",
    "import re\n",
    "\n",
    "def unique_words(x):\n",
    "    remove_punctuation = re.sub(r'[^\\w\\s]','',x).lower()\n",
    "    make_list = remove_punctuation.split()\n",
    "    make_set = set(make_list)\n",
    "    return make_set"
   ]
  },
  {
   "cell_type": "code",
   "execution_count": 13,
   "id": "be2b414e-2c9d-4d2c-96a8-af3c7e50d752",
   "metadata": {},
   "outputs": [
    {
     "data": {
      "text/plain": [
       "{'bye', 'hello', 'hi', 'kitty'}"
      ]
     },
     "execution_count": 13,
     "metadata": {},
     "output_type": "execute_result"
    }
   ],
   "source": [
    "unique_words('hello kitty hi kitty bye kitty')"
   ]
  },
  {
   "cell_type": "code",
   "execution_count": 14,
   "id": "18e80aa3-8fe2-4a6d-a8bb-02a88b2eebd2",
   "metadata": {},
   "outputs": [],
   "source": [
    "# 46. Count the number of syllables in a string\n",
    "\n",
    "import re\n",
    "\n",
    "def count_syllables(x):\n",
    "    syllables_group = re.findall(r'[aeiouy]+',x,re.IGNORECASE)\n",
    "    return f'The total no. of syllables in the string is : {len(syllables_group)}'"
   ]
  },
  {
   "cell_type": "code",
   "execution_count": 15,
   "id": "79ec6a07-3087-4e53-a00c-dc1a361fbd87",
   "metadata": {},
   "outputs": [
    {
     "data": {
      "text/plain": [
       "'The total no. of syllables in the string is : 15'"
      ]
     },
     "execution_count": 15,
     "metadata": {},
     "output_type": "execute_result"
    }
   ],
   "source": [
    "count_syllables('Israel did group invasion in palestine just last night')"
   ]
  },
  {
   "cell_type": "code",
   "execution_count": 16,
   "id": "aca9cea4-7799-447e-bdcf-531dcdd764b1",
   "metadata": {},
   "outputs": [],
   "source": [
    "# 47. Check if a string contains any special characters.\n",
    "\n",
    "import re\n",
    "\n",
    "def special_character(x):\n",
    "    pattern = re.compile(r'[~!@#$%^&*()_+{}|[\\];:<>,.?\\\\/]')\n",
    "    match_pattern = pattern.search(x)\n",
    "    return bool(match_pattern)"
   ]
  },
  {
   "cell_type": "code",
   "execution_count": 17,
   "id": "661da351-b84c-4c1a-b154-660ad4507a51",
   "metadata": {},
   "outputs": [
    {
     "data": {
      "text/plain": [
       "False"
      ]
     },
     "execution_count": 17,
     "metadata": {},
     "output_type": "execute_result"
    }
   ],
   "source": [
    "special_character('is there any shift pattern in this string')"
   ]
  },
  {
   "cell_type": "code",
   "execution_count": 18,
   "id": "9319f8fc-0b06-4f8f-849f-7c8de77fd9c0",
   "metadata": {},
   "outputs": [
    {
     "data": {
      "text/plain": [
       "True"
      ]
     },
     "execution_count": 18,
     "metadata": {},
     "output_type": "execute_result"
    }
   ],
   "source": [
    "special_character('https:\\www.mobile.com')"
   ]
  },
  {
   "cell_type": "code",
   "execution_count": 16,
   "id": "f23ecedf-271b-414c-a015-360bcf6840d4",
   "metadata": {},
   "outputs": [],
   "source": [
    "# 48. Remove the nth word from a string.\n",
    "\n",
    "def remove_nth_word(x,n):\n",
    "    make_list = x.split()\n",
    "    if n>=1 and n<=len(make_list):\n",
    "        pop = make_list.pop(n-1)\n",
    "        new_string = ' '.join(make_list)\n",
    "        return f\"The final string is : {new_string} and the removed word is : {pop}\"\n",
    "    else:\n",
    "        return None"
   ]
  },
  {
   "cell_type": "code",
   "execution_count": 18,
   "id": "f1026e18-6ce4-4b15-8166-8f47e3af118d",
   "metadata": {},
   "outputs": [],
   "source": [
    "remove_nth_word('hello world let join for dinner.',10)"
   ]
  },
  {
   "cell_type": "code",
   "execution_count": 31,
   "id": "6102dfce-22e4-465b-91a3-9cf2aebc9e71",
   "metadata": {},
   "outputs": [
    {
     "data": {
      "text/plain": [
       "'The final string is : Hello lets join for dinner and the removed word is : world,'"
      ]
     },
     "execution_count": 31,
     "metadata": {},
     "output_type": "execute_result"
    }
   ],
   "source": [
    "remove_nth_word('Hello world, lets join for dinner',2)"
   ]
  },
  {
   "cell_type": "code",
   "execution_count": 39,
   "id": "e83023ca-822b-4a68-8a13-e6c6fb8a11c9",
   "metadata": {},
   "outputs": [],
   "source": [
    "# 49. Insert a word at the nth position in a string.\n",
    "\n",
    "def insert_words(x,n,y):\n",
    "    make_list = x.split()\n",
    "    if n>=0 and n<=len(make_list):\n",
    "        add_words = make_list.insert(n-1,y)\n",
    "        modified_string = ' '.join(make_list)\n",
    "        return f'The new string is : {modified_string} and The added word is : {add_words}'\n",
    "    else:\n",
    "        return none\n",
    "        "
   ]
  },
  {
   "cell_type": "code",
   "execution_count": 41,
   "id": "e9f96dad-d3d2-4c4b-a4d6-8de4840ae6ac",
   "metadata": {},
   "outputs": [
    {
     "data": {
      "text/plain": [
       "'The new string is : Narendra modi is the good prime miniter of India and The added word is : None'"
      ]
     },
     "execution_count": 41,
     "metadata": {},
     "output_type": "execute_result"
    }
   ],
   "source": [
    "insert_words('Narendra modi is the prime miniter of India',5,'good')"
   ]
  },
  {
   "cell_type": "code",
   "execution_count": 50,
   "id": "bfd8dab7-740b-40a5-b6e5-be2ae5d190a6",
   "metadata": {},
   "outputs": [],
   "source": [
    "# 50. Convert a CSV string to a list of lists.\n",
    "# comma separated values\n",
    "\n",
    "def csv(x):\n",
    "    l = x.split('\\n')\n",
    "    m = []\n",
    "    for i in l:\n",
    "        split = i.split(',')\n",
    "        m.append(split)\n",
    "    return m\n",
    "        \n",
    "        \n",
    "        "
   ]
  },
  {
   "cell_type": "code",
   "execution_count": 53,
   "id": "dbed7214-8d96-47c4-8030-45d7d0d09232",
   "metadata": {},
   "outputs": [
    {
     "data": {
      "text/plain": [
       "[['Name', ' Age', ' Country'],\n",
       " ['saad', ' 15', ' India'],\n",
       " ['Azra', ' 9', ' U.k'],\n",
       " ['Tahreen', ' 19', ' Qatar'],\n",
       " ['Faiz', ' 21', ' America']]"
      ]
     },
     "execution_count": 53,
     "metadata": {},
     "output_type": "execute_result"
    }
   ],
   "source": [
    "csv(\"Name, Age, Country\\nsaad, 15, India\\nAzra, 9, U.k\\nTahreen, 19, Qatar\\nFaiz, 21, America\")"
   ]
  },
  {
   "cell_type": "code",
   "execution_count": null,
   "id": "b3628b5b-0c59-45d3-b2a7-bb65614450ee",
   "metadata": {},
   "outputs": [],
   "source": [
    "# List Based Practice Problem :"
   ]
  },
  {
   "cell_type": "code",
   "execution_count": 61,
   "id": "f48dc75b-d57b-428a-9616-733c81d80ced",
   "metadata": {},
   "outputs": [
    {
     "name": "stdout",
     "output_type": "stream",
     "text": [
      "[1, 2, 3, 4, 5, 6, 7, 8, 9, 10]\n"
     ]
    }
   ],
   "source": [
    "# 1. Create a list with integers from 1 to 10.\n",
    "\n",
    "l = [i for i in range(1,11)]\n",
    "print(l)\n"
   ]
  },
  {
   "cell_type": "code",
   "execution_count": 66,
   "id": "a16e439a-36fe-4996-bc59-3ce4c1b88636",
   "metadata": {},
   "outputs": [],
   "source": [
    "# 2. Find the length of a list without using the `len()` function.\n",
    "\n",
    "def string_length(x):\n",
    "    count = 0\n",
    "    for i in x:\n",
    "        count+=1\n",
    "    return count"
   ]
  },
  {
   "cell_type": "code",
   "execution_count": 68,
   "id": "af5fd7ae-a86e-4aac-98e4-efb157c2b62a",
   "metadata": {},
   "outputs": [
    {
     "data": {
      "text/plain": [
       "5"
      ]
     },
     "execution_count": 68,
     "metadata": {},
     "output_type": "execute_result"
    }
   ],
   "source": [
    "string_length([3,5,6,7,8])"
   ]
  },
  {
   "cell_type": "code",
   "execution_count": 71,
   "id": "f5b60420-473b-401a-abeb-c31789a66c76",
   "metadata": {},
   "outputs": [
    {
     "data": {
      "text/plain": [
       "7"
      ]
     },
     "execution_count": 71,
     "metadata": {},
     "output_type": "execute_result"
    }
   ],
   "source": [
    "string_length(['Faiz','Saad','Saiba','mummy','daddy','grand daddy','grand mummy'])"
   ]
  },
  {
   "cell_type": "code",
   "execution_count": 90,
   "id": "c79dcaec-db23-418d-8632-01b024eadb74",
   "metadata": {},
   "outputs": [
    {
     "data": {
      "text/plain": [
       "[2, 3, 5, 6, 'somya']"
      ]
     },
     "execution_count": 90,
     "metadata": {},
     "output_type": "execute_result"
    }
   ],
   "source": [
    "# 3. Append an element to the end of a list\n",
    "l = [2,3,5,6]\n",
    "l.append('somya')\n",
    "l"
   ]
  },
  {
   "cell_type": "code",
   "execution_count": 92,
   "id": "1e851610-5a3f-4838-8d18-2aef98933fe0",
   "metadata": {},
   "outputs": [
    {
     "data": {
      "text/plain": [
       "[3, 5, 'sheer', 6, 7]"
      ]
     },
     "execution_count": 92,
     "metadata": {},
     "output_type": "execute_result"
    }
   ],
   "source": [
    "# 4. Insert an element at a specific index in a list\n",
    "l = [3,5,6,7]\n",
    "l.insert(2,'sheer')\n",
    "l"
   ]
  },
  {
   "cell_type": "code",
   "execution_count": 99,
   "id": "82d16e1c-b543-4c43-8e9c-e3eb80285112",
   "metadata": {},
   "outputs": [
    {
     "name": "stdout",
     "output_type": "stream",
     "text": [
      "The final string is: [3, 5, 6, 'datascience', 'DSA', 'data algorithm', 3456.34]. \n"
     ]
    }
   ],
   "source": [
    "# 5. Remove an element from a list by its value\n",
    "\n",
    "l = [3,5,6,'datascience','powerbi','DSA','data algorithm',3456.34]\n",
    "l.remove('powerbi')\n",
    "print(f'The final string is: {l}. ')"
   ]
  },
  {
   "cell_type": "code",
   "execution_count": 101,
   "id": "2484615d-5830-4bbc-8402-001c14d25e95",
   "metadata": {},
   "outputs": [
    {
     "name": "stdout",
     "output_type": "stream",
     "text": [
      "The final string is: [3, 5, 6, 'powerbi', 'DSA', 'data algorithm', 3456.34]\n",
      "And the removed word is: datascience\n"
     ]
    }
   ],
   "source": [
    "# 6. Remove an element from a list by its index.\n",
    "\n",
    "l = [3,5,6,'datascience','powerbi','DSA','data algorithm',3456.34]\n",
    "p = l.pop(3)\n",
    "print(f'The final string is: {l}\\nAnd the removed word is: {p}')"
   ]
  },
  {
   "cell_type": "code",
   "execution_count": 2,
   "id": "f95dc0f7-6668-45a1-a0e7-7f02b134dce3",
   "metadata": {},
   "outputs": [
    {
     "name": "stdin",
     "output_type": "stream",
     "text": [
      "Enter the element:  3456.34\n"
     ]
    },
    {
     "name": "stdout",
     "output_type": "stream",
     "text": [
      "This element exist in string.\n"
     ]
    }
   ],
   "source": [
    "# 7. Check if an element exists in a list\n",
    " \n",
    "l = [3,5,6,'datascience','powerbi','DSA','data algorithm',3456.34]\n",
    "if input('Enter the element: ') in map(str,l):\n",
    "    print('This element exist in string.')\n",
    "else:\n",
    "    print('This element does not exist in string.')"
   ]
  },
  {
   "cell_type": "code",
   "execution_count": 10,
   "id": "0de13a31-e454-4c84-8643-42904266e9c2",
   "metadata": {},
   "outputs": [
    {
     "name": "stdout",
     "output_type": "stream",
     "text": [
      "0\n"
     ]
    }
   ],
   "source": [
    "# 8. Find the index of the first occurrence of an element in a list.\n",
    "\n",
    "l = [3,5,3,6,'datascience','powerbi',3,'DSA','data algorithm',5,3456.34]\n",
    "j = l.index(3)\n",
    "print(j)\n"
   ]
  },
  {
   "cell_type": "code",
   "execution_count": 12,
   "id": "d74f4ca5-aa03-41bb-9f92-4306a7071137",
   "metadata": {},
   "outputs": [
    {
     "name": "stdout",
     "output_type": "stream",
     "text": [
      "3\n"
     ]
    }
   ],
   "source": [
    "# 9. Count the occurrences of an element in a list.\n",
    "\n",
    "l = [3,5,3,6,'datascience','powerbi',3,'DSA','data algorithm',5,3456.34]\n",
    "a = l.count(3)\n",
    "print(a)"
   ]
  },
  {
   "cell_type": "code",
   "execution_count": 17,
   "id": "e050c63b-3472-42ad-a095-7f1b5a9abec8",
   "metadata": {},
   "outputs": [
    {
     "name": "stdout",
     "output_type": "stream",
     "text": [
      "[3456.34, 5, 'data algorithm', 'DSA', 3, 'powerbi', 'datascience', 6, 3, 5, 3]\n"
     ]
    }
   ],
   "source": [
    "# 10. Reverse the order of elements in a list\n",
    "\n",
    "l = [3,5,3,6,'datascience','powerbi',3,'DSA','data algorithm',5,3456.34]\n",
    "l.reverse()\n",
    "print(l)"
   ]
  },
  {
   "cell_type": "code",
   "execution_count": 23,
   "id": "c362bf74-5dae-4b55-b8f9-dd9b23d206af",
   "metadata": {},
   "outputs": [
    {
     "name": "stdout",
     "output_type": "stream",
     "text": [
      "[3, 5, 9, 23, 45, 76, 90]\n"
     ]
    }
   ],
   "source": [
    "# 11. Sort a list in ascending order.\n",
    "\n",
    "l = [3,9,5,90,76,45,23]\n",
    "l.sort()\n",
    "print(l)"
   ]
  },
  {
   "cell_type": "code",
   "execution_count": 24,
   "id": "7ca3a5f6-4fad-446e-acdc-ccaddc04afc6",
   "metadata": {},
   "outputs": [
    {
     "name": "stdout",
     "output_type": "stream",
     "text": [
      "[90, 76, 45, 23, 9, 5, 3]\n"
     ]
    }
   ],
   "source": [
    "# 12. Sort a list in descending order.\n",
    "\n",
    "l = [3,9,5,90,76,45,23]\n",
    "l.sort()\n",
    "l.reverse()\n",
    "print(l)"
   ]
  },
  {
   "cell_type": "code",
   "execution_count": 38,
   "id": "249b9133-0b73-45fd-a060-0941c667cdcc",
   "metadata": {},
   "outputs": [
    {
     "name": "stdout",
     "output_type": "stream",
     "text": [
      "[2, 4, 6, 8, 10, 12, 14, 16, 18, 20]\n"
     ]
    }
   ],
   "source": [
    "# 13. Create a list of even numbers from 1 to 20.\n",
    "l = [i for i in range(2,21,2)]\n",
    "print(l)      \n",
    "        "
   ]
  },
  {
   "cell_type": "code",
   "execution_count": 40,
   "id": "9e2833b8-0996-4159-9524-468b928c56b4",
   "metadata": {},
   "outputs": [
    {
     "name": "stdout",
     "output_type": "stream",
     "text": [
      "[1, 3, 5, 7, 9, 11, 13, 15, 17, 19]\n"
     ]
    }
   ],
   "source": [
    "# 14. Create a list of odd numbers from 1 to 20\n",
    "\n",
    "l = [i for i in range(1,21,2)]\n",
    "print(l)"
   ]
  },
  {
   "cell_type": "code",
   "execution_count": 41,
   "id": "87c9b833-430c-4391-ab60-45096ab4a691",
   "metadata": {},
   "outputs": [
    {
     "name": "stdout",
     "output_type": "stream",
     "text": [
      "21\n"
     ]
    }
   ],
   "source": [
    "# 15. Find the sum of all elements in a list.\n",
    "l = [1,2,3,4,5,6]\n",
    "print(sum(l))"
   ]
  },
  {
   "cell_type": "code",
   "execution_count": 42,
   "id": "4936247b-e638-40fe-8842-96289e762fa1",
   "metadata": {},
   "outputs": [
    {
     "name": "stdout",
     "output_type": "stream",
     "text": [
      "100\n"
     ]
    }
   ],
   "source": [
    "# 16. Find the maximum value in a list\n",
    "l = [100,5,4,78,93]\n",
    "print(max(l))"
   ]
  },
  {
   "cell_type": "code",
   "execution_count": 43,
   "id": "adcd0103-864f-4be1-be1a-bcebccd524c8",
   "metadata": {},
   "outputs": [
    {
     "name": "stdout",
     "output_type": "stream",
     "text": [
      "4\n"
     ]
    }
   ],
   "source": [
    "# 17. Find the minimum value in a list.\n",
    "\n",
    "l = [100,5,4,78,93]\n",
    "print(min(l))"
   ]
  },
  {
   "cell_type": "code",
   "execution_count": 46,
   "id": "b4ea7728-8438-4e66-947f-beba1facbbb8",
   "metadata": {},
   "outputs": [
    {
     "name": "stdout",
     "output_type": "stream",
     "text": [
      "[1, 4, 9, 16, 25, 36, 49, 64, 81]\n"
     ]
    }
   ],
   "source": [
    "# 18. Create a list of squares of numbers from 1 to 10\n",
    "\n",
    "l = [i**2 for i in range(1,10)]\n",
    "print(l)"
   ]
  },
  {
   "cell_type": "code",
   "execution_count": 11,
   "id": "13208170-ce8c-49e3-9e1f-c742717bb4d6",
   "metadata": {},
   "outputs": [
    {
     "name": "stdout",
     "output_type": "stream",
     "text": [
      "list of 10 random numbers: [33, 30, 68, 61, 55, 35, 88, 41, 31]\n"
     ]
    }
   ],
   "source": [
    "# 19. Create a list of random numbers.i\n",
    "\n",
    "import random\n",
    "l = [random.randint(1,100) for _ in range(1,10)]\n",
    "print(f'list of 10 random numbers: {l}')"
   ]
  },
  {
   "cell_type": "code",
   "execution_count": 12,
   "id": "2298a0c6-769c-4b90-be34-e99b10ba3a2e",
   "metadata": {},
   "outputs": [
    {
     "name": "stdout",
     "output_type": "stream",
     "text": [
      "Original list: [1, 1, 2, 2, 3, 3, 4, 4, 5, 5, 6, 6, 7, 7, 8, 8, 9, 9, 10, 10]\n",
      "List without dublicates: [1, 2, 3, 4, 5, 6, 7, 8, 9, 10]\n"
     ]
    }
   ],
   "source": [
    "# 20. Remove duplicates from a list\n",
    "\n",
    "l = [1,1,2,2,3,3,4,4,5,5,6,6,7,7,8,8,9,9,10,10]\n",
    "print(f'Original list: {l}\\nList without dublicates: {list(set(l))}')"
   ]
  },
  {
   "cell_type": "code",
   "execution_count": 7,
   "id": "a6e56a4a-6b9f-4241-8ec3-6340bb78a295",
   "metadata": {},
   "outputs": [
    {
     "name": "stdout",
     "output_type": "stream",
     "text": [
      "common element in l1 and l2: [1, 5, 90]\n"
     ]
    }
   ],
   "source": [
    "# 21. Find the common elements between two lists.\n",
    "\n",
    "#METHOD 1: Using for loop\n",
    "l1 = [1,3,5,6,7,90]\n",
    "l2 = [1,5,90,45,67]\n",
    "common_elements = []\n",
    "for i in l1:\n",
    "    if i in l2:\n",
    "        common_elements.append(i)\n",
    "        \n",
    "print(f'common element in l1 and l2: {common_elements}')\n"
   ]
  },
  {
   "cell_type": "code",
   "execution_count": 9,
   "id": "a25ed9b1-b576-4d18-93e6-eee4b5890c5e",
   "metadata": {},
   "outputs": [
    {
     "name": "stdout",
     "output_type": "stream",
     "text": [
      "[1, 5, 90]\n"
     ]
    }
   ],
   "source": [
    "# METHOD 2: Using list comprehension:\n",
    "\n",
    "l1 = [1,3,5,6,7,90]\n",
    "l2 = [1,5,90,45,67]\n",
    "common_elements = []\n",
    "l = [i for i in l1 if i in l2]\n",
    "print(l)"
   ]
  },
  {
   "cell_type": "code",
   "execution_count": 14,
   "id": "2e87cf2f-5aa8-4d3e-8f46-dbc5d97db4cb",
   "metadata": {},
   "outputs": [
    {
     "name": "stdout",
     "output_type": "stream",
     "text": [
      "Difference in l1 from l2: [3, 6, 7]\n",
      "Difference in l2 from l1: [45, 67]\n"
     ]
    }
   ],
   "source": [
    "# 22. Find the difference between two lists.\n",
    "# METHOD 1: Using list comprehension\n",
    "l1 = [1,3,5,6,7,90]\n",
    "l2 = [1,5,90,45,67]\n",
    "l = [i for i in l1 if i not in l2]\n",
    "h = [i for i in l2 if i not in l1]\n",
    "print(f'Difference in l1 from l2: {l}\\nDifference in l2 from l1: {h}')"
   ]
  },
  {
   "cell_type": "code",
   "execution_count": 19,
   "id": "b62b14d5-09cf-42eb-96e7-86d745429bda",
   "metadata": {},
   "outputs": [
    {
     "name": "stdout",
     "output_type": "stream",
     "text": [
      "Difference in l1 from l2: [3, 6, 7]\n",
      "Difference in l2 from l1: [67, 45]\n"
     ]
    }
   ],
   "source": [
    "# METHOD 2:Using difference method\n",
    "\n",
    "l1 = [1,3,5,6,7,90]\n",
    "l2 = [1,5,90,45,67]\n",
    "\n",
    "d1 = list(set(l1).difference(l2))\n",
    "d2 = list(set(l2).difference(l1))\n",
    "print(f'Difference in l1 from l2: {d1}\\nDifference in l2 from l1: {d2}')"
   ]
  },
  {
   "cell_type": "code",
   "execution_count": 20,
   "id": "21d658d5-358d-4bca-abea-b90760ec7ae2",
   "metadata": {},
   "outputs": [
    {
     "name": "stdout",
     "output_type": "stream",
     "text": [
      "The merged list is: [1, 3, 5, 6, 7, 90, 1, 5, 90, 45, 67]\n"
     ]
    }
   ],
   "source": [
    "# 23. Merge two lists.\n",
    "\n",
    "l1 = [1,3,5,6,7,90]\n",
    "l2 = [1,5,90,45,67]\n",
    "merge = l1+l2\n",
    "print(f'The merged list is: {merge}')"
   ]
  },
  {
   "cell_type": "code",
   "execution_count": 24,
   "id": "64735ccc-f3e3-40fb-bd05-7cfd6c5b796d",
   "metadata": {},
   "outputs": [
    {
     "name": "stdout",
     "output_type": "stream",
     "text": [
      "The list is multiplied by 2: [2, 6, 10, 12, 14, 180]\n"
     ]
    }
   ],
   "source": [
    "# 24. Multiply all elements in a list by 2.\n",
    "l1 = [1,3,5,6,7,90]\n",
    "l = [i*2 for i in l1]\n",
    "print(f'The list is multiplied by 2: {l}')\n"
   ]
  },
  {
   "cell_type": "code",
   "execution_count": 28,
   "id": "ccd0cf52-7e2a-403c-9c62-82493a7082ef",
   "metadata": {},
   "outputs": [
    {
     "name": "stdout",
     "output_type": "stream",
     "text": [
      "Filtered out even number list: [1, 3, 5, 7, 9, 11, 13]\n"
     ]
    }
   ],
   "source": [
    "# 25. Filter out all even numbers from a list\n",
    "l1 = [1,2,3,4,5,6,7,8,9,10,11,12,13]\n",
    "l = [i for i in l1 if i%2!=0]\n",
    "print(f'Filtered out even number list: {l}')"
   ]
  },
  {
   "cell_type": "code",
   "execution_count": 32,
   "id": "49ef467d-b67d-492e-8825-a7ef18decc76",
   "metadata": {},
   "outputs": [
    {
     "data": {
      "text/plain": [
       "[1, 2, 3, 4, 5, 6]"
      ]
     },
     "execution_count": 32,
     "metadata": {},
     "output_type": "execute_result"
    }
   ],
   "source": [
    "# 26. Convert a list of strings to a list of integers.\n",
    "\n",
    "l1 = ['1','2','3','4','5','6']\n",
    "l = [int(i) for i in l1]\n",
    "l"
   ]
  },
  {
   "cell_type": "code",
   "execution_count": 33,
   "id": "d2a2b782-13fb-4fe1-884e-22cd9533c368",
   "metadata": {},
   "outputs": [
    {
     "data": {
      "text/plain": [
       "['1', '3', '5', '6', '7', '90']"
      ]
     },
     "execution_count": 33,
     "metadata": {},
     "output_type": "execute_result"
    }
   ],
   "source": [
    "# 27. Convert a list of integers to a list of strings.\n",
    "\n",
    "l1 = [1,3,5,6,7,90]\n",
    "l = [str(i) for i in l1]\n",
    "l"
   ]
  },
  {
   "cell_type": "code",
   "execution_count": 24,
   "id": "fb9adcb4-7817-4bcf-9a64-c6e6f06acd81",
   "metadata": {},
   "outputs": [],
   "source": [
    "# Flatten a nested list.\n",
    "\n",
    "def remove_sublist(x):\n",
    "    flattened_list = []\n",
    "    for i in x:\n",
    "        if isinstance(i,list):\n",
    "            flattened_list.extend(remove_sublist(i))\n",
    "        else:\n",
    "            flattened_list.append(i)\n",
    "    return flattened_list"
   ]
  },
  {
   "cell_type": "code",
   "execution_count": 25,
   "id": "3397722d-dcc5-46bc-b043-e6ff6fa64819",
   "metadata": {},
   "outputs": [
    {
     "data": {
      "text/plain": [
       "[1, 2, 3, 4, 5, 6, 7, 8, 9]"
      ]
     },
     "execution_count": 25,
     "metadata": {},
     "output_type": "execute_result"
    }
   ],
   "source": [
    "remove_sublist( [[1, 2, 3], [4, 5], [6, 7, 8, 9]])"
   ]
  },
  {
   "cell_type": "code",
   "execution_count": 30,
   "id": "f499924d-79a2-4c26-9db3-229808d32f10",
   "metadata": {},
   "outputs": [],
   "source": [
    "# 29. Create a list of the first 10 Fibonacci numbers.\n",
    "def generate_fibonacci(n):\n",
    "    fibonacci_list = [0,1]\n",
    "    for i in range(2,n):\n",
    "        next_fibonacci = fibonacci_list[i-1]+fibonacci_list[i-2]\n",
    "        fibonacci_list.append(next_fibonacci)\n",
    "    return fibonacci_list\n",
    "    "
   ]
  },
  {
   "cell_type": "code",
   "execution_count": 32,
   "id": "a02f7a42-c2ef-401f-bd95-5744ab1c4d97",
   "metadata": {},
   "outputs": [
    {
     "data": {
      "text/plain": [
       "[0, 1, 1, 2, 3, 5, 8, 13, 21]"
      ]
     },
     "execution_count": 32,
     "metadata": {},
     "output_type": "execute_result"
    }
   ],
   "source": [
    "generate_fibonacci(9)"
   ]
  },
  {
   "cell_type": "code",
   "execution_count": 3,
   "id": "8f330c5e-93f9-4344-9279-a7887a56cca8",
   "metadata": {},
   "outputs": [],
   "source": [
    "# 30 Check if the list is sorted\n",
    "def is_sorted(list):\n",
    "    for i in range(1,len(list)):\n",
    "        if list[i]<list[i-1]:\n",
    "            return False\n",
    "    return True"
   ]
  },
  {
   "cell_type": "code",
   "execution_count": 5,
   "id": "f3ee1f49-7872-4b00-9b73-883740add6e4",
   "metadata": {},
   "outputs": [
    {
     "data": {
      "text/plain": [
       "False"
      ]
     },
     "execution_count": 5,
     "metadata": {},
     "output_type": "execute_result"
    }
   ],
   "source": [
    "is_sorted([1,2,3,2,67])"
   ]
  },
  {
   "cell_type": "code",
   "execution_count": 10,
   "id": "505a0881-cfbe-458e-9098-f47f96ddcf53",
   "metadata": {},
   "outputs": [
    {
     "data": {
      "text/plain": [
       "True"
      ]
     },
     "execution_count": 10,
     "metadata": {},
     "output_type": "execute_result"
    }
   ],
   "source": [
    "sort([3,5,6,78])"
   ]
  },
  {
   "cell_type": "code",
   "execution_count": 5,
   "id": "dfe17251-4d20-4fef-b545-56126c47d6e4",
   "metadata": {},
   "outputs": [],
   "source": [
    "# 31. Rotate a list to the left by `n` position\n",
    "\n",
    "def rotate_list(list,n):\n",
    "    n = n%len(list)\n",
    "    rotated = list[n:]+list[:n]\n",
    "    return rotated"
   ]
  },
  {
   "cell_type": "code",
   "execution_count": 3,
   "id": "c52bb825-bbdc-4c47-8def-5fe132be2caa",
   "metadata": {},
   "outputs": [
    {
     "data": {
      "text/plain": [
       "[4, 5, 6, 1, 2, 3]"
      ]
     },
     "execution_count": 3,
     "metadata": {},
     "output_type": "execute_result"
    }
   ],
   "source": [
    "rotate_list([1,2,3,4,5,6],3)"
   ]
  },
  {
   "cell_type": "code",
   "execution_count": 6,
   "id": "608522be-826d-4f5e-908b-7cc11cd1481c",
   "metadata": {},
   "outputs": [
    {
     "data": {
      "text/plain": [
       "[6, 1, 2, 3, 4, 5]"
      ]
     },
     "execution_count": 6,
     "metadata": {},
     "output_type": "execute_result"
    }
   ],
   "source": [
    "rotate_list([1,2,3,4,5,6],17)"
   ]
  },
  {
   "cell_type": "code",
   "execution_count": 7,
   "id": "c4ebfd1a-d182-4ca8-86d4-58da5b0af427",
   "metadata": {},
   "outputs": [
    {
     "data": {
      "text/plain": [
       "[5, 6, 1, 2, 3, 4]"
      ]
     },
     "execution_count": 7,
     "metadata": {},
     "output_type": "execute_result"
    }
   ],
   "source": [
    "rotate_list([1,2,3,4,5,6],-2)"
   ]
  },
  {
   "cell_type": "code",
   "execution_count": 6,
   "id": "cb9f48e0-505c-4d78-9e50-a9dcb8e83d9a",
   "metadata": {},
   "outputs": [
    {
     "data": {
      "text/plain": [
       "[2, 3, 4, 5, 6, 1]"
      ]
     },
     "execution_count": 6,
     "metadata": {},
     "output_type": "execute_result"
    }
   ],
   "source": [
    "rotate_list([1,2,3,4,5,6],-17)"
   ]
  },
  {
   "cell_type": "code",
   "execution_count": 16,
   "id": "0f995975-dec0-4c4d-b650-1e5602599f69",
   "metadata": {},
   "outputs": [],
   "source": [
    "# 32. Rotate a list to the right by n positions.\n",
    "def rotate_right(list, n):\n",
    "    n = n % len(list)\n",
    "    rotated = list[-n:]+list[:-n]\n",
    "    return rotated"
   ]
  },
  {
   "cell_type": "code",
   "execution_count": 19,
   "id": "7cdee942-005a-42ea-b9f8-ff3e35198be3",
   "metadata": {},
   "outputs": [
    {
     "data": {
      "text/plain": [
       "[5, 6, 1, 2, 3, 4]"
      ]
     },
     "execution_count": 19,
     "metadata": {},
     "output_type": "execute_result"
    }
   ],
   "source": [
    "rotate_right([1,2,3,4,5,6],2)"
   ]
  },
  {
   "cell_type": "code",
   "execution_count": null,
   "id": "d544ae9f-f2de-4ef3-89ec-49cafe2e912d",
   "metadata": {},
   "outputs": [],
   "source": [
    "rotate_right([1,2,3,4,5,6],-2)"
   ]
  },
  {
   "cell_type": "code",
   "execution_count": 6,
   "id": "7bbbda22-b827-4827-afd5-5c3285cbc754",
   "metadata": {},
   "outputs": [],
   "source": [
    "# 33. Create a list of prime numbers up to 50.\n",
    "def is_prime(num):\n",
    "    if num<=1:\n",
    "        return False\n",
    "    if num <=3:\n",
    "        return True\n",
    "    if num%2==0 or num%3==0:\n",
    "        return False\n",
    "    i=5\n",
    "    while i*i<=num:\n",
    "        if num%i==0 or num%(i+2)==0:\n",
    "            return False\n",
    "        i += 6\n",
    "    return True\n",
    "        \n",
    "        \n",
    "    "
   ]
  },
  {
   "cell_type": "code",
   "execution_count": 7,
   "id": "58a0ee22-7b03-475a-bc68-be09438b0593",
   "metadata": {},
   "outputs": [
    {
     "data": {
      "text/plain": [
       "True"
      ]
     },
     "execution_count": 7,
     "metadata": {},
     "output_type": "execute_result"
    }
   ],
   "source": [
    "is_prime(7)"
   ]
  },
  {
   "cell_type": "code",
   "execution_count": 8,
   "id": "7489cf2b-3dfc-436a-a6b8-3ba0b273fef5",
   "metadata": {},
   "outputs": [
    {
     "data": {
      "text/plain": [
       "False"
      ]
     },
     "execution_count": 8,
     "metadata": {},
     "output_type": "execute_result"
    }
   ],
   "source": [
    "is_prime(6)"
   ]
  },
  {
   "cell_type": "code",
   "execution_count": 9,
   "id": "5562b1d7-58f2-4ba7-8999-d93b45c23a2d",
   "metadata": {},
   "outputs": [
    {
     "name": "stdout",
     "output_type": "stream",
     "text": [
      "[2, 3, 5, 7, 11, 13, 17, 19, 23, 29, 31, 37, 41, 43, 47]\n"
     ]
    }
   ],
   "source": [
    "prime_number_upto_50 = [num for num in range(1,50) if is_prime(num)]\n",
    "print(prime_number_upto_50)\n"
   ]
  },
  {
   "cell_type": "code",
   "execution_count": 10,
   "id": "aa721d4d-469f-4953-9ae1-62aa13a3fa17",
   "metadata": {},
   "outputs": [],
   "source": [
    "# 34. Split a list into chunks of size `n`.\n",
    "\n",
    "def split_in_chuncks(lst,n):\n",
    "    return [lst[i:i+n] for i in range(0,len(lst),n)]\n",
    "\n",
    "# Explanation: here list comprehension is used for multiple iteration where range is from 0 to complete length of list\"(len(lst)),n is the chunk size which leaving 'n' numbers in a list\n",
    "# lst[i:i+n]: this code helps in slicing the list and making sublist of 'n' size"
   ]
  },
  {
   "cell_type": "code",
   "execution_count": 11,
   "id": "ab882fbc-1d1f-4cba-8c81-cebb800cd194",
   "metadata": {},
   "outputs": [
    {
     "data": {
      "text/plain": [
       "[[1, 2, 3], [4, 5, 6], [7, 8, 9], [10, 11, 12]]"
      ]
     },
     "execution_count": 11,
     "metadata": {},
     "output_type": "execute_result"
    }
   ],
   "source": [
    "split_in_chuncks([1,2,3,4,5,6,7,8,9,10,11,12],3)"
   ]
  },
  {
   "cell_type": "code",
   "execution_count": 14,
   "id": "f1b4b043-87f6-4215-b2fd-1c6963007038",
   "metadata": {},
   "outputs": [
    {
     "name": "stdout",
     "output_type": "stream",
     "text": [
      "The second largest number in the string is: 25\n"
     ]
    }
   ],
   "source": [
    "# 35. Find the second largest number in a list.\n",
    "\n",
    "my_list = [10, 5, 20, 15, 30, 25]\n",
    "s = sorted(set(my_list))\n",
    "print(f\"The second largest number in the string is: {s[-2]}\")"
   ]
  },
  {
   "cell_type": "code",
   "execution_count": 28,
   "id": "70447c12-9fa6-437b-b3c5-e03d3386d064",
   "metadata": {},
   "outputs": [],
   "source": [
    "def second_largest_number(lst):\n",
    "    if len(lst)>=2:\n",
    "        j = sorted(set(lst))\n",
    "        return f\"The second largest number in the list is: {j[-2]}\"\n",
    "    return f\"The list does not contain enough elements\""
   ]
  },
  {
   "cell_type": "code",
   "execution_count": 30,
   "id": "abbfcaf8-6b2f-469c-b7c8-53ade66af1b2",
   "metadata": {},
   "outputs": [
    {
     "data": {
      "text/plain": [
       "'The second largest number in the list is: 47'"
      ]
     },
     "execution_count": 30,
     "metadata": {},
     "output_type": "execute_result"
    }
   ],
   "source": [
    "second_largest_number([1,6,47,8,7,6,86])"
   ]
  },
  {
   "cell_type": "code",
   "execution_count": 29,
   "id": "f528473e-f610-4f54-83b4-a1aa733bbbad",
   "metadata": {},
   "outputs": [
    {
     "data": {
      "text/plain": [
       "'The list does not contain enough elements'"
      ]
     },
     "execution_count": 29,
     "metadata": {},
     "output_type": "execute_result"
    }
   ],
   "source": [
    "second_largest_number([1])"
   ]
  },
  {
   "cell_type": "code",
   "execution_count": 37,
   "id": "e6eef824-12a3-47ee-9a42-bc2309a9e1b8",
   "metadata": {},
   "outputs": [],
   "source": [
    "# 36. Replace every element in a list with its square\n",
    "\n",
    "def replace_with_square(lst):\n",
    "    condition = [i**2 for i in lst]\n",
    "    return condition"
   ]
  },
  {
   "cell_type": "code",
   "execution_count": 38,
   "id": "10a83ecc-26d1-45d1-9506-a3772cc01b9a",
   "metadata": {},
   "outputs": [
    {
     "data": {
      "text/plain": [
       "[0, 1, 4, 9, 16, 25, 36, 49, 64, 81]"
      ]
     },
     "execution_count": 38,
     "metadata": {},
     "output_type": "execute_result"
    }
   ],
   "source": [
    "replace_with_square([0,1,2,3,4,5,6,7,8,9])"
   ]
  },
  {
   "cell_type": "code",
   "execution_count": 41,
   "id": "7c6b16e2-46e0-4387-badb-45ad3ffaad6a",
   "metadata": {},
   "outputs": [],
   "source": [
    "# 37. Convert a list to a dictionary where list elements become keys and their\n",
    "# indices become values.\n",
    "\n",
    "def list_to_dict(lst):\n",
    "    return {value: i for i ,value in enumerate(lst)}\n",
    "\n",
    "# here the enumerate function is used for iterating elements along with their indices"
   ]
  },
  {
   "cell_type": "code",
   "execution_count": 1,
   "id": "ccb8da77-71f3-4990-a79c-c6d705e16d85",
   "metadata": {},
   "outputs": [],
   "source": [
    "# 38. Shuffle the elements of a list randomly.\n",
    "\n",
    "import random\n",
    "\n",
    "def shuffle_list(lst):\n",
    "    random.shuffle(lst)\n",
    "    return lst\n",
    "\n",
    "# Explanation: random is imported to access shuffle function in order to shuffle the list. "
   ]
  },
  {
   "cell_type": "code",
   "execution_count": 2,
   "id": "ce968f8a-ece4-4e88-b487-f6d9afd74b6e",
   "metadata": {},
   "outputs": [
    {
     "data": {
      "text/plain": [
       "[5, 3, 1, 4, 10, 8, 2, 7, 6, 9]"
      ]
     },
     "execution_count": 2,
     "metadata": {},
     "output_type": "execute_result"
    }
   ],
   "source": [
    "shuffle_list([1,2,3,4,5,6,7,8,9,10])"
   ]
  },
  {
   "cell_type": "code",
   "execution_count": 11,
   "id": "4fcd59c9-4b99-4e67-9e98-e9c59a38283a",
   "metadata": {},
   "outputs": [],
   "source": [
    "# 39. Create a list of the first 10 factorial numbers.\n",
    "def fact(n):\n",
    "    if n ==0 or n==1:\n",
    "        return 1\n",
    "    else:\n",
    "        return n*fact(n-1)\n",
    "    \n",
    " "
   ]
  },
  {
   "cell_type": "code",
   "execution_count": 12,
   "id": "18cb7df7-4794-49a8-a8f7-d13eb2cdf4e1",
   "metadata": {},
   "outputs": [],
   "source": [
    "factorial_numbers = [fact(i) for i in range(10) ]"
   ]
  },
  {
   "cell_type": "code",
   "execution_count": 13,
   "id": "b47e7b31-5c04-4bf0-a8ce-daa2f9b90163",
   "metadata": {},
   "outputs": [
    {
     "data": {
      "text/plain": [
       "[1, 1, 2, 6, 24, 120, 720, 5040, 40320, 362880]"
      ]
     },
     "execution_count": 13,
     "metadata": {},
     "output_type": "execute_result"
    }
   ],
   "source": [
    "factorial_numbers"
   ]
  },
  {
   "cell_type": "code",
   "execution_count": 14,
   "id": "4a647dc0-9b3b-4c67-be0d-ffb09fbfcd87",
   "metadata": {},
   "outputs": [
    {
     "data": {
      "text/plain": [
       "120"
      ]
     },
     "execution_count": 14,
     "metadata": {},
     "output_type": "execute_result"
    }
   ],
   "source": [
    "fact(5)"
   ]
  },
  {
   "cell_type": "code",
   "execution_count": 36,
   "id": "709dcd44-0c5e-4356-99f4-9e6f7be2371d",
   "metadata": {},
   "outputs": [],
   "source": [
    "# 40. Check if two lists have at least one element in common\n",
    "\n",
    "def has_common_elements(lst1,lst2):\n",
    "    for i in lst1:\n",
    "        if i in lst2:\n",
    "            return True\n",
    "    return False"
   ]
  },
  {
   "cell_type": "code",
   "execution_count": 39,
   "id": "bc072b2b-8cf0-42cb-8b1c-8a00f833d9cd",
   "metadata": {},
   "outputs": [
    {
     "data": {
      "text/plain": [
       "True"
      ]
     },
     "execution_count": 39,
     "metadata": {},
     "output_type": "execute_result"
    }
   ],
   "source": [
    "has_common_elements([1,2,3,5,6,7],[6,8,9])"
   ]
  },
  {
   "cell_type": "code",
   "execution_count": 40,
   "id": "8c5a9d02-862c-4ab1-9c08-ddf6ce1bf674",
   "metadata": {},
   "outputs": [
    {
     "data": {
      "text/plain": [
       "False"
      ]
     },
     "execution_count": 40,
     "metadata": {},
     "output_type": "execute_result"
    }
   ],
   "source": [
    "has_common_elements([1,2,3,5],[6,7,8,9])"
   ]
  },
  {
   "cell_type": "code",
   "execution_count": 48,
   "id": "8ffeff24-29a7-400d-9f56-ed8670ffa575",
   "metadata": {},
   "outputs": [],
   "source": [
    "# 41. Remove all elements from a list.\n",
    "\n",
    "def empty_list(lst):\n",
    "    lst.clear()\n",
    "    return f\"Your empty list is: {lst}\""
   ]
  },
  {
   "cell_type": "code",
   "execution_count": 49,
   "id": "aa9cd54e-1d8c-4a25-beb2-564adccbfa5f",
   "metadata": {},
   "outputs": [
    {
     "data": {
      "text/plain": [
       "'Your empty list is: []'"
      ]
     },
     "execution_count": 49,
     "metadata": {},
     "output_type": "execute_result"
    }
   ],
   "source": [
    "empty_list([1,2,3,5,3,5,6,7,88,9,3,5,6,77,8,9,4,67,8])"
   ]
  },
  {
   "cell_type": "code",
   "execution_count": 3,
   "id": "619f8e8b-ba7d-4ef5-974e-372a8b3e8af3",
   "metadata": {},
   "outputs": [],
   "source": [
    "# 42. Replace negative numbers in a list with 0\n",
    "\n",
    "def replace_negative_number(lst):\n",
    "    for i in range(len(lst)):\n",
    "        if lst[i]<0:\n",
    "            lst[i]=0\n",
    "    return f\"List after replacing negative numbers with zero: {lst}\"\n",
    "            "
   ]
  },
  {
   "cell_type": "code",
   "execution_count": 4,
   "id": "3bd5dc27-a560-48a5-aeda-d0a030391181",
   "metadata": {},
   "outputs": [
    {
     "data": {
      "text/plain": [
       "'List after replacing negative numbers with zero: [0, 0, 0, 0, 0]'"
      ]
     },
     "execution_count": 4,
     "metadata": {},
     "output_type": "execute_result"
    }
   ],
   "source": [
    "replace_negative_number([-2,-2,-4,-5,-6])"
   ]
  },
  {
   "cell_type": "code",
   "execution_count": 5,
   "id": "cd651957-34c5-44bc-96b9-a310d48aa8b2",
   "metadata": {},
   "outputs": [
    {
     "data": {
      "text/plain": [
       "'List after replacing negative numbers with zero: [1, 2, 3, 5, 0, 0, 0, 0, 0]'"
      ]
     },
     "execution_count": 5,
     "metadata": {},
     "output_type": "execute_result"
    }
   ],
   "source": [
    "replace_negative_number([1,2,3,5,0,-5,-5,-9,-0])"
   ]
  },
  {
   "cell_type": "code",
   "execution_count": 10,
   "id": "677524f1-16e2-4514-8f90-8d414a605176",
   "metadata": {},
   "outputs": [],
   "source": [
    "# 43. Convert a string into a list of words.\n",
    "\n",
    "def string_to_list(string):\n",
    "    return f\"The list of word is: {string.split()}\""
   ]
  },
  {
   "cell_type": "code",
   "execution_count": 11,
   "id": "bc454d10-9e09-41da-836e-538da9b8f837",
   "metadata": {},
   "outputs": [
    {
     "data": {
      "text/plain": [
       "\"The list of word is: ['banana,corainder,leaves,vegetable,cucumber,orange']\""
      ]
     },
     "execution_count": 11,
     "metadata": {},
     "output_type": "execute_result"
    }
   ],
   "source": [
    "string_to_list('banana,corainder,leaves,vegetable,cucumber,orange')"
   ]
  },
  {
   "cell_type": "code",
   "execution_count": 12,
   "id": "fee62c33-d7ba-45ac-a9b7-7129e1540369",
   "metadata": {},
   "outputs": [],
   "source": [
    "# 44. Convert a list of words into a string\n",
    "\n",
    "def list_to_string(lst):\n",
    "    return f\"The string is: {' '.join(lst)}\"\n"
   ]
  },
  {
   "cell_type": "code",
   "execution_count": 16,
   "id": "eacdd83a-8527-4971-b2eb-18771988e8b9",
   "metadata": {},
   "outputs": [
    {
     "data": {
      "text/plain": [
       "'The string is: I eat chips a day. so, I can become Doctor one day.'"
      ]
     },
     "execution_count": 16,
     "metadata": {},
     "output_type": "execute_result"
    }
   ],
   "source": [
    "list_to_string(['I','eat','chips','a','day.','so,','I','can','become','Doctor','one','day.'])"
   ]
  },
  {
   "cell_type": "code",
   "execution_count": 17,
   "id": "6b6997e8-8683-408a-bc67-dc166cee269b",
   "metadata": {},
   "outputs": [],
   "source": [
    "# 45. Create a list of the first `n` powers of 2.\n",
    "\n",
    "def power_of_2(n):\n",
    "    return [i**2 for i in range(n)]"
   ]
  },
  {
   "cell_type": "code",
   "execution_count": 18,
   "id": "03c2bdb2-5112-40c0-bc81-6ff4c58c7b99",
   "metadata": {},
   "outputs": [
    {
     "data": {
      "text/plain": [
       "[0, 1, 4, 9, 16, 25, 36, 49, 64, 81]"
      ]
     },
     "execution_count": 18,
     "metadata": {},
     "output_type": "execute_result"
    }
   ],
   "source": [
    "power_of_2(10)"
   ]
  },
  {
   "cell_type": "code",
   "execution_count": 3,
   "id": "e8d2c174-b959-446e-b4fc-1602a6a7c145",
   "metadata": {},
   "outputs": [],
   "source": [
    "# 46. Find the longest string in a list of strings.\n",
    "\n",
    "def longest_string(lst):\n",
    "    longest_string = \"\"\n",
    "    for i in lst:\n",
    "        if len(i)>len(longest_string):\n",
    "            longest_string = i\n",
    "    return f\"The longest string in a list: {longest_string}\""
   ]
  },
  {
   "cell_type": "code",
   "execution_count": 4,
   "id": "5a1080f2-bda1-40a3-88eb-2971826a0aba",
   "metadata": {},
   "outputs": [
    {
     "data": {
      "text/plain": [
       "'The longest string in a list: elderberry'"
      ]
     },
     "execution_count": 4,
     "metadata": {},
     "output_type": "execute_result"
    }
   ],
   "source": [
    "longest_string( [\"apple\", \"banana\", \"cherry\", \"date\", \"elderberry\"])"
   ]
  },
  {
   "cell_type": "code",
   "execution_count": 9,
   "id": "6efab608-c2b6-4b60-8723-3d83fe2e560c",
   "metadata": {},
   "outputs": [],
   "source": [
    "# 47. Find the shortest string in a list of strings.\n",
    "\n",
    "def shortest_string(lst):\n",
    "    shortest_string = \"lst[0]\"\n",
    "    for i in lst:\n",
    "        if len(i)<len(shortest_string):\n",
    "            shortest_string = i\n",
    "    return f\"The shortest string in the list is: {shortest_string}\""
   ]
  },
  {
   "cell_type": "code",
   "execution_count": 10,
   "id": "11b78d17-8b36-45bf-823b-f01c950561c8",
   "metadata": {},
   "outputs": [
    {
     "data": {
      "text/plain": [
       "'The shortest string in the list is: date'"
      ]
     },
     "execution_count": 10,
     "metadata": {},
     "output_type": "execute_result"
    }
   ],
   "source": [
    "shortest_string([\"apple\", \"banana\", \"cherry\", \"date\", \"elderberry\"])"
   ]
  },
  {
   "cell_type": "code",
   "execution_count": 3,
   "id": "c28a9e90-7986-4eae-92e3-b305a2478a76",
   "metadata": {},
   "outputs": [],
   "source": [
    "# 48. Create a list of the first `n` triangular numbers.\n",
    "\n",
    "def traingular_number(n):\n",
    "    return [i*(i+1)//2 for i in range(1,n+1)]"
   ]
  },
  {
   "cell_type": "code",
   "execution_count": 4,
   "id": "54e29ad7-eab3-48b1-89ee-040a28153d0c",
   "metadata": {},
   "outputs": [
    {
     "data": {
      "text/plain": [
       "[1, 3, 6, 10, 15, 21, 28, 36, 45, 55]"
      ]
     },
     "execution_count": 4,
     "metadata": {},
     "output_type": "execute_result"
    }
   ],
   "source": [
    "traingular_number(10)"
   ]
  },
  {
   "cell_type": "code",
   "execution_count": 5,
   "id": "7bff38a3-caea-4e35-96bd-c3e3b0bfe9fe",
   "metadata": {},
   "outputs": [
    {
     "data": {
      "text/plain": [
       "[1, 3, 6, 10, 15]"
      ]
     },
     "execution_count": 5,
     "metadata": {},
     "output_type": "execute_result"
    }
   ],
   "source": [
    "traingular_number(5)"
   ]
  },
  {
   "cell_type": "code",
   "execution_count": 2,
   "id": "5e6fc612-0582-4188-9ef3-20bba0729b3b",
   "metadata": {},
   "outputs": [],
   "source": [
    "# 49. Check if a list contains another list as a subsequence.\n",
    "\n",
    "def is_subsequence(main_list,sub):\n",
    "    subseq_index = 0\n",
    "    for element in main_list:\n",
    "        if element == sub[subseq_index]:\n",
    "            subseq_index += 1\n",
    "            if subseq_index == len(sub):\n",
    "                return True \n",
    "    return False"
   ]
  },
  {
   "cell_type": "code",
   "execution_count": 3,
   "id": "9c910977-13ef-43fe-9c7b-e4a0f4744f33",
   "metadata": {},
   "outputs": [
    {
     "data": {
      "text/plain": [
       "True"
      ]
     },
     "execution_count": 3,
     "metadata": {},
     "output_type": "execute_result"
    }
   ],
   "source": [
    "is_subsequence([1,2,3,4,5,6,7,8,9,10],[1,5,6])"
   ]
  },
  {
   "cell_type": "code",
   "execution_count": 4,
   "id": "16922062-63ff-4195-8df4-f3efe6fbb5cf",
   "metadata": {},
   "outputs": [
    {
     "data": {
      "text/plain": [
       "False"
      ]
     },
     "execution_count": 4,
     "metadata": {},
     "output_type": "execute_result"
    }
   ],
   "source": [
    "is_subsequence([1,2,3,4,5,6,7,8],[1,1])\n",
    "# drawback_1:if the elements occur twice it returns false although that must be conisdered true"
   ]
  },
  {
   "cell_type": "code",
   "execution_count": 6,
   "id": "b680a250-3b52-498b-b27d-e746fc4278de",
   "metadata": {},
   "outputs": [
    {
     "data": {
      "text/plain": [
       "False"
      ]
     },
     "execution_count": 6,
     "metadata": {},
     "output_type": "execute_result"
    }
   ],
   "source": [
    "is_subsequence([1,2,3,4,5,6,7,8,9,10],[5,4,1])\n",
    "# drawback_2: it reads element only in forward direction although the provided list is subsequence of the mainlist"
   ]
  },
  {
   "cell_type": "code",
   "execution_count": 14,
   "id": "e8b9bb64-9188-4bc6-aadb-12d4ed57d95f",
   "metadata": {},
   "outputs": [
    {
     "data": {
      "text/plain": [
       "['hello', 'orange', 'orange', 1, 3, 5.66, 'vanilla']"
      ]
     },
     "execution_count": 14,
     "metadata": {},
     "output_type": "execute_result"
    }
   ],
   "source": [
    "# 50. Swap two elements in a list by their indices.\n",
    "l1 = ['hello','cat','orange',1,3,5.66,'vanilla']\n",
    "x = l1[1]\n",
    "l1[1]=l1[2]\n"
   ]
  },
  {
   "cell_type": "code",
   "execution_count": 11,
   "id": "f9c108bc-51db-4819-bc41-e1e3374b553d",
   "metadata": {},
   "outputs": [
    {
     "data": {
      "text/plain": [
       "['hello', 'orange', 'orange', 1, 3, 5.66, 'vanilla']"
      ]
     },
     "execution_count": 11,
     "metadata": {},
     "output_type": "execute_result"
    }
   ],
   "source": [
    "l"
   ]
  },
  {
   "cell_type": "code",
   "execution_count": null,
   "id": "e2acf2e6-b5fe-44b7-bc39-92375e15f137",
   "metadata": {},
   "outputs": [],
   "source": []
  },
  {
   "cell_type": "code",
   "execution_count": null,
   "id": "2a1ece59-29c1-496f-9fed-bac13f057bcb",
   "metadata": {},
   "outputs": [],
   "source": [
    "# Tuple Based Practice Problem :"
   ]
  },
  {
   "cell_type": "code",
   "execution_count": 10,
   "id": "2e920606-8c9b-443d-b408-abb50b8b22da",
   "metadata": {},
   "outputs": [
    {
     "name": "stdout",
     "output_type": "stream",
     "text": [
      "(1, 2, 3, 4, 5)\n"
     ]
    }
   ],
   "source": [
    "# 1. Create a tuple with integers from 1 to 5.\n",
    "t = (1,2,3,4,5)\n",
    "print(t)"
   ]
  },
  {
   "cell_type": "code",
   "execution_count": 11,
   "id": "66201dc8-ab59-41c6-99c8-8aca17d8d64d",
   "metadata": {},
   "outputs": [
    {
     "name": "stdout",
     "output_type": "stream",
     "text": [
      "The third element of the tuple is : 3\n"
     ]
    }
   ],
   "source": [
    "# 2. Access the third element of a tuple.\n",
    "t = (1,2,3,4,5)\n",
    "print(f\"The third element of the tuple is : {t[2]}\")"
   ]
  },
  {
   "cell_type": "code",
   "execution_count": 13,
   "id": "2342be66-969c-4f3c-a767-c3bb4541f273",
   "metadata": {},
   "outputs": [
    {
     "name": "stdout",
     "output_type": "stream",
     "text": [
      "The length of tuple is: 5\n"
     ]
    }
   ],
   "source": [
    "# 3. Find the length of a tuple without using the `len()` function.\n",
    "t = (1,2,3,4,5)\n",
    "count = 0\n",
    "for i in t:\n",
    "    count += 1\n",
    "print(f\"The length of tuple is: {count}\")"
   ]
  },
  {
   "cell_type": "code",
   "execution_count": 17,
   "id": "6defc71c-b4c4-4fe3-bfdb-c1efc50de3a7",
   "metadata": {},
   "outputs": [],
   "source": [
    "# 4. Count the occurrences of an element in a tuple\n",
    "def count(tupl,element):\n",
    "    return tupl.count(element)"
   ]
  },
  {
   "cell_type": "code",
   "execution_count": 18,
   "id": "c4787c8f-979f-4ebd-82e5-b4774591fdc3",
   "metadata": {},
   "outputs": [
    {
     "data": {
      "text/plain": [
       "6"
      ]
     },
     "execution_count": 18,
     "metadata": {},
     "output_type": "execute_result"
    }
   ],
   "source": [
    "count((1,2,3,4,5,4,2,2,2,2,3,6,2),2)"
   ]
  },
  {
   "cell_type": "code",
   "execution_count": 19,
   "id": "f739d15e-1b7c-4674-9e61-a7b6c34e5427",
   "metadata": {},
   "outputs": [
    {
     "data": {
      "text/plain": [
       "1"
      ]
     },
     "execution_count": 19,
     "metadata": {},
     "output_type": "execute_result"
    }
   ],
   "source": [
    "# 5. Find the index of the first occurrence of an element in a tuple.\n",
    "t = (1,2,3,4,5,4,2,2,2,2,3,6,2)\n",
    "t.index(2)"
   ]
  },
  {
   "cell_type": "code",
   "execution_count": 20,
   "id": "4ba25475-f3c8-455d-bee4-e3e62107dea8",
   "metadata": {},
   "outputs": [
    {
     "data": {
      "text/plain": [
       "11"
      ]
     },
     "execution_count": 20,
     "metadata": {},
     "output_type": "execute_result"
    }
   ],
   "source": [
    "t.index(6)"
   ]
  },
  {
   "cell_type": "code",
   "execution_count": 30,
   "id": "1253bc00-463e-4121-824e-e4d16e3714e1",
   "metadata": {},
   "outputs": [],
   "source": [
    "# 6. Check if an element exists in a tuple.\n",
    "def if_exist(tupl,element):\n",
    "    for i in tupl:\n",
    "        if i == element:\n",
    "            return True\n",
    "    return False\n",
    "    "
   ]
  },
  {
   "cell_type": "code",
   "execution_count": 31,
   "id": "547c190e-1f2c-4b8a-84c3-b68bc8793107",
   "metadata": {},
   "outputs": [
    {
     "data": {
      "text/plain": [
       "True"
      ]
     },
     "execution_count": 31,
     "metadata": {},
     "output_type": "execute_result"
    }
   ],
   "source": [
    "if_exist((1,2,3,4,5),4)"
   ]
  },
  {
   "cell_type": "code",
   "execution_count": 32,
   "id": "9996ecc9-8ab5-41f4-85d4-683c73df3b8d",
   "metadata": {},
   "outputs": [
    {
     "data": {
      "text/plain": [
       "False"
      ]
     },
     "execution_count": 32,
     "metadata": {},
     "output_type": "execute_result"
    }
   ],
   "source": [
    "if_exist((1,2,3,4,5),7)"
   ]
  },
  {
   "cell_type": "code",
   "execution_count": 33,
   "id": "a2fea0a1-20d9-41f7-8204-ecbc215c9b49",
   "metadata": {},
   "outputs": [],
   "source": [
    "# 7. Convert a tuple to a list\n",
    "def convert_to_list(tupl):\n",
    "    return list(tupl)"
   ]
  },
  {
   "cell_type": "code",
   "execution_count": 34,
   "id": "ce3c02a4-d9d8-46e9-9dc5-f1b24e4de8ea",
   "metadata": {},
   "outputs": [
    {
     "data": {
      "text/plain": [
       "[1, 2, 3, 4, 5]"
      ]
     },
     "execution_count": 34,
     "metadata": {},
     "output_type": "execute_result"
    }
   ],
   "source": [
    "convert_to_list((1,2,3,4,5))"
   ]
  },
  {
   "cell_type": "code",
   "execution_count": 35,
   "id": "9518fdd7-515c-49e3-8201-c91e25a0405d",
   "metadata": {},
   "outputs": [],
   "source": [
    "# 8. Convert a list to a tuple.\n",
    "def convert_to_tupl(lst):\n",
    "    return tuple(lst)"
   ]
  },
  {
   "cell_type": "code",
   "execution_count": 37,
   "id": "110e3364-ad1d-4a99-a437-cf35da5c20f5",
   "metadata": {},
   "outputs": [
    {
     "data": {
      "text/plain": [
       "(1, 2, 3, 4, 5)"
      ]
     },
     "execution_count": 37,
     "metadata": {},
     "output_type": "execute_result"
    }
   ],
   "source": [
    "convert_to_tupl([1,2,3,4,5])"
   ]
  },
  {
   "cell_type": "code",
   "execution_count": 39,
   "id": "d3dd096e-1274-4fa8-a20e-7d82b3bcc253",
   "metadata": {},
   "outputs": [
    {
     "name": "stdout",
     "output_type": "stream",
     "text": [
      "var1: 1\n",
      "var2: 2\n",
      "var3: 3\n",
      "var4: 4\n",
      "var5: 5\n"
     ]
    }
   ],
   "source": [
    "# 9. Unpack the elements of a tuple into variables.\n",
    "t = (1,2,3,4,5)\n",
    "var1,var2,var3,var4,var5 = t\n",
    "print(\"var1:\" , var1)\n",
    "print(\"var2:\" , var2)\n",
    "print(\"var3:\" , var3)\n",
    "print(\"var4:\" , var4)\n",
    "print(\"var5:\" , var5)"
   ]
  },
  {
   "cell_type": "code",
   "execution_count": 47,
   "id": "319745f8-6022-43d7-89da-93b050334864",
   "metadata": {},
   "outputs": [
    {
     "name": "stdout",
     "output_type": "stream",
     "text": [
      "(2, 4, 6, 8, 10)\n"
     ]
    }
   ],
   "source": [
    "# 10. Create a tuple of even numbers from 1 to 10.\n",
    "t = [i for i in range(2,11,2)]\n",
    "print(tuple(t))"
   ]
  },
  {
   "cell_type": "code",
   "execution_count": 49,
   "id": "10ea653e-04a0-4a5f-b4be-d30f2d21a31d",
   "metadata": {},
   "outputs": [
    {
     "name": "stdout",
     "output_type": "stream",
     "text": [
      "(1, 3, 5, 7, 9)\n"
     ]
    }
   ],
   "source": [
    "# 11. Create a tuple of odd numbers from 1 to 10\n",
    "t = [i for i in range(1,11,2)]\n",
    "print(tuple(t))"
   ]
  },
  {
   "cell_type": "code",
   "execution_count": 51,
   "id": "60e86a24-3809-4c56-acc8-15142f18e597",
   "metadata": {},
   "outputs": [
    {
     "name": "stdout",
     "output_type": "stream",
     "text": [
      "(1, 2, 3, 4, 5, 6, 7, 8, 9, 10)\n"
     ]
    }
   ],
   "source": [
    "# 12. Concatenate two tuples.\n",
    "t1 = (1,2,3,4,5)\n",
    "t2 = (6,7,8,9,10)\n",
    "concatenate = t1+t2\n",
    "print(concatenate)"
   ]
  },
  {
   "cell_type": "code",
   "execution_count": 1,
   "id": "81f07215-6e8f-4b8e-bcfe-d7b62d59e9a2",
   "metadata": {},
   "outputs": [
    {
     "name": "stdout",
     "output_type": "stream",
     "text": [
      "(1, 2, 3, 1, 2, 3, 1, 2, 3)\n"
     ]
    }
   ],
   "source": [
    "# 13. Repeat a tuple three times.\n",
    "t = (1,2,3)\n",
    "print(t*3)"
   ]
  },
  {
   "cell_type": "code",
   "execution_count": 52,
   "id": "c470e4a2-6a4d-45b5-b1d0-c4021300f852",
   "metadata": {},
   "outputs": [],
   "source": [
    "# 14. Check if a tuple is empty.\n",
    "\n",
    "def check_if_empty(tupl):\n",
    "    if tupl:\n",
    "        return f\"Tuple is not empty\"\n",
    "    else:\n",
    "        return f\"tuple is empty\""
   ]
  },
  {
   "cell_type": "code",
   "execution_count": 53,
   "id": "a01cae65-c8e3-4749-b09a-9f9556e93500",
   "metadata": {},
   "outputs": [
    {
     "data": {
      "text/plain": [
       "'Tuple is not empty'"
      ]
     },
     "execution_count": 53,
     "metadata": {},
     "output_type": "execute_result"
    }
   ],
   "source": [
    "check_if_empty((1,2,34))"
   ]
  },
  {
   "cell_type": "code",
   "execution_count": 54,
   "id": "e70a87ba-f301-4ad0-845c-a081da926c1d",
   "metadata": {},
   "outputs": [
    {
     "data": {
      "text/plain": [
       "'Tuple is not empty'"
      ]
     },
     "execution_count": 54,
     "metadata": {},
     "output_type": "execute_result"
    }
   ],
   "source": [
    "check_if_empty(('hello'))"
   ]
  },
  {
   "cell_type": "code",
   "execution_count": 56,
   "id": "385905be-5a7f-4c5f-952a-6d1805d5c1ec",
   "metadata": {},
   "outputs": [
    {
     "data": {
      "text/plain": [
       "'Tuple is not empty'"
      ]
     },
     "execution_count": 56,
     "metadata": {},
     "output_type": "execute_result"
    }
   ],
   "source": [
    "check_if_empty((8))"
   ]
  },
  {
   "cell_type": "code",
   "execution_count": 57,
   "id": "5a07cef9-a38d-4559-ba4b-52a86ae79186",
   "metadata": {},
   "outputs": [
    {
     "data": {
      "text/plain": [
       "'tuple is empty'"
      ]
     },
     "execution_count": 57,
     "metadata": {},
     "output_type": "execute_result"
    }
   ],
   "source": [
    "check_if_empty(())"
   ]
  },
  {
   "cell_type": "code",
   "execution_count": 58,
   "id": "1fd08b5b-a90a-4739-987e-e29c8c6d7c6e",
   "metadata": {},
   "outputs": [],
   "source": [
    "# 15. Create a nested tuple\n",
    "nested_tuple = ((1,2,3),('a','b','c'),(True,False))\n",
    "print(f\"Nested tuple = {}\")"
   ]
  },
  {
   "cell_type": "code",
   "execution_count": 60,
   "id": "f4b7eede-0398-4e6e-a9b0-ee2bd6c007e0",
   "metadata": {},
   "outputs": [
    {
     "data": {
      "text/plain": [
       "(1, 2, 'varli', 'abc high school', ('M00954289', 'exam seat no.'), 9, 10)"
      ]
     },
     "execution_count": 60,
     "metadata": {},
     "output_type": "execute_result"
    }
   ],
   "source": [
    "nested_tuple((\"M00954289\",\"exam seat no.\"))"
   ]
  },
  {
   "cell_type": "code",
   "execution_count": 1,
   "id": "c8a411d9-60d4-42cd-8203-da9617c4f348",
   "metadata": {},
   "outputs": [
    {
     "data": {
      "text/plain": [
       "5"
      ]
     },
     "execution_count": 1,
     "metadata": {},
     "output_type": "execute_result"
    }
   ],
   "source": [
    "# 16. Access the first element of a nested tuple.\n",
    "t = (1,2,3,(5,6,7,4),6.44)\n",
    "t[3][0]\n"
   ]
  },
  {
   "cell_type": "code",
   "execution_count": 10,
   "id": "100baff0-d3f2-4a0e-9838-9b59bc226a03",
   "metadata": {},
   "outputs": [],
   "source": [
    "# 17. Create a tuple with a single element.\n",
    "def single_element(tupl):\n",
    "    if len(tupl)==1:\n",
    "        return tupl\n",
    "    else:\n",
    "        return f\"The tuple can have only one element\""
   ]
  },
  {
   "cell_type": "code",
   "execution_count": 11,
   "id": "78cf29c7-079c-4d3c-9a94-523286134817",
   "metadata": {},
   "outputs": [
    {
     "data": {
      "text/plain": [
       "(2,)"
      ]
     },
     "execution_count": 11,
     "metadata": {},
     "output_type": "execute_result"
    }
   ],
   "source": [
    "single_element((2,))\n",
    "# The trailing comma is necessary in order to inform python that you are trying to make a tuple of single element"
   ]
  },
  {
   "cell_type": "code",
   "execution_count": 14,
   "id": "e53da242-3e79-40dc-93f7-bc7c3f824081",
   "metadata": {},
   "outputs": [
    {
     "ename": "TypeError",
     "evalue": "object of type 'int' has no len()",
     "output_type": "error",
     "traceback": [
      "\u001b[0;31m---------------------------------------------------------------------------\u001b[0m",
      "\u001b[0;31mTypeError\u001b[0m                                 Traceback (most recent call last)",
      "Cell \u001b[0;32mIn[14], line 1\u001b[0m\n\u001b[0;32m----> 1\u001b[0m \u001b[43msingle_element\u001b[49m\u001b[43m(\u001b[49m\u001b[43m(\u001b[49m\u001b[38;5;241;43m2\u001b[39;49m\u001b[43m)\u001b[49m\u001b[43m)\u001b[49m\n",
      "Cell \u001b[0;32mIn[10], line 3\u001b[0m, in \u001b[0;36msingle_element\u001b[0;34m(tupl)\u001b[0m\n\u001b[1;32m      2\u001b[0m \u001b[38;5;28;01mdef\u001b[39;00m \u001b[38;5;21msingle_element\u001b[39m(tupl):\n\u001b[0;32m----> 3\u001b[0m     \u001b[38;5;28;01mif\u001b[39;00m \u001b[38;5;28;43mlen\u001b[39;49m\u001b[43m(\u001b[49m\u001b[43mtupl\u001b[49m\u001b[43m)\u001b[49m\u001b[38;5;241m==\u001b[39m\u001b[38;5;241m1\u001b[39m:\n\u001b[1;32m      4\u001b[0m         \u001b[38;5;28;01mreturn\u001b[39;00m tupl\n\u001b[1;32m      5\u001b[0m     \u001b[38;5;28;01melse\u001b[39;00m:\n",
      "\u001b[0;31mTypeError\u001b[0m: object of type 'int' has no len()"
     ]
    }
   ],
   "source": [
    "single_element((2))\n",
    "# without trailing comma python gives error"
   ]
  },
  {
   "cell_type": "code",
   "execution_count": 15,
   "id": "2eed4856-897d-459d-b672-646fe1dcd229",
   "metadata": {},
   "outputs": [
    {
     "data": {
      "text/plain": [
       "'The tuple can have only one element'"
      ]
     },
     "execution_count": 15,
     "metadata": {},
     "output_type": "execute_result"
    }
   ],
   "source": [
    "single_element((1,2,3))"
   ]
  },
  {
   "cell_type": "code",
   "execution_count": 4,
   "id": "fc112f33-7a3e-4a4d-848d-190df55000e8",
   "metadata": {},
   "outputs": [],
   "source": [
    "# 18. Compare two tuples.                            \n",
    "\n",
    "def compare_tuple(t1,t2):\n",
    "    print(f\"t1 == t2 : {t1 == t2}\")\n",
    "    print(f\"t1 != t2 : {t1 != t2}\")\n",
    "    print(f\"t1 > t2 : {t1 > t2}\")\n",
    "    print(f\"t1 >= t2 : {t1 >= t2}\" )                        \n",
    "    print(f\"t1 < t2 : {t1 < t2}\"   )     \n",
    "    print(f\"t1 <= t2 : {t1 <= t2}\")\n",
    "          \n",
    "                                                                           "
   ]
  },
  {
   "cell_type": "code",
   "execution_count": 5,
   "id": "05a57398-6398-4c68-8c35-343f13bdfcbf",
   "metadata": {},
   "outputs": [
    {
     "name": "stdout",
     "output_type": "stream",
     "text": [
      "t1 == t2 : False\n",
      "t1 != t2 : True\n",
      "t1 > t2 : False\n",
      "t1 >= t2 : False\n",
      "t1 < t2 : True\n",
      "t1 <= t2 : True\n"
     ]
    }
   ],
   "source": [
    "compare_tuple((1,2,3,4),(5,6,7,8))"
   ]
  },
  {
   "cell_type": "code",
   "execution_count": 29,
   "id": "de51e16a-73a5-4f6f-acc0-83e7a31dc9ce",
   "metadata": {},
   "outputs": [],
   "source": [
    "# 19. Delete a tuple.\n",
    "my_tupl = (1,2,3,'mariana')\n",
    "del my_tupl"
   ]
  },
  {
   "cell_type": "code",
   "execution_count": 31,
   "id": "8ed8b00a-115f-43c2-8629-95d7916c86b3",
   "metadata": {},
   "outputs": [
    {
     "ename": "NameError",
     "evalue": "name 'my_tupl' is not defined",
     "output_type": "error",
     "traceback": [
      "\u001b[0;31m---------------------------------------------------------------------------\u001b[0m",
      "\u001b[0;31mNameError\u001b[0m                                 Traceback (most recent call last)",
      "Cell \u001b[0;32mIn[31], line 1\u001b[0m\n\u001b[0;32m----> 1\u001b[0m \u001b[43mmy_tupl\u001b[49m\n",
      "\u001b[0;31mNameError\u001b[0m: name 'my_tupl' is not defined"
     ]
    }
   ],
   "source": [
    "my_tupl"
   ]
  },
  {
   "cell_type": "code",
   "execution_count": 39,
   "id": "8707952a-893c-4e7c-b090-1622016fe25c",
   "metadata": {},
   "outputs": [
    {
     "data": {
      "text/plain": [
       "('world', 'hello', 6, 5, 3, 2, 1)"
      ]
     },
     "execution_count": 39,
     "metadata": {},
     "output_type": "execute_result"
    }
   ],
   "source": [
    "# 20. Slice a tuple.\n",
    "tupl = (1,2,3,5,6,'hello','world')\n",
    "tupl[5:7]"
   ]
  },
  {
   "cell_type": "code",
   "execution_count": 40,
   "id": "866ee5b1-2fde-4e5f-97a3-0b75db8b640d",
   "metadata": {},
   "outputs": [
    {
     "data": {
      "text/plain": [
       "(5, 6)"
      ]
     },
     "execution_count": 40,
     "metadata": {},
     "output_type": "execute_result"
    }
   ],
   "source": [
    "tupl[3:5]"
   ]
  },
  {
   "cell_type": "code",
   "execution_count": 46,
   "id": "1e56e5d4-bc2a-4236-9fd6-4b8e0ad5ab2c",
   "metadata": {},
   "outputs": [
    {
     "data": {
      "text/plain": [
       "('hello', 6, 5)"
      ]
     },
     "execution_count": 46,
     "metadata": {},
     "output_type": "execute_result"
    }
   ],
   "source": [
    "tupl[-2:-5:-1]"
   ]
  },
  {
   "cell_type": "code",
   "execution_count": 48,
   "id": "3c220430-7ad9-4d14-8a12-daf75e1adab3",
   "metadata": {},
   "outputs": [
    {
     "data": {
      "text/plain": [
       "(1, 2, 3, 5, 6, 'hello', 'world')"
      ]
     },
     "execution_count": 48,
     "metadata": {},
     "output_type": "execute_result"
    }
   ],
   "source": [
    "tupl[::1]"
   ]
  },
  {
   "cell_type": "code",
   "execution_count": 49,
   "id": "ccc88399-6518-49e6-a347-2f440f226ceb",
   "metadata": {},
   "outputs": [
    {
     "data": {
      "text/plain": [
       "('world', 'hello', 6, 5, 3, 2, 1)"
      ]
     },
     "execution_count": 49,
     "metadata": {},
     "output_type": "execute_result"
    }
   ],
   "source": [
    "tupl[::-1]"
   ]
  },
  {
   "cell_type": "code",
   "execution_count": 56,
   "id": "10f96cf9-76fa-4363-a8ff-f7b6f26bb75c",
   "metadata": {},
   "outputs": [],
   "source": [
    "# 21. Find the maximum value in a tuple\n",
    "def find_max(t):\n",
    "    return f\"The maximum value in tuple is: {max(t)}\"\n",
    "    "
   ]
  },
  {
   "cell_type": "code",
   "execution_count": 57,
   "id": "842fbbef-7b46-4d08-9ee2-2d33a137bc89",
   "metadata": {},
   "outputs": [
    {
     "data": {
      "text/plain": [
       "'The maximum value in tuple is: 5'"
      ]
     },
     "execution_count": 57,
     "metadata": {},
     "output_type": "execute_result"
    }
   ],
   "source": [
    "find_max((1,2,3,5,.7))"
   ]
  },
  {
   "cell_type": "code",
   "execution_count": 53,
   "id": "a7bc1a4f-896f-473e-9df9-b1a4d489e7cd",
   "metadata": {},
   "outputs": [],
   "source": [
    "# 22. Find the minimum value in a tuple.\n",
    "def find_min(t):\n",
    "    return f\"The minimum value in tuple is: {min(t)}\"\n",
    "    "
   ]
  },
  {
   "cell_type": "code",
   "execution_count": 54,
   "id": "76f8e537-eadc-4a34-8b87-7ce5606b2a76",
   "metadata": {},
   "outputs": [
    {
     "data": {
      "text/plain": [
       "'The minimum value in tuple is: 0.7'"
      ]
     },
     "execution_count": 54,
     "metadata": {},
     "output_type": "execute_result"
    }
   ],
   "source": [
    "find_min((1,2,3,5,.7))"
   ]
  },
  {
   "cell_type": "code",
   "execution_count": 60,
   "id": "ceb0cec5-e113-4af3-9b2b-070a7d973816",
   "metadata": {},
   "outputs": [
    {
     "data": {
      "text/plain": [
       "('h', 'i', ' ', 'h', 'o', 'w', ' ', 'a', 'r', 'e', ' ', 'y', 'o', 'u', '?')"
      ]
     },
     "execution_count": 60,
     "metadata": {},
     "output_type": "execute_result"
    }
   ],
   "source": [
    "# 23. Convert a string to a tuple of characters.\n",
    "str = \"hi how are you?\"\n",
    "tuple(str)"
   ]
  },
  {
   "cell_type": "code",
   "execution_count": 63,
   "id": "c569a454-b4c0-48b5-8835-20d139849c87",
   "metadata": {},
   "outputs": [
    {
     "name": "stdout",
     "output_type": "stream",
     "text": [
      "hi how are you?\n"
     ]
    }
   ],
   "source": [
    "# 24. Convert a tuple of characters to a string.\n",
    "tupl = ('h', 'i', ' ', 'h', 'o', 'w', ' ', 'a', 'r', 'e', ' ', 'y', 'o', 'u', '?')\n",
    "join_characters = ''.join(tupl)\n",
    "print(join_characters)"
   ]
  },
  {
   "cell_type": "code",
   "execution_count": 2,
   "id": "384c5ca8-4c56-4c99-9faf-415f351cd561",
   "metadata": {},
   "outputs": [
    {
     "name": "stdout",
     "output_type": "stream",
     "text": [
      "(1, 2, 4.667, 'sandalwood', 'saad345', True, False)\n"
     ]
    }
   ],
   "source": [
    "# 25. Create a tuple from multiple data types\n",
    "t = (1,2,4.667,'sandalwood','saad345',True,False)\n",
    "print(t)"
   ]
  },
  {
   "cell_type": "code",
   "execution_count": 4,
   "id": "d6927efa-7a8a-4b81-bb84-fa60f922efc9",
   "metadata": {},
   "outputs": [],
   "source": [
    "# 26. Check if two tuples are identical.\n",
    "def are_identical(t1,t2):\n",
    "    if t1==t2:\n",
    "        return f\"Yes, both the tuples are identical\"\n",
    "    return f\"No, they are not identical\""
   ]
  },
  {
   "cell_type": "code",
   "execution_count": 6,
   "id": "2a56f891-198c-4f43-8254-ad7cb4d64daa",
   "metadata": {},
   "outputs": [
    {
     "data": {
      "text/plain": [
       "'Yes, both the tuples are identical'"
      ]
     },
     "execution_count": 6,
     "metadata": {},
     "output_type": "execute_result"
    }
   ],
   "source": [
    "are_identical((1,2,3),(1,2 ,3))"
   ]
  },
  {
   "cell_type": "code",
   "execution_count": 8,
   "id": "033febd9-d770-42c8-94a7-0f564f099044",
   "metadata": {},
   "outputs": [
    {
     "data": {
      "text/plain": [
       "'No, they are not identical'"
      ]
     },
     "execution_count": 8,
     "metadata": {},
     "output_type": "execute_result"
    }
   ],
   "source": [
    "are_identical((1,2,3,'nine',5),(6,2,1))"
   ]
  },
  {
   "cell_type": "code",
   "execution_count": 6,
   "id": "42915d75-f002-49a8-aa81-7dd36f1ffd12",
   "metadata": {},
   "outputs": [],
   "source": [
    "# 27. Sort the elements of a tuple.\n",
    "def sort(t):\n",
    "    return tuple(sorted(t))"
   ]
  },
  {
   "cell_type": "code",
   "execution_count": 7,
   "id": "26896356-383e-4443-bb13-7c29a6dc2da6",
   "metadata": {},
   "outputs": [
    {
     "data": {
      "text/plain": [
       "(1, 2, 3, 3, 6)"
      ]
     },
     "execution_count": 7,
     "metadata": {},
     "output_type": "execute_result"
    }
   ],
   "source": [
    "sort((3,1,2,6,3))"
   ]
  },
  {
   "cell_type": "code",
   "execution_count": 23,
   "id": "db9e9514-c9b3-4d2e-918f-8f2656378739",
   "metadata": {},
   "outputs": [],
   "source": [
    "# 28. Convert a tuple of integers to a tuple of strings\n",
    "def tuple_to_string(t):\n",
    "    return tuple(str(i) for i in t)"
   ]
  },
  {
   "cell_type": "code",
   "execution_count": 24,
   "id": "6f523e9c-ac5a-476e-a448-c8a96675a24a",
   "metadata": {},
   "outputs": [
    {
     "data": {
      "text/plain": [
       "('1.2', '3', '5', '6')"
      ]
     },
     "execution_count": 24,
     "metadata": {},
     "output_type": "execute_result"
    }
   ],
   "source": [
    "tuple_to_string([1.2,3,5,6])"
   ]
  },
  {
   "cell_type": "code",
   "execution_count": 25,
   "id": "14845acc-c99f-4241-a11d-de03f877b33d",
   "metadata": {},
   "outputs": [
    {
     "data": {
      "text/plain": [
       "('1', '2', '3', '5', '4')"
      ]
     },
     "execution_count": 25,
     "metadata": {},
     "output_type": "execute_result"
    }
   ],
   "source": [
    "tuple_to_string((1,2,3,5,4))"
   ]
  },
  {
   "cell_type": "code",
   "execution_count": 36,
   "id": "aeff9667-6acf-4eaf-9b6c-af0a2a6fe49e",
   "metadata": {},
   "outputs": [],
   "source": [
    "# 29. Convert a tuple of strings to a tuple of integers.\n",
    "def string_to_integer(t):\n",
    "    return tuple(int(i) for i in t)"
   ]
  },
  {
   "cell_type": "code",
   "execution_count": 37,
   "id": "ccd11628-a696-4ce2-856c-2644ea876c7a",
   "metadata": {},
   "outputs": [
    {
     "data": {
      "text/plain": [
       "(1, 2, 3, 5, 4)"
      ]
     },
     "execution_count": 37,
     "metadata": {},
     "output_type": "execute_result"
    }
   ],
   "source": [
    "string_to_integer(('1','2','3','5','4'))"
   ]
  },
  {
   "cell_type": "code",
   "execution_count": 38,
   "id": "7ffc1b21-8c51-405b-b6c4-c973e678adae",
   "metadata": {},
   "outputs": [],
   "source": [
    "# 30. Merge two tuples.\n",
    "def Merge_two_tuples(t1,t2):\n",
    "    return t1+t2"
   ]
  },
  {
   "cell_type": "code",
   "execution_count": 39,
   "id": "22e6b96d-74a0-4037-8c19-c09d18162a11",
   "metadata": {},
   "outputs": [
    {
     "data": {
      "text/plain": [
       "(1, 2, 3, 4, 5, 6, 7, 8, 9, 10)"
      ]
     },
     "execution_count": 39,
     "metadata": {},
     "output_type": "execute_result"
    }
   ],
   "source": [
    "Merge_two_tuples((1,2,3,4,5),(6,7,8,9,10))"
   ]
  },
  {
   "cell_type": "code",
   "execution_count": 18,
   "id": "aa7e17b4-d041-4c1c-95f6-65858c36e1c9",
   "metadata": {},
   "outputs": [],
   "source": [
    "# 31. Flatten a nested tuple.\n",
    "def flatten_nested_tuple(t):\n",
    "    flattened = []\n",
    "    for i in t:\n",
    "        if isinstance(i,tuple):\n",
    "            flattened.extend(flatten_nested_tuple(i))\n",
    "        else:\n",
    "            flattened.append(i)\n",
    "    return tuple(flattened)"
   ]
  },
  {
   "cell_type": "code",
   "execution_count": 19,
   "id": "2cbb2534-74be-41a5-bfc3-560777dddd5a",
   "metadata": {},
   "outputs": [
    {
     "data": {
      "text/plain": [
       "(1, 2, 3, 4, 5, 6)"
      ]
     },
     "execution_count": 19,
     "metadata": {},
     "output_type": "execute_result"
    }
   ],
   "source": [
    "flatten_nested_tuple(((1,2,3),(4,5,6)))"
   ]
  },
  {
   "cell_type": "code",
   "execution_count": 25,
   "id": "097964ec-8639-422a-9716-d17456d30640",
   "metadata": {},
   "outputs": [
    {
     "data": {
      "text/plain": [
       "(1, 2, 3, 5, 6, 9, 10, 11)"
      ]
     },
     "execution_count": 25,
     "metadata": {},
     "output_type": "execute_result"
    }
   ],
   "source": [
    "flatten_nested_tuple(((1,2,3),5,6,(9,10,11)))"
   ]
  },
  {
   "cell_type": "code",
   "execution_count": 34,
   "id": "61819234-2f1b-4eba-8635-86502db1fd52",
   "metadata": {},
   "outputs": [
    {
     "name": "stdout",
     "output_type": "stream",
     "text": [
      "the first five prime numbers are: (3, 5)\n"
     ]
    }
   ],
   "source": [
    "# 32. Create a tuple of the first 5 prime numbers.\n",
    "t = tuple(i for i in range(3,6,2))\n",
    "print(f\"the first five prime numbers are: {t}\")"
   ]
  },
  {
   "cell_type": "code",
   "execution_count": 40,
   "id": "58c0b61f-eb75-4c69-b38e-0b0ba2fcb439",
   "metadata": {},
   "outputs": [],
   "source": [
    "# 33. Check if a tuple is a palindrome.\n",
    "def is_palindrome(t):\n",
    "    if t[0::]==t[::-1]:\n",
    "        return f\"Yes the provided tuple is palindrome\"\n",
    "    return f\"no they are not palindrome\""
   ]
  },
  {
   "cell_type": "code",
   "execution_count": 42,
   "id": "858830f8-13a1-48dd-9676-1e059be23234",
   "metadata": {},
   "outputs": [
    {
     "data": {
      "text/plain": [
       "'Yes the provided tuple is palindrome'"
      ]
     },
     "execution_count": 42,
     "metadata": {},
     "output_type": "execute_result"
    }
   ],
   "source": [
    "is_palindrome(('amima'))"
   ]
  },
  {
   "cell_type": "code",
   "execution_count": 43,
   "id": "fde4ffd7-12d0-4872-a834-1406ef0a2f96",
   "metadata": {},
   "outputs": [
    {
     "data": {
      "text/plain": [
       "'no they are not palindrome'"
      ]
     },
     "execution_count": 43,
     "metadata": {},
     "output_type": "execute_result"
    }
   ],
   "source": [
    "is_palindrome(('saad'))"
   ]
  },
  {
   "cell_type": "code",
   "execution_count": 44,
   "id": "7b22839d-f3fc-4c2e-afaf-92d875c554f7",
   "metadata": {},
   "outputs": [
    {
     "data": {
      "text/plain": [
       "'Yes the provided tuple is palindrome'"
      ]
     },
     "execution_count": 44,
     "metadata": {},
     "output_type": "execute_result"
    }
   ],
   "source": [
    "is_palindrome((\"AATAA\"))"
   ]
  },
  {
   "cell_type": "code",
   "execution_count": 48,
   "id": "87dfd13a-d080-42fe-81c9-c8487d8966c3",
   "metadata": {},
   "outputs": [
    {
     "name": "stdout",
     "output_type": "stream",
     "text": [
      "The square of number from 1 to 5 are : (1, 4, 9, 16, 25)\n"
     ]
    }
   ],
   "source": [
    "# 34. Create a tuple of squares of numbers from 1 to 5.\n",
    "t = tuple(i**2 for i in range(1,6))\n",
    "print(f\"The square of number from 1 to 5 are : {t}\")"
   ]
  },
  {
   "cell_type": "code",
   "execution_count": 49,
   "id": "7a9fcf4c-f3bb-474f-9681-a017211b312d",
   "metadata": {},
   "outputs": [
    {
     "name": "stdout",
     "output_type": "stream",
     "text": [
      "tuple with filtered out even number from 1 to 100 is: (1, 3, 5, 7, 9, 11, 13, 15, 17, 19, 21, 23, 25, 27, 29, 31, 33, 35, 37, 39, 41, 43, 45, 47, 49, 51, 53, 55, 57, 59, 61, 63, 65, 67, 69, 71, 73, 75, 77, 79, 81, 83, 85, 87, 89, 91, 93, 95, 97, 99)\n"
     ]
    }
   ],
   "source": [
    "# 35. Filter out all even numbers from a tuple.\n",
    "t = tuple(i for i in range(1,100,2))\n",
    "print(f\"tuple with filtered out even number from 1 to 100 is: {t}\")"
   ]
  },
  {
   "cell_type": "code",
   "execution_count": 6,
   "id": "52716ab0-f46d-44de-b215-e1029f00416e",
   "metadata": {},
   "outputs": [],
   "source": [
    "# 35. Filter out all even numbers from a tuple.\n",
    "def Multiply_tuple_by_two(t):\n",
    "    t1 = tuple(i*2 for i in range(len(t)+1))\n",
    "    return t1"
   ]
  },
  {
   "cell_type": "code",
   "execution_count": 7,
   "id": "9fb09bb9-7eb2-44a3-aea3-c1facc41c70f",
   "metadata": {},
   "outputs": [
    {
     "data": {
      "text/plain": [
       "(0, 2, 4, 6, 8, 10)"
      ]
     },
     "execution_count": 7,
     "metadata": {},
     "output_type": "execute_result"
    }
   ],
   "source": [
    "Multiply_tuple_by_two((1,2,3,4,5))"
   ]
  },
  {
   "cell_type": "code",
   "execution_count": 10,
   "id": "77305d84-e504-43bc-8bc9-003fb1b7650f",
   "metadata": {},
   "outputs": [
    {
     "data": {
      "text/plain": [
       "(41, 83, 67, 49, 66, 16, 54, 55, 7, 65)"
      ]
     },
     "execution_count": 10,
     "metadata": {},
     "output_type": "execute_result"
    }
   ],
   "source": [
    "# 37. Create a tuple of random numbers.\n",
    "import random\n",
    "t = tuple(random.randint(1,100) for i in range(10))\n",
    "t"
   ]
  },
  {
   "cell_type": "code",
   "execution_count": 13,
   "id": "0b9a75fd-ce8a-4d3c-aa04-acbd085bb006",
   "metadata": {},
   "outputs": [],
   "source": [
    "# 38. Check if a tuple is sorted.\n",
    "def if_sorted(t):\n",
    "    for i in range(len(t)-1):\n",
    "        if t[i]>t[i+1]:\n",
    "            return f\"tuple- {t} is not sorted\"\n",
    "    return f\"tuple - {t} is sorted\""
   ]
  },
  {
   "cell_type": "code",
   "execution_count": 14,
   "id": "70f3de6a-a8de-493a-bd01-a7ba68e2674a",
   "metadata": {},
   "outputs": [
    {
     "data": {
      "text/plain": [
       "'tuple- (5, 4, 3, 2, 1) is not sorted'"
      ]
     },
     "execution_count": 14,
     "metadata": {},
     "output_type": "execute_result"
    }
   ],
   "source": [
    "if_sorted((5,4,3,2,1))"
   ]
  },
  {
   "cell_type": "code",
   "execution_count": 15,
   "id": "32e13158-6726-4991-8d24-96f1450fbbe7",
   "metadata": {},
   "outputs": [
    {
     "data": {
      "text/plain": [
       "'tuple - (1, 2, 3, 6, 8, 10) is sorted'"
      ]
     },
     "execution_count": 15,
     "metadata": {},
     "output_type": "execute_result"
    }
   ],
   "source": [
    "if_sorted((1,2,3,6,8,10))"
   ]
  },
  {
   "cell_type": "code",
   "execution_count": 15,
   "id": "8120a078-accd-44a9-8975-6852bbb2400a",
   "metadata": {},
   "outputs": [],
   "source": [
    "# 39. Rotate a tuple to the left by `n` positions.\n",
    "\n",
    "def rotate_left(t,n):\n",
    "    n = n%len(t)\n",
    "    rotated_tuple = t[n:]+t[:n]\n",
    "    return f\"The tuple is rotated to left by '{n} position : {rotated_tuple}'\"\n"
   ]
  },
  {
   "cell_type": "code",
   "execution_count": 16,
   "id": "20dbab1d-5f7b-4482-9057-a932179db3aa",
   "metadata": {},
   "outputs": [
    {
     "data": {
      "text/plain": [
       "\"The tuple is rotated to left by '1 position : (2, 3, 4, 5, 6, 7, 1)'\""
      ]
     },
     "execution_count": 16,
     "metadata": {},
     "output_type": "execute_result"
    }
   ],
   "source": [
    "rotate_left((1,2,3,4,5,6,7),1)"
   ]
  },
  {
   "cell_type": "code",
   "execution_count": 13,
   "id": "f8273ebc-6b5c-4f83-a256-7c3fd5829f3f",
   "metadata": {},
   "outputs": [],
   "source": [
    "# 40. Rotate a tuple to the right by `n` positions.\n",
    "def rotate_right(t,n):\n",
    "    n = n % len(t)\n",
    "    rotated_tuple = t[-n:]+t[:-n]\n",
    "    return f\"The is rotating to right by '{n}': {rotated_tuple}\""
   ]
  },
  {
   "cell_type": "code",
   "execution_count": 14,
   "id": "46e5748d-acdf-4253-bea7-618579001802",
   "metadata": {},
   "outputs": [
    {
     "data": {
      "text/plain": [
       "\"The is rotating to right by '1': (6, 1, 2, 3, 4, 5)\""
      ]
     },
     "execution_count": 14,
     "metadata": {},
     "output_type": "execute_result"
    }
   ],
   "source": [
    "rotate_right((1,2,3,4,5,6),1)\n"
   ]
  },
  {
   "cell_type": "code",
   "execution_count": 11,
   "id": "95dd1712-8c73-41c5-b16f-daadd08ecdba",
   "metadata": {},
   "outputs": [],
   "source": [
    "# 41. Create a tuple of the first 5 Fibonacci numbers.\n",
    "def generate_fibonacci(n):\n",
    "    fibonacci =  [0,1]\n",
    "    while len(fibonacci)<n:\n",
    "        next_number = fibonacci[-1]+fibonacci[-2]\n",
    "        fibonacci.append(next_number)\n",
    "    return f\" The first five fibonacci numbers are: {tuple(fibonacci)}\""
   ]
  },
  {
   "cell_type": "code",
   "execution_count": 12,
   "id": "aa22d810-f96c-476e-91f5-6f62ea77e828",
   "metadata": {},
   "outputs": [
    {
     "data": {
      "text/plain": [
       "' The first five fibonacci numbers are: (0, 1, 1, 2, 3)'"
      ]
     },
     "execution_count": 12,
     "metadata": {},
     "output_type": "execute_result"
    }
   ],
   "source": [
    "generate_fibonacci(5)"
   ]
  },
  {
   "cell_type": "code",
   "execution_count": 26,
   "id": "032bb790-9f76-440b-abde-e65608b00f59",
   "metadata": {},
   "outputs": [
    {
     "name": "stdin",
     "output_type": "stream",
     "text": [
      "Enter elements separated by commas to create tuple:  1,2,3,hello,arena,lets,play,the,game\n"
     ]
    },
    {
     "name": "stdout",
     "output_type": "stream",
     "text": [
      "('1', '2', '3', 'hello', 'arena', 'lets', 'play', 'the', 'game')\n"
     ]
    }
   ],
   "source": [
    "# 42. Create a tuple from user input\n",
    "_input = input(\"Enter elements separated by commas to create tuple: \")\n",
    "split_string = _input.split(',')\n",
    "print(tuple(split_string))"
   ]
  },
  {
   "cell_type": "code",
   "execution_count": 36,
   "id": "35383f75-80c0-438e-a0c7-039fa2a3eec4",
   "metadata": {},
   "outputs": [
    {
     "name": "stdout",
     "output_type": "stream",
     "text": [
      "(3, 2, 1, 4, 5)\n"
     ]
    }
   ],
   "source": [
    "# 43. Swap two elements in a tuple.\n",
    "t = (1,2,3,4,5)\n",
    "j = list(t)\n",
    "for i in j:\n",
    "    j[0],j[2]= j[2],j[0]\n",
    "print(tuple(j))"
   ]
  },
  {
   "cell_type": "code",
   "execution_count": 1,
   "id": "832864b6-1bbe-4e07-bd21-e981a665b53b",
   "metadata": {},
   "outputs": [],
   "source": [
    "# 44. Reverse the elements of a tuple.\n",
    "def reverse_element(t):\n",
    "    return t[::-1]"
   ]
  },
  {
   "cell_type": "code",
   "execution_count": 2,
   "id": "4a184c88-4ff7-4b8d-bb7d-b24c4af04cad",
   "metadata": {},
   "outputs": [
    {
     "data": {
      "text/plain": [
       "'neerhaT'"
      ]
     },
     "execution_count": 2,
     "metadata": {},
     "output_type": "execute_result"
    }
   ],
   "source": [
    "reverse_element((\"Tahreen\"))"
   ]
  },
  {
   "cell_type": "code",
   "execution_count": 3,
   "id": "185a9f48-ddea-49ee-94ba-66e2375ca51c",
   "metadata": {},
   "outputs": [
    {
     "data": {
      "text/plain": [
       "(6, 5, 4, 3, 2, 1)"
      ]
     },
     "execution_count": 3,
     "metadata": {},
     "output_type": "execute_result"
    }
   ],
   "source": [
    "reverse_element((1,2,3,4,5,6))"
   ]
  },
  {
   "cell_type": "code",
   "execution_count": 25,
   "id": "63cd5bee-03fe-4387-b7e9-cf6ec3e84560",
   "metadata": {},
   "outputs": [
    {
     "data": {
      "text/plain": [
       "(1, 4, 9, 16, 25, 36, 49, 64, 81, 100)"
      ]
     },
     "execution_count": 25,
     "metadata": {},
     "output_type": "execute_result"
    }
   ],
   "source": [
    "# 45. Create a tuple of the first `n` powers of 2.\n",
    "n = 11\n",
    "t = tuple(i**2 for i in range(1,n))\n",
    "t"
   ]
  },
  {
   "cell_type": "code",
   "execution_count": 15,
   "id": "0729a000-7862-46cc-a7a8-5b9dcb5bc43d",
   "metadata": {},
   "outputs": [],
   "source": [
    "# 46. Find the longest string in a tuple of strings\n",
    "# Method_1\n",
    "def longest_string(t):\n",
    "    longest_string = ()\n",
    "    for i in t:\n",
    "        if len(i)>=len(longest_string):\n",
    "            longest_string = i\n",
    "    return longest_string"
   ]
  },
  {
   "cell_type": "code",
   "execution_count": 17,
   "id": "77a1fd9a-f65f-4d31-9262-3251d521759d",
   "metadata": {},
   "outputs": [
    {
     "data": {
      "text/plain": [
       "'12345saadkhan665'"
      ]
     },
     "execution_count": 17,
     "metadata": {},
     "output_type": "execute_result"
    }
   ],
   "source": [
    "longest_string(('hello','world','Tahreen','12345saadkhan665'))"
   ]
  },
  {
   "cell_type": "code",
   "execution_count": 19,
   "id": "2510c758-9ee9-4b8e-91d4-ae0cb4f42041",
   "metadata": {},
   "outputs": [],
   "source": [
    "# Mehod_2\n",
    "def longest_str(t):\n",
    "    longest_string = max(t,key=len)\n",
    "    return f\"The longest string is: {longest_string}\""
   ]
  },
  {
   "cell_type": "code",
   "execution_count": 22,
   "id": "a99b4090-4f4d-4e07-9f87-8f700a72b74b",
   "metadata": {},
   "outputs": [
    {
     "data": {
      "text/plain": [
       "'The longest string is: watermelon'"
      ]
     },
     "execution_count": 22,
     "metadata": {},
     "output_type": "execute_result"
    }
   ],
   "source": [
    "longest_str((\"apple\", \"banana\", \"grape\", \"kiwi\", \"watermelon\"))"
   ]
  },
  {
   "cell_type": "code",
   "execution_count": 21,
   "id": "adde5ba5-9d07-44f5-a880-a6085677fc54",
   "metadata": {},
   "outputs": [],
   "source": [
    "# 47. Find the shortest string in a tuple of strings.\n",
    "def shortest_string(t):\n",
    "    shortest_string = min(t,key = len)\n",
    "    return f\"The shortest string in the tuple is : {shortest_string}\""
   ]
  },
  {
   "cell_type": "code",
   "execution_count": 23,
   "id": "79f94979-0077-42b2-a001-34c013e8ba82",
   "metadata": {},
   "outputs": [
    {
     "data": {
      "text/plain": [
       "'The shortest string in the tuple is : kiwi'"
      ]
     },
     "execution_count": 23,
     "metadata": {},
     "output_type": "execute_result"
    }
   ],
   "source": [
    "shortest_string((\"apple\", \"banana\", \"grape\", \"kiwi\", \"watermelon\"))"
   ]
  },
  {
   "cell_type": "code",
   "execution_count": 28,
   "id": "4b5114b6-27e5-4ce2-9424-051b18c3e658",
   "metadata": {},
   "outputs": [
    {
     "data": {
      "text/plain": [
       "(0, 1, 3, 6, 10, 15, 21, 28, 36, 45)"
      ]
     },
     "execution_count": 28,
     "metadata": {},
     "output_type": "execute_result"
    }
   ],
   "source": [
    "# 48. Create a tuple of the first `n` triangular numbers\n",
    "n = 10\n",
    "triangular_number = tuple(i*(i+1)//2 for i in range(10))\n",
    "triangular_number"
   ]
  },
  {
   "cell_type": "code",
   "execution_count": 1,
   "id": "388f2ce7-bd8b-4dae-88c6-8b029071960e",
   "metadata": {},
   "outputs": [],
   "source": [
    "# 49. Check if a tuple contains another tuple as a subsequence.\n",
    "\n",
    "def if_subsequence(tupl,sub_tupl):\n",
    "    for i in range(len(tupl)-len(sub_tupl)+1):\n",
    "        if tupl[i:i+len(sub_tupl)]==sub_tupl:\n",
    "            return f\"{sub_tupl} is the subsequence of {tupl}\"\n",
    "    return f\"{sub_tupl} is not the subsequence of {tupl}\"\n"
   ]
  },
  {
   "cell_type": "code",
   "execution_count": 2,
   "id": "3b8c4ada-c3c4-48a7-9e3b-2bf84ab562d3",
   "metadata": {},
   "outputs": [
    {
     "data": {
      "text/plain": [
       "'(4, 5, 6) is the subsequence of (1, 2, 3, 4, 5, 6)'"
      ]
     },
     "execution_count": 2,
     "metadata": {},
     "output_type": "execute_result"
    }
   ],
   "source": [
    "if_subsequence((1,2,3,4,5,6),(4,5,6))"
   ]
  },
  {
   "cell_type": "code",
   "execution_count": 3,
   "id": "8af3316b-6e87-4f8d-b312-c2adabed2bd9",
   "metadata": {},
   "outputs": [
    {
     "data": {
      "text/plain": [
       "'(4, 5, 6) is not the subsequence of (1, 2, 3, 4, 5)'"
      ]
     },
     "execution_count": 3,
     "metadata": {},
     "output_type": "execute_result"
    }
   ],
   "source": [
    "if_subsequence((1,2,3,4,5),(4,5,6))"
   ]
  },
  {
   "cell_type": "code",
   "execution_count": 1,
   "id": "f7683b7d-b7e1-4fc6-af3d-1cbee2e48695",
   "metadata": {},
   "outputs": [],
   "source": [
    "# 50. Create a tuple of alternating 1s and 0s of length n.\n",
    "def alternating_1s_and_0s(n):\n",
    "    alternating_tuple = tuple(i%2 for i in range(n))\n",
    "    return alternating_tuple"
   ]
  },
  {
   "cell_type": "code",
   "execution_count": 2,
   "id": "da088c4a-e881-4db0-be70-ceaba7892eb5",
   "metadata": {},
   "outputs": [
    {
     "data": {
      "text/plain": [
       "(0, 1, 0, 1, 0, 1, 0, 1, 0, 1)"
      ]
     },
     "execution_count": 2,
     "metadata": {},
     "output_type": "execute_result"
    }
   ],
   "source": [
    "alternating_1s_and_0s(10)"
   ]
  },
  {
   "cell_type": "code",
   "execution_count": null,
   "id": "af2a2617-c3c1-42bb-a3bc-b08102d4058c",
   "metadata": {},
   "outputs": [],
   "source": [
    "# Set Based Practice Problem :"
   ]
  },
  {
   "cell_type": "code",
   "execution_count": 6,
   "id": "58b904b1-f588-407a-8bfc-1b5086680cc4",
   "metadata": {},
   "outputs": [
    {
     "name": "stdout",
     "output_type": "stream",
     "text": [
      "Set with integer from 1 to 5 : {1, 2, 3, 4, 5}\n"
     ]
    }
   ],
   "source": [
    "# 1. Create a set with integers from 1 to 5.\n",
    "s = set(i for i in range(1,6))\n",
    "print(f\"Set with integer from 1 to 5 : {s}\")"
   ]
  },
  {
   "cell_type": "code",
   "execution_count": 35,
   "id": "a3c43ccf-7e5e-4e2e-94fa-9a0719c5526b",
   "metadata": {},
   "outputs": [
    {
     "name": "stdout",
     "output_type": "stream",
     "text": [
      "The added element in set are: {1, 2, 3, 4, 5}\n"
     ]
    }
   ],
   "source": [
    "# 2. Add an element to a set.\n",
    "s = set()\n",
    "s.add(1)\n",
    "s.add(2)\n",
    "s.add(3)\n",
    "s.add(4)\n",
    "s.add(5)\n",
    "print(f\"The added element in set are: {s}\")"
   ]
  },
  {
   "cell_type": "code",
   "execution_count": 37,
   "id": "921673c9-c446-494c-b1dc-afae07fb16e3",
   "metadata": {},
   "outputs": [
    {
     "data": {
      "text/plain": [
       "{1, 2, 3, 4, 5}"
      ]
     },
     "execution_count": 37,
     "metadata": {},
     "output_type": "execute_result"
    }
   ],
   "source": [
    "# 3. Remove an element from a set.\n",
    "s = {1,2,34,3,4,5}\n",
    "s.remove(34)\n",
    "s"
   ]
  },
  {
   "cell_type": "code",
   "execution_count": 61,
   "id": "b0862966-65b0-4c16-b218-c238612b0ab6",
   "metadata": {},
   "outputs": [
    {
     "name": "stdin",
     "output_type": "stream",
     "text": [
      "Enter the element to check: 5\n"
     ]
    },
    {
     "name": "stdout",
     "output_type": "stream",
     "text": [
      "5 exist in the set\n"
     ]
    }
   ],
   "source": [
    "# 4. Check if an element exists in a set.\n",
    "my_set = {1,2,3,4,5,6,7}\n",
    "element_to_check = int(input(\"Enter the element to check:\"))\n",
    "if element_to_check in my_set:\n",
    "    print(f\"{element_to_check} exist in the set\")\n",
    "else:\n",
    "    print(f\"{element_to_check} does not exist in set\")"
   ]
  },
  {
   "cell_type": "code",
   "execution_count": 1,
   "id": "1756b48a-c449-4a3e-81c8-9b145cde156c",
   "metadata": {},
   "outputs": [],
   "source": [
    "# 5. Find the length of a set without using the len() function\n",
    "def find_length(set):\n",
    "    count = 0\n",
    "    for i in set:\n",
    "        count += 1\n",
    "    return f\"The length of provided set is: {count}\""
   ]
  },
  {
   "cell_type": "code",
   "execution_count": 2,
   "id": "58ec67a4-b8cc-45f1-9f8c-1cb428f8c8f5",
   "metadata": {},
   "outputs": [
    {
     "data": {
      "text/plain": [
       "'The length of provided set is: 4'"
      ]
     },
     "execution_count": 2,
     "metadata": {},
     "output_type": "execute_result"
    }
   ],
   "source": [
    "find_length({1,23,4,6})"
   ]
  },
  {
   "cell_type": "code",
   "execution_count": 3,
   "id": "36288629-8c1d-4331-a586-45533dca89ac",
   "metadata": {},
   "outputs": [
    {
     "data": {
      "text/plain": [
       "'The length of provided set is: 0'"
      ]
     },
     "execution_count": 3,
     "metadata": {},
     "output_type": "execute_result"
    }
   ],
   "source": [
    "find_length({})"
   ]
  },
  {
   "cell_type": "code",
   "execution_count": 8,
   "id": "57c8c4ae-4aa5-4e3e-b28b-09b4b8259efd",
   "metadata": {},
   "outputs": [],
   "source": [
    "# 6. Clear all elements from a set\n",
    "def clear_all(set):\n",
    "    return {set.clear()}"
   ]
  },
  {
   "cell_type": "code",
   "execution_count": 9,
   "id": "8d5545ef-bcb2-411e-aa09-6b272b709760",
   "metadata": {},
   "outputs": [
    {
     "data": {
      "text/plain": [
       "{None}"
      ]
     },
     "execution_count": 9,
     "metadata": {},
     "output_type": "execute_result"
    }
   ],
   "source": [
    "clear_all({1,2,3,4,5})"
   ]
  },
  {
   "cell_type": "code",
   "execution_count": 27,
   "id": "e666bb9d-e6e8-4ac1-aa78-05f0738debac",
   "metadata": {},
   "outputs": [
    {
     "name": "stdout",
     "output_type": "stream",
     "text": [
      "{2, 4, 6, 8, 10}\n"
     ]
    }
   ],
   "source": [
    "# . Create a set of even numbers from 1 to 10.\n",
    "s = {i for i in range(1,11) if i%2==0}\n",
    "print(s)"
   ]
  },
  {
   "cell_type": "code",
   "execution_count": 28,
   "id": "492da660-7ef8-48ee-b598-6fe3c113f122",
   "metadata": {},
   "outputs": [
    {
     "name": "stdout",
     "output_type": "stream",
     "text": [
      "{1, 3, 5, 7, 9}\n"
     ]
    }
   ],
   "source": [
    "# 8. Create a set of odd numbers from 1 to 10.\n",
    "s = {i for i in range(1,11) if i%2 != 0}\n",
    "print(s)"
   ]
  },
  {
   "cell_type": "code",
   "execution_count": 1,
   "id": "ceb9d05d-b0e4-403f-9f77-9e8527943b48",
   "metadata": {},
   "outputs": [],
   "source": [
    "# 9. Find the union of two sets.\n",
    "def union_of_set(a=set,b=set):\n",
    "    return a.union(b)"
   ]
  },
  {
   "cell_type": "code",
   "execution_count": 2,
   "id": "49f73624-cdfe-4145-b9b1-d8d8e15f0ba5",
   "metadata": {},
   "outputs": [
    {
     "data": {
      "text/plain": [
       "{1, 2, 3, 4, 6}"
      ]
     },
     "execution_count": 2,
     "metadata": {},
     "output_type": "execute_result"
    }
   ],
   "source": [
    "union_of_set({1,2,3},{3,4,6})"
   ]
  },
  {
   "cell_type": "code",
   "execution_count": 3,
   "id": "24366d8c-d78d-49e9-8054-e2fc6dbc5043",
   "metadata": {},
   "outputs": [],
   "source": [
    "# 10. Find the intersection of two sets.\n",
    "def intersection(a = set , b = set):\n",
    "    return a.intersection(b)"
   ]
  },
  {
   "cell_type": "code",
   "execution_count": 4,
   "id": "5b4fb212-c095-4720-be73-ac7bc2ff6cc1",
   "metadata": {},
   "outputs": [
    {
     "data": {
      "text/plain": [
       "{3}"
      ]
     },
     "execution_count": 4,
     "metadata": {},
     "output_type": "execute_result"
    }
   ],
   "source": [
    "intersection({1,2,3},{3,4,6})"
   ]
  },
  {
   "cell_type": "code",
   "execution_count": 9,
   "id": "9e6ad0b7-9680-4462-8ed6-7a5d15f22f7a",
   "metadata": {},
   "outputs": [],
   "source": [
    "# 11. Find the difference between two sets.\n",
    "def difference(a=set, b=set):\n",
    "    diff_a = a.difference(b)\n",
    "    diff_b = b.difference(a)\n",
    "    return f\"Differnce in set a : {diff_a}, Difference in set b : {diff_b}\""
   ]
  },
  {
   "cell_type": "code",
   "execution_count": 10,
   "id": "b27e2677-c96d-4672-9526-518eda621754",
   "metadata": {},
   "outputs": [
    {
     "data": {
      "text/plain": [
       "'Differnce in set a : {1, 2}, Difference in set b : {4, 6}'"
      ]
     },
     "execution_count": 10,
     "metadata": {},
     "output_type": "execute_result"
    }
   ],
   "source": [
    "difference({1,2,3},{3,4,6})"
   ]
  },
  {
   "cell_type": "code",
   "execution_count": 15,
   "id": "622f0aa2-1c60-4fbd-9fd1-a2814456a5bd",
   "metadata": {},
   "outputs": [],
   "source": [
    "# 12. Check if a set is a subset of another set\n",
    "def issubset(a=set, b=set):\n",
    "    set1 = a.issubset(b)\n",
    "    set2 = b.issubset(a)\n",
    "    return f\"Set1 subset of Set2: {set1}, Set2 subset of Set1: {set2} \"\n",
    "    \n",
    "    "
   ]
  },
  {
   "cell_type": "code",
   "execution_count": 16,
   "id": "1705a1f0-e787-430f-bf2a-52b587032aff",
   "metadata": {},
   "outputs": [
    {
     "data": {
      "text/plain": [
       "'Set1 subset of Set2: False, Set2 subset of Set1: True '"
      ]
     },
     "execution_count": 16,
     "metadata": {},
     "output_type": "execute_result"
    }
   ],
   "source": [
    "issubset({1,2,3,4,5,6,7,7,8},{2,3,4,5})"
   ]
  },
  {
   "cell_type": "code",
   "execution_count": 17,
   "id": "f33ead25-cf8d-40d7-bf1a-9efbb045d6be",
   "metadata": {},
   "outputs": [
    {
     "data": {
      "text/plain": [
       "'Set1 subset of Set2: False, Set2 subset of Set1: False '"
      ]
     },
     "execution_count": 17,
     "metadata": {},
     "output_type": "execute_result"
    }
   ],
   "source": [
    "issubset({1,2,3},{3,4,6})"
   ]
  },
  {
   "cell_type": "code",
   "execution_count": 18,
   "id": "dc756c39-f26c-400f-834c-548dd016d21e",
   "metadata": {},
   "outputs": [],
   "source": [
    "# 13. Check if a set is a superset of another set.\n",
    "def issuperset( a = set, b= set):\n",
    "    set1 = a.issuperset(b)\n",
    "    set2 = b.issuperset(a)\n",
    "    return f\"Is Set1 superset of set2 : {set1}, Is Set2 superset of Set 1: {set2}\""
   ]
  },
  {
   "cell_type": "code",
   "execution_count": 19,
   "id": "12f95e5f-3bc0-4bad-bc64-c57d3304263c",
   "metadata": {},
   "outputs": [
    {
     "data": {
      "text/plain": [
       "'Is Set1 superset of set2 : True, Is Set2 superset of Set 1: False'"
      ]
     },
     "execution_count": 19,
     "metadata": {},
     "output_type": "execute_result"
    }
   ],
   "source": [
    "issuperset({1,2,3,4,5,6,7,7,8},{2,3,4,5})"
   ]
  },
  {
   "cell_type": "code",
   "execution_count": 20,
   "id": "5843de50-33a1-46aa-a748-aa1016cd3d91",
   "metadata": {},
   "outputs": [
    {
     "data": {
      "text/plain": [
       "'Is Set1 superset of set2 : False, Is Set2 superset of Set 1: False'"
      ]
     },
     "execution_count": 20,
     "metadata": {},
     "output_type": "execute_result"
    }
   ],
   "source": [
    "issuperset({1,2,3},{3,4,6})"
   ]
  },
  {
   "cell_type": "code",
   "execution_count": 21,
   "id": "788ad9cd-2e62-4ec0-9ecd-074c78033f8a",
   "metadata": {},
   "outputs": [],
   "source": [
    "# 14. Create a set from a list.\n",
    "def list_to_set(l1 = list):\n",
    "    return set(l1)"
   ]
  },
  {
   "cell_type": "code",
   "execution_count": 23,
   "id": "82919b38-8e93-4988-92f7-31e0940964e8",
   "metadata": {},
   "outputs": [
    {
     "data": {
      "text/plain": [
       "{1, 2, 3, 4, 'Reena'}"
      ]
     },
     "execution_count": 23,
     "metadata": {},
     "output_type": "execute_result"
    }
   ],
   "source": [
    "list_to_set([1,2,3,3 ,3,4,\"Reena\"])"
   ]
  },
  {
   "cell_type": "code",
   "execution_count": 24,
   "id": "22fef462-dddb-4316-9084-0795390c2890",
   "metadata": {},
   "outputs": [],
   "source": [
    "# 15. Convert a set to a list\n",
    "def set_to_list(s1 = set):\n",
    "    return list(s1)"
   ]
  },
  {
   "cell_type": "code",
   "execution_count": 26,
   "id": "fa2669dc-3efc-4752-89f7-92ee61740e57",
   "metadata": {},
   "outputs": [
    {
     "data": {
      "text/plain": [
       "[1, 2, 3, 4, 'Teena']"
      ]
     },
     "execution_count": 26,
     "metadata": {},
     "output_type": "execute_result"
    }
   ],
   "source": [
    "set_to_list({1,2,3,4,\"Teena\"})"
   ]
  },
  {
   "cell_type": "code",
   "execution_count": 30,
   "id": "d27ba20a-ab10-43fb-83f8-81caccb0c7de",
   "metadata": {},
   "outputs": [],
   "source": [
    "# 16. Remove a random element from a set.\n",
    "import random\n",
    "def remove_random_element(a =set ):\n",
    "    random_element = random.choice(list(a))\n",
    "    delete_random_element = a.remove(random_element)\n",
    "    return a , f\"Removed element = {random_element}\""
   ]
  },
  {
   "cell_type": "code",
   "execution_count": 31,
   "id": "5ce09ddc-8e14-4fde-8f15-a8ba6b20e858",
   "metadata": {},
   "outputs": [
    {
     "data": {
      "text/plain": [
       "({1, 2, 4, 5, 6}, 'Removed element = 3')"
      ]
     },
     "execution_count": 31,
     "metadata": {},
     "output_type": "execute_result"
    }
   ],
   "source": [
    "remove_random_element({1,2,3,4,5,6})"
   ]
  },
  {
   "cell_type": "code",
   "execution_count": 32,
   "id": "3726b11e-0411-403c-835b-f7da05ae3584",
   "metadata": {},
   "outputs": [],
   "source": [
    "# 17. Pop an element from a set.\n",
    "def pop_element(a = set):\n",
    "    popped_element = a.pop()\n",
    "    return f\"popped element: {popped_element}\" ,a"
   ]
  },
  {
   "cell_type": "code",
   "execution_count": 33,
   "id": "88362ac0-eacf-4e84-bfb1-e6cf2534d5b7",
   "metadata": {},
   "outputs": [
    {
     "data": {
      "text/plain": [
       "('popped element: 1', {3, 7, 23, 56})"
      ]
     },
     "execution_count": 33,
     "metadata": {},
     "output_type": "execute_result"
    }
   ],
   "source": [
    "pop_element({1,23,3,56,7})"
   ]
  },
  {
   "cell_type": "code",
   "execution_count": 1,
   "id": "1bf63006-2581-4953-ad93-d49a96d7e4d8",
   "metadata": {},
   "outputs": [],
   "source": [
    "# 18. Check if two sets have no elements in common\n",
    "def isuncommon(a= set, b = set):\n",
    "    common_elements = a.intersection(b)\n",
    "    if common_elements:\n",
    "        return f\"The common elements are : {common_elements}\"\n",
    "    return f\"The two sets have no common elements\"\n",
    "    "
   ]
  },
  {
   "cell_type": "code",
   "execution_count": 2,
   "id": "cc8f8cea-52e1-4861-b5e9-2e6a10174f3f",
   "metadata": {},
   "outputs": [
    {
     "data": {
      "text/plain": [
       "'The two sets have no common elements'"
      ]
     },
     "execution_count": 2,
     "metadata": {},
     "output_type": "execute_result"
    }
   ],
   "source": [
    "isuncommon({1,2,3,4,5},{6,7,8,9})"
   ]
  },
  {
   "cell_type": "code",
   "execution_count": 3,
   "id": "d317b066-19c7-4981-99e7-75c74e2874ee",
   "metadata": {},
   "outputs": [
    {
     "data": {
      "text/plain": [
       "'The common elements are : {3, 4, 5}'"
      ]
     },
     "execution_count": 3,
     "metadata": {},
     "output_type": "execute_result"
    }
   ],
   "source": [
    "isuncommon({1,2,3,4,5},{3,4,5,6,7})"
   ]
  },
  {
   "cell_type": "code",
   "execution_count": 4,
   "id": "9d2b9b16-d080-4277-9a80-bdd1cdfe1ec3",
   "metadata": {},
   "outputs": [],
   "source": [
    "# 19. Find the symmetric difference between two sets.\n",
    "def symmetric_difference(a = set, b = set):\n",
    "    symm_diff = a^b\n",
    "    return symm_diff"
   ]
  },
  {
   "cell_type": "code",
   "execution_count": 5,
   "id": "7be413b3-9e00-4ba3-9dfc-8b0c1251a7eb",
   "metadata": {},
   "outputs": [
    {
     "data": {
      "text/plain": [
       "{1, 2, 4, 6, 7, 8, 9}"
      ]
     },
     "execution_count": 5,
     "metadata": {},
     "output_type": "execute_result"
    }
   ],
   "source": [
    "symmetric_difference({1,2,3,4,5,6},{5,3,7,8,9})"
   ]
  },
  {
   "cell_type": "code",
   "execution_count": 7,
   "id": "605f5b5d-2623-4889-957a-5f5bc3279574",
   "metadata": {},
   "outputs": [
    {
     "data": {
      "text/plain": [
       "set()"
      ]
     },
     "execution_count": 7,
     "metadata": {},
     "output_type": "execute_result"
    }
   ],
   "source": [
    "symmetric_difference({1,2,3,4},{1,2,3,4})"
   ]
  },
  {
   "cell_type": "code",
   "execution_count": 15,
   "id": "0d6ef7a4-e7a9-4d93-b80f-689763e0630f",
   "metadata": {},
   "outputs": [],
   "source": [
    "# 20. Update a set with elements from another set.\n",
    "def update_set(a = set, b=set):\n",
    "    update_set = a.update(b)\n",
    "    return a \n",
    "    "
   ]
  },
  {
   "cell_type": "code",
   "execution_count": 16,
   "id": "e9ab57ec-8015-416c-9592-f9d14e8c069c",
   "metadata": {},
   "outputs": [
    {
     "data": {
      "text/plain": [
       "{1, 2, 3, 4, 5, 6, 7}"
      ]
     },
     "execution_count": 16,
     "metadata": {},
     "output_type": "execute_result"
    }
   ],
   "source": [
    "update_set({1,2,3,4,5},{3,4,5,6,7})"
   ]
  },
  {
   "cell_type": "code",
   "execution_count": 1,
   "id": "02a65454-ed72-4e1e-83e9-012b5625745b",
   "metadata": {},
   "outputs": [
    {
     "name": "stdout",
     "output_type": "stream",
     "text": [
      "The set of first five prime number is: {2, 3, 5, 7, 11}\n"
     ]
    }
   ],
   "source": [
    "# 21. Create a set of the first 5 prime numbers\n",
    "# check if the number is prime\n",
    "def is_prime(num):\n",
    "    if num<=1:\n",
    "        return False\n",
    "    for i in range(2,int(num**0.5)+1):\n",
    "        if num % i == 0:\n",
    "            return False\n",
    "    return True\n",
    "#     creating empty set for storing prime numbers\n",
    "prime_set = set()\n",
    "# staring number for loop iteration\n",
    "num = 2\n",
    "# staring loop, until the minimum lenth of prime set is 5\n",
    "while len(prime_set)<5:\n",
    "#     check whether the number is prime or not using is_prime function.\n",
    "    if is_prime(num):\n",
    "        prime_set.add(num)\n",
    "#         move on to next number for next iteration\n",
    "    num += 1\n",
    "print(\"The set of first five prime number is:\", prime_set)\n",
    "    "
   ]
  },
  {
   "cell_type": "code",
   "execution_count": 2,
   "id": "10362e7c-1853-47dc-bed9-4a3941455fa3",
   "metadata": {},
   "outputs": [],
   "source": [
    "# 22. Check if two sets are identical.\n",
    "def is_identical(x= set , y = set):\n",
    "    if x==y:\n",
    "        return True\n",
    "    return False\n",
    "    \n"
   ]
  },
  {
   "cell_type": "code",
   "execution_count": 6,
   "id": "4a9b4c33-9b55-43e1-bde9-18e8ba89ad02",
   "metadata": {},
   "outputs": [
    {
     "data": {
      "text/plain": [
       "True"
      ]
     },
     "execution_count": 6,
     "metadata": {},
     "output_type": "execute_result"
    }
   ],
   "source": [
    "is_identical({1,2,3,4},{1,2,3,4})"
   ]
  },
  {
   "cell_type": "code",
   "execution_count": 7,
   "id": "9f7b4d9b-69b1-40ae-898f-e20c32173e9d",
   "metadata": {},
   "outputs": [
    {
     "data": {
      "text/plain": [
       "False"
      ]
     },
     "execution_count": 7,
     "metadata": {},
     "output_type": "execute_result"
    }
   ],
   "source": [
    "is_identical({1,2,3,4},{1,2,4,6})"
   ]
  },
  {
   "cell_type": "code",
   "execution_count": 3,
   "id": "4fea511a-3d37-4727-9bbc-01e0a798e8db",
   "metadata": {},
   "outputs": [],
   "source": [
    "# 23. Create a frozen set\n",
    "def frozen_set(x=set):\n",
    "    froze_set = frozenset(x)\n",
    "    return f\"The frozen set is: {froze_set}\""
   ]
  },
  {
   "cell_type": "code",
   "execution_count": 4,
   "id": "ec60da10-a162-4a1a-a796-0a8a6de928b4",
   "metadata": {},
   "outputs": [
    {
     "data": {
      "text/plain": [
       "'The frozen set is: frozenset({1, 2, 34, 5, 6})'"
      ]
     },
     "execution_count": 4,
     "metadata": {},
     "output_type": "execute_result"
    }
   ],
   "source": [
    "frozen_set({1,2,34,5,6})"
   ]
  },
  {
   "cell_type": "code",
   "execution_count": 16,
   "id": "2458f59f-0733-4928-9cdf-f37b5ff771b3",
   "metadata": {},
   "outputs": [],
   "source": [
    "# 24. Check if a set is disjoint with another set.\n",
    "def is_disjoint(x=set , y =set):\n",
    "    disjoint = x.isdisjoint(y)\n",
    "    return f\"Are these sets disjoint: {disjoint} \"\n",
    "    "
   ]
  },
  {
   "cell_type": "code",
   "execution_count": 17,
   "id": "8fc0db16-4c55-495e-9784-f6224aac2e9b",
   "metadata": {},
   "outputs": [
    {
     "data": {
      "text/plain": [
       "'Are these sets disjoint: False '"
      ]
     },
     "execution_count": 17,
     "metadata": {},
     "output_type": "execute_result"
    }
   ],
   "source": [
    "is_disjoint({1,2,3,4},{1,2,3,4})"
   ]
  },
  {
   "cell_type": "code",
   "execution_count": 18,
   "id": "0c7a415f-18f9-4765-9e1c-571abfcb4573",
   "metadata": {},
   "outputs": [
    {
     "data": {
      "text/plain": [
       "'Are these sets disjoint: False '"
      ]
     },
     "execution_count": 18,
     "metadata": {},
     "output_type": "execute_result"
    }
   ],
   "source": [
    "is_disjoint({1,2,3,4},{5,4,6,7})"
   ]
  },
  {
   "cell_type": "code",
   "execution_count": 20,
   "id": "39798842-8096-44a1-a5c1-a9ee50750bde",
   "metadata": {},
   "outputs": [
    {
     "data": {
      "text/plain": [
       "'Are these sets disjoint: True '"
      ]
     },
     "execution_count": 20,
     "metadata": {},
     "output_type": "execute_result"
    }
   ],
   "source": [
    "is_disjoint({1,2,3,4},{5,6,7,8})"
   ]
  },
  {
   "cell_type": "code",
   "execution_count": 28,
   "id": "dc8aa6e8-c4ec-43ad-9d1c-3af2945635d1",
   "metadata": {},
   "outputs": [],
   "source": [
    "# 25. Create a set of squares of numbers from 1 to 5.\n",
    "def create_square(x = set()):\n",
    "    squaring = set(i**2 for i in x)\n",
    "    return squaring"
   ]
  },
  {
   "cell_type": "code",
   "execution_count": 30,
   "id": "1089f47e-5f1f-49df-938e-3d65c1889b3a",
   "metadata": {},
   "outputs": [
    {
     "data": {
      "text/plain": [
       "{1, 4, 9, 16, 25}"
      ]
     },
     "execution_count": 30,
     "metadata": {},
     "output_type": "execute_result"
    }
   ],
   "source": [
    "create_square({1,2,3,4,5})"
   ]
  },
  {
   "cell_type": "code",
   "execution_count": 4,
   "id": "294809f1-df97-4866-8a1d-754516b79e4f",
   "metadata": {},
   "outputs": [],
   "source": [
    "# 26. Filter out all even numbers from a set.\n",
    "def filter_even(x):\n",
    "    filtering_even_out = set(i for i in x if i%2==0)\n",
    "    return filtering_even_out"
   ]
  },
  {
   "cell_type": "code",
   "execution_count": 5,
   "id": "c6434d75-e119-4233-8544-82b83384059d",
   "metadata": {},
   "outputs": [
    {
     "data": {
      "text/plain": [
       "{2, 4, 6, 8, 100}"
      ]
     },
     "execution_count": 5,
     "metadata": {},
     "output_type": "execute_result"
    }
   ],
   "source": [
    "filter_even({1,2,3,4,5,6,7,8,9,100})"
   ]
  },
  {
   "cell_type": "code",
   "execution_count": 6,
   "id": "4370aeea-3a9e-4c4f-9220-491dfe2ea162",
   "metadata": {},
   "outputs": [],
   "source": [
    "# 27. Multiply all elements in a set by 2.\n",
    "def multiply_by_2(x):\n",
    "    mul_by_2 = set(i*2 for i in x)\n",
    "    return mul_by_2"
   ]
  },
  {
   "cell_type": "code",
   "execution_count": 7,
   "id": "73b8d7d3-53d4-44d7-b759-51438819ca99",
   "metadata": {},
   "outputs": [
    {
     "data": {
      "text/plain": [
       "{2, 4, 6, 8, 10}"
      ]
     },
     "execution_count": 7,
     "metadata": {},
     "output_type": "execute_result"
    }
   ],
   "source": [
    "multiply_by_2({1,2,3,4,5})"
   ]
  },
  {
   "cell_type": "code",
   "execution_count": 12,
   "id": "da525af0-2e84-40b5-9143-a36041a8bd72",
   "metadata": {},
   "outputs": [],
   "source": [
    "# 28. Create a set of random numbers.\n",
    "import random\n",
    "def random_numbers_range(x):\n",
    "    y = set()\n",
    "    for i in range(x):\n",
    "        random_numbers = random.randint(1,100)\n",
    "        y.add(random_numbers)\n",
    "    return y\n"
   ]
  },
  {
   "cell_type": "code",
   "execution_count": 13,
   "id": "1252fd2b-1d2e-4586-a080-128f07342161",
   "metadata": {},
   "outputs": [
    {
     "data": {
      "text/plain": [
       "{36, 47, 54, 56, 63}"
      ]
     },
     "execution_count": 13,
     "metadata": {},
     "output_type": "execute_result"
    }
   ],
   "source": [
    "random_numbers_range(5)"
   ]
  },
  {
   "cell_type": "code",
   "execution_count": 37,
   "id": "4b484b21-2652-40ca-b328-30b7f4ea89d3",
   "metadata": {},
   "outputs": [
    {
     "name": "stdout",
     "output_type": "stream",
     "text": [
      "The set is empty\n"
     ]
    }
   ],
   "source": [
    "# 29. Check if a set is empty.\n",
    "my_set = set()\n",
    "# As if statement understands boolean language and it interprets empty set as false thus \"if not my_set\" is used rather than \"if my_set\"\n",
    "if not my_set:\n",
    "    print(\"The set is empty\")\n",
    "else:\n",
    "    print(\"The set is non empty\")"
   ]
  },
  {
   "cell_type": "code",
   "execution_count": 1,
   "id": "3cb7865d-b16a-45b9-95b8-ff623aa516b2",
   "metadata": {},
   "outputs": [],
   "source": [
    "# 30. Create a nested set (hint: use frozenset).\n",
    "def nested_set(x,y):\n",
    "    frozen_set1 = frozenset(x)\n",
    "    frozen_set2 = frozenset(y)\n",
    "    nested_set = {frozen_set1, frozen_set2}\n",
    "    return f\"Nested sets are : {nested_set}\""
   ]
  },
  {
   "cell_type": "code",
   "execution_count": 2,
   "id": "59f9431b-ab81-4f19-a4e9-a879d52a8c1f",
   "metadata": {},
   "outputs": [
    {
     "data": {
      "text/plain": [
       "'Nested sets are : {frozenset({1, 2, 3, 5}), frozenset({8, 6, 7})}'"
      ]
     },
     "execution_count": 2,
     "metadata": {},
     "output_type": "execute_result"
    }
   ],
   "source": [
    "nested_set({1,2,3,5},{6,7,8})"
   ]
  },
  {
   "cell_type": "code",
   "execution_count": 9,
   "id": "13fab291-eb45-46fc-add4-bfec625696db",
   "metadata": {},
   "outputs": [],
   "source": [
    "# 31. Remove an element from a set using the discard method.\n",
    "def discard_element(set,x):\n",
    "    set.discard(x)\n",
    "    return set"
   ]
  },
  {
   "cell_type": "code",
   "execution_count": 10,
   "id": "6d7fb13a-ef99-4dd0-a062-2166d7cb0233",
   "metadata": {},
   "outputs": [
    {
     "data": {
      "text/plain": [
       "{1, 3, 5}"
      ]
     },
     "execution_count": 10,
     "metadata": {},
     "output_type": "execute_result"
    }
   ],
   "source": [
    "discard_element({1,2,3,5},2)"
   ]
  },
  {
   "cell_type": "code",
   "execution_count": 11,
   "id": "8904d05a-58e8-4e6e-be54-017fcfbcb4b4",
   "metadata": {},
   "outputs": [
    {
     "name": "stdout",
     "output_type": "stream",
     "text": [
      "Set1 : {1, 2, 3, 4, 5}\n",
      "set2 : {4, 5, 6, 7, 8}\n",
      "Is set1 subset of set2 : False\n",
      "Is set1 superset of set2 : False\n",
      "Intersection between sets : {4, 5}\n",
      "Union : {1, 2, 3, 4, 5, 6, 7, 8}\n",
      "Element in set1 but not in set2 : {1, 2, 3}\n",
      "Element in set2 but not in set1 : {8, 6, 7}\n"
     ]
    }
   ],
   "source": [
    "# 32. Compare two sets.\n",
    "set1 = {1,2,3,4,5}\n",
    "set2 = {4,5,6,7,8}\n",
    "is_subset = set1.issubset(set2)\n",
    "is_superset = set1.issuperset(set2)\n",
    "intersection = set1.intersection(set2)\n",
    "union = set1.union(set2)\n",
    "difference1 = set1.difference(set2)\n",
    "difference2 = set2.difference(set1)\n",
    "\n",
    "print(f\"Set1 : {set1}\")\n",
    "print(f\"set2 : {set2}\")\n",
    "print(f\"Is set1 subset of set2 : {is_subset}\")\n",
    "print(f\"Is set1 superset of set2 : {is_superset}\")\n",
    "print(f\"Intersection between sets : {intersection}\")\n",
    "print(f\"Union : {union}\")\n",
    "print(f\"Element in set1 but not in set2 : {difference1}\")\n",
    "print(f\"Element in set2 but not in set1 : {difference2}\")\n"
   ]
  },
  {
   "cell_type": "code",
   "execution_count": 13,
   "id": "3b3865c9-99ae-4f27-9dc4-446975da0051",
   "metadata": {},
   "outputs": [
    {
     "name": "stdout",
     "output_type": "stream",
     "text": [
      "{'d', 'i', ',', 't', ' ', 's', '6', 'l', 'r', 'o', '8', 'w', '4', 'm', 'H', 'e'}\n"
     ]
    }
   ],
   "source": [
    "# 33. Create a set from a string.\n",
    "string = \"Hello world, 684 times\"\n",
    "set1 = set(string)\n",
    "print(set1)"
   ]
  },
  {
   "cell_type": "code",
   "execution_count": 20,
   "id": "b24b5724-5d60-464e-b097-86c8081fa23e",
   "metadata": {},
   "outputs": [
    {
     "name": "stdout",
     "output_type": "stream",
     "text": [
      "{3, 66, 123, 6778}\n"
     ]
    }
   ],
   "source": [
    "# 34. Convert a set of strings to a set of integers.\n",
    "set_of_strings = {'123','66','3','6778'}\n",
    "set_of_integers = set()\n",
    "for i in set_of_strings:\n",
    "    integer_value = int(i)\n",
    "    set_of_integers.add(integer_value)\n",
    "print(set_of_integers)"
   ]
  },
  {
   "cell_type": "code",
   "execution_count": 21,
   "id": "6c645d7a-c046-4062-adb3-f1e62c69afd7",
   "metadata": {},
   "outputs": [
    {
     "name": "stdout",
     "output_type": "stream",
     "text": [
      "{'23', '45656', '1', '456'}\n"
     ]
    }
   ],
   "source": [
    "# 35. Convert a set of integers to a set of strings.\n",
    "set_of_integers = {1,23,456,45656}\n",
    "set_of_strings = set()\n",
    "for i in set_of_integers:\n",
    "    string_value = str(i)\n",
    "    set_of_strings.add(string_value)\n",
    "print(set_of_strings)"
   ]
  },
  {
   "cell_type": "code",
   "execution_count": 22,
   "id": "3d6cca16-ea27-4c9f-a679-bd00a0bab6dd",
   "metadata": {},
   "outputs": [],
   "source": [
    "# 36. Create a set from a tuple.\n",
    "def set_from_tuple(x = tuple):\n",
    "    return set(x)"
   ]
  },
  {
   "cell_type": "code",
   "execution_count": 23,
   "id": "3a19c76d-8e89-49dc-b097-0f04943914cb",
   "metadata": {},
   "outputs": [
    {
     "data": {
      "text/plain": [
       "{1, 5, 23, 66}"
      ]
     },
     "execution_count": 23,
     "metadata": {},
     "output_type": "execute_result"
    }
   ],
   "source": [
    "set_from_tuple((1,23,5,66))"
   ]
  },
  {
   "cell_type": "code",
   "execution_count": 24,
   "id": "87342416-3ac8-4df4-86f9-ef297165f29c",
   "metadata": {},
   "outputs": [],
   "source": [
    "# 37. Convert a set to a tuple.\n",
    "def tuple_from_set(x = set):\n",
    "    return tuple(x)"
   ]
  },
  {
   "cell_type": "code",
   "execution_count": 25,
   "id": "76908f30-8543-4afb-966f-116e19b76ea7",
   "metadata": {},
   "outputs": [
    {
     "data": {
      "text/plain": [
       "(32, 1, 6, 7, 45)"
      ]
     },
     "execution_count": 25,
     "metadata": {},
     "output_type": "execute_result"
    }
   ],
   "source": [
    "tuple_from_set({1,32,45,6,7})"
   ]
  },
  {
   "cell_type": "code",
   "execution_count": 13,
   "id": "f641943b-9ed9-4dfc-a84e-3089cefc5c8f",
   "metadata": {},
   "outputs": [],
   "source": [
    "# 38. Find the maximum value in a set.\n",
    "def max_value(x=set):\n",
    "    return max(x)"
   ]
  },
  {
   "cell_type": "code",
   "execution_count": 17,
   "id": "979e8a57-03a8-43d3-9270-52be79ed7b14",
   "metadata": {},
   "outputs": [
    {
     "data": {
      "text/plain": [
       "345"
      ]
     },
     "execution_count": 17,
     "metadata": {},
     "output_type": "execute_result"
    }
   ],
   "source": [
    "max_value({1,2,45,6,34,56,345,3,1})"
   ]
  },
  {
   "cell_type": "code",
   "execution_count": 16,
   "id": "d06d2438-6d31-4107-ab24-7ac8320cabff",
   "metadata": {},
   "outputs": [],
   "source": [
    "# 39. Find the minimum value in a set\n",
    "def min_value(x=set):\n",
    "    return min(x)\n"
   ]
  },
  {
   "cell_type": "code",
   "execution_count": 18,
   "id": "2d21a0b5-5f34-45c3-8839-2ebffdbcb91e",
   "metadata": {},
   "outputs": [
    {
     "data": {
      "text/plain": [
       "1"
      ]
     },
     "execution_count": 18,
     "metadata": {},
     "output_type": "execute_result"
    }
   ],
   "source": [
    "min_value({1,2,45,6,34,56,345,3,1})"
   ]
  },
  {
   "cell_type": "code",
   "execution_count": 30,
   "id": "eba621cc-e7c0-4115-b91d-25786fda09ba",
   "metadata": {},
   "outputs": [
    {
     "name": "stdin",
     "output_type": "stream",
     "text": [
      "Input to create set(use comma or space for separating elements): 1 4 7 7 6 tahreen \n"
     ]
    },
    {
     "name": "stdout",
     "output_type": "stream",
     "text": [
      "{'7', '6', '1', '4', 'tahreen'}\n"
     ]
    }
   ],
   "source": [
    "# 40. Create a set from user input.\n",
    "set1 = input(\"Input to create set(use comma or space for separating elements):\")\n",
    "elements = set1.replace(',',' ').split()\n",
    "set_conversion = set(elements)\n",
    "print(set_conversion)"
   ]
  },
  {
   "cell_type": "code",
   "execution_count": 33,
   "id": "a679017a-1f91-49b6-aec5-3c6ca31be321",
   "metadata": {},
   "outputs": [],
   "source": [
    "# 41. Check if the intersection of two sets is empty.\n",
    "def intersection_empty(x=set,y=set):\n",
    "    if x.intersection(y):\n",
    "        return f\"Not empty\"\n",
    "    else:\n",
    "        return f\"empty\"\n",
    "    \n",
    "#    the code defines the function to check whether theres any common element in two sets or not.\n",
    "# so the code uses function of intersection whose function is to find common elements between two sets.\n",
    "# if common element exist it return \"not empty\" , else it returns as \"empty\""
   ]
  },
  {
   "cell_type": "code",
   "execution_count": 34,
   "id": "ff0c102e-9916-4941-bdd1-4c21b1b9d7a3",
   "metadata": {},
   "outputs": [
    {
     "data": {
      "text/plain": [
       "'Not empty'"
      ]
     },
     "execution_count": 34,
     "metadata": {},
     "output_type": "execute_result"
    }
   ],
   "source": [
    "intersection_empty({1,2,4,6},{4,4,7,88})"
   ]
  },
  {
   "cell_type": "code",
   "execution_count": 35,
   "id": "ff43578d-9755-44ab-a432-e744aecd26d4",
   "metadata": {},
   "outputs": [
    {
     "data": {
      "text/plain": [
       "'empty'"
      ]
     },
     "execution_count": 35,
     "metadata": {},
     "output_type": "execute_result"
    }
   ],
   "source": [
    "intersection_empty({1,23,5},{6,7,8})"
   ]
  },
  {
   "cell_type": "code",
   "execution_count": 22,
   "id": "e3bfe7f8-a05d-4106-96f9-e92c916cf55b",
   "metadata": {},
   "outputs": [],
   "source": [
    "# 42. Create a set of the first 5 Fibonacci numbers.\n",
    "def fibonacci_numbers(n):\n",
    "    fibonacci_list = [0,1]\n",
    "    for i in range(2,n+1):\n",
    "        next_fibonacci = fibonacci_list[i-1]+fibonacci_list[i-2]\n",
    "        fibonacci_list.append(next_fibonacci)\n",
    "    return set(fibonacci_list)\n",
    "\n",
    "# fibonacci number is the series of number where each numbers is the sum of preceding two numbers starting from 0 and 1\n",
    "# ḥere the code defines a function as fibonacci_numbers with single  argument 'n'.\n",
    "# the code starts a fibonacci list containing 0 and 1 which is utilized later in next fibonaccin statement in forloop \n",
    "# using the indexing method the code adds the last two preceding numbers to provide the next fibonacci number.\n",
    "# the code uses forloop in range of 2(next number in series after 0 and 1) to n+1(easier for user as it provide with same number of elements as input)\n",
    "# the append function is used to add all the subsequent desired iterations in fibonacci list\n",
    "# at last the code returns the fibonacci list as fibonacci set by using set() function."
   ]
  },
  {
   "cell_type": "code",
   "execution_count": 23,
   "id": "6b74ba04-3f45-4cf6-9086-0dd71dd7ba52",
   "metadata": {},
   "outputs": [
    {
     "data": {
      "text/plain": [
       "{0, 1, 2, 3, 5, 8}"
      ]
     },
     "execution_count": 23,
     "metadata": {},
     "output_type": "execute_result"
    }
   ],
   "source": [
    "fibonacci_numbers(6)"
   ]
  },
  {
   "cell_type": "code",
   "execution_count": 2,
   "id": "7ec1e42f-e68e-454c-9e60-6278f9c100ea",
   "metadata": {},
   "outputs": [],
   "source": [
    "# 43. Remove duplicates from a list using sets\n",
    "def remove_duplicates(l = list):\n",
    "    removing_duplicates = set(l)\n",
    "    return l\n",
    "\n",
    "# set has the capability to remove duplicates so, here the code simply converts the list to set."
   ]
  },
  {
   "cell_type": "code",
   "execution_count": 3,
   "id": "995b1d83-d35a-438d-9969-e6b6a26469ab",
   "metadata": {},
   "outputs": [
    {
     "data": {
      "text/plain": [
       "[1, 1, 3, 5, 6, 6]"
      ]
     },
     "execution_count": 3,
     "metadata": {},
     "output_type": "execute_result"
    }
   ],
   "source": [
    "remove_duplicates([1,1,3,5,6,6])"
   ]
  },
  {
   "cell_type": "code",
   "execution_count": 13,
   "id": "a24652e3-3c10-41e7-a237-76d3f8799df6",
   "metadata": {},
   "outputs": [],
   "source": [
    "# 44. Check if two sets have the same elements, regardless of their count.\n",
    "def have_same_elmnts(x=set(),y=set()):\n",
    "    return x==y\n",
    "    "
   ]
  },
  {
   "cell_type": "code",
   "execution_count": 14,
   "id": "4228dfe6-7332-4489-b324-086a0e5beb4f",
   "metadata": {},
   "outputs": [
    {
     "data": {
      "text/plain": [
       "False"
      ]
     },
     "execution_count": 14,
     "metadata": {},
     "output_type": "execute_result"
    }
   ],
   "source": [
    "have_same_elmnts({1,2,3,4},{3,5,6,4,'tahreen'})"
   ]
  },
  {
   "cell_type": "code",
   "execution_count": 6,
   "id": "ba8697f7-49db-49ca-80cc-d6ed6783a116",
   "metadata": {},
   "outputs": [
    {
     "data": {
      "text/plain": [
       "False"
      ]
     },
     "execution_count": 6,
     "metadata": {},
     "output_type": "execute_result"
    }
   ],
   "source": [
    "have_same_elmnts({1,2,3,4},{5,6,7,8})"
   ]
  },
  {
   "cell_type": "code",
   "execution_count": 15,
   "id": "48a423a9-6b95-4125-9197-354d6bab73ac",
   "metadata": {},
   "outputs": [
    {
     "data": {
      "text/plain": [
       "True"
      ]
     },
     "execution_count": 15,
     "metadata": {},
     "output_type": "execute_result"
    }
   ],
   "source": [
    "have_same_elmnts({1,2,3},{3,2,1})"
   ]
  },
  {
   "cell_type": "code",
   "execution_count": 10,
   "id": "fd5e71c9-107e-43ea-945d-f6740395788e",
   "metadata": {},
   "outputs": [],
   "source": [
    "# 45. Create a set of the first `n` powers of 2.\n",
    "def n_powers_of_2(n):\n",
    "    return {2**i for i in range(n)}\n",
    "\n",
    "# here n_powers_of_2  takes argument n and uses set comprehension to provide with number of n powers of 2(n) for every subsequent iteration .\n",
    "\n",
    "    "
   ]
  },
  {
   "cell_type": "code",
   "execution_count": 12,
   "id": "84c49fc7-c7b9-4a66-b409-b75c752d7908",
   "metadata": {},
   "outputs": [
    {
     "data": {
      "text/plain": [
       "{1, 2, 4, 8, 16, 32}"
      ]
     },
     "execution_count": 12,
     "metadata": {},
     "output_type": "execute_result"
    }
   ],
   "source": [
    "n_powers_of_2(6)"
   ]
  },
  {
   "cell_type": "code",
   "execution_count": 20,
   "id": "dd353af8-b778-4f18-a1be-fd3df5936f13",
   "metadata": {},
   "outputs": [],
   "source": [
    "# 46. Find the common elements between a set and a list.\n",
    "def common_element(l,s):\n",
    "    finding_common = s.intersection(l)\n",
    "    return finding_common\n",
    "\n",
    "# here a function defined as common elements takes an argument of l(list),s(set)\n",
    "# the function s.intersection(l) finds the common elements present in list and sets"
   ]
  },
  {
   "cell_type": "code",
   "execution_count": 21,
   "id": "6b9d5149-2eba-402c-a3f7-2b4c3ebab571",
   "metadata": {},
   "outputs": [
    {
     "data": {
      "text/plain": [
       "{1, 2, 3}"
      ]
     },
     "execution_count": 21,
     "metadata": {},
     "output_type": "execute_result"
    }
   ],
   "source": [
    "common_element([1,2,3],{3,5,6,2,1})"
   ]
  },
  {
   "cell_type": "code",
   "execution_count": 23,
   "id": "fe579883-5ca3-4d58-b72c-423c6a688131",
   "metadata": {},
   "outputs": [],
   "source": [
    "# 47. Create a set of the first `n` triangular numbers.\n",
    "def triangular_numbers(n):\n",
    "    return {i*(i+1)//2 for i in range(1,n+1)}\n",
    "\n",
    "# n argument : no. of triangular numbers one want.\n",
    "# ṭhe return statement uses set comprehension and typical mathematical formula of triangular numbers in the range of 1 to n+1(it provides with exact numbers of triangular number input)"
   ]
  },
  {
   "cell_type": "code",
   "execution_count": 24,
   "id": "69a3e00d-e5d3-48e6-91b3-82a1430fdca6",
   "metadata": {},
   "outputs": [
    {
     "data": {
      "text/plain": [
       "{1, 3, 6, 10, 15, 21, 28, 36, 45, 55}"
      ]
     },
     "execution_count": 24,
     "metadata": {},
     "output_type": "execute_result"
    }
   ],
   "source": [
    "triangular_numbers(10)"
   ]
  },
  {
   "cell_type": "code",
   "execution_count": 30,
   "id": "cdab1dd5-7d6d-48f1-ba61-2600ec99ba2e",
   "metadata": {},
   "outputs": [],
   "source": [
    "# 48. Check if a set contains another set as a subset\n",
    "def has_subset(x,y):\n",
    "    if y.issubset(x):\n",
    "        return True\n",
    "    return False\n",
    "    \n",
    "# Here function \"issubset\" is used to know whether y is subset of x or not.\n",
    "# if the condition specified is true it returns so, and if it's false it returns so."
   ]
  },
  {
   "cell_type": "code",
   "execution_count": 31,
   "id": "0432e2c5-3645-43c0-884c-4d6669afb4b5",
   "metadata": {},
   "outputs": [
    {
     "data": {
      "text/plain": [
       "False"
      ]
     },
     "execution_count": 31,
     "metadata": {},
     "output_type": "execute_result"
    }
   ],
   "source": [
    "has_subset({1,2,5},{3})"
   ]
  },
  {
   "cell_type": "code",
   "execution_count": 32,
   "id": "56747dc4-805e-44cb-817f-abc397fb5ec2",
   "metadata": {},
   "outputs": [
    {
     "data": {
      "text/plain": [
       "True"
      ]
     },
     "execution_count": 32,
     "metadata": {},
     "output_type": "execute_result"
    }
   ],
   "source": [
    "has_subset({1,2,3,5},{1,3})"
   ]
  },
  {
   "cell_type": "code",
   "execution_count": 7,
   "id": "a6f9828c-2139-4d7c-bcdb-0d28b6b4ef2b",
   "metadata": {},
   "outputs": [],
   "source": [
    "# 49. Create a set of alternating 1s and 0s of length `n`\n",
    "def create_alternating_set(n):\n",
    "    alternating_list= [i%2 for i in range(n)]\n",
    "    alternating_set = set(alternating_list)\n",
    "    return alternating_set\n",
    "\n",
    "# Here the modulus operator is used with 2 which is divided by subsequent numbers till specified as \"n\"."
   ]
  },
  {
   "cell_type": "code",
   "execution_count": 8,
   "id": "1ff38535-6d3d-4408-bf76-e443cdd6b8a6",
   "metadata": {},
   "outputs": [
    {
     "data": {
      "text/plain": [
       "{0, 1}"
      ]
     },
     "execution_count": 8,
     "metadata": {},
     "output_type": "execute_result"
    }
   ],
   "source": [
    "create_alternating_set(9)\n",
    "# As question clearly asks for set then we can have repeating values of 0s and 1s , no matter how high the value of n is. we can use list for n numbers of 0s and 1s."
   ]
  },
  {
   "cell_type": "code",
   "execution_count": 9,
   "id": "a2fc333d-4387-41f9-b442-b6aaf5aba33e",
   "metadata": {},
   "outputs": [
    {
     "data": {
      "text/plain": [
       "{0}"
      ]
     },
     "execution_count": 9,
     "metadata": {},
     "output_type": "execute_result"
    }
   ],
   "source": [
    "create_alternating_set(1)"
   ]
  },
  {
   "cell_type": "code",
   "execution_count": 10,
   "id": "5a20fa95-cb67-45a6-9246-6b066334598a",
   "metadata": {},
   "outputs": [
    {
     "data": {
      "text/plain": [
       "{0, 1}"
      ]
     },
     "execution_count": 10,
     "metadata": {},
     "output_type": "execute_result"
    }
   ],
   "source": [
    "create_alternating_set(2)"
   ]
  },
  {
   "cell_type": "code",
   "execution_count": 11,
   "id": "73a117e5-45e0-41a7-9170-c5c7b7569130",
   "metadata": {},
   "outputs": [
    {
     "data": {
      "text/plain": [
       "{0, 1}"
      ]
     },
     "execution_count": 11,
     "metadata": {},
     "output_type": "execute_result"
    }
   ],
   "source": [
    "create_alternating_set(3)"
   ]
  },
  {
   "cell_type": "code",
   "execution_count": 20,
   "id": "0118ce3e-81b5-42f4-bad7-6dbf747a8221",
   "metadata": {},
   "outputs": [],
   "source": [
    "# 50. Merge multiple sets into one.\n",
    "def merge_sets(*sets):\n",
    "    merge_sets= set.union(*sets)\n",
    "    return merge_sets\n",
    "\n",
    "# here the *set takes n number of arguments and the function set.union merges the number of sets provided and being set, it also remvoes the duplicates"
   ]
  },
  {
   "cell_type": "code",
   "execution_count": 21,
   "id": "9b24a438-aef6-451c-95df-90b8395712f2",
   "metadata": {},
   "outputs": [
    {
     "data": {
      "text/plain": [
       "{1, 2, 3, 4, 6, 7, 8}"
      ]
     },
     "execution_count": 21,
     "metadata": {},
     "output_type": "execute_result"
    }
   ],
   "source": [
    "merge_sets({1,2,3},{4,6,7},{6,7,8})"
   ]
  },
  {
   "cell_type": "code",
   "execution_count": null,
   "id": "3c6129e6-c5b5-4892-8501-5b15279654d0",
   "metadata": {},
   "outputs": [],
   "source": [
    "# \"Thankyou\" for checking it although it's late to submit this one.\n",
    "# please do provide me with my mistakes.\n"
   ]
  }
 ],
 "metadata": {
  "kernelspec": {
   "display_name": "Python 3 (ipykernel)",
   "language": "python",
   "name": "python3"
  },
  "language_info": {
   "codemirror_mode": {
    "name": "ipython",
    "version": 3
   },
   "file_extension": ".py",
   "mimetype": "text/x-python",
   "name": "python",
   "nbconvert_exporter": "python",
   "pygments_lexer": "ipython3",
   "version": "3.10.8"
  }
 },
 "nbformat": 4,
 "nbformat_minor": 5
}
