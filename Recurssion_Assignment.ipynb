{
 "cells": [
  {
   "cell_type": "code",
   "execution_count": 1,
   "id": "e9065712-a228-442b-9f77-fe20a131f52e",
   "metadata": {},
   "outputs": [
    {
     "data": {
      "application/javascript": [
       "IPython.notebook.set_autosave_interval(120000)"
      ]
     },
     "metadata": {},
     "output_type": "display_data"
    },
    {
     "name": "stdout",
     "output_type": "stream",
     "text": [
      "Autosaving every 120 seconds\n"
     ]
    }
   ],
   "source": [
    "%autosave 120"
   ]
  },
  {
   "cell_type": "code",
   "execution_count": null,
   "id": "87bfffaf-c8a8-4292-a8ea-da1d1fa8eb5b",
   "metadata": {},
   "outputs": [],
   "source": []
  },
  {
   "cell_type": "code",
   "execution_count": 16,
   "id": "1723fa23-ca05-4fdd-a649-b02662647d25",
   "metadata": {},
   "outputs": [
    {
     "name": "stdout",
     "output_type": "stream",
     "text": [
      "Move disk 1 from A to C\n",
      "Move disk 2 from A to B\n",
      "Move disk 1 from C to B\n",
      "Move disk 3 from A to C\n",
      "Move disk 1 from B to A\n",
      "Move disk 2 from B to C\n",
      "Move disk 1 from A to C\n"
     ]
    }
   ],
   "source": [
    "# Q.1 Can you explain the logic and working of the Tower of Hanoi algorithm by writing a Java program?\n",
    "# How does the recursion work, and how are the movements of disks between rods accomplished?\n",
    "\n",
    "def tower_of_hanoi(n, source, destination, auxiliary):\n",
    "  \"\"\"\n",
    "  Solves the Tower of Hanoi puzzle recursively.\n",
    "\n",
    "  Args:\n",
    "    n: The number of disks.\n",
    "    source: The source peg.\n",
    "    destination: The destination peg.\n",
    "    auxiliary: The auxiliary peg.\n",
    "  \"\"\"\n",
    "\n",
    "  if n == 1:\n",
    "    print(f\"Move disk 1 from {source} to {destination}\")\n",
    "    return\n",
    "\n",
    "  tower_of_hanoi(n - 1, source, auxiliary, destination)\n",
    "  print(f\"Move disk {n} from {source} to {destination}\")\n",
    "  tower_of_hanoi(n - 1, auxiliary, destination, source)\n",
    "\n",
    "# Example usage:\n",
    "num_disks = 3\n",
    "tower_of_hanoi(num_disks, 'A', 'C', 'B')\n",
    "\n",
    "\n",
    "# Explanation\n",
    "# The tower_of_hanoi function takes four parameters: the number of disks, the source peg, the destination peg, and the auxiliary peg.\n",
    "# The base case (n == 1) moves the single disk directly from the source to the destination.\n",
    "# The recursive steps break down the problem into smaller subproblems, recursively moving n-1 disks to the auxiliary peg, moving the largest disk to the destination, and then moving the remaining n-1 disks from the auxiliary to the destination."
   ]
  },
  {
   "cell_type": "code",
   "execution_count": 4,
   "id": "5e693535-14b2-4a92-9d98-2b9f9a27c383",
   "metadata": {},
   "outputs": [
    {
     "name": "stdout",
     "output_type": "stream",
     "text": [
      "3\n"
     ]
    }
   ],
   "source": [
    "# Q.2 Given two strings word1 and word2, return the minimum number of operations required to convert word1\n",
    "# to word2.\n",
    "# Example 1:\n",
    "# Input: word1 = \"horse\", word2 = \"ros\"\n",
    "# Output: 3\n",
    "# Explanation:\n",
    "# horse -> rorse (replace 'h' with 'r')\n",
    "# rorse -> rose (remove 'r')\n",
    "# rose -> ros (remove 'e')\n",
    "\n",
    "def min_distance(word1, word2):\n",
    "    m, n = len(word1), len(word2)\n",
    "    \n",
    "    # Create a DP table to store the results of subproblems\n",
    "    dp = [[0] * (n + 1) for _ in range(m + 1)]\n",
    "    \n",
    "    # Initialize the DP table\n",
    "    for i in range(m + 1):\n",
    "        dp[i][0] = i  # Deleting all characters from word1 to match an empty word2\n",
    "    for j in range(n + 1):\n",
    "        dp[0][j] = j  # Inserting all characters of word2 to match an empty word1\n",
    "    \n",
    "    # Fill the DP table\n",
    "    for i in range(1, m + 1):\n",
    "        for j in range(1, n + 1):\n",
    "            if word1[i - 1] == word2[j - 1]:\n",
    "                dp[i][j] = dp[i - 1][j - 1]  # No operation needed if characters match\n",
    "            else:\n",
    "                dp[i][j] = 1 + min(dp[i - 1][j],    # Delete from word1\n",
    "                                   dp[i][j - 1],    # Insert into word1\n",
    "                                   dp[i - 1][j - 1]) # Replace character in word1\n",
    "    \n",
    "    return dp[m][n]\n",
    "\n",
    "# Call the function\n",
    "word1 = \"horse\"\n",
    "word2 = \"ros\"\n",
    "output = min_distance(word1, word2)\n",
    "print(output)  \n",
    "\n",
    "\n",
    "\n",
    "# Explanation:\n",
    "\n",
    "# Dynamic Programming (DP) Table Construction:\n",
    "# We create a 2D DP table dp where dp[i][j] represents the minimum number of operations required to convert the first i characters of word1 into the first j characters of word2.\n",
    "\n",
    "# The table is initialized with base cases:\n",
    "# dp[i][0] = i because converting any prefix of word1 to an empty string word2 requires i deletions.\n",
    "# dp[0][j] = j because converting an empty string word1 to any prefix of word2 requires j insertions.\n",
    "\n",
    "# Filling the DP Table:\n",
    "# We iterate through each character of word1 and word2:\n",
    "# If the characters match, no additional operation is needed, so dp[i][j] = dp[i-1][j-1].\n",
    "# If the characters do not match, we consider the minimum of three possible operations:\n",
    "# Deletion (dp[i-1][j]): Remove a character from word1.\n",
    "# Insertion (dp[i][j-1]): Add a character to word1.\n",
    "# Substitution (dp[i-1][j-1]): Replace a character in word1 with one from word2.\n",
    "# We add 1 to the result because each of these operations counts as one step.\n",
    "\n",
    "# Final Result:\n",
    "# The final value dp[m][n] gives the minimum number of operations required to convert the entire string word1 into word2."
   ]
  },
  {
   "cell_type": "code",
   "execution_count": 5,
   "id": "e9575895-7027-4695-8745-537a0874e8f7",
   "metadata": {},
   "outputs": [
    {
     "name": "stdout",
     "output_type": "stream",
     "text": [
      "5\n"
     ]
    }
   ],
   "source": [
    "# Example 2:\n",
    "# Input: word1 = \"intention\", word2 = \"execution\"\n",
    "# Output: 5\n",
    "# Explanation:\n",
    "# intention -> inention (remove 't')\n",
    "# inention -> enention (replace 'i' with 'e')\n",
    "# enention -> exention (replace 'n' with 'x')\n",
    "# exention -> exection (replace 'n' with 'c')\n",
    "# exection -> execution (insert 'u')\n",
    "\n",
    "\n",
    "def min_distance(word1, word2):\n",
    "    m, n = len(word1), len(word2)\n",
    "    \n",
    "    # Create a DP table to store the results of subproblems\n",
    "    dp = [[0] * (n + 1) for _ in range(m + 1)]\n",
    "    \n",
    "    # Initialize the DP table\n",
    "    for i in range(m + 1):\n",
    "        dp[i][0] = i  # Deleting all characters from word1 to match an empty word2\n",
    "    for j in range(n + 1):\n",
    "        dp[0][j] = j  # Inserting all characters of word2 to match an empty word1\n",
    "    \n",
    "    # Fill the DP table\n",
    "    for i in range(1, m + 1):\n",
    "        for j in range(1, n + 1):\n",
    "            if word1[i - 1] == word2[j - 1]:\n",
    "                dp[i][j] = dp[i - 1][j - 1]  # No operation needed if characters match\n",
    "            else:\n",
    "                dp[i][j] = 1 + min(dp[i - 1][j],    # Delete from word1\n",
    "                                   dp[i][j - 1],    # Insert into word1\n",
    "                                   dp[i - 1][j - 1]) # Replace character in word1\n",
    "    \n",
    "    return dp[m][n]\n",
    "\n",
    "# Call the function\n",
    "word1 = \"intention\"\n",
    "word2 = \"execution\"\n",
    "output = min_distance(word1, word2)\n",
    "print(output)  \n",
    "\n",
    "\n",
    "# Explanation:\n",
    "    \n",
    "# Dynamic Programming (DP) Table Construction:\n",
    "# We create a 2D DP table dp where dp[i][j] represents the minimum number of operations required to convert the first i characters of word1 into the first j characters of word2.\n",
    "\n",
    "# The table is initialized with base cases:\n",
    "# dp[i][0] = i because converting any prefix of word1 to an empty string word2 requires i deletions.\n",
    "# dp[0][j] = j because converting an empty string word1 to any prefix of word2 requires j insertions.\n",
    "\n",
    "# Filling the DP Table:\n",
    "# We iterate through each character of word1 and word2:\n",
    "# If the characters match, no additional operation is needed, so dp[i][j] = dp[i-1][j-1].\n",
    "\n",
    "# If the characters do not match, we consider the minimum of three possible operations:\n",
    "# Deletion (dp[i-1][j]): Remove a character from word1.\n",
    "# Insertion (dp[i][j-1]): Add a character to word1.\n",
    "# Substitution (dp[i-1][j-1]): Replace a character in word1 with one from word2.\n",
    "# We add 1 to the result because each of these operations counts as one step."
   ]
  },
  {
   "cell_type": "code",
   "execution_count": 6,
   "id": "d57e00ec-42d7-4e29-8262-4d3b130b937f",
   "metadata": {},
   "outputs": [
    {
     "name": "stdout",
     "output_type": "stream",
     "text": [
      "22\n"
     ]
    }
   ],
   "source": [
    "# Q. 3 Print the max value of the array [ 13, 1, -3, 22, 5].\n",
    "\n",
    "def find_max(arr):\n",
    "    max_value = arr[0]\n",
    "    for num in arr:\n",
    "        if num > max_value:\n",
    "            max_value = num\n",
    "    return max_value\n",
    "\n",
    "# Call the function\n",
    "arr = [13, 1, -3, 22, 5]\n",
    "output = find_max(arr)\n",
    "print(output)  \n",
    "\n",
    "\n",
    "# Explanation:\n",
    "\n",
    "# The function find_max starts by assuming the first element is the maximum. It then iterates through the array, updating the maximum whenever a larger element is found.\n",
    "# After the loop, max_value contains the largest element, which is printed."
   ]
  },
  {
   "cell_type": "code",
   "execution_count": 7,
   "id": "0dd79ac7-4575-44be-a8c6-f328fec2216b",
   "metadata": {},
   "outputs": [
    {
     "name": "stdout",
     "output_type": "stream",
     "text": [
      "120\n"
     ]
    }
   ],
   "source": [
    "# Q.4 Find the sum of the values of the array [92, 23, 15, -20, 10].\n",
    "\n",
    "def sum_array(arr):\n",
    "    total_sum = 0\n",
    "    for num in arr:\n",
    "        total_sum += num\n",
    "    return total_sum\n",
    "\n",
    "# Call the function\n",
    "arr = [92, 23, 15, -20, 10]\n",
    "output = sum_array(arr)\n",
    "print(output)  \n",
    "\n",
    "\n",
    "# Explanation:\n",
    "\n",
    "# The function sum_array initializes a variable total_sum to zero. It then iterates through the array, adding each element to total_sum.\n",
    "# The result is the sum of all elements in the array, which is returned and printed."
   ]
  },
  {
   "cell_type": "code",
   "execution_count": 8,
   "id": "798face8-8030-40be-931c-3a90c256b411",
   "metadata": {},
   "outputs": [
    {
     "name": "stdout",
     "output_type": "stream",
     "text": [
      "Yes\n",
      "No\n"
     ]
    }
   ],
   "source": [
    "# Q.5 Given a number n. Print if it is an armstrong number or not.An armstrong number is a number if the sum\n",
    "# of every digit in that number raised to the power of total digits in that number is equal to the number.\n",
    "\n",
    "# Example : 153 = 1^3 + 5^3 + 3^3 = 1 + 125 + 27 = 153 hence 153 is an armstrong number. (Easy)\n",
    "# Input1 : 153\n",
    "# Output1 : Yes\n",
    "# Input 2 : 134\n",
    "# Output2 : No\n",
    "\n",
    "def is_armstrong(n):\n",
    "    num_str = str(n)\n",
    "    num_digits = len(num_str)\n",
    "    sum_of_powers = sum(int(digit) ** num_digits for digit in num_str)\n",
    "    return sum_of_powers == n\n",
    "\n",
    "# Call the function\n",
    "n1 = 153\n",
    "output1 = is_armstrong(n1)\n",
    "print(\"Yes\" if output1 else \"No\") \n",
    "\n",
    "n2 = 134\n",
    "output2 = is_armstrong(n2)\n",
    "print(\"Yes\" if output2 else \"No\")  \n",
    "\n",
    "\n",
    "# Explanation:\n",
    "\n",
    "# The function is_armstrong converts the number to a string to easily access its digits.\n",
    "# It calculates the sum of each digit raised to the power of the number of digits in the number.\n",
    "# If this sum equals the original number, it is an Armstrong number, and the function returns True; otherwise, it returns False.\n",
    "# The results are printed as \"Yes\" or \"No\" based on whether the number is an Armstrong number.\n"
   ]
  },
  {
   "cell_type": "code",
   "execution_count": null,
   "id": "126de9ef-e1b5-487f-abc7-751be3e54636",
   "metadata": {},
   "outputs": [],
   "source": []
  }
 ],
 "metadata": {
  "kernelspec": {
   "display_name": "Python 3 (ipykernel)",
   "language": "python",
   "name": "python3"
  },
  "language_info": {
   "codemirror_mode": {
    "name": "ipython",
    "version": 3
   },
   "file_extension": ".py",
   "mimetype": "text/x-python",
   "name": "python",
   "nbconvert_exporter": "python",
   "pygments_lexer": "ipython3",
   "version": "3.10.8"
  }
 },
 "nbformat": 4,
 "nbformat_minor": 5
}
