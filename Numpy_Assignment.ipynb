{
 "cells": [
  {
   "cell_type": "code",
   "execution_count": 2,
   "id": "e9a36b73-9541-4082-b196-b2cca2831efe",
   "metadata": {},
   "outputs": [
    {
     "data": {
      "application/javascript": [
       "IPython.notebook.set_autosave_interval(120000)"
      ]
     },
     "metadata": {},
     "output_type": "display_data"
    },
    {
     "name": "stdout",
     "output_type": "stream",
     "text": [
      "Autosaving every 120 seconds\n"
     ]
    }
   ],
   "source": [
    "%autosave 120"
   ]
  },
  {
   "cell_type": "code",
   "execution_count": null,
   "id": "0f0b18ec-78dc-4c53-a185-36a95ff26097",
   "metadata": {},
   "outputs": [],
   "source": [
    "# Numpy Assignment Questions"
   ]
  },
  {
   "cell_type": "code",
   "execution_count": null,
   "id": "0cb8cc12-cc3c-4736-b3be-ee160cfc8669",
   "metadata": {},
   "outputs": [],
   "source": [
    "# 1. What is a Python library? Why do we use Python libraries?\n",
    "\n",
    "# A Python library is a collection of precompiled code that can be used to perform common tasks, functions, or operations. It includes modules, functions, and classes. Libraries help developers reuse code, simplify tasks, and focus on the main logic of their programs without having to write everything from scratch.\n",
    "\n",
    "# We use Python libraries to save time, reduce errors, and enhance efficiency by leveraging pre-written code for common tasks like data manipulation, mathematical operations, and more."
   ]
  },
  {
   "cell_type": "code",
   "execution_count": null,
   "id": "83b5820e-76d6-4233-8ab4-65bdb9c93f8e",
   "metadata": {},
   "outputs": [],
   "source": [
    "# 2. What is the difference between Numpy array and List?\n",
    "\n",
    "# Numpy Array:\n",
    "# Requires the installation of the numpy package.\n",
    "# Supports efficient operations like element-wise computations, matrix manipulations, and more.\n",
    "# Homogeneous: All elements must be of the same data type.\n",
    "# Uses less memory and provides faster operations.\n",
    "\n",
    "# List:\n",
    "# Built-in data structure in Python.\n",
    "# Can store elements of different data types.\n",
    "# Operations are slower compared to Numpy arrays due to its generalized structure.\n",
    "# More flexible in handling a variety of data types."
   ]
  },
  {
   "cell_type": "code",
   "execution_count": 3,
   "id": "d594ef73-f319-44eb-bd96-4598381082dd",
   "metadata": {},
   "outputs": [
    {
     "name": "stdout",
     "output_type": "stream",
     "text": [
      "Shape: (3, 4)\n",
      "Size: 12\n",
      "Dimension: 2\n",
      "Shape: (3, 4)\n",
      "Size: 12\n",
      "Dimension: 2\n"
     ]
    }
   ],
   "source": [
    "# 3. Find the shape, size and dimension of the following array?\n",
    "# [[1, 2, 3, 4]\n",
    "# [5, 6, 7, 8],\n",
    "# [9, 10, 11, 12]]\n",
    "\n",
    "import numpy as np\n",
    "\n",
    "arr = np.array([[1, 2, 3, 4], [5, 6, 7, 8], [9, 10, 11, 12]])\n",
    "\n",
    "# Finding shape, size, and dimension\n",
    "shape = arr.shape\n",
    "size = arr.size\n",
    "dimension = arr.ndim\n",
    "\n",
    "print(\"Shape:\", shape)\n",
    "print(\"Size:\", size)\n",
    "print(\"Dimension:\", dimension)\n",
    "\n",
    "arr = np.array([[1, 2, 3, 4], [5, 6, 7, 8], [9, 10, 11, 12]])\n",
    "print(\"Shape:\", arr.shape)\n",
    "print(\"Size:\", arr.size)\n",
    "print(\"Dimension:\", arr.ndim)\n"
   ]
  },
  {
   "cell_type": "code",
   "execution_count": 4,
   "id": "dfd0430b-cbbb-4592-9172-dd8fb0631924",
   "metadata": {},
   "outputs": [
    {
     "name": "stdout",
     "output_type": "stream",
     "text": [
      "[1 2 3 4]\n",
      "[1 2 3 4]\n"
     ]
    }
   ],
   "source": [
    "# 4. Write python code to access the first row of the following array?\n",
    "# [[1, 2, 3, 4]\n",
    "# [5, 6, 7, 8],\n",
    "# [9, 10, 11, 12]]\n",
    "\n",
    "import numpy as np\n",
    "\n",
    "arr = np.array([[1, 2, 3, 4], [5, 6, 7, 8], [9, 10, 11, 12]])\n",
    "\n",
    "# Accessing the first row\n",
    "first_row = arr[0]\n",
    "print(first_row)\n",
    "\n",
    "arr = np.array([[1, 2, 3, 4], [5, 6, 7, 8], [9, 10, 11, 12]])\n",
    "print(arr[0])\n"
   ]
  },
  {
   "cell_type": "code",
   "execution_count": 5,
   "id": "406c4257-9817-4918-a671-ce9cf629fed0",
   "metadata": {},
   "outputs": [
    {
     "name": "stdout",
     "output_type": "stream",
     "text": [
      "12\n",
      "12\n"
     ]
    }
   ],
   "source": [
    "# 5. How do you access the element at the third row and fourth column from the given numpy array?\n",
    "# [[1, 2, 3, 4]\n",
    "# [5, 6, 7, 8],\n",
    "# [9, 10, 11, 12]]\n",
    "\n",
    "import numpy as np\n",
    "\n",
    "arr = np.array([[1, 2, 3, 4], [5, 6, 7, 8], [9, 10, 11, 12]])\n",
    "\n",
    "# Accessing the element at the third row and fourth column\n",
    "element = arr[2, 3]\n",
    "print(element)\n",
    "\n",
    "arr = np.array([[1, 2, 3, 4], [5, 6, 7, 8], [9, 10, 11, 12]])\n",
    "print(arr[2, 3])\n"
   ]
  },
  {
   "cell_type": "code",
   "execution_count": 6,
   "id": "164345b8-5223-4515-ab28-7b39b31cf9ab",
   "metadata": {},
   "outputs": [
    {
     "name": "stdout",
     "output_type": "stream",
     "text": [
      "[[ 2  4]\n",
      " [ 6  8]\n",
      " [10 12]]\n",
      "[[ 2  4]\n",
      " [ 6  8]\n",
      " [10 12]]\n"
     ]
    }
   ],
   "source": [
    "# 6. Write code to extract all odd-indexed elements from the given numpy array?\n",
    "# [[1, 2, 3, 4]\n",
    "# [5, 6, 7, 8],\n",
    "# [9, 10, 11, 12]]\n",
    "\n",
    "import numpy as np\n",
    "\n",
    "arr = np.array([[1, 2, 3, 4], [5, 6, 7, 8], [9, 10, 11, 12]])\n",
    "\n",
    "# Extracting all odd-indexed elements\n",
    "odd_elements = arr[:, 1::2]\n",
    "print(odd_elements)\n",
    "\n",
    "arr = np.array([[1, 2, 3, 4], [5, 6, 7, 8], [9, 10, 11, 12]])\n",
    "print(arr[:, 1::2])\n"
   ]
  },
  {
   "cell_type": "code",
   "execution_count": 7,
   "id": "ad9a88c6-ac65-46b2-9e0b-3da0d4420744",
   "metadata": {},
   "outputs": [
    {
     "name": "stdout",
     "output_type": "stream",
     "text": [
      "[[0.6922391  0.21927107 0.49266051]\n",
      " [0.92160528 0.64622541 0.79648413]\n",
      " [0.54699149 0.62775424 0.5085198 ]]\n",
      "[[0.78358722 0.96025078 0.35485277]\n",
      " [0.52215608 0.4378894  0.67355608]\n",
      " [0.38884556 0.87574558 0.82035884]]\n"
     ]
    }
   ],
   "source": [
    "# 7. How can you generate a random 3x3 matrix with values between 0 and 1?\n",
    "\n",
    "import numpy as np\n",
    "\n",
    "# Generating a random 3x3 matrix with values between 0 and 1\n",
    "random_matrix = np.random.rand(3, 3)\n",
    "print(random_matrix)\n",
    "\n",
    "print(np.random.rand(3, 3))\n"
   ]
  },
  {
   "cell_type": "code",
   "execution_count": 9,
   "id": "e631c31c-bd03-4998-8042-4f15dbb74325",
   "metadata": {},
   "outputs": [],
   "source": [
    "# 8. Describe the difference between np.random.rand and np.random.randn?\n",
    "\n",
    "# np.random.rand: Generates random numbers from a uniform distribution between 0 and 1. All numbers have an equal chance of being chosen.\n",
    "\n",
    "# np.random.randn: Generates random numbers from a standard normal distribution (mean 0, variance 1). The numbers are distributed with a bell curve, so values closer to 0 are more likely than values farther away from 0."
   ]
  },
  {
   "cell_type": "code",
   "execution_count": 10,
   "id": "7411095a-d1f6-4df8-b77e-b854fe26c8a5",
   "metadata": {},
   "outputs": [
    {
     "name": "stdout",
     "output_type": "stream",
     "text": [
      "[[[ 1  2  3  4]\n",
      "  [ 5  6  7  8]\n",
      "  [ 9 10 11 12]]]\n",
      "(1, 3, 4)\n",
      "[[[ 1  2  3  4]\n",
      "  [ 5  6  7  8]\n",
      "  [ 9 10 11 12]]]\n"
     ]
    }
   ],
   "source": [
    "# 9. Write code to increase the dimension of the following array?\n",
    "# [[1, 2, 3, 4]\n",
    "# [5, 6, 7, 8],\n",
    "# [9, 10, 11, 12]]\n",
    "\n",
    "import numpy as np\n",
    "\n",
    "arr = np.array([[1, 2, 3, 4], [5, 6, 7, 8], [9, 10, 11, 12]])\n",
    "\n",
    "# Increasing dimension of the array\n",
    "new_arr = np.expand_dims(arr, axis=0)\n",
    "print(new_arr)\n",
    "print(new_arr.shape)  # To check the new shape\n",
    "\n",
    "arr = np.array([[1, 2, 3, 4], [5, 6, 7, 8], [9, 10, 11, 12]])\n",
    "new_arr = np.expand_dims(arr, axis=0)\n",
    "print(new_arr)\n"
   ]
  },
  {
   "cell_type": "code",
   "execution_count": 12,
   "id": "f1ffa7d0-e5fb-4c0b-bb7e-575d54e45182",
   "metadata": {},
   "outputs": [
    {
     "name": "stdout",
     "output_type": "stream",
     "text": [
      "[[ 1  5  9]\n",
      " [ 2  6 10]\n",
      " [ 3  7 11]\n",
      " [ 4  8 12]]\n",
      "[[ 1  5  9]\n",
      " [ 2  6 10]\n",
      " [ 3  7 11]\n",
      " [ 4  8 12]]\n"
     ]
    }
   ],
   "source": [
    "# 10. How to transpose the following array in NumPy?\n",
    "# [[1, 2, 3, 4]\n",
    "# [5, 6, 7, 8],\n",
    "# [9, 10, 11, 12]]\n",
    "\n",
    "import numpy as np\n",
    "\n",
    "arr = np.array([[1, 2, 3, 4], [5, 6, 7, 8], [9, 10, 11, 12]])\n",
    "\n",
    "# Transposing the array\n",
    "transposed_arr = arr.T\n",
    "print(transposed_arr)\n",
    "\n",
    "arr = np.array([[1, 2, 3, 4], [5, 6, 7, 8], [9, 10, 11, 12]])\n",
    "print(arr.T)\n"
   ]
  },
  {
   "cell_type": "code",
   "execution_count": 16,
   "id": "3126b87a-16fd-4686-86e0-def6fc36b0ef",
   "metadata": {},
   "outputs": [
    {
     "name": "stdout",
     "output_type": "stream",
     "text": [
      "Index-wise multiplication:\n",
      " [[  1   4   9  16]\n",
      " [ 25  36  49  64]\n",
      " [ 81 100 121 144]]\n",
      "[[  1   4   9  16]\n",
      " [ 25  36  49  64]\n",
      " [ 81 100 121 144]]\n",
      "Matrix multiplication:\n",
      " [[ 30  70 110]\n",
      " [ 70 174 278]\n",
      " [110 278 446]]\n",
      "[[ 30  70 110]\n",
      " [ 70 174 278]\n",
      " [110 278 446]]\n",
      "Matrix addition:\n",
      " [[ 2  4  6  8]\n",
      " [10 12 14 16]\n",
      " [18 20 22 24]]\n",
      "[[ 2  4  6  8]\n",
      " [10 12 14 16]\n",
      " [18 20 22 24]]\n",
      "Matrix subtraction:\n",
      " [[0 0 0 0]\n",
      " [0 0 0 0]\n",
      " [0 0 0 0]]\n",
      "[[0 0 0 0]\n",
      " [0 0 0 0]\n",
      " [0 0 0 0]]\n",
      "Matrix division:\n",
      " [[1. 1. 1. 1.]\n",
      " [1. 1. 1. 1.]\n",
      " [1. 1. 1. 1.]]\n",
      "[[1. 1. 1. 1.]\n",
      " [1. 1. 1. 1.]\n",
      " [1. 1. 1. 1.]]\n"
     ]
    }
   ],
   "source": [
    "# 11. Consider the following matrix:\n",
    "# Matrix A: [[1, 2, 3, 4] [5, 6, 7, 8],[9, 10, 11, 12]]\n",
    "# Matrix B: [[1, 2, 3, 4] [5, 6, 7, 8],[9, 10, 11, 12]]\n",
    "\n",
    "A = np.array([[1, 2, 3, 4], [5, 6, 7, 8], [9, 10, 11, 12]])\n",
    "B = np.array([[1, 2, 3, 4], [5, 6, 7, 8], [9, 10, 11, 12]])\n",
    "\n",
    "# Perform the following operation using Python1\n",
    "\n",
    "# 1.Index wise multiplication\n",
    "index_wise_mult = A * B\n",
    "print(\"Index-wise multiplication:\\n\", index_wise_mult)\n",
    "print(A * B)\n",
    "\n",
    "\n",
    "# 2.Matrix multiplication\n",
    "matrix_mult = np.dot(A, B.T)\n",
    "print(\"Matrix multiplication:\\n\", matrix_mult)\n",
    "print(np.dot(A, B.T))\n",
    "\n",
    "\n",
    "# 3.Add both the matricK\n",
    "\n",
    "matrix_add = A + B\n",
    "print(\"Matrix addition:\\n\", matrix_add)\n",
    "print(A + B)\n",
    "\n",
    "# 4.Subtract matrix B from  A\n",
    "matrix_sub = A - B\n",
    "print(\"Matrix subtraction:\\n\", matrix_sub)\n",
    "print(A - B)\n",
    "\n",
    "# 5.Divide Matrix B by A\n",
    "matrix_div = B / A\n",
    "print(\"Matrix division:\\n\", matrix_div)\n",
    "print(B / A)\n",
    "\n"
   ]
  },
  {
   "cell_type": "code",
   "execution_count": 17,
   "id": "f6f2a4c8-7d25-4e25-8a47-97592cca027f",
   "metadata": {},
   "outputs": [
    {
     "name": "stdout",
     "output_type": "stream",
     "text": [
      "[16777216    65536   131072]\n",
      "[16777216    65536   131072]\n"
     ]
    }
   ],
   "source": [
    "# 12. Which function in Numpy can be used to swap the byte order of an array?\n",
    "\n",
    "import numpy as np\n",
    "\n",
    "arr = np.array([1, 256, 512], dtype='>i4')  # Big-endian byte order\n",
    "swapped_arr = arr.byteswap()\n",
    "print(swapped_arr)\n",
    "\n",
    "arr = np.array([1, 256, 512], dtype='>i4')\n",
    "print(arr.byteswap())\n",
    "\n",
    "\n",
    "# The function np.ndarray.byteswap() is used to swap the byte order of an array. This is useful when dealing with data that has different byte orders, like when reading data from files produced on machines with different architectures."
   ]
  },
  {
   "cell_type": "code",
   "execution_count": 19,
   "id": "5d8513a9-365d-4765-b11d-c5f215e7663e",
   "metadata": {},
   "outputs": [
    {
     "name": "stdout",
     "output_type": "stream",
     "text": [
      "[[-2.   1. ]\n",
      " [ 1.5 -0.5]]\n",
      "[[-2.   1. ]\n",
      " [ 1.5 -0.5]]\n"
     ]
    }
   ],
   "source": [
    "# 13. What is the significance of the np.linalg.inv function?\n",
    "\n",
    "import numpy as np\n",
    "\n",
    "A = np.array([[1, 2], [3, 4]])\n",
    "A_inv = np.linalg.inv(A)\n",
    "print(A_inv)\n",
    "\n",
    "A = np.array([[1, 2], [3, 4]])\n",
    "print(np.linalg.inv(A))\n",
    "\n",
    "# The np.linalg.inv() function is used to compute inverse of square matrix. The inverse of matrix a is the A^-1 such that A*A^-1 = I is the identity matrix. \n",
    "# Inverting a matrix is commonly used in solving linear equations, where A*X = B can be solved for X as X = A^-1"
   ]
  },
  {
   "cell_type": "code",
   "execution_count": 20,
   "id": "eef00020-8b8a-44b8-b6a7-7cc300185527",
   "metadata": {},
   "outputs": [
    {
     "name": "stdout",
     "output_type": "stream",
     "text": [
      "[[1 2 3]\n",
      " [4 5 6]]\n",
      "[[1 2 3]\n",
      " [4 5 6]]\n"
     ]
    }
   ],
   "source": [
    "# 14. What does the np.reshape function do, and how is it used?\n",
    "\n",
    "import numpy as np\n",
    "\n",
    "arr = np.array([1, 2, 3, 4, 5, 6])\n",
    "reshaped_arr = arr.reshape(2, 3)\n",
    "print(reshaped_arr)\n",
    "\n",
    "arr = np.array([1, 2, 3, 4, 5, 6])\n",
    "print(arr.reshape(2, 3))\n",
    "\n",
    "# The np.reshape() function in Numpy changes the shape of an existing array without altering its data. It returns a new array with the specified dimensions.\n",
    "# The product of the new shape's dimensions must equal the total number of elements in the original array."
   ]
  },
  {
   "cell_type": "code",
   "execution_count": null,
   "id": "61d36f4b-916c-47cb-bee5-0b8faa7109f7",
   "metadata": {},
   "outputs": [],
   "source": [
    "# 15. What is broadcasting in Numpy?\n",
    "\n",
    "# Broadcasting is a mechanism in Numpy that allows arrays of different shapes to be combined in arithmetic operations. Instead of creating multiple copies of an array, Numpy \"broadcasts\" the smaller array across the larger array so that they have compatible shapes.\n",
    "# Broadcasting simplifies code and enhances performance by avoiding explicit duplication of data in memory.\n",
    "\n",
    "import numpy as np\n",
    "\n",
    "A = np.array([1, 2, 3])\n",
    "B = np.array([[1], [2], [3]])\n",
    "\n",
    "result = A + B  # Broadcasting occurs here\n",
    "print(result)\n"
   ]
  }
 ],
 "metadata": {
  "kernelspec": {
   "display_name": "Python 3 (ipykernel)",
   "language": "python",
   "name": "python3"
  },
  "language_info": {
   "codemirror_mode": {
    "name": "ipython",
    "version": 3
   },
   "file_extension": ".py",
   "mimetype": "text/x-python",
   "name": "python",
   "nbconvert_exporter": "python",
   "pygments_lexer": "ipython3",
   "version": "3.10.8"
  }
 },
 "nbformat": 4,
 "nbformat_minor": 5
}
