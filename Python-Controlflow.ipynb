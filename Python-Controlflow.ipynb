{
 "cells": [
  {
   "cell_type": "code",
   "execution_count": 5,
   "id": "b2277ba2-3356-45a1-bb33-7433156f373e",
   "metadata": {},
   "outputs": [
    {
     "data": {
      "application/javascript": [
       "IPython.notebook.set_autosave_interval(120000)"
      ]
     },
     "metadata": {},
     "output_type": "display_data"
    },
    {
     "name": "stdout",
     "output_type": "stream",
     "text": [
      "Autosaving every 120 seconds\n"
     ]
    }
   ],
   "source": [
    "%autosave 120"
   ]
  },
  {
   "cell_type": "code",
   "execution_count": null,
   "id": "d20ce480-80a6-49f5-92df-898a47c77737",
   "metadata": {},
   "outputs": [],
   "source": []
  },
  {
   "cell_type": "code",
   "execution_count": null,
   "id": "4ca6c4c9-c394-49f6-b50f-05530637231e",
   "metadata": {},
   "outputs": [],
   "source": [
    "# Basic If-Else Statements:"
   ]
  },
  {
   "cell_type": "code",
   "execution_count": 8,
   "id": "ac9d0f78-8b35-4281-abed-8e9f4ec6d872",
   "metadata": {},
   "outputs": [
    {
     "name": "stdin",
     "output_type": "stream",
     "text": [
      "Enter a number:  12\n"
     ]
    },
    {
     "name": "stdout",
     "output_type": "stream",
     "text": [
      "The number is positive.\n"
     ]
    }
   ],
   "source": [
    "# 1. Write a Python program to check if a given number is positive or negative.\n",
    "\n",
    "def check_number(num):\n",
    "    if num > 0:\n",
    "        return \"The number is positive.\"\n",
    "    elif num < 0:\n",
    "        return \"The number is negative.\"\n",
    "    else:\n",
    "        return \"The number is zero.\"\n",
    "\n",
    "# Example usage\n",
    "try:\n",
    "    number = float(input(\"Enter a number: \"))\n",
    "    result = check_number(number)\n",
    "    print(result)\n",
    "except ValueError:\n",
    "    print(\"Please enter a valid number.\")\n",
    "\n",
    "    \n",
    "# Understanding and Completeness: The function check_number(num) takes a number as input and returns whether it is positive, negative, or zero. It handles both integers and floating-point numbers. The try-except block ensures that invalid inputs are managed gracefully.\n",
    "\n",
    "# Clarity and Depth:\n",
    "# if num > 0: checks if the number is positive.\n",
    "# elif num < 0: checks if the number is negative.\n",
    "# else: handles the case where the number is zero.\n",
    "\n",
    "# Correct Implementation: The code correctly uses conditional statements to determine the sign of the number. The try-except block catches ValueError exceptions if the input cannot be converted to a float, ensuring robust input handling.\n",
    "\n",
    "# Proper Code Implementation and Organization:\n",
    "# The function is well-defined and clear.\n",
    "# The try-except block is used for error handling.\n",
    "# Code is organized into distinct functional parts: input, processing, and output.  "
   ]
  },
  {
   "cell_type": "code",
   "execution_count": 9,
   "id": "833866ea-46e7-48e3-bd56-817938790e29",
   "metadata": {},
   "outputs": [
    {
     "data": {
      "text/plain": [
       "'The number is negative.'"
      ]
     },
     "execution_count": 9,
     "metadata": {},
     "output_type": "execute_result"
    }
   ],
   "source": [
    "check_number(-12)"
   ]
  },
  {
   "cell_type": "code",
   "execution_count": 6,
   "id": "3ebbc0d6-1230-45c1-b5ad-917bb7d8ac5d",
   "metadata": {},
   "outputs": [
    {
     "name": "stdin",
     "output_type": "stream",
     "text": [
      "Enter your age:  18\n"
     ]
    },
    {
     "name": "stdout",
     "output_type": "stream",
     "text": [
      "You are eligible to vote.\n"
     ]
    }
   ],
   "source": [
    "# 2. Create a program that determines if a person is eligible to vote based on their age.\n",
    "\n",
    "def check_voting_eligibility(age):\n",
    "    if age >= 18:\n",
    "        return \"You are eligible to vote.\"\n",
    "    else:\n",
    "        return \"You are not eligible to vote.\"\n",
    "\n",
    "# Example usage\n",
    "try:\n",
    "    age = int(input(\"Enter your age: \"))\n",
    "    result = check_voting_eligibility(age)\n",
    "    print(result)\n",
    "except ValueError:\n",
    "    print(\"Please enter a valid age.\")\n",
    " \n",
    "\n",
    "\n",
    " # Explanation\n",
    "# Understanding and Completeness:\n",
    "\n",
    "# The function check_voting_eligibility(age) determines if the given age qualifies a person to vote. The age threshold is set to 18, which is commonly the voting age in many countries.\n",
    "# The try-except block ensures that invalid inputs are handled properly.\n",
    "# Clarity and Depth:\n",
    "\n",
    "# if age >= 18: checks if the person is 18 years old or older.\n",
    "# else: handles the case where the person is younger than 18.\n",
    "# Correct Implementation:\n",
    "\n",
    "# The function accurately assesses voting eligibility based on the age provided.\n",
    "# The try-except block ensures that the input is an integer and handles cases where the input is not a number.\n",
    "# Proper Code Implementation and Organization:\n",
    "\n",
    "# The function is clearly defined and straightforward.\n",
    "# Error handling is included to manage invalid inputs.\n",
    "# Code is organized into input, processing, and output sections.    \n"
   ]
  },
  {
   "cell_type": "code",
   "execution_count": 7,
   "id": "e6d9e965-04a0-43b4-b7a2-02c455a5cbc8",
   "metadata": {},
   "outputs": [
    {
     "data": {
      "text/plain": [
       "'You are not eligible to vote.'"
      ]
     },
     "execution_count": 7,
     "metadata": {},
     "output_type": "execute_result"
    }
   ],
   "source": [
    "check_voting_eligibility(15)"
   ]
  },
  {
   "cell_type": "code",
   "execution_count": 8,
   "id": "c0e3392d-2367-4af7-9d1a-6a91890fc357",
   "metadata": {},
   "outputs": [
    {
     "name": "stdin",
     "output_type": "stream",
     "text": [
      "Enter the first number:  7\n",
      "Enter the second number:  4\n"
     ]
    },
    {
     "name": "stdout",
     "output_type": "stream",
     "text": [
      "The maximum number is 7.0.\n"
     ]
    }
   ],
   "source": [
    "# 3. Develop a program to find the maximum of two numbers using if-else statements.\n",
    "\n",
    "def find_max(num1, num2):\n",
    "    if num1 > num2:\n",
    "        return f\"The maximum number is {num1}.\"\n",
    "    elif num2 > num1:\n",
    "        return f\"The maximum number is {num2}.\"\n",
    "    else:\n",
    "        return \"Both numbers are equal.\"\n",
    "\n",
    "# Example usage\n",
    "try:\n",
    "    number1 = float(input(\"Enter the first number: \"))\n",
    "    number2 = float(input(\"Enter the second number: \"))\n",
    "    result = find_max(number1, number2)\n",
    "    print(result)\n",
    "except ValueError:\n",
    "    print(\"Please enter valid numbers.\")\n",
    "\n",
    "    \n",
    "    \n",
    "# Explanation\n",
    "# Understanding and Completeness:\n",
    "\n",
    "# The function find_max(num1, num2) compares two numbers and returns the maximum. If the numbers are equal, it informs the user.\n",
    "# The try-except block handles invalid inputs by ensuring only valid numbers are processed.\n",
    "# Clarity and Depth:\n",
    "\n",
    "# if num1 > num2: checks if the first number is greater.\n",
    "# elif num2 > num1: checks if the second number is greater.\n",
    "# else: handles the case where both numbers are equal.\n",
    "# Correct Implementation:\n",
    "\n",
    "# The function uses conditional statements to determine which number is larger and handles cases where both numbers are the same.\n",
    "# The try-except block ensures that the input is converted to a float and handles any conversion errors.\n",
    "# Proper Code Implementation and Organization:\n",
    "\n",
    "# The function is well-defined and concise.\n",
    "# Error handling is included for robustness.\n",
    "# The code is organized into clear segments: input, processing, and output.\n"
   ]
  },
  {
   "cell_type": "code",
   "execution_count": 4,
   "id": "dbcdb952-472c-43e2-b887-9ce86287664e",
   "metadata": {},
   "outputs": [
    {
     "name": "stdin",
     "output_type": "stream",
     "text": [
      "Enter a year:  2024\n"
     ]
    },
    {
     "name": "stdout",
     "output_type": "stream",
     "text": [
      "2024 is a leap year.\n"
     ]
    }
   ],
   "source": [
    "# 4. Write a Python script to classify a given year as a leap year or not.\n",
    "\n",
    "def is_leap_year(year):\n",
    "    # Leap year if divisible by 4\n",
    "    # But not a leap year if divisible by 100 unless also divisible by 400\n",
    "    if (year % 4 == 0):\n",
    "        if (year % 100 == 0):\n",
    "            if (year % 400 == 0):\n",
    "                return f\"{year} is a leap year.\"\n",
    "            else:\n",
    "                return f\"{year} is not a leap year.\"\n",
    "        else:\n",
    "            return f\"{year} is a leap year.\"\n",
    "    else:\n",
    "        return f\"{year} is not a leap year.\"\n",
    "\n",
    "# Example usage\n",
    "try:\n",
    "    \n",
    "    year = int(input(\"Enter a year: \"))\n",
    "    result = is_leap_year(year)\n",
    "    print(result)\n",
    "except ValueError:\n",
    "    print(\"Please enter a valid year.\")\n",
    "    \n",
    "    \n",
    "    \n",
    "# Explanation\n",
    "\n",
    "# Understanding and Completeness:\n",
    "# The function is_leap_year(year) determines if a given year is a leap year. The rules for leap years are:\n",
    "# A year is a leap year if it is divisible by 4.\n",
    "# However, if it is also divisible by 100, it is not a leap year unless it is also divisible by 400.\n",
    "# The try-except block ensures the input is a valid integer year.\n",
    "\n",
    "# Clarity and Depth:\n",
    "# if (year % 4 == 0): checks if the year is divisible by 4.\n",
    "# if (year % 100 == 0): checks if the year is divisible by 100.\n",
    "# if (year % 400 == 0): checks if the year is divisible by 400 to determine leap year status.\n",
    "\n",
    "# Correct Implementation:\n",
    "# The function accurately implements the leap year rules with nested conditions.\n",
    "# The try-except block handles input errors by ensuring the input is an integer.\n",
    "\n",
    "# Proper Code Implementation and Organization:\n",
    "# The function is clearly defined and uses nested conditionals to determine the leap year status.\n",
    "# Error handling is included for robustness.\n",
    "# The code is organized into input, processing, and output sections.\n"
   ]
  },
  {
   "cell_type": "code",
   "execution_count": 5,
   "id": "44d728f7-e5f2-43cf-ad8c-6c993a217334",
   "metadata": {},
   "outputs": [
    {
     "data": {
      "text/plain": [
       "'2025 is not a leap year.'"
      ]
     },
     "execution_count": 5,
     "metadata": {},
     "output_type": "execute_result"
    }
   ],
   "source": [
    "is_leap_year(2025)"
   ]
  },
  {
   "cell_type": "code",
   "execution_count": 1,
   "id": "b0768551-a99e-4b69-8c36-787f26c0004f",
   "metadata": {},
   "outputs": [
    {
     "name": "stdin",
     "output_type": "stream",
     "text": [
      "Enter a single character:  i\n"
     ]
    },
    {
     "name": "stdout",
     "output_type": "stream",
     "text": [
      "'i' is a vowel.\n"
     ]
    }
   ],
   "source": [
    "# 5. Create a program that checks whether a character is a vowel or a consonant.\n",
    "\n",
    "def check_character(char):\n",
    "    # Convert the character to lowercase for uniform comparison\n",
    "    char = char.lower()\n",
    "    # Check if the character is a vowel\n",
    "    if char in 'aeiou':\n",
    "        return f\"'{char}' is a vowel.\"\n",
    "    elif char.isalpha():  # Check if it's an alphabet character but not a vowel\n",
    "        return f\"'{char}' is a consonant.\"\n",
    "    else:\n",
    "        return f\"'{char}' is not an alphabet character.\"\n",
    "\n",
    "# Example usage\n",
    "try:\n",
    "    character = input(\"Enter a single character: \")\n",
    "    if len(character) != 1:\n",
    "        raise ValueError(\"Please enter exactly one character.\")\n",
    "    result = check_character(character)\n",
    "    print(result)\n",
    "except ValueError as e:\n",
    "    print(e)\n",
    "\n",
    "    \n",
    "#  Explanation\n",
    "\n",
    "# Understanding and Completeness:\n",
    "# The function check_character(char) determines if a given character is a vowel, consonant, or not an alphabet character. It handles both uppercase and lowercase inputs by converting the character to lowercase.\n",
    "# The try-except block ensures that the input is a single character and manages input errors.\n",
    "\n",
    "# Clarity and Depth:\n",
    "# char.lower() converts the character to lowercase for consistent comparison.\n",
    "# if char in 'aeiou': checks if the character is a vowel.\n",
    "# elif char.isalpha(): checks if the character is an alphabet letter but not a vowel, classifying it as a consonant.\n",
    "# else: handles non-alphabet characters.\n",
    "\n",
    "# Correct Implementation:\n",
    "# The function accurately determines whether the character is a vowel or consonant using membership tests and character checks.\n",
    "# The try-except block ensures the input is exactly one character and handles errors gracefully.\n",
    "\n",
    "# Proper Code Implementation and Organization:\n",
    "# The function is well-defined and clear in its purpose.\n",
    "# Error handling for non-single character input and non-alphabet characters is included.\n",
    "# The code is organized into distinct sections for input, processing, and output.   \n"
   ]
  },
  {
   "cell_type": "code",
   "execution_count": 3,
   "id": "2cac6dcf-ded5-4c0a-957f-f0bc1c8fe8d6",
   "metadata": {},
   "outputs": [
    {
     "data": {
      "text/plain": [
       "\"'j' is a consonant.\""
      ]
     },
     "execution_count": 3,
     "metadata": {},
     "output_type": "execute_result"
    }
   ],
   "source": [
    "check_character(\"j\")"
   ]
  },
  {
   "cell_type": "code",
   "execution_count": 10,
   "id": "32f4ce2c-3a92-4225-b177-1d619d5a70f8",
   "metadata": {},
   "outputs": [
    {
     "name": "stdin",
     "output_type": "stream",
     "text": [
      "Enter an integer:  23\n"
     ]
    },
    {
     "name": "stdout",
     "output_type": "stream",
     "text": [
      "23 is an odd number.\n"
     ]
    }
   ],
   "source": [
    "# 6. Implement a program to determine whether a given number is even or odd.\n",
    "\n",
    "def check_even_odd(num):\n",
    "    if num % 2 == 0:\n",
    "        return f\"{num} is an even number.\"\n",
    "    else:\n",
    "        return f\"{num} is an odd number.\"\n",
    "\n",
    "# Example usage\n",
    "try:\n",
    "    number = int(input(\"Enter an integer: \"))\n",
    "    result = check_even_odd(number)\n",
    "    print(result)\n",
    "except ValueError:\n",
    "    print(\"Please enter a valid integer.\")\n",
    "\n",
    "    \n",
    "    \n",
    "#  Explanation\n",
    "\n",
    "# Understanding and Completeness:\n",
    "# The function check_even_odd(num) checks if a given number is even or odd. It uses the modulus operator % to determine if the number is divisible by 2 without a remainder.\n",
    "# The try-except block ensures that the input is a valid integer.\n",
    "\n",
    "# Clarity and Depth:\n",
    "# if num % 2 == 0: checks if the number is divisible by 2 (even).\n",
    "# else: handles the case where the number is not divisible by 2 (odd).\n",
    "\n",
    "# Correct Implementation:\n",
    "# The function correctly identifies even and odd numbers using the modulus operation.\n",
    "# The try-except block ensures only valid integers are processed, catching any ValueError for non-integer inputs.\n",
    "\n",
    "# Proper Code Implementation and Organization:\n",
    "# The function is straightforward and clearly performs its intended task.\n",
    "# Error handling ensures robustness against invalid input.\n",
    "# The code is neatly organized into input, processing, and output sections.   "
   ]
  },
  {
   "cell_type": "code",
   "execution_count": 11,
   "id": "c124d233-fcbe-4bf9-b90b-598e1f625be7",
   "metadata": {},
   "outputs": [
    {
     "data": {
      "text/plain": [
       "'22 is an even number.'"
      ]
     },
     "execution_count": 11,
     "metadata": {},
     "output_type": "execute_result"
    }
   ],
   "source": [
    "check_even_odd(22)"
   ]
  },
  {
   "cell_type": "code",
   "execution_count": 14,
   "id": "e40a9257-980d-481f-b686-ee65fe53d194",
   "metadata": {},
   "outputs": [
    {
     "name": "stdin",
     "output_type": "stream",
     "text": [
      "Enter a number:  4.4\n"
     ]
    },
    {
     "name": "stdout",
     "output_type": "stream",
     "text": [
      "The absolute value of 4.4 is 4.4.\n"
     ]
    }
   ],
   "source": [
    "# 7. Write a Python function to calculate the absolute value of a number without using the `abs()` function.\n",
    "\n",
    "def custom_abs(number):\n",
    "    if number < 0:\n",
    "        return -number\n",
    "    else:\n",
    "        return number\n",
    "\n",
    "# Example usage\n",
    "try:\n",
    "    num = float(input(\"Enter a number: \"))\n",
    "    result = custom_abs(num)\n",
    "    print(f\"The absolute value of {num} is {result}.\")\n",
    "except ValueError:\n",
    "    print(\"Please enter a valid number.\")\n",
    "\n",
    "    \n",
    "# Explanation\n",
    "# Understanding and Completeness:\n",
    "\n",
    "# The function custom_abs(number) calculates the absolute value by checking if the number is negative. If it is, the function returns the negation of the number (making it positive); otherwise, it returns the number itself.\n",
    "# The try-except block ensures that the input is a valid number.\n",
    "# Clarity and Depth:\n",
    "\n",
    "# if number < 0: checks if the number is negative.\n",
    "# return -number returns the positive equivalent of the negative number.\n",
    "# else: handles the case where the number is already non-negative and returns it unchanged.\n",
    "# Correct Implementation:\n",
    "\n",
    "# The function correctly implements the logic to determine the absolute value without relying on the built-in abs() function.\n",
    "# The try-except block ensures only valid numbers are processed, catching any ValueError for non-numeric inputs.\n",
    "# Proper Code Implementation and Organization:\n",
    "\n",
    "# The function is clearly defined and performs its intended task efficiently.\n",
    "# Error handling ensures robustness against invalid input.\n",
    "# The code is organized into input, processing, and output sections.    \n",
    "    "
   ]
  },
  {
   "cell_type": "code",
   "execution_count": 15,
   "id": "132aa444-f469-4612-a6a5-9b0c9978aaac",
   "metadata": {},
   "outputs": [
    {
     "data": {
      "text/plain": [
       "3"
      ]
     },
     "execution_count": 15,
     "metadata": {},
     "output_type": "execute_result"
    }
   ],
   "source": [
    "custom_abs(-3)"
   ]
  },
  {
   "cell_type": "code",
   "execution_count": 16,
   "id": "b6cc29b4-f341-4976-aea0-1cf119dd8d89",
   "metadata": {},
   "outputs": [
    {
     "name": "stdin",
     "output_type": "stream",
     "text": [
      "Enter the first number:  5\n",
      "Enter the second number:  7\n",
      "Enter the third number:  3\n"
     ]
    },
    {
     "name": "stdout",
     "output_type": "stream",
     "text": [
      "The largest number is 7.0.\n"
     ]
    }
   ],
   "source": [
    "# 8. Develop a program that determines the largest of three given numbers using if-else statements.\n",
    "\n",
    "def find_largest(num1, num2, num3):\n",
    "    if num1 >= num2 and num1 >= num3:\n",
    "        return f\"The largest number is {num1}.\"\n",
    "    elif num2 >= num1 and num2 >= num3:\n",
    "        return f\"The largest number is {num2}.\"\n",
    "    else:\n",
    "        return f\"The largest number is {num3}.\"\n",
    "\n",
    "# Example usage\n",
    "try:\n",
    "    number1 = float(input(\"Enter the first number: \"))\n",
    "    number2 = float(input(\"Enter the second number: \"))\n",
    "    number3 = float(input(\"Enter the third number: \"))\n",
    "    result = find_largest(number1, number2, number3)\n",
    "    print(result)\n",
    "except ValueError:\n",
    "    print(\"Please enter valid numbers.\")\n",
    "\n",
    "    \n",
    "    \n",
    "# Explanation\n",
    "# Understanding and Completeness:\n",
    "\n",
    "# The function find_largest(num1, num2, num3) compares three numbers and determines the largest among them. It uses chained comparisons to determine which number is the largest.\n",
    "# The try-except block ensures that the input values are valid numbers.\n",
    "# Clarity and Depth:\n",
    "\n",
    "# if num1 >= num2 and num1 >= num3: checks if the first number is greater than or equal to both the second and third numbers.\n",
    "# elif num2 >= num1 and num2 >= num3: checks if the second number is greater than or equal to both the first and third numbers.\n",
    "# else: handles the case where the third number is the largest.\n",
    "# Correct Implementation:\n",
    "\n",
    "# The function correctly compares the three numbers using if-else statements to find the largest number.\n",
    "# The try-except block ensures that only valid numeric inputs are processed, handling any ValueError for non-numeric inputs.\n",
    "# Proper Code Implementation and Organization:\n",
    "\n",
    "# The function is clearly defined and logically structured.\n",
    "# Error handling is included to manage invalid inputs.\n",
    "# The code is organized into distinct parts for input, processing, and output."
   ]
  },
  {
   "cell_type": "code",
   "execution_count": 17,
   "id": "1a833f76-d48d-474c-a764-3068f83fc7af",
   "metadata": {},
   "outputs": [
    {
     "name": "stdin",
     "output_type": "stream",
     "text": [
      "Enter a string:  Amima\n"
     ]
    },
    {
     "name": "stdout",
     "output_type": "stream",
     "text": [
      "'amima' is a palindrome.\n"
     ]
    }
   ],
   "source": [
    "# 9. Create a program that checks if a given string is a palindrome.\n",
    "\n",
    "def is_palindrome(s):\n",
    "    # Remove any spaces and convert the string to lowercase for uniform comparison\n",
    "    s = s.replace(\" \", \"\").lower()\n",
    "    # Check if the string is equal to its reverse\n",
    "    if s == s[::-1]:\n",
    "        return f\"'{s}' is a palindrome.\"\n",
    "    else:\n",
    "        return f\"'{s}' is not a palindrome.\"\n",
    "\n",
    "# Example usage\n",
    "input_string = input(\"Enter a string: \")\n",
    "result = is_palindrome(input_string)\n",
    "print(result)\n",
    "\n",
    "\n",
    "\n",
    "# Explanation\n",
    "\n",
    "# Understanding and Completeness:\n",
    "# The function is_palindrome(s) checks if a given string is a palindrome. A palindrome is a string that reads the same forward and backward.\n",
    "# The function removes any spaces and converts the string to lowercase to ensure the comparison is case-insensitive and ignores spaces.\n",
    "\n",
    "# Clarity and Depth:\n",
    "# s.replace(\" \", \"\").lower() removes all spaces and converts the string to lowercase.\n",
    "# s[::-1] reverses the string. The function compares the original string to its reverse to determine if it is a palindrome.\n",
    "\n",
    "# Correct Implementation:\n",
    "# The function correctly identifies palindromes by checking if the string is equal to its reverse.\n",
    "# The string processing steps ensure that case and spaces do not affect the palindrome check.\n",
    "\n",
    "# Proper Code Implementation and Organization:\n",
    "# The function is straightforward and focused on its specific task.\n",
    "# The input processing ensures uniformity, making the palindrome check accurate.\n",
    "# The code is organized logically, with input processing and the palindrome check clearly separated."
   ]
  },
  {
   "cell_type": "code",
   "execution_count": 18,
   "id": "e205861a-94f0-4b33-af3c-3ed660da0804",
   "metadata": {},
   "outputs": [
    {
     "data": {
      "text/plain": [
       "\"'yellow' is not a palindrome.\""
      ]
     },
     "execution_count": 18,
     "metadata": {},
     "output_type": "execute_result"
    }
   ],
   "source": [
    "is_palindrome(\"yellow\")"
   ]
  },
  {
   "cell_type": "code",
   "execution_count": 19,
   "id": "763c1f37-1609-4c78-9a3a-be7144968573",
   "metadata": {},
   "outputs": [
    {
     "name": "stdin",
     "output_type": "stream",
     "text": [
      "Enter the student's score:  70\n"
     ]
    },
    {
     "name": "stdout",
     "output_type": "stream",
     "text": [
      "The student's grade is: C\n"
     ]
    }
   ],
   "source": [
    "# 10. Write a Python program to calculate the grade based on a student's score.\n",
    "\n",
    "def calculate_grade(score):\n",
    "    if score >= 90:\n",
    "        return \"A\"\n",
    "    elif score >= 80:\n",
    "        return \"B\"\n",
    "    elif score >= 70:\n",
    "        return \"C\"\n",
    "    elif score >= 60:\n",
    "        return \"D\"\n",
    "    elif score >= 50:\n",
    "        return \"E\"\n",
    "    else:\n",
    "        return \"F\"\n",
    "\n",
    "# Example usage\n",
    "try:\n",
    "    student_score = float(input(\"Enter the student's score: \"))\n",
    "    if 0 <= student_score <= 100:\n",
    "        grade = calculate_grade(student_score)\n",
    "        print(f\"The student's grade is: {grade}\")\n",
    "    else:\n",
    "        print(\"Please enter a score between 0 and 100.\")\n",
    "except ValueError:\n",
    "    print(\"Please enter a valid number.\")\n",
    "\n",
    "  \n",
    "\n",
    " # Explanation\n",
    "\n",
    "# Understanding and Completeness:\n",
    "# The function calculate_grade(score) determines the grade based on the score using standard grading thresholds.\n",
    "# The program handles scores from 0 to 100 and assigns grades from A to F based on the specified ranges.\n",
    "\n",
    "# Clarity and Depth:\n",
    "# if score >= 90: returns grade \"A\" for scores 90 and above.\n",
    "# elif score >= 80: returns grade \"B\" for scores 80-89.\n",
    "# elif score >= 70: returns grade \"C\" for scores 70-79.\n",
    "# elif score >= 60: returns grade \"D\" for scores 60-69.\n",
    "# elif score >= 50: returns grade \"E\" for scores 50-59.\n",
    "# else: returns grade \"F\" for scores below 50.\n",
    "\n",
    "# Correct Implementation:\n",
    "# The function correctly assigns grades based on the score using a series of conditional checks.\n",
    "# The try-except block ensures that only valid numeric inputs are processed, with additional validation to ensure the score is between 0 and 100.\n",
    "\n",
    "# Proper Code Implementation and Organization:\n",
    "# The function is clearly defined, with each grade range explicitly handled.\n",
    "# Error handling ensures the program only accepts valid input, rejecting invalid numbers or scores outside the acceptable range.\n",
    "# The code is organized into input, processing, and output sections for clarity."
   ]
  },
  {
   "cell_type": "code",
   "execution_count": 20,
   "id": "92a746a8-a5bc-4b9a-b024-4df2df1535b9",
   "metadata": {},
   "outputs": [
    {
     "data": {
      "text/plain": [
       "'E'"
      ]
     },
     "execution_count": 20,
     "metadata": {},
     "output_type": "execute_result"
    }
   ],
   "source": [
    "calculate_grade(50)"
   ]
  },
  {
   "cell_type": "code",
   "execution_count": null,
   "id": "732b23c8-6ba8-4b7c-a123-8aac8ccab64c",
   "metadata": {},
   "outputs": [],
   "source": [
    "# Nested If-Else Statements:"
   ]
  },
  {
   "cell_type": "code",
   "execution_count": 21,
   "id": "b8482d37-d907-47b1-8ade-e3982180698e",
   "metadata": {},
   "outputs": [
    {
     "name": "stdin",
     "output_type": "stream",
     "text": [
      "Enter the first number:  5\n",
      "Enter the second number:  7\n",
      "Enter the third number:  4\n"
     ]
    },
    {
     "name": "stdout",
     "output_type": "stream",
     "text": [
      "The largest number is 7.0.\n"
     ]
    }
   ],
   "source": [
    "# 11. Write a program to find the largest among three numbers using nested if-else statements\n",
    "\n",
    "def find_largest(num1, num2, num3):\n",
    "    if num1 >= num2:\n",
    "        if num1 >= num3:\n",
    "            return f\"The largest number is {num1}.\"\n",
    "        else:\n",
    "            return f\"The largest number is {num3}.\"\n",
    "    else:\n",
    "        if num2 >= num3:\n",
    "            return f\"The largest number is {num2}.\"\n",
    "        else:\n",
    "            return f\"The largest number is {num3}.\"\n",
    "\n",
    "# Example usage\n",
    "try:\n",
    "    number1 = float(input(\"Enter the first number: \"))\n",
    "    number2 = float(input(\"Enter the second number: \"))\n",
    "    number3 = float(input(\"Enter the third number: \"))\n",
    "    result = find_largest(number1, number2, number3)\n",
    "    print(result)\n",
    "except ValueError:\n",
    "    print(\"Please enter valid numbers.\")\n",
    "\n",
    "    \n",
    "    \n",
    "# Explanation\n",
    "# Understanding and Completeness:\n",
    "\n",
    "# The function find_largest(num1, num2, num3) finds the largest number among three given numbers using nested if-else statements. This method involves first comparing two numbers and then comparing the result with the third number.\n",
    "# The try-except block ensures that the input values are valid numbers.\n",
    "# Clarity and Depth:\n",
    "\n",
    "# The first if-else block compares num1 and num2. If num1 is greater than or equal to num2, it checks whether num1 is also greater than or equal to num3. If true, num1 is the largest.\n",
    "# If num1 is not greater than or equal to num2, the program compares num2 and num3. If num2 is greater than or equal to num3, num2 is the largest; otherwise, num3 is the largest.\n",
    "# Correct Implementation:\n",
    "\n",
    "# The function correctly identifies the largest number by systematically comparing the three numbers using nested if-else statements.\n",
    "# The try-except block ensures that only valid numeric inputs are processed.\n",
    "# Proper Code Implementation and Organization:\n",
    "\n",
    "# The function is logically structured using nested if-else statements, making the comparisons clear and straightforward.\n",
    "# Error handling is included to ensure robustness against invalid input.\n",
    "# The code is well-organized, with input, processing, and output sections clearly defined."
   ]
  },
  {
   "cell_type": "code",
   "execution_count": 1,
   "id": "2214117f-f93d-4179-81cc-9b94d4522900",
   "metadata": {},
   "outputs": [
    {
     "name": "stdin",
     "output_type": "stream",
     "text": [
      "Enter the length of the first side:  3\n",
      "Enter the length of the second side:  3\n",
      "Enter the length of the third side:  3\n"
     ]
    },
    {
     "name": "stdout",
     "output_type": "stream",
     "text": [
      "The triangle is equilateral.\n"
     ]
    }
   ],
   "source": [
    "# 12. Implement a program to determine if a triangle is equilateral, isosceles, or scalene.\n",
    "\n",
    "def classify_triangle(side1, side2, side3):\n",
    "    if side1 == side2 == side3:\n",
    "        return \"The triangle is equilateral.\"\n",
    "    elif side1 == side2 or side2 == side3 or side1 == side3:\n",
    "        return \"The triangle is isosceles.\"\n",
    "    else:\n",
    "        return \"The triangle is scalene.\"\n",
    "\n",
    "# Example usage\n",
    "try:\n",
    "    s1 = float(input(\"Enter the length of the first side: \"))\n",
    "    s2 = float(input(\"Enter the length of the second side: \"))\n",
    "    s3 = float(input(\"Enter the length of the third side: \"))\n",
    "    \n",
    "    # Check if the entered sides can form a valid triangle\n",
    "    if s1 + s2 > s3 and s2 + s3 > s1 and s1 + s3 > s2:\n",
    "        result = classify_triangle(s1, s2, s3)\n",
    "        print(result)\n",
    "    else:\n",
    "        print(\"The entered sides do not form a valid triangle.\")\n",
    "except ValueError:\n",
    "    print(\"Please enter valid numerical values for the sides.\")\n",
    "\n",
    "    \n",
    "    \n",
    "# Explanation\n",
    "\n",
    "# Understanding and Completeness:\n",
    "# The function classify_triangle(side1, side2, side3) classifies a triangle based on the lengths of its sides:\n",
    "# Equilateral: All sides are equal.\n",
    "# Isosceles: Two sides are equal.\n",
    "# Scalene: All sides are different.\n",
    "# Before classifying, the program checks if the given sides can actually form a valid triangle using the triangle inequality theorem.\n",
    "\n",
    "# Clarity and Depth:\n",
    "# side1 == side2 == side3: checks if all three sides are equal, making the triangle equilateral.\n",
    "# side1 == side2 or side2 == side3 or side1 == side3: checks if any two sides are equal, making the triangle isosceles.\n",
    "# else: identifies the triangle as scalene if all sides are different.\n",
    "# The program also checks if the sides satisfy the triangle inequality theorem (s1 + s2 > s3, s2 + s3 > s1, s1 + s3 > s2), ensuring the sides can form a valid triangle.\n",
    "\n",
    "# Correct Implementation:\n",
    "# The function accurately classifies the triangle based on the given side lengths.\n",
    "# The validity of the triangle is verified using the triangle inequality theorem before classification.\n",
    "# The try-except block ensures that only valid numerical inputs are processed, and catches any ValueError for non-numeric inputs.\n",
    "\n",
    "# Proper Code Implementation and Organization:\n",
    "# The function is well-organized and logically structured for clarity.\n",
    "# Error handling is included to manage invalid input and ensure robustness.\n",
    "# The code is divided into input validation, processing (classification), and output sections."
   ]
  },
  {
   "cell_type": "code",
   "execution_count": 2,
   "id": "64d102ec-d635-440f-8054-0c372deba94f",
   "metadata": {},
   "outputs": [
    {
     "data": {
      "text/plain": [
       "'The triangle is isosceles.'"
      ]
     },
     "execution_count": 2,
     "metadata": {},
     "output_type": "execute_result"
    }
   ],
   "source": [
    "classify_triangle(4,4,5)"
   ]
  },
  {
   "cell_type": "code",
   "execution_count": 3,
   "id": "7776d8d7-85f1-42ec-b383-7481dd463917",
   "metadata": {},
   "outputs": [
    {
     "data": {
      "text/plain": [
       "'The triangle is scalene.'"
      ]
     },
     "execution_count": 3,
     "metadata": {},
     "output_type": "execute_result"
    }
   ],
   "source": [
    "classify_triangle(3,6,4)"
   ]
  },
  {
   "cell_type": "code",
   "execution_count": 4,
   "id": "bb9aba03-7125-418a-87a6-28fb25e21b53",
   "metadata": {},
   "outputs": [
    {
     "name": "stdin",
     "output_type": "stream",
     "text": [
      "Enter a year:  2024\n"
     ]
    },
    {
     "name": "stdout",
     "output_type": "stream",
     "text": [
      "2024 is a leap year but not a century year.\n"
     ]
    }
   ],
   "source": [
    "# 13. Develop a program that checks if a year is a leap year and also if it is a century year.\n",
    "\n",
    "def check_leap_century(year):\n",
    "    # Check if the year is a century year\n",
    "    if year % 100 == 0:\n",
    "        is_century = True\n",
    "    else:\n",
    "        is_century = False\n",
    "\n",
    "    # Check if the year is a leap year\n",
    "    if (year % 4 == 0 and year % 100 != 0) or (year % 400 == 0):\n",
    "        is_leap = True\n",
    "    else:\n",
    "        is_leap = False\n",
    "\n",
    "    # Determine the result\n",
    "    if is_leap and is_century:\n",
    "        return f\"{year} is a leap year and a century year.\"\n",
    "    elif is_leap:\n",
    "        return f\"{year} is a leap year but not a century year.\"\n",
    "    elif is_century:\n",
    "        return f\"{year} is a century year but not a leap year.\"\n",
    "    else:\n",
    "        return f\"{year} is neither a leap year nor a century year.\"\n",
    "\n",
    "# Example usage\n",
    "try:\n",
    "    year = int(input(\"Enter a year: \"))\n",
    "    result = check_leap_century(year)\n",
    "    print(result)\n",
    "except ValueError:\n",
    "    print(\"Please enter a valid year.\")\n",
    "\n",
    "    \n",
    "    \n",
    "# Explanation\n",
    "\n",
    "# Understanding and Completeness:\n",
    "# The function check_leap_century(year) checks both if a year is a leap year and if it is a century year.\n",
    "# A century year is a year divisible by 100 (e.g., 1900, 2000).\n",
    "# A leap year follows these rules:\n",
    "# It is divisible by 4.\n",
    "# If it is divisible by 100, it must also be divisible by 400 to be a leap year.\n",
    "\n",
    "# Clarity and Depth:\n",
    "# if year % 100 == 0: checks if the year is a century year.\n",
    "# if (year % 4 == 0 and year % 100 != 0) or (year % 400 == 0): checks if the year is a leap year based on the leap year rules.\n",
    "# The program then checks the combination of these conditions to return the appropriate message.\n",
    "\n",
    "# Correct Implementation:\n",
    "# The function correctly implements the rules for identifying both leap years and century years.\n",
    "# The try-except block ensures that only valid numeric inputs are processed, catching any ValueError for non-integer inputs.\n",
    "\n",
    "# Proper Code Implementation and Organization:\n",
    "# The function is well-organized, with clear conditions for leap year and century year checks.\n",
    "# Error handling is in place to manage invalid input.\n",
    "# The code is logically structured, with input validation, processing, and output neatly separated."
   ]
  },
  {
   "cell_type": "code",
   "execution_count": 5,
   "id": "efefa912-b31c-4748-9f30-0a17344c618c",
   "metadata": {},
   "outputs": [
    {
     "data": {
      "text/plain": [
       "'2025 is neither a leap year nor a century year.'"
      ]
     },
     "execution_count": 5,
     "metadata": {},
     "output_type": "execute_result"
    }
   ],
   "source": [
    "check_leap_century(2025)"
   ]
  },
  {
   "cell_type": "code",
   "execution_count": 8,
   "id": "4d2b1317-5dbd-45b0-abe3-2f78340828e7",
   "metadata": {},
   "outputs": [
    {
     "data": {
      "text/plain": [
       "'2000 is a leap year and a century year.'"
      ]
     },
     "execution_count": 8,
     "metadata": {},
     "output_type": "execute_result"
    }
   ],
   "source": [
    "check_leap_century(2000)"
   ]
  },
  {
   "cell_type": "code",
   "execution_count": 9,
   "id": "d07ab4f1-6287-439d-b5b8-f0c1d6ee87ad",
   "metadata": {},
   "outputs": [
    {
     "data": {
      "text/plain": [
       "'3000 is a century year but not a leap year.'"
      ]
     },
     "execution_count": 9,
     "metadata": {},
     "output_type": "execute_result"
    }
   ],
   "source": [
    "check_leap_century(3000)"
   ]
  },
  {
   "cell_type": "code",
   "execution_count": 10,
   "id": "02def1be-33ee-4a3f-8b51-d5a1b6e80806",
   "metadata": {},
   "outputs": [
    {
     "name": "stdin",
     "output_type": "stream",
     "text": [
      "Enter a number:  3\n"
     ]
    },
    {
     "name": "stdout",
     "output_type": "stream",
     "text": [
      "3.0 is a positive number.\n"
     ]
    }
   ],
   "source": [
    "# 14. Write a Python script to determine if a number is positive, negative, or zero.\n",
    "\n",
    "def check_number(num):\n",
    "    if num > 0:\n",
    "        return f\"{num} is a positive number.\"\n",
    "    elif num < 0:\n",
    "        return f\"{num} is a negative number.\"\n",
    "    else:\n",
    "        return f\"{num} is zero.\"\n",
    "\n",
    "# Example usage\n",
    "try:\n",
    "    number = float(input(\"Enter a number: \"))\n",
    "    result = check_number(number)\n",
    "    print(result)\n",
    "except ValueError:\n",
    "    print(\"Please enter a valid number.\")\n",
    "\n",
    "    \n",
    "    \n",
    "# Explanation:\n",
    "\n",
    "# Understanding and Completeness:\n",
    "# The function check_number(num) determines whether a given number is positive, negative, or zero.\n",
    "# The program handles all types of numeric inputs, including integers and floating-point numbers.\n",
    "\n",
    "# Clarity and Depth:\n",
    "# if num > 0: checks if the number is greater than zero, making it positive.\n",
    "# elif num < 0: checks if the number is less than zero, making it negative.\n",
    "# else: handles the case where the number is exactly zero.\n",
    "# The function returns a message indicating the nature of the number (positive, negative, or zero).\n",
    "\n",
    "# Correct Implementation:\n",
    "# The function correctly implements the logic to classify the number based on its value.\n",
    "# The try-except block ensures only valid numeric inputs are processed, handling any ValueError for non-numeric inputs.\n",
    "\n",
    "# Proper Code Implementation and Organization:\n",
    "# The function is clearly defined and logically structured for ease of understanding.\n",
    "# Error handling ensures the program is robust against invalid input.\n",
    "# The code is organized into input, processing, and output sections, enhancing readability and maintainability."
   ]
  },
  {
   "cell_type": "code",
   "execution_count": 11,
   "id": "622fcfd8-bb12-45a7-9e2a-339b87840c38",
   "metadata": {},
   "outputs": [
    {
     "data": {
      "text/plain": [
       "'-3 is a negative number.'"
      ]
     },
     "execution_count": 11,
     "metadata": {},
     "output_type": "execute_result"
    }
   ],
   "source": [
    "check_number(-3)"
   ]
  },
  {
   "cell_type": "code",
   "execution_count": 12,
   "id": "99e2c3ee-cdb4-4ac0-8650-3e897be8cdeb",
   "metadata": {},
   "outputs": [
    {
     "data": {
      "text/plain": [
       "'0 is zero.'"
      ]
     },
     "execution_count": 12,
     "metadata": {},
     "output_type": "execute_result"
    }
   ],
   "source": [
    "check_number(0)"
   ]
  },
  {
   "cell_type": "code",
   "execution_count": 13,
   "id": "84a10e0d-d55c-44aa-b261-0e888a20a611",
   "metadata": {},
   "outputs": [
    {
     "name": "stdin",
     "output_type": "stream",
     "text": [
      "Enter the person's age:  16\n"
     ]
    },
    {
     "name": "stdout",
     "output_type": "stream",
     "text": [
      "Age 16 is considered a teenager.\n"
     ]
    }
   ],
   "source": [
    "# 15. Create a program to check if a person is a teenager (between 13 and 19 years old).\n",
    "\n",
    "def is_teenager(age):\n",
    "    if 13 <= age <= 19:\n",
    "        return f\"Age {age} is considered a teenager.\"\n",
    "    else:\n",
    "        return f\"Age {age} is not considered a teenager.\"\n",
    "\n",
    "# Example usage\n",
    "try:\n",
    "    age = int(input(\"Enter the person's age: \"))\n",
    "    if age < 0:\n",
    "        print(\"Age cannot be negative. Please enter a valid age.\")\n",
    "    else:\n",
    "        result = is_teenager(age)\n",
    "        print(result)\n",
    "except ValueError:\n",
    "    print(\"Please enter a valid integer for the age.\")\n",
    "\n",
    "    \n",
    "    \n",
    "# Explanation\n",
    "\n",
    "# Understanding and Completeness:\n",
    "# The function is_teenager(age) checks if the provided age falls within the teenage range (13 to 19 years inclusive).\n",
    "# The program handles non-negative ages and provides appropriate feedback if the input is outside the valid range or is not an integer.\n",
    "\n",
    "# Clarity and Depth:\n",
    "# if 13 <= age <= 19: checks if the age is within the teenage range.\n",
    "# The function returns a message indicating whether the age is considered teenage or not.\n",
    "\n",
    "# Correct Implementation:\n",
    "# The function correctly implements the logic to determine if the age falls within the teenage range.\n",
    "# The try-except block ensures that only valid integer inputs are processed, and an additional check handles negative age values.\n",
    "\n",
    "# Proper Code Implementation and Organization:\n",
    "# The function is clear and straightforward, focusing on age classification.\n",
    "# Error handling ensures robustness by managing invalid inputs and negative ages.\n",
    "# The code is organized into input, processing, and output sections for clarity.   "
   ]
  },
  {
   "cell_type": "code",
   "execution_count": 14,
   "id": "96f51bc6-fbc0-4da5-9092-14d9401a41dd",
   "metadata": {},
   "outputs": [
    {
     "data": {
      "text/plain": [
       "'Age 3 is not considered a teenager.'"
      ]
     },
     "execution_count": 14,
     "metadata": {},
     "output_type": "execute_result"
    }
   ],
   "source": [
    "is_teenager(3)"
   ]
  },
  {
   "cell_type": "code",
   "execution_count": 15,
   "id": "0733dd2e-5652-49db-9c30-013def7435d5",
   "metadata": {},
   "outputs": [
    {
     "data": {
      "text/plain": [
       "'Age 21 is not considered a teenager.'"
      ]
     },
     "execution_count": 15,
     "metadata": {},
     "output_type": "execute_result"
    }
   ],
   "source": [
    "is_teenager(21)"
   ]
  },
  {
   "cell_type": "code",
   "execution_count": 16,
   "id": "4b1ca95b-7a46-4195-992f-7ff4afd1f1b3",
   "metadata": {},
   "outputs": [
    {
     "name": "stdin",
     "output_type": "stream",
     "text": [
      "Enter the angle in degrees:  30\n"
     ]
    },
    {
     "name": "stdout",
     "output_type": "stream",
     "text": [
      "The angle is an acute angle.\n"
     ]
    }
   ],
   "source": [
    "# 16. Develop a program that determines the type of angle based on its measure (acute, obtuse, or right).\n",
    "\n",
    "def determine_angle_type(angle):\n",
    "    if angle < 0 or angle > 180:\n",
    "        return \"Invalid angle. Please enter an angle between 0 and 180 degrees.\"\n",
    "    elif angle == 90:\n",
    "        return \"The angle is a right angle.\"\n",
    "    elif angle < 90:\n",
    "        return \"The angle is an acute angle.\"\n",
    "    else:  # angle > 90 and angle <= 180\n",
    "        return \"The angle is an obtuse angle.\"\n",
    "\n",
    "# Example usage\n",
    "try:\n",
    "    angle = float(input(\"Enter the angle in degrees: \"))\n",
    "    result = determine_angle_type(angle)\n",
    "    print(result)\n",
    "except ValueError:\n",
    "    print(\"Please enter a valid number for the angle.\")\n",
    "\n",
    "    \n",
    "    \n",
    "# Explanation\n",
    "\n",
    "# Understanding and Completeness:\n",
    "# The function determine_angle_type(angle) classifies an angle based on its measure:\n",
    "# Acute Angle: Less than 90 degrees.\n",
    "# Right Angle: Exactly 90 degrees.\n",
    "# Obtuse Angle: More than 90 but less than or equal to 180 degrees.\n",
    "# The function also handles invalid angle values that are not within the 0 to 180 degrees range.\n",
    "\n",
    "# Clarity and Depth:\n",
    "# if angle < 0 or angle > 180: checks if the angle is outside the valid range, providing an error message for invalid angles.\n",
    "# elif angle == 90: identifies a right angle.\n",
    "# elif angle < 90: identifies an acute angle.\n",
    "# else: assumes the angle is obtuse, as it is within the range of more than 90 and up to 180 degrees.\n",
    "\n",
    "# Correct Implementation:\n",
    "# The function correctly classifies angles and handles invalid input ranges.\n",
    "# The try-except block ensures only valid numeric inputs are processed, handling any ValueError for non-numeric inputs.\n",
    "\n",
    "# Proper Code Implementation and Organization:\n",
    "# The function is well-structured to handle different types of angles and invalid cases.\n",
    "# Error handling ensures the program remains robust against invalid inputs.\n",
    "# The code is organized into clear input, processing, and output sections."
   ]
  },
  {
   "cell_type": "code",
   "execution_count": 17,
   "id": "83c40238-a75e-4b0d-8a3d-23f6c4d8533b",
   "metadata": {},
   "outputs": [
    {
     "data": {
      "text/plain": [
       "'The angle is a right angle.'"
      ]
     },
     "execution_count": 17,
     "metadata": {},
     "output_type": "execute_result"
    }
   ],
   "source": [
    "determine_angle_type(90)"
   ]
  },
  {
   "cell_type": "code",
   "execution_count": 18,
   "id": "0d3a81a2-757b-4215-85c5-79c3bfb767b7",
   "metadata": {},
   "outputs": [
    {
     "data": {
      "text/plain": [
       "'The angle is an obtuse angle.'"
      ]
     },
     "execution_count": 18,
     "metadata": {},
     "output_type": "execute_result"
    }
   ],
   "source": [
    "determine_angle_type(120)"
   ]
  },
  {
   "cell_type": "code",
   "execution_count": 19,
   "id": "b9d1c9e9-555b-47f0-bca1-e02238643a18",
   "metadata": {},
   "outputs": [
    {
     "name": "stdin",
     "output_type": "stream",
     "text": [
      "Enter the coefficient a:  4\n",
      "Enter the coefficient b:  5\n",
      "Enter the coefficient c:  6\n"
     ]
    },
    {
     "name": "stdout",
     "output_type": "stream",
     "text": [
      "The roots of the quadratic equation are (-0.625+1.0532687216470449j) and (-0.625-1.0532687216470449j).\n"
     ]
    }
   ],
   "source": [
    "# 17. Write a Python program to calculate the roots of a quadratic equation.\n",
    "\n",
    "import cmath  # For complex number support\n",
    "\n",
    "def calculate_roots(a, b, c):\n",
    "    # Calculate the discriminant\n",
    "    discriminant = b**2 - 4*a*c\n",
    "    \n",
    "    # Calculate the two roots using the quadratic formula\n",
    "    root1 = (-b + cmath.sqrt(discriminant)) / (2*a)\n",
    "    root2 = (-b - cmath.sqrt(discriminant)) / (2*a)\n",
    "    \n",
    "    return root1, root2\n",
    "\n",
    "# Example usage\n",
    "try:\n",
    "    a = float(input(\"Enter the coefficient a: \"))\n",
    "    b = float(input(\"Enter the coefficient b: \"))\n",
    "    c = float(input(\"Enter the coefficient c: \"))\n",
    "    \n",
    "    if a == 0:\n",
    "        print(\"Coefficient 'a' cannot be zero for a quadratic equation.\")\n",
    "    else:\n",
    "        root1, root2 = calculate_roots(a, b, c)\n",
    "        print(f\"The roots of the quadratic equation are {root1} and {root2}.\")\n",
    "except ValueError:\n",
    "    print(\"Please enter valid numbers for the coefficients.\")\n",
    "\n",
    "    \n",
    "    \n",
    "# Explanation\n",
    "\n",
    "# Understanding and Completeness:\n",
    "# The function calculate_roots(a, b, c) calculates the roots of the quadratic equation using the quadratic formula:\n",
    "# 𝑥 = -b+-underroot(b**2-4ac)/2a \n",
    "# The discriminant b**2−4ac determines the nature of the roots:\n",
    "# Real and distinct: If positive.\n",
    "# Real and identical: If zero.\n",
    "# Complex conjugates: If negative.\n",
    "# The cmath module is used to handle complex roots when the discriminant is negative.\n",
    "\n",
    "# Clarity and Depth:\n",
    "# discriminant = b**2 - 4*a*c calculates the discriminant of the quadratic equation.\n",
    "# root1 and root2 are computed using the quadratic formula, accounting for both the positive and negative square root cases.\n",
    "# The cmath.sqrt function is used to handle complex square roots if needed.\n",
    "\n",
    "# Correct Implementation:\n",
    "# The function correctly calculates both real and complex roots, ensuring it can handle all cases.\n",
    "# The try-except block ensures only valid numeric inputs are processed, and checks if \n",
    "# a is zero to prevent division by zero errors.\n",
    "\n",
    "# Proper Code Implementation and Organization:\n",
    "# The function is well-organized, with a clear structure for calculating the roots and handling different types of roots.\n",
    "# Error handling is included to manage invalid inputs and ensure robustness.\n",
    "# The code is divided into input, processing, and output sections for clarity."
   ]
  },
  {
   "cell_type": "code",
   "execution_count": 20,
   "id": "878cdf05-cd7d-494d-8b4e-a3e57d40f4a8",
   "metadata": {},
   "outputs": [
    {
     "name": "stdin",
     "output_type": "stream",
     "text": [
      "Enter a number (1 for Monday, 2 for Tuesday, etc.):  3\n"
     ]
    },
    {
     "name": "stdout",
     "output_type": "stream",
     "text": [
      "Wednesday\n"
     ]
    }
   ],
   "source": [
    "# 18. Implement a program to determine the day of the week based on a user-provided number (1 for Monday, 2\n",
    "# for Tuesday, etc.).\n",
    "\n",
    "def day_of_week(day_number):\n",
    "    # Dictionary mapping numbers to days of the week\n",
    "    days = {\n",
    "        1: \"Monday\",\n",
    "        2: \"Tuesday\",\n",
    "        3: \"Wednesday\",\n",
    "        4: \"Thursday\",\n",
    "        5: \"Friday\",\n",
    "        6: \"Saturday\",\n",
    "        7: \"Sunday\"\n",
    "    }\n",
    "    \n",
    "    # Check if the day number is valid\n",
    "    if day_number in days:\n",
    "        return days[day_number]\n",
    "    else:\n",
    "        return \"Invalid number. Please enter a number between 1 and 7.\"\n",
    "\n",
    "# Example usage\n",
    "try:\n",
    "    number = int(input(\"Enter a number (1 for Monday, 2 for Tuesday, etc.): \"))\n",
    "    result = day_of_week(number)\n",
    "    print(result)\n",
    "except ValueError:\n",
    "    print(\"Please enter a valid integer.\")\n",
    "\n",
    "    \n",
    "# Explanation\n",
    "\n",
    "# Understanding and Completeness:\n",
    "# The function day_of_week(day_number) determines the day of the week based on a number provided by the user.\n",
    "# The numbers 1 through 7 correspond to the days of the week from Monday to Sunday.\n",
    "\n",
    "# Clarity and Depth:\n",
    "# days dictionary: Maps numbers 1 through 7 to their respective days of the week.\n",
    "# if day_number in days: checks if the provided number is a valid key in the dictionary.\n",
    "# If the number is valid, the corresponding day is returned; otherwise, an error message is returned.\n",
    "\n",
    "# Correct Implementation:\n",
    "# The function accurately maps numbers to days of the week and handles invalid inputs by checking against the dictionary keys.\n",
    "# The try-except block ensures that the input is a valid integer and handles any ValueError for non-integer inputs.\n",
    "\n",
    "# Proper Code Implementation and Organization:\n",
    "# The function is straightforward and well-organized, with a clear mapping of numbers to days.\n",
    "# Error handling is included to manage invalid inputs, ensuring robustness.\n",
    "# The code is organized into input, processing, and output sections for clarity."
   ]
  },
  {
   "cell_type": "code",
   "execution_count": 21,
   "id": "7ae68dd1-f2ca-48bf-b0df-43465757f4cf",
   "metadata": {},
   "outputs": [
    {
     "name": "stdin",
     "output_type": "stream",
     "text": [
      "Enter a year:  2024\n"
     ]
    },
    {
     "name": "stdout",
     "output_type": "stream",
     "text": [
      "2024 is a leap year but is not evenly divisible by 400.\n"
     ]
    }
   ],
   "source": [
    "# 19. Create a program that determines if a year is a leap year and also if it is evenly divisible by 400.\n",
    "\n",
    "def check_leap_and_divisible(year):\n",
    "    # Check if the year is evenly divisible by 400\n",
    "    if year % 400 == 0:\n",
    "        divisible_by_400 = True\n",
    "    else:\n",
    "        divisible_by_400 = False\n",
    "\n",
    "    # Check if the year is a leap year\n",
    "    if (year % 4 == 0 and year % 100 != 0) or (year % 400 == 0):\n",
    "        is_leap = True\n",
    "    else:\n",
    "        is_leap = False\n",
    "\n",
    "    # Determine the result\n",
    "    if is_leap and divisible_by_400:\n",
    "        return f\"{year} is a leap year and is evenly divisible by 400.\"\n",
    "    elif is_leap:\n",
    "        return f\"{year} is a leap year but is not evenly divisible by 400.\"\n",
    "    elif divisible_by_400:\n",
    "        return f\"{year} is evenly divisible by 400 but is not a leap year.\"\n",
    "    else:\n",
    "        return f\"{year} is neither a leap year nor evenly divisible by 400.\"\n",
    "\n",
    "# Example usage\n",
    "try:\n",
    "    year = int(input(\"Enter a year: \"))\n",
    "    if year < 0:\n",
    "        print(\"Please enter a valid positive year.\")\n",
    "    else:\n",
    "        result = check_leap_and_divisible(year)\n",
    "        print(result)\n",
    "except ValueError:\n",
    "    print(\"Please enter a valid integer for the year.\")\n",
    "\n",
    "    \n",
    "    \n",
    "# Explanation\n",
    "\n",
    "# Understanding and Completeness:\n",
    "# The function check_leap_and_divisible(year) determines if a year is both a leap year and evenly divisible by 400.\n",
    "# It first checks if the year is divisible by 400, then checks if the year is a leap year, and finally combines these results to provide a detailed output.\n",
    "\n",
    "# Clarity and Depth:\n",
    "# if year % 400 == 0: checks if the year is evenly divisible by 400.\n",
    "# if (year % 4 == 0 and year % 100 != 0) or (year % 400 == 0): checks if the year is a leap year.\n",
    "# The program then combines these results to provide a comprehensive message about both conditions.\n",
    "\n",
    "# Correct Implementation:\n",
    "# The function correctly implements the logic to check for leap years and divisibility by 400.\n",
    "# The try-except block ensures only valid integer inputs are processed, and checks for negative years to ensure valid input.\n",
    "\n",
    "# Proper Code Implementation and Organization:\n",
    "# The function is well-organized, with clear checks for leap year status and divisibility by 400.\n",
    "# Error handling ensures robustness against invalid input and negative values.\n",
    "# The code is logically divided into input, processing, and output sections for clarity."
   ]
  },
  {
   "cell_type": "code",
   "execution_count": 22,
   "id": "ea158841-850d-4f19-87dc-be06c9b7e0bc",
   "metadata": {},
   "outputs": [
    {
     "data": {
      "text/plain": [
       "'4000 is a leap year and is evenly divisible by 400.'"
      ]
     },
     "execution_count": 22,
     "metadata": {},
     "output_type": "execute_result"
    }
   ],
   "source": [
    "check_leap_and_divisible(4000)"
   ]
  },
  {
   "cell_type": "code",
   "execution_count": 23,
   "id": "a1b07a66-7781-4e63-a3b9-8d2e0acb40f6",
   "metadata": {},
   "outputs": [
    {
     "name": "stdin",
     "output_type": "stream",
     "text": [
      "Enter a number to check if it is prime:  71\n"
     ]
    },
    {
     "name": "stdout",
     "output_type": "stream",
     "text": [
      "71 is a prime number.\n"
     ]
    }
   ],
   "source": [
    "# 20. Develop a program that checks if a given number is prime or not using nested if-else statements.\n",
    "\n",
    "def is_prime(number):\n",
    "    if number <= 1:\n",
    "        return f\"{number} is not a prime number.\"\n",
    "    else:\n",
    "        if number == 2:\n",
    "            return f\"{number} is a prime number.\"  # 2 is the only even prime number\n",
    "        elif number % 2 == 0:\n",
    "            return f\"{number} is not a prime number.\"  # Other even numbers are not prime\n",
    "        else:\n",
    "            # Check for factors from 3 to sqrt(number)\n",
    "            is_prime = True\n",
    "            for i in range(3, int(number**0.5) + 1, 2):\n",
    "                if number % i == 0:\n",
    "                    is_prime = False\n",
    "                    break\n",
    "            if is_prime:\n",
    "                return f\"{number} is a prime number.\"\n",
    "            else:\n",
    "                return f\"{number} is not a prime number.\"\n",
    "\n",
    "# Example usage\n",
    "try:\n",
    "    num = int(input(\"Enter a number to check if it is prime: \"))\n",
    "    result = is_prime(num)\n",
    "    print(result)\n",
    "except ValueError:\n",
    "    print(\"Please enter a valid integer.\")\n",
    "\n",
    "    \n",
    "    \n",
    "    \n",
    "# Explanation\n",
    "\n",
    "# Understanding and Completeness:\n",
    "# The function is_prime(number) determines if a number is prime or not using nested if-else statements.\n",
    "# A prime number is a natural number greater than 1 that has no positive divisors other than 1 and itself.\n",
    "\n",
    "# Clarity and Depth:\n",
    "# if number <= 1: handles numbers less than or equal to 1, which are not prime.\n",
    "# if number == 2: specifically checks for the number 2, which is the only even prime number.\n",
    "# elif number % 2 == 0: handles other even numbers, which are not prime.\n",
    "# Nested loop: For odd numbers greater than 2, the function checks divisibility from 3 up to the square root of the number, skipping even numbers.\n",
    "# This optimization reduces the number of checks needed.\n",
    "# The function uses the is_prime flag to determine if the number is prime or not after checking all possible factors.\n",
    "\n",
    "# Correct Implementation:\n",
    "# The function correctly identifies prime numbers and handles edge cases such as 1, 2, and other even numbers.\n",
    "# The try-except block ensures only valid integers are processed, and handles invalid inputs.\n",
    "\n",
    "# Proper Code Implementation and Organization:\n",
    "# The function is well-structured with clear logic for prime number determination.\n",
    "# Error handling is included to manage invalid inputs.\n",
    "# The code is organized into distinct input, processing, and output sections for clarity."
   ]
  },
  {
   "cell_type": "code",
   "execution_count": null,
   "id": "3e242da0-b74a-4c27-8c89-d1d8059ce368",
   "metadata": {},
   "outputs": [],
   "source": [
    "# Elif Statements:"
   ]
  },
  {
   "cell_type": "code",
   "execution_count": 24,
   "id": "e956ed7b-bdf1-4b06-aa81-496476b32da7",
   "metadata": {},
   "outputs": [
    {
     "name": "stdin",
     "output_type": "stream",
     "text": [
      "Enter the score:  76\n"
     ]
    },
    {
     "name": "stdout",
     "output_type": "stream",
     "text": [
      "Grade: C\n"
     ]
    }
   ],
   "source": [
    "# 21. Write a Python program to assign grades based on different ranges of scores using elif statements.\n",
    "\n",
    "def assign_grade(score):\n",
    "    if score < 0 or score > 100:\n",
    "        return \"Invalid score. Please enter a score between 0 and 100.\"\n",
    "    elif score >= 90:\n",
    "        return \"Grade: A\"\n",
    "    elif score >= 80:\n",
    "        return \"Grade: B\"\n",
    "    elif score >= 70:\n",
    "        return \"Grade: C\"\n",
    "    elif score >= 60:\n",
    "        return \"Grade: D\"\n",
    "    else:\n",
    "        return \"Grade: F\"\n",
    "\n",
    "# Example usage\n",
    "try:\n",
    "    score = float(input(\"Enter the score: \"))\n",
    "    result = assign_grade(score)\n",
    "    print(result)\n",
    "except ValueError:\n",
    "    print(\"Please enter a valid numeric score.\")\n",
    "\n",
    "    \n",
    "    \n",
    "# Explanation\n",
    "\n",
    "# Understanding and Completeness:\n",
    "# The function assign_grade(score) assigns a letter grade based on the provided score.\n",
    "# The grading scale is as follows:\n",
    "# A: 90 and above\n",
    "# B: 80 to 89\n",
    "# C: 70 to 79\n",
    "# D: 60 to 69\n",
    "# F: Below 60\n",
    "# It also handles invalid scores that are less than 0 or greater than 100.\n",
    "\n",
    "# Clarity and Depth:\n",
    "# if score < 0 or score > 100: checks for invalid scores outside the acceptable range.\n",
    "# elif score >= 90: assigns grade A for scores 90 and above.\n",
    "# elif score >= 80: assigns grade B for scores between 80 and 89.\n",
    "# elif score >= 70: assigns grade C for scores between 70 and 79.\n",
    "# elif score >= 60: assigns grade D for scores between 60 and 69.\n",
    "# else: assigns grade F for scores below 60.\n",
    "\n",
    "# Correct Implementation:\n",
    "# The function correctly implements the grading scale using elif statements.\n",
    "# The try-except block ensures that only valid numeric inputs are processed, handling any ValueError for non-numeric inputs.\n",
    "\n",
    "# Proper Code Implementation and Organization:\n",
    "# The function is well-organized, with clear grading conditions and error handling.\n",
    "# Error handling ensures robustness by managing invalid inputs and providing appropriate messages.\n",
    "# The code is structured into input, processing, and output sections for clarity."
   ]
  },
  {
   "cell_type": "code",
   "execution_count": 25,
   "id": "7d3cdd45-f7fd-4f13-ba45-329487a196d8",
   "metadata": {},
   "outputs": [
    {
     "name": "stdin",
     "output_type": "stream",
     "text": [
      "Enter the first angle:  56\n",
      "Enter the second angle:  34\n",
      "Enter the third angle:  56\n"
     ]
    },
    {
     "name": "stdout",
     "output_type": "stream",
     "text": [
      "The angles do not form a valid triangle.\n"
     ]
    }
   ],
   "source": [
    "# 22. Implement a program to determine the type of a triangle based on its angles\n",
    "\n",
    "def triangle_type(angle1, angle2, angle3):\n",
    "    # Check if the angles form a valid triangle\n",
    "    if angle1 <= 0 or angle2 <= 0 or angle3 <= 0:\n",
    "        return \"Angles must be positive numbers.\"\n",
    "    elif angle1 + angle2 + angle3 != 180:\n",
    "        return \"The angles do not form a valid triangle.\"\n",
    "\n",
    "    # Determine the type of triangle based on angles\n",
    "    if angle1 == 90 or angle2 == 90 or angle3 == 90:\n",
    "        return \"The triangle is a right-angled triangle.\"\n",
    "    elif angle1 < 90 and angle2 < 90 and angle3 < 90:\n",
    "        return \"The triangle is an acute-angled triangle.\"\n",
    "    else:\n",
    "        return \"The triangle is an obtuse-angled triangle.\"\n",
    "\n",
    "# Example usage\n",
    "try:\n",
    "    angle1 = float(input(\"Enter the first angle: \"))\n",
    "    angle2 = float(input(\"Enter the second angle: \"))\n",
    "    angle3 = float(input(\"Enter the third angle: \"))\n",
    "    \n",
    "    result = triangle_type(angle1, angle2, angle3)\n",
    "    print(result)\n",
    "except ValueError:\n",
    "    print(\"Please enter valid numbers for the angles.\")\n",
    "\n",
    "    \n",
    "    \n",
    "# Explanation\n",
    "\n",
    "# Understanding and Completeness:\n",
    "# The function triangle_type(angle1, angle2, angle3) determines the type of a triangle based on its angles.\n",
    "# The types of triangles based on angles are:\n",
    "# Right-angled: One angle is exactly 90 degrees.\n",
    "# Acute-angled: All three angles are less than 90 degrees.\n",
    "# Obtuse-angled: One angle is greater than 90 degrees.\n",
    "# It first checks if the angles are positive and if they sum up to 180 degrees to ensure a valid triangle.\n",
    "\n",
    "# Clarity and Depth:\n",
    "# if angle1 <= 0 or angle2 <= 0 or angle3 <= 0: checks if any angle is non-positive, which is invalid.\n",
    "# elif angle1 + angle2 + angle3 != 180: ensures the sum of angles is exactly 180 degrees.\n",
    "# if angle1 == 90 or angle2 == 90 or angle3 == 90: checks for a right-angled triangle.\n",
    "# elif angle1 < 90 and angle2 < 90 and angle3 < 90: checks for an acute-angled triangle.\n",
    "# else: assumes an obtuse-angled triangle if none of the above conditions are met.\n",
    "\n",
    "# Correct Implementation:\n",
    "# The function correctly categorizes the triangle based on the angles.\n",
    "# The try-except block ensures that only valid numeric inputs are processed, handling any ValueError for non-numeric inputs.\n",
    "\n",
    "# Proper Code Implementation and Organization:\n",
    "# The function is well-structured with clear checks and conditions for determining the type of triangle.\n",
    "# Error handling is included to manage invalid inputs and provide accurate feedback.\n",
    "# The code is divided into input, processing, and output sections for clarity."
   ]
  },
  {
   "cell_type": "code",
   "execution_count": 27,
   "id": "06277c81-e9f1-4456-ad3e-cb1e95b0977b",
   "metadata": {},
   "outputs": [
    {
     "data": {
      "text/plain": [
       "'The triangle is a right-angled triangle.'"
      ]
     },
     "execution_count": 27,
     "metadata": {},
     "output_type": "execute_result"
    }
   ],
   "source": [
    "triangle_type(45,45,90)"
   ]
  },
  {
   "cell_type": "code",
   "execution_count": 29,
   "id": "cc1133a7-3baa-47e0-a650-aa521447b27c",
   "metadata": {},
   "outputs": [
    {
     "name": "stdin",
     "output_type": "stream",
     "text": [
      "Enter weight in kilograms:  54\n",
      "Enter height in meters:  2.5\n"
     ]
    },
    {
     "name": "stdout",
     "output_type": "stream",
     "text": [
      "BMI: 8.64 - Underweight\n"
     ]
    }
   ],
   "source": [
    "# 23. Develop a program to categorize a given person's BMI into underweight, normal, overweight, or obese using\n",
    "# elif statements.\n",
    "\n",
    "def categorize_bmi(bmi):\n",
    "    if bmi < 0:\n",
    "        return \"BMI cannot be negative. Please enter a valid BMI value.\"\n",
    "    elif bmi < 18.5:\n",
    "        return \"Underweight\"\n",
    "    elif 18.5 <= bmi < 24.9:\n",
    "        return \"Normal weight\"\n",
    "    elif 25 <= bmi < 29.9:\n",
    "        return \"Overweight\"\n",
    "    else:  # bmi >= 30\n",
    "        return \"Obese\"\n",
    "\n",
    "# Example usage\n",
    "try:\n",
    "    weight = float(input(\"Enter weight in kilograms: \"))\n",
    "    height = float(input(\"Enter height in meters: \"))\n",
    "    \n",
    "    if weight <= 0 or height <= 0:\n",
    "        print(\"Weight and height must be positive numbers.\")\n",
    "    else:\n",
    "        # Calculate BMI\n",
    "        bmi = weight / (height ** 2)\n",
    "        result = categorize_bmi(bmi)\n",
    "        print(f\"BMI: {bmi:.2f} - {result}\")\n",
    "except ValueError:\n",
    "    print(\"Please enter valid numbers for weight and height.\")\n",
    "\n",
    "    \n",
    "    \n",
    "# Explanation\n",
    "\n",
    "# Understanding and Completeness:\n",
    "# The function categorize_bmi(bmi) categorizes BMI into:\n",
    "# Underweight: BMI less than 18.5\n",
    "# Normal weight: BMI between 18.5 and 24.9\n",
    "# Overweight: BMI between 25 and 29.9\n",
    "# Obese: BMI 30 and above\n",
    "# It first checks if the BMI is non-negative and then categorizes it based on standard BMI ranges.\n",
    "\n",
    "# Clarity and Depth:\n",
    "# if bmi < 0: handles invalid BMI values that are negative.\n",
    "# elif bmi < 18.5: categorizes underweight.\n",
    "# elif 18.5 <= bmi < 24.9: categorizes normal weight.\n",
    "# elif 25 <= bmi < 29.9: categorizes overweight.\n",
    "# else: categorizes obese, covering BMI values of 30 and above.\n",
    "\n",
    "# Correct Implementation:\n",
    "# The function accurately categorizes BMI based on standard ranges.\n",
    "# The try-except block ensures that only valid numeric inputs are processed, handling ValueError for non-numeric inputs.\n",
    "\n",
    "# Proper Code Implementation and Organization:\n",
    "# The function is clear and well-organized, with distinct checks and conditions for BMI categorization.\n",
    "# Error handling is included to manage invalid inputs and ensure robustness.\n",
    "# The code is organized into input, processing, and output sections for clarity."
   ]
  },
  {
   "cell_type": "code",
   "execution_count": 30,
   "id": "19b3b83e-302e-4db5-bfde-1826223ce650",
   "metadata": {},
   "outputs": [
    {
     "name": "stdin",
     "output_type": "stream",
     "text": [
      "Enter a number:  45\n"
     ]
    },
    {
     "name": "stdout",
     "output_type": "stream",
     "text": [
      "The number is positive.\n"
     ]
    }
   ],
   "source": [
    "# 24. Create a program that determines whether a given number is positive, negative, or zero using elif\n",
    "# statements.\n",
    "\n",
    "def classify_number(number):\n",
    "    if number > 0:\n",
    "        return \"The number is positive.\"\n",
    "    elif number < 0:\n",
    "        return \"The number is negative.\"\n",
    "    else:\n",
    "        return \"The number is zero.\"\n",
    "\n",
    "# Example usage\n",
    "try:\n",
    "    num = float(input(\"Enter a number: \"))\n",
    "    result = classify_number(num)\n",
    "    print(result)\n",
    "except ValueError:\n",
    "    print(\"Please enter a valid numeric value.\")\n",
    "\n",
    "    \n",
    "    \n",
    "# Explanation\n",
    "\n",
    "# Understanding and Completeness:\n",
    "# The function classify_number(number) classifies the given number as:\n",
    "# Positive: If the number is greater than 0.\n",
    "# Negative: If the number is less than 0.\n",
    "# Zero: If the number is exactly 0.\n",
    "# It uses elif statements to handle the different conditions.\n",
    "\n",
    "# Clarity and Depth:\n",
    "# if number > 0: checks if the number is positive.\n",
    "# elif number < 0: checks if the number is negative.\n",
    "# else: handles the case where the number is zero.\n",
    "\n",
    "# Correct Implementation:\n",
    "# The function correctly classifies the number into one of the three categories.\n",
    "# The try-except block ensures that only valid numeric inputs are processed, handling any ValueError for non-numeric inputs.\n",
    "\n",
    "# Proper Code Implementation and Organization:\n",
    "# The function is straightforward and well-organized, with clear conditions for classification.\n",
    "# Error handling ensures robustness by managing invalid inputs and providing appropriate feedback.\n",
    "# The code is structured into input, processing, and output sections for clarity."
   ]
  },
  {
   "cell_type": "code",
   "execution_count": 2,
   "id": "cf1f5b08-56fb-4d62-822f-157bc1372009",
   "metadata": {},
   "outputs": [
    {
     "name": "stdin",
     "output_type": "stream",
     "text": [
      "Enter a single character:  h\n"
     ]
    },
    {
     "name": "stdout",
     "output_type": "stream",
     "text": [
      "The character is lowercase.\n"
     ]
    }
   ],
   "source": [
    "# 25. Write a Python script to determine the type of a character (uppercase, lowercase, or special) using elif\n",
    "# statements\n",
    "\n",
    "def classify_character(char):\n",
    "    if char.isupper():\n",
    "        return \"The character is uppercase.\"\n",
    "    elif char.islower():\n",
    "        return \"The character is lowercase.\"\n",
    "    else:\n",
    "        return \"The character is a special character or digit.\"\n",
    "\n",
    "# Example usage\n",
    "char = input(\"Enter a single character: \")\n",
    "\n",
    "if len(char) == 1:\n",
    "    result = classify_character(char)\n",
    "    print(result)\n",
    "else:\n",
    "    print(\"Please enter exactly one character.\")\n",
    "\n",
    "    \n",
    "    \n",
    "#  Explanation\n",
    "\n",
    "# Understanding and Completeness:\n",
    "# The function classify_character(char) categorizes the given character as:\n",
    "# Uppercase: If the character is an uppercase letter.\n",
    "# Lowercase: If the character is a lowercase letter.\n",
    "# Special character or digit: If the character is neither an uppercase nor a lowercase letter (e.g., digits, punctuation, etc.).\n",
    "# The script includes input validation to ensure exactly one character is entered.\n",
    "\n",
    "# Clarity and Depth:\n",
    "# if char.isupper(): checks if the character is uppercase using the isupper() method.\n",
    "# elif char.islower(): checks if the character is lowercase using the islower() method.\n",
    "# else: handles all other cases, categorizing the character as a special character or digit.\n",
    "\n",
    "# Correct Implementation:\n",
    "# The function correctly identifies and categorizes the character based on its type.\n",
    "# The script ensures that the input is exactly one character long, improving input validity.\n",
    "\n",
    "# Proper Code Implementation and Organization:\n",
    "# The function is concise and well-organized, with clear conditions for classifying the character.\n",
    "# Input validation is included to ensure the input meets the expected format.\n",
    "# The code is divided into input, processing, and output sections for better readability"
   ]
  },
  {
   "cell_type": "code",
   "execution_count": 4,
   "id": "2277941f-6613-422d-b73f-8f840f8f5291",
   "metadata": {},
   "outputs": [
    {
     "data": {
      "text/plain": [
       "'The character is uppercase.'"
      ]
     },
     "execution_count": 4,
     "metadata": {},
     "output_type": "execute_result"
    }
   ],
   "source": [
    "classify_character(\"H\")"
   ]
  },
  {
   "cell_type": "code",
   "execution_count": 6,
   "id": "539f0b1b-074e-4914-a108-893f28ed6375",
   "metadata": {},
   "outputs": [
    {
     "data": {
      "text/plain": [
       "'The character is a special character or digit.'"
      ]
     },
     "execution_count": 6,
     "metadata": {},
     "output_type": "execute_result"
    }
   ],
   "source": [
    "classify_character(\"$\")"
   ]
  },
  {
   "cell_type": "code",
   "execution_count": 7,
   "id": "fbe61a8e-9040-4e36-96f9-289db926cb2c",
   "metadata": {},
   "outputs": [
    {
     "name": "stdin",
     "output_type": "stream",
     "text": [
      "Enter the purchase amount in ₹:  200\n"
     ]
    },
    {
     "name": "stdout",
     "output_type": "stream",
     "text": [
      "Original Price: ₹200.00\n",
      "Discounted Price: ₹190.00 (5.0% discount)\n"
     ]
    }
   ],
   "source": [
    "# 26. Implement a program to calculate the discounted price based on different purchase amounts using elif\n",
    "# statements.\n",
    "\n",
    "def calculate_discounted_price(purchase_amount):\n",
    "    if purchase_amount < 0:\n",
    "        return \"Invalid purchase amount. Please enter a non-negative value.\"\n",
    "    elif purchase_amount >= 5000:\n",
    "        discount = 0.20  # 20% discount\n",
    "    elif purchase_amount >= 3000:\n",
    "        discount = 0.15  # 15% discount\n",
    "    elif purchase_amount >= 1000:\n",
    "        discount = 0.10  # 10% discount\n",
    "    else:\n",
    "        discount = 0.05  # 5% discount\n",
    "\n",
    "    discounted_price = purchase_amount * (1 - discount)\n",
    "    return f\"Original Price: ₹{purchase_amount:.2f}\\nDiscounted Price: ₹{discounted_price:.2f} ({discount * 100}% discount)\"\n",
    "\n",
    "# Example usage\n",
    "try:\n",
    "    amount = float(input(\"Enter the purchase amount in ₹: \"))\n",
    "    result = calculate_discounted_price(amount)\n",
    "    print(result)\n",
    "except ValueError:\n",
    "    print(\"Please enter a valid numeric value.\")\n",
    "\n",
    "    \n",
    "    \n",
    "# Explanation\n",
    "# Understanding and Completeness:\n",
    "\n",
    "# The function calculate_discounted_price(purchase_amount) determines the discount based on the purchase amount:\n",
    "# 20% discount for amounts ₹5000 and above.\n",
    "# 15% discount for amounts between ₹3000 and ₹4999.99.\n",
    "# 10% discount for amounts between ₹1000 and ₹2999.99.\n",
    "# 5% discount for amounts less than ₹1000.\n",
    "# The function returns the original price, discounted price, and the percentage discount.\n",
    "\n",
    "# Clarity and Depth:\n",
    "# if purchase_amount < 0: checks for invalid (negative) purchase amounts.\n",
    "# elif purchase_amount >= 5000: applies a 20% discount for purchases of ₹5000 or more.\n",
    "# elif purchase_amount >= 3000: applies a 15% discount for purchases between ₹3000 and ₹4999.99.\n",
    "# elif purchase_amount >= 1000: applies a 10% discount for purchases between ₹1000 and ₹2999.99.\n",
    "# else: applies a 5% discount for purchases below ₹1000.\n",
    "\n",
    "# Correct Implementation:\n",
    "# The function accurately calculates the discount based on the purchase amount and then computes the final price.\n",
    "# The try-except block ensures that only valid numeric inputs are processed, handling ValueError for non-numeric inputs.\n",
    "\n",
    "# Proper Code Implementation and Organization:\n",
    "# The function is well-structured with distinct conditions for different discount levels.\n",
    "# Input validation and error handling ensure the robustness of the program.\n",
    "# The code is organized into clear input, processing, and output sections."
   ]
  },
  {
   "cell_type": "code",
   "execution_count": 8,
   "id": "9a936da2-f6dc-4e0d-97bd-9e75476c50ba",
   "metadata": {},
   "outputs": [
    {
     "name": "stdin",
     "output_type": "stream",
     "text": [
      "Enter the number of units consumed:  123\n"
     ]
    },
    {
     "name": "stdout",
     "output_type": "stream",
     "text": [
      "Total units: 123.0 units\n",
      "Total bill: ₹672.50\n"
     ]
    }
   ],
   "source": [
    "# 27. Develop a program to calculate the electricity bill based on different consumption slabs using elif\n",
    "# statements\n",
    "\n",
    "def calculate_electricity_bill(units):\n",
    "    if units < 0:\n",
    "        return \"Invalid number of units. Please enter a non-negative value.\"\n",
    "    elif units <= 100:\n",
    "        cost_per_unit = 5.0  # ₹5 per unit for the first 100 units\n",
    "    elif units <= 200:\n",
    "        cost_per_unit = 7.5  # ₹7.5 per unit for the next 100 units\n",
    "    elif units <= 300:\n",
    "        cost_per_unit = 10.0  # ₹10 per unit for the next 100 units\n",
    "    else:\n",
    "        cost_per_unit = 12.0  # ₹12 per unit for units above 300\n",
    "\n",
    "    # Calculate the total bill\n",
    "    if units <= 100:\n",
    "        total_bill = units * cost_per_unit\n",
    "    elif units <= 200:\n",
    "        total_bill = (100 * 5.0) + (units - 100) * cost_per_unit\n",
    "    elif units <= 300:\n",
    "        total_bill = (100 * 5.0) + (100 * 7.5) + (units - 200) * cost_per_unit\n",
    "    else:\n",
    "        total_bill = (100 * 5.0) + (100 * 7.5) + (100 * 10.0) + (units - 300) * cost_per_unit\n",
    "\n",
    "    return f\"Total units: {units} units\\nTotal bill: ₹{total_bill:.2f}\"\n",
    "\n",
    "# Example usage\n",
    "try:\n",
    "    units_consumed = float(input(\"Enter the number of units consumed: \"))\n",
    "    result = calculate_electricity_bill(units_consumed)\n",
    "    print(result)\n",
    "except ValueError:\n",
    "    print(\"Please enter a valid numeric value for the units consumed.\")\n",
    "\n",
    "    \n",
    "    \n",
    "# Explanation\n",
    "\n",
    "# Understanding and Completeness:\n",
    "# The function calculate_electricity_bill(units) calculates the electricity bill based on different consumption slabs:\n",
    "# ₹5.0 per unit for the first 100 units.\n",
    "# ₹7.5 per unit for the next 100 units (i.e., from 101 to 200 units).\n",
    "# ₹10.0 per unit for the next 100 units (i.e., from 201 to 300 units).\n",
    "# ₹12.0 per unit for any units above 300.\n",
    "# The bill is calculated by applying the appropriate rate for each slab of consumption.\n",
    "\n",
    "# Clarity and Depth:\n",
    "# if units < 0: checks for invalid (negative) unit values.\n",
    "# elif units <= 100: applies the rate for the first 100 units.\n",
    "# elif units <= 200: applies the rate for the next 100 units.\n",
    "# elif units <= 300: applies the rate for the next 100 units.\n",
    "# else: applies the rate for units above 300.\n",
    "# The function calculates the bill progressively, applying the correct rate for each range of consumption.\n",
    "\n",
    "# Correct Implementation:\n",
    "# The function accurately calculates the total bill by summing the cost for each slab.\n",
    "# The try-except block ensures that only valid numeric inputs are processed, handling any ValueError for non-numeric inputs.\n",
    "\n",
    "# Proper Code Implementation and Organization:\n",
    "# The function is well-structured with clear conditions for each consumption slab.\n",
    "# Input validation ensures robustness by managing invalid inputs.\n",
    "# The code is divided into input, processing, and output sections for better readability."
   ]
  },
  {
   "cell_type": "code",
   "execution_count": 9,
   "id": "e3b6a81c-5a10-4ee3-869d-73c8417245b6",
   "metadata": {},
   "outputs": [
    {
     "name": "stdin",
     "output_type": "stream",
     "text": [
      "Enter side 1:  5\n",
      "Enter side 2:  5\n",
      "Enter side 3:  5\n",
      "Enter side 4:  5\n",
      "Enter angle 1:  90\n",
      "Enter angle 2:  90\n",
      "Enter angle 3:  90\n",
      "Enter angle 4:  90\n"
     ]
    },
    {
     "name": "stdout",
     "output_type": "stream",
     "text": [
      "The quadrilateral is: Square\n"
     ]
    }
   ],
   "source": [
    "# 28. Create a program to determine the type of quadrilateral based on its angles and sides using elif\n",
    "# statements.\n",
    "\n",
    "def classify_quadrilateral(a, b, c, d, angle1, angle2, angle3, angle4):\n",
    "    # Check if the sum of angles is 360 degrees\n",
    "    if angle1 + angle2 + angle3 + angle4 != 360:\n",
    "        return \"The angles do not sum up to 360 degrees, not a quadrilateral.\"\n",
    "    \n",
    "    # Check for specific types of quadrilaterals\n",
    "    if a == b == c == d and angle1 == angle2 == angle3 == angle4 == 90:\n",
    "        return \"Square\"\n",
    "    elif a == c and b == d and angle1 == angle2 == angle3 == angle4 == 90:\n",
    "        return \"Rectangle\"\n",
    "    elif a == c and b == d and angle1 == angle3 and angle2 == angle4:\n",
    "        return \"Rhombus\"\n",
    "    elif a == b == c == d:\n",
    "        return \"Rhombus\"\n",
    "    elif angle1 == angle3 and angle2 == angle4:\n",
    "        return \"Parallelogram\"\n",
    "    elif angle1 + angle3 == 180 and angle2 + angle4 == 180:\n",
    "        return \"Trapezoid\"\n",
    "    else:\n",
    "        return \"Other Quadrilateral\"\n",
    "\n",
    "# Example usage\n",
    "try:\n",
    "    # Input for sides\n",
    "    side1 = float(input(\"Enter side 1: \"))\n",
    "    side2 = float(input(\"Enter side 2: \"))\n",
    "    side3 = float(input(\"Enter side 3: \"))\n",
    "    side4 = float(input(\"Enter side 4: \"))\n",
    "\n",
    "    # Input for angles\n",
    "    angle1 = float(input(\"Enter angle 1: \"))\n",
    "    angle2 = float(input(\"Enter angle 2: \"))\n",
    "    angle3 = float(input(\"Enter angle 3: \"))\n",
    "    angle4 = float(input(\"Enter angle 4: \"))\n",
    "\n",
    "    # Determine the type of quadrilateral\n",
    "    result = classify_quadrilateral(side1, side2, side3, side4, angle1, angle2, angle3, angle4)\n",
    "    print(f\"The quadrilateral is: {result}\")\n",
    "except ValueError:\n",
    "    print(\"Please enter valid numeric values for sides and angles.\")\n",
    "\n",
    "    \n",
    "    \n",
    "# Explanation\n",
    "\n",
    "# Understanding and Completeness:\n",
    "# The function classify_quadrilateral(a, b, c, d, angle1, angle2, angle3, angle4) determines the type of quadrilateral based on:\n",
    "# Sides: a, b, c, d\n",
    "# Angles: angle1, angle2, angle3, angle4\n",
    "# The function checks the sum of angles to ensure it is a valid quadrilateral (360 degrees).\n",
    "# It identifies specific quadrilateral types such as Square, Rectangle, Rhombus, Parallelogram, and Trapezoid.\n",
    "\n",
    "# Clarity and Depth:\n",
    "# if angle1 + angle2 + angle3 + angle4 != 360: ensures the sum of the angles is valid for a quadrilateral.\n",
    "# if a == b == c == d and angle1 == angle2 == angle3 == angle4 == 90: identifies a Square.\n",
    "# elif a == c and b == d and angle1 == angle2 == angle3 == angle4 == 90: identifies a Rectangle.\n",
    "# elif a == b == c == d: checks for a Rhombus when all sides are equal but angles might not be 90 degrees.\n",
    "# elif angle1 == angle3 and angle2 == angle4: identifies a Parallelogram.\n",
    "# elif angle1 + angle3 == 180 and angle2 + angle4 == 180: identifies a Trapezoid.\n",
    "# else: catches other quadrilaterals that do not fit the above categories.\n",
    "\n",
    "# Correct Implementation:\n",
    "# The function correctly identifies the type of quadrilateral based on the provided angles and sides.\n",
    "# The try-except block ensures valid numeric inputs, handling any ValueError for non-numeric inputs.\n",
    "\n",
    "# Proper Code Implementation and Organization:\n",
    "# The function is structured to check the sum of angles first, then applies specific conditions to classify the quadrilateral.\n",
    "# Input validation ensures robustness and user-friendly error handling.\n",
    "# The code is divided into input, processing, and output sections for clarity."
   ]
  },
  {
   "cell_type": "code",
   "execution_count": 10,
   "id": "98a9df9d-5b9c-4a0b-8065-c2a331108c2b",
   "metadata": {},
   "outputs": [
    {
     "data": {
      "text/plain": [
       "'The angles do not sum up to 360 degrees, not a quadrilateral.'"
      ]
     },
     "execution_count": 10,
     "metadata": {},
     "output_type": "execute_result"
    }
   ],
   "source": [
    "classify_quadrilateral(5,6,5,6,30,50,40,70)"
   ]
  },
  {
   "cell_type": "code",
   "execution_count": 11,
   "id": "909e0075-fb35-4400-a9a0-98bb6e1731b5",
   "metadata": {},
   "outputs": [
    {
     "name": "stdin",
     "output_type": "stream",
     "text": [
      "Enter the month:  november\n"
     ]
    },
    {
     "name": "stdout",
     "output_type": "stream",
     "text": [
      "The season is: Autumn\n"
     ]
    }
   ],
   "source": [
    "# 29. Write a Python script to determine the season based on a user-provided month using elif statements.\n",
    "\n",
    "def determine_season(month):\n",
    "    month = month.lower()\n",
    "\n",
    "    if month in [\"december\", \"january\", \"february\"]:\n",
    "        return \"Winter\"\n",
    "    elif month in [\"march\", \"april\", \"may\"]:\n",
    "        return \"Spring\"\n",
    "    elif month in [\"june\", \"july\", \"august\"]:\n",
    "        return \"Summer\"\n",
    "    elif month in [\"september\", \"october\", \"november\"]:\n",
    "        return \"Autumn\"\n",
    "    else:\n",
    "        return \"Invalid month. Please enter a valid month name.\"\n",
    "\n",
    "# Example usage\n",
    "month_input = input(\"Enter the month: \")\n",
    "season = determine_season(month_input)\n",
    "print(f\"The season is: {season}\")\n",
    "\n",
    "\n",
    "\n",
    "\n",
    "# Explanation\n",
    "\n",
    "# Understanding and Completeness:\n",
    "# The function determine_season(month) categorizes the user-provided month into one of the four seasons:\n",
    "# Winter: December, January, February\n",
    "# Spring: March, April, May\n",
    "# Summer: June, July, August\n",
    "# Autumn: September, October, November\n",
    "# The script also handles invalid month names by returning an appropriate message.\n",
    "\n",
    "# Clarity and Depth:\n",
    "# month = month.lower() converts the input to lowercase to ensure the function works regardless of the case used by the user.\n",
    "# if month in [\"december\", \"january\", \"february\"]: checks if the month is in the winter season.\n",
    "# elif month in [\"march\", \"april\", \"may\"]: checks for spring.\n",
    "# elif month in [\"june\", \"july\", \"august\"]: checks for summer.\n",
    "# elif month in [\"september\", \"october\", \"november\"]: checks for autumn.\n",
    "# else: handles invalid input by returning an error message.\n",
    "\n",
    "# Correct Implementation:\n",
    "# The function correctly maps each month to its corresponding season.\n",
    "# The use of the lower() method ensures that the function is case-insensitive, improving usability.\n",
    "\n",
    "# Proper Code Implementation and Organization:\n",
    "# The function is clear and straightforward, with logical conditions for each season.\n",
    "# The input, processing, and output are neatly separated, making the code easy to follow.\n",
    "# The script includes validation to ensure that only valid month names are processed."
   ]
  },
  {
   "cell_type": "code",
   "execution_count": 12,
   "id": "7ff9e3be-4cd6-4678-aed5-377aa9978709",
   "metadata": {},
   "outputs": [
    {
     "name": "stdin",
     "output_type": "stream",
     "text": [
      "Enter the year:  2024\n",
      "Enter the month:  november\n"
     ]
    },
    {
     "name": "stdout",
     "output_type": "stream",
     "text": [
      "2024 is a Leap Year.\n",
      "The month of November has 30 days.\n"
     ]
    }
   ],
   "source": [
    "# 30. Implement a program to determine the type of a year (leap or common) and month (30 or 31 days) using\n",
    "# elif statements.\n",
    "\n",
    "def is_leap_year(year):\n",
    "    if year % 400 == 0:\n",
    "        return True\n",
    "    elif year % 100 == 0:\n",
    "        return False\n",
    "    elif year % 4 == 0:\n",
    "        return True\n",
    "    else:\n",
    "        return False\n",
    "\n",
    "def determine_month_days(month, year):\n",
    "    month = month.lower()\n",
    "\n",
    "    if month in [\"april\", \"june\", \"september\", \"november\"]:\n",
    "        return 30\n",
    "    elif month in [\"january\", \"march\", \"may\", \"july\", \"august\", \"october\", \"december\"]:\n",
    "        return 31\n",
    "    elif month == \"february\":\n",
    "        if is_leap_year(year):\n",
    "            return 29\n",
    "        else:\n",
    "            return 28\n",
    "    else:\n",
    "        return None  # Invalid month\n",
    "\n",
    "def determine_year_and_month_type(year, month):\n",
    "    year_type = \"Leap Year\" if is_leap_year(year) else \"Common Year\"\n",
    "    days_in_month = determine_month_days(month, year)\n",
    "\n",
    "    if days_in_month:\n",
    "        return f\"{year} is a {year_type}.\\nThe month of {month.capitalize()} has {days_in_month} days.\"\n",
    "    else:\n",
    "        return \"Invalid month name provided.\"\n",
    "\n",
    "# Example usage\n",
    "try:\n",
    "    year_input = int(input(\"Enter the year: \"))\n",
    "    month_input = input(\"Enter the month: \")\n",
    "    \n",
    "    result = determine_year_and_month_type(year_input, month_input)\n",
    "    print(result)\n",
    "except ValueError:\n",
    "    print(\"Please enter a valid numeric value for the year.\")\n",
    "\n",
    "    \n",
    "    \n",
    "# Explanation\n",
    "\n",
    "# Understanding and Completeness:\n",
    "# The function is_leap_year(year) determines whether a given year is a leap year or a common year using standard rules:\n",
    "# Divisible by 400: Leap Year\n",
    "# Divisible by 100 but not by 400: Common Year\n",
    "# Divisible by 4 but not by 100: Leap Year\n",
    "# Otherwise: Common Year\n",
    "# The function determine_month_days(month, year) determines the number of days in a month:\n",
    "# 30 days: April, June, September, November\n",
    "# 31 days: January, March, May, July, August, October, December\n",
    "# February: 28 days in a common year, 29 days in a leap year\n",
    "# The main function determine_year_and_month_type(year, month) combines these results to determine the year type (leap or common) and the number of days in the specified month.\n",
    "\n",
    "# Clarity and Depth:\n",
    "# if year % 400 == 0: and related conditions in is_leap_year ensure accurate leap year determination.\n",
    "# elif month == \"february\": handles the special case of February, which has a variable number of days.\n",
    "# else: in determine_month_days returns None for invalid months, ensuring error handling.\n",
    "# The program is divided into functions for modularity and reusability.\n",
    "\n",
    "# Correct Implementation:\n",
    "# The functions accurately implement leap year calculations and month day determinations.\n",
    "# The try-except block ensures that the input year is numeric, handling any ValueError for non-numeric input.\n",
    "\n",
    "# Proper Code Implementation and Organization:\n",
    "# The code is well-organized, with separate functions for leap year checking and month day determination.\n",
    "# Input validation is included to ensure robustness and user-friendly error handling.\n",
    "# The program structure supports clear input, processing, and output stages, enhancing readability."
   ]
  },
  {
   "cell_type": "code",
   "execution_count": null,
   "id": "6a40aa31-3759-4638-bfc4-8392c24121a7",
   "metadata": {},
   "outputs": [],
   "source": [
    "# Basic Level:"
   ]
  },
  {
   "cell_type": "code",
   "execution_count": 22,
   "id": "ff494644-6965-41f6-a6c1-86e46585177c",
   "metadata": {},
   "outputs": [
    {
     "name": "stdin",
     "output_type": "stream",
     "text": [
      "Enter a number:  6\n"
     ]
    },
    {
     "name": "stdout",
     "output_type": "stream",
     "text": [
      "The number is positive.\n"
     ]
    }
   ],
   "source": [
    "# 1. Write a Python program that checks if a given number is positive, negative, or zero\n",
    "\n",
    "def check_number_type(number):\n",
    "    if number > 0:\n",
    "        return \"The number is positive.\"\n",
    "    elif number < 0:\n",
    "        return \"The number is negative.\"\n",
    "    else:\n",
    "        return \"The number is zero.\"\n",
    "\n",
    "# Example usage\n",
    "try:\n",
    "    num_input = float(input(\"Enter a number: \"))\n",
    "    result = check_number_type(num_input)\n",
    "    print(result)\n",
    "except ValueError:\n",
    "    print(\"Please enter a valid numeric value.\")\n",
    "\n",
    "    \n",
    "    \n",
    "# Explanation\n",
    "\n",
    "# Understanding and Completeness:\n",
    "# The function check_number_type(number) checks if the given number is positive, negative, or zero.\n",
    "# if number > 0:: The number is positive.\n",
    "# elif number < 0:: The number is negative.\n",
    "# else:: The number is zero.\n",
    "# The program handles both positive and negative floating-point numbers as well as zero.\n",
    "\n",
    "# Clarity and Depth:\n",
    "# The if-elif-else structure clearly distinguishes between the three possible outcomes (positive, negative, zero).\n",
    "# The program includes a try-except block to catch any ValueError that might occur if the user inputs a non-numeric value, ensuring that the user receives a helpful error message.\n",
    "\n",
    "# Correct Implementation:\n",
    "# The program accurately checks the number's type and returns the appropriate message based on the condition.\n",
    "# The input is converted to a float, allowing the program to handle both integers and decimals.\n",
    "\n",
    "# Proper Code Implementation and Organization:\n",
    "# The function is clearly defined and separates the logic of checking the number from the user input and output.\n",
    "# The code is well-structured, making it easy to understand and maintain.\n",
    "# Input validation ensures that the program is robust and user-friendly."
   ]
  },
  {
   "cell_type": "code",
   "execution_count": 23,
   "id": "25e60335-e62e-4868-bb5a-272b0b9c6718",
   "metadata": {},
   "outputs": [
    {
     "name": "stdin",
     "output_type": "stream",
     "text": [
      "Enter your age:  21\n"
     ]
    },
    {
     "name": "stdout",
     "output_type": "stream",
     "text": [
      "You are eligible to vote.\n"
     ]
    }
   ],
   "source": [
    "# 2. Create a program to determine if a person is eligible to vote based on their age.\n",
    "\n",
    "def check_voting_eligibility(age):\n",
    "    if age >= 18:\n",
    "        return \"You are eligible to vote.\"\n",
    "    else:\n",
    "        return \"You are not eligible to vote.\"\n",
    "\n",
    "# Example usage\n",
    "try:\n",
    "    age_input = int(input(\"Enter your age: \"))\n",
    "    result = check_voting_eligibility(age_input)\n",
    "    print(result)\n",
    "except ValueError:\n",
    "    print(\"Please enter a valid numeric value for age.\")\n",
    "\n",
    "    \n",
    "    \n",
    "# Explanation:\n",
    "\n",
    "# Understanding and Completeness: The function check_voting_eligibility(age) determines if a person is eligible to vote based on whether their age is 18 or older.\n",
    "# Clarity and Depth: Uses a simple if-else statement to check the age. If the age is 18 or more, the person is eligible; otherwise, they are not.\n",
    "# Correct Implementation: The function correctly handles eligibility based on the provided age.\n",
    "# Proper Code Implementation and Organization: Input is validated to ensure it is numeric, and the function is separated from the input/output logic."
   ]
  },
  {
   "cell_type": "code",
   "execution_count": 25,
   "id": "1ce80547-2d0a-494e-805e-c10d60bb97fc",
   "metadata": {},
   "outputs": [
    {
     "name": "stdin",
     "output_type": "stream",
     "text": [
      "Enter the first number:  5\n",
      "Enter the second number:  7\n"
     ]
    },
    {
     "name": "stdout",
     "output_type": "stream",
     "text": [
      "The maximum number is 7.0.\n"
     ]
    }
   ],
   "source": [
    "# 3. Write a program to find the maximum of two given numbers using conditional statements.\n",
    "\n",
    "def find_max_of_two(num1, num2):\n",
    "    if num1 > num2:\n",
    "        return f\"The maximum number is {num1}.\"\n",
    "    elif num2 > num1:\n",
    "        return f\"The maximum number is {num2}.\"\n",
    "    else:\n",
    "        return \"Both numbers are equal.\"\n",
    "\n",
    "# Example usage\n",
    "try:\n",
    "    num1 = float(input(\"Enter the first number: \"))\n",
    "    num2 = float(input(\"Enter the second number: \"))\n",
    "    result = find_max_of_two(num1, num2)\n",
    "    print(result)\n",
    "except ValueError:\n",
    "    print(\"Please enter valid numeric values.\")\n",
    "\n",
    "    \n",
    "    \n",
    "# Explanation:\n",
    "\n",
    "# Understanding and Completeness: The function find_max_of_two(num1, num2) determines the larger of two numbers or indicates if they are equal.\n",
    "# Clarity and Depth: Uses if-elif-else to compare the two numbers. Handles equal values as well.\n",
    "# Correct Implementation: Accurately finds and reports the maximum or equality of the numbers.\n",
    "# Proper Code Implementation and Organization: Input is validated, and the logic is modular."
   ]
  },
  {
   "cell_type": "code",
   "execution_count": 26,
   "id": "6fecb57c-5023-46b5-a1f6-43e916a4786a",
   "metadata": {},
   "outputs": [
    {
     "name": "stdin",
     "output_type": "stream",
     "text": [
      "Enter the exam score:  512\n"
     ]
    },
    {
     "name": "stdout",
     "output_type": "stream",
     "text": [
      "Grade A\n"
     ]
    }
   ],
   "source": [
    "# 4. Develop a program that calculates the grade of a student based on their exam score.\n",
    "\n",
    "def calculate_grade(score):\n",
    "    if score >= 90:\n",
    "        return \"Grade A\"\n",
    "    elif score >= 80:\n",
    "        return \"Grade B\"\n",
    "    elif score >= 70:\n",
    "        return \"Grade C\"\n",
    "    elif score >= 60:\n",
    "        return \"Grade D\"\n",
    "    else:\n",
    "        return \"Grade F\"\n",
    "\n",
    "# Example usage\n",
    "try:\n",
    "    score_input = float(input(\"Enter the exam score: \"))\n",
    "    result = calculate_grade(score_input)\n",
    "    print(result)\n",
    "except ValueError:\n",
    "    print(\"Please enter a valid numeric score.\")\n",
    "\n",
    "    \n",
    "    \n",
    "# Explanation:\n",
    "\n",
    "# Understanding and Completeness: The function calculate_grade(score) assigns a grade based on predefined score ranges.\n",
    "# Clarity and Depth: Uses if-elif-else to check score ranges and assign grades accordingly.\n",
    "# Correct Implementation: Properly assigns grades based on score brackets.\n",
    "# Proper Code Implementation and Organization: Validates the input and separates logic into a function."
   ]
  },
  {
   "cell_type": "code",
   "execution_count": 27,
   "id": "ab4a9847-74df-430a-87ee-009fee9b87de",
   "metadata": {},
   "outputs": [
    {
     "name": "stdin",
     "output_type": "stream",
     "text": [
      "Enter a year:  2025\n"
     ]
    },
    {
     "name": "stdout",
     "output_type": "stream",
     "text": [
      "Common Year\n"
     ]
    }
   ],
   "source": [
    "# 5. Create a program that checks if a year is a leap year or not.\n",
    "\n",
    "def is_leap_year(year):\n",
    "    if (year % 4 == 0 and year % 100 != 0) or (year % 400 == 0):\n",
    "        return \"Leap Year\"\n",
    "    else:\n",
    "        return \"Common Year\"\n",
    "\n",
    "# Example usage\n",
    "try:\n",
    "    year_input = int(input(\"Enter a year: \"))\n",
    "    result = is_leap_year(year_input)\n",
    "    print(result)\n",
    "except ValueError:\n",
    "    print(\"Please enter a valid numeric value for the year.\")\n",
    "\n",
    "    \n",
    "    \n",
    "# Explanation:\n",
    "\n",
    "# Understanding and Completeness: The function is_leap_year(year) checks if the given year is a leap year using the leap year rules.\n",
    "# Clarity and Depth: Uses logical conditions to check divisibility rules for leap years.\n",
    "# Correct Implementation: Accurately determines leap year status.\n",
    "# Proper Code Implementation and Organization: Validates input and applies the leap year logic effectively."
   ]
  },
  {
   "cell_type": "code",
   "execution_count": 28,
   "id": "773e85f5-98ac-423b-96ce-76701662437b",
   "metadata": {},
   "outputs": [
    {
     "name": "stdin",
     "output_type": "stream",
     "text": [
      "Enter the length of side 1:  4\n",
      "Enter the length of side 2:  4\n",
      "Enter the length of side 3:  4\n"
     ]
    },
    {
     "name": "stdout",
     "output_type": "stream",
     "text": [
      "Equilateral Triangle\n"
     ]
    }
   ],
   "source": [
    "# 6. Write a program to classify a triangle based on its sides' lengths\n",
    "\n",
    "def classify_triangle(a, b, c):\n",
    "    if a == b == c:\n",
    "        return \"Equilateral Triangle\"\n",
    "    elif a == b or b == c or a == c:\n",
    "        return \"Isosceles Triangle\"\n",
    "    else:\n",
    "        return \"Scalene Triangle\"\n",
    "\n",
    "# Example usage\n",
    "try:\n",
    "    side1 = float(input(\"Enter the length of side 1: \"))\n",
    "    side2 = float(input(\"Enter the length of side 2: \"))\n",
    "    side3 = float(input(\"Enter the length of side 3: \"))\n",
    "    result = classify_triangle(side1, side2, side3)\n",
    "    print(result)\n",
    "except ValueError:\n",
    "    print(\"Please enter valid numeric values for the sides.\")\n",
    "\n",
    "    \n",
    "    \n",
    "# Explanation:\n",
    "\n",
    "# Understanding and Completeness: The function classify_triangle(a, b, c) classifies a triangle based on side lengths.\n",
    "# Clarity and Depth: Uses if-elif-else to determine if the triangle is equilateral, isosceles, or scalene.\n",
    "# Correct Implementation: Accurately classifies the triangle based on side lengths.\n",
    "# Proper Code Implementation and Organization: Handles input and classification clearly."
   ]
  },
  {
   "cell_type": "code",
   "execution_count": 29,
   "id": "e2887ca5-34a3-45e7-8d41-5f2dd91c205b",
   "metadata": {},
   "outputs": [
    {
     "name": "stdin",
     "output_type": "stream",
     "text": [
      "Enter the first number:  6\n",
      "Enter the second number:  3\n",
      "Enter the third number:  7\n"
     ]
    },
    {
     "name": "stdout",
     "output_type": "stream",
     "text": [
      "The largest number is 7.0.\n"
     ]
    }
   ],
   "source": [
    "# 7. Build a program that determines the largest of three given numbers.\n",
    "\n",
    "def find_largest_of_three(num1, num2, num3):\n",
    "    if num1 >= num2 and num1 >= num3:\n",
    "        return f\"The largest number is {num1}.\"\n",
    "    elif num2 >= num1 and num2 >= num3:\n",
    "        return f\"The largest number is {num2}.\"\n",
    "    else:\n",
    "        return f\"The largest number is {num3}.\"\n",
    "\n",
    "# Example usage\n",
    "try:\n",
    "    num1 = float(input(\"Enter the first number: \"))\n",
    "    num2 = float(input(\"Enter the second number: \"))\n",
    "    num3 = float(input(\"Enter the third number: \"))\n",
    "    result = find_largest_of_three(num1, num2, num3)\n",
    "    print(result)\n",
    "except ValueError:\n",
    "    print(\"Please enter valid numeric values.\")\n",
    "\n",
    "    \n",
    "\n",
    "# Explanation:\n",
    "\n",
    "# Understanding and Completeness: The function find_largest_of_three(num1, num2, num3) finds the largest of three numbers.\n",
    "# Clarity and Depth: Uses if-elif-else to compare the three numbers and determine the largest.\n",
    "# Correct Implementation: Accurately finds and reports the largest number.\n",
    "# Proper Code Implementation and Organization: Validates input and separates logic into a function."
   ]
  },
  {
   "cell_type": "code",
   "execution_count": 30,
   "id": "15720eb8-de61-4aaa-a929-e7ab400d6e6a",
   "metadata": {},
   "outputs": [
    {
     "name": "stdin",
     "output_type": "stream",
     "text": [
      "Enter a character:  u\n"
     ]
    },
    {
     "name": "stdout",
     "output_type": "stream",
     "text": [
      "The character is a vowel.\n"
     ]
    }
   ],
   "source": [
    "# 8. Develop a program that checks whether a character is a vowel or a consonant.\n",
    "\n",
    "def check_character(character):\n",
    "    vowels = \"aeiou\"\n",
    "    if character.lower() in vowels:\n",
    "        return \"The character is a vowel.\"\n",
    "    elif character.isalpha() and len(character) == 1:\n",
    "        return \"The character is a consonant.\"\n",
    "    else:\n",
    "        return \"The input is not a valid alphabet character.\"\n",
    "\n",
    "# Example usage\n",
    "char_input = input(\"Enter a character: \")\n",
    "result = check_character(char_input)\n",
    "print(result)\n",
    "\n",
    "\n",
    "\n",
    "# Explanation:\n",
    "\n",
    "# Understanding and Completeness: The function check_character(character) identifies if the character is a vowel or consonant.\n",
    "# Clarity and Depth: Checks if the character is in the vowel list and verifies if it is a valid single alphabet character.\n",
    "# Correct Implementation: Properly distinguishes between vowels, consonants, and invalid characters.\n",
    "# Proper Code Implementation and Organization: Clear input and output handling with logical conditions"
   ]
  },
  {
   "cell_type": "code",
   "execution_count": 31,
   "id": "30a935c2-b9b9-4917-880a-31989aff3bcd",
   "metadata": {},
   "outputs": [
    {
     "name": "stdin",
     "output_type": "stream",
     "text": [
      "Enter the total amount: ₹ 700\n"
     ]
    },
    {
     "name": "stdout",
     "output_type": "stream",
     "text": [
      "Total cost after discount: ₹630.00\n"
     ]
    }
   ],
   "source": [
    "# 9. Create a program to calculate the total cost of a shopping cart based on discounts.\n",
    "\n",
    "def calculate_total_cost(total_amount):\n",
    "    if total_amount > 1000:\n",
    "        discount = 0.20\n",
    "    elif total_amount > 500:\n",
    "        discount = 0.10\n",
    "    elif total_amount > 100:\n",
    "        discount = 0.05\n",
    "    else:\n",
    "        discount = 0.0\n",
    "\n",
    "    final_amount = total_amount - (total_amount * discount)\n",
    "    return f\"Total cost after discount: ₹{final_amount:.2f}\"\n",
    "\n",
    "# Example usage\n",
    "try:\n",
    "    amount = float(input(\"Enter the total amount: ₹\"))\n",
    "    result = calculate_total_cost(amount)\n",
    "    print(result)\n",
    "except ValueError:\n",
    "    print(\"Please enter a valid numeric amount.\")\n",
    "\n",
    "    \n",
    "    \n",
    "# Explanation:\n",
    "\n",
    "# Understanding and Completeness: The function calculate_total_cost(total_amount) calculates the total cost after applying discounts based on the total amount.\n",
    "# Clarity and Depth: Uses if-elif-else to apply different discount rates based on the purchase amount.\n",
    "# Correct Implementation: Accurately applies discounts and calculates the final amount.\n",
    "# Proper Code Implementation and Organization: Validates input and performs the calculation clearly."
   ]
  },
  {
   "cell_type": "code",
   "execution_count": 32,
   "id": "398870f9-90d6-498a-b4ae-e29cc88decce",
   "metadata": {},
   "outputs": [
    {
     "name": "stdin",
     "output_type": "stream",
     "text": [
      "Enter a number:  8\n"
     ]
    },
    {
     "name": "stdout",
     "output_type": "stream",
     "text": [
      "The number is even.\n"
     ]
    }
   ],
   "source": [
    "# 10. Write a program that checks if a given number is even or odd.\n",
    "\n",
    "def check_even_or_odd(number):\n",
    "    if number % 2 == 0:\n",
    "        return \"The number is even.\"\n",
    "    else:\n",
    "        return \"The number is odd.\"\n",
    "\n",
    "# Example usage\n",
    "try:\n",
    "    num_input = int(input(\"Enter a number: \"))\n",
    "    result = check_even_or_odd(num_input)\n",
    "    print(result)\n",
    "except ValueError:\n",
    "    print(\"Please enter a valid numeric value.\")\n",
    "\n",
    "    \n",
    "    \n",
    "# Explanation\n",
    "\n",
    "# Understanding and Completeness:\n",
    "# The function check_even_or_odd(number) determines whether a given number is even or odd.\n",
    "# Even Number: A number is even if it is divisible by 2 with no remainder (number % 2 == 0).\n",
    "# Odd Number: A number is odd if it has a remainder of 1 when divided by 2 (number % 2 != 0).\n",
    "\n",
    "# Clarity and Depth:\n",
    "# if number % 2 == 0:: This condition checks if the number is even.\n",
    "# else:: If the number is not even, it must be odd.\n",
    "# The function returns a message indicating whether the number is even or odd.\n",
    "\n",
    "# Correct Implementation:\n",
    "# The function correctly identifies even and odd numbers based on the modulo operation.\n",
    "# The try-except block handles potential ValueError if the user input is not a valid integer, ensuring that the program does not crash and provides a clear error message.\n",
    "\n",
    "# Proper Code Implementation and Organization:\n",
    "# The function is clearly defined with well-organized logic for checking even and odd numbers.\n",
    "# Input validation ensures that the function only processes numeric values, improving robustness and user experience."
   ]
  },
  {
   "cell_type": "code",
   "execution_count": null,
   "id": "4b35ce31-92ad-4291-a0ae-5ebf39f18275",
   "metadata": {},
   "outputs": [],
   "source": [
    "# Intermediate level"
   ]
  },
  {
   "cell_type": "code",
   "execution_count": 3,
   "id": "0b00d577-5a48-4d3e-8c57-e553abded454",
   "metadata": {},
   "outputs": [
    {
     "name": "stdin",
     "output_type": "stream",
     "text": [
      "Enter the coefficient a:  4\n",
      "Enter the coefficient b:  6\n",
      "Enter the coefficient c:  8\n"
     ]
    },
    {
     "name": "stdout",
     "output_type": "stream",
     "text": [
      "The roots of the quadratic equation are: (-0.75+1.1989578808281798j) and (-0.75-1.1989578808281798j)\n"
     ]
    }
   ],
   "source": [
    "# 11. Write a program that calculates the roots of a quadratic equation \n",
    "\n",
    "import cmath\n",
    "\n",
    "def calculate_quadratic_roots(a, b, c):\n",
    "    # Calculate the discriminant\n",
    "    discriminant = b**2 - 4*a*c\n",
    "    \n",
    "    # Calculate the two roots using the quadratic formula\n",
    "    root1 = (-b + cmath.sqrt(discriminant)) / (2*a)\n",
    "    root2 = (-b - cmath.sqrt(discriminant)) / (2*a)\n",
    "    \n",
    "    return root1, root2\n",
    "\n",
    "# Example usage\n",
    "try:\n",
    "    a = float(input(\"Enter the coefficient a: \"))\n",
    "    b = float(input(\"Enter the coefficient b: \"))\n",
    "    c = float(input(\"Enter the coefficient c: \"))\n",
    "    \n",
    "    root1, root2 = calculate_quadratic_roots(a, b, c)\n",
    "    print(f\"The roots of the quadratic equation are: {root1} and {root2}\")\n",
    "except ValueError:\n",
    "    print(\"Please enter valid numeric values for the coefficients.\")\n",
    "\n",
    "    \n",
    "    \n",
    "# Explanation\n",
    "# Function Purpose: calculate_quadratic_roots(a, b, c) calculates the roots of the quadratic equation ax**2+bx+c=0 \n",
    "\n",
    "# Logic:\n",
    "# Discriminant Calculation: discriminant = b**2 - 4*a*c determines the nature of the roots.\n",
    "# Root Calculation: Uses the quadratic formula, where cmath.sqrt handles complex numbers for cases where the discriminant is negative.\n",
    "\n",
    "# User Input Handling:\n",
    "# Takes coefficients a,b,and c as inputs.\n",
    "# Handles invalid inputs using try-except to ensure that only numeric values are processed."
   ]
  },
  {
   "cell_type": "code",
   "execution_count": 4,
   "id": "fb0c11fa-464d-45d1-bf39-db0b3753aee7",
   "metadata": {},
   "outputs": [
    {
     "name": "stdin",
     "output_type": "stream",
     "text": [
      "Enter a day number (1-7):  1\n"
     ]
    },
    {
     "name": "stdout",
     "output_type": "stream",
     "text": [
      "Monday\n"
     ]
    }
   ],
   "source": [
    "# 12. Create a program that determines the day of the week based on the day number (1-7).\n",
    "\n",
    "def get_day_of_week(day_number):\n",
    "    # List of days of the week, where index 0 corresponds to day number 1\n",
    "    days_of_week = [\"Monday\", \"Tuesday\", \"Wednesday\", \"Thursday\", \"Friday\", \"Saturday\", \"Sunday\"]\n",
    "    \n",
    "    # Check if the day number is valid\n",
    "    if 1 <= day_number <= 7:\n",
    "        return days_of_week[day_number - 1]\n",
    "    else:\n",
    "        return \"Invalid day number. Please enter a number between 1 and 7.\"\n",
    "\n",
    "# Example usage\n",
    "try:\n",
    "    day_number_input = int(input(\"Enter a day number (1-7): \"))\n",
    "    result = get_day_of_week(day_number_input)\n",
    "    print(result)\n",
    "except ValueError:\n",
    "    print(\"Please enter a valid numeric value.\")\n",
    "\n",
    "\n",
    "    \n",
    "# Explanation\n",
    "# Function Purpose: get_day_of_week(day_number) returns the name of the day based on the input number (1-7).\n",
    "\n",
    "# Logic:\n",
    "# Mapping Days: Uses a list days_of_week where each index corresponds to a day of the week.\n",
    "# Index Adjustment: Subtracts 1 from day_number to match Python’s 0-based indexing.\n",
    "\n",
    "# Validation: Checks if the input number is between 1 and 7. If not, it returns an error message.\n",
    "\n",
    "# User Input Handling:\n",
    "# Prompts the user for a day number and converts it to an integer.\n",
    "# Uses try-except to handle non-numeric inputs, ensuring robustness."
   ]
  },
  {
   "cell_type": "code",
   "execution_count": 5,
   "id": "1b33091a-b8e1-4bef-8040-9b4645706d2c",
   "metadata": {},
   "outputs": [
    {
     "name": "stdin",
     "output_type": "stream",
     "text": [
      "Enter a number to calculate its factorial:  7\n"
     ]
    },
    {
     "name": "stdout",
     "output_type": "stream",
     "text": [
      "The factorial of 7 is 5040.\n"
     ]
    }
   ],
   "source": [
    "# 13. Develop a program that calculates the factorial of a given number using recursion.\n",
    "\n",
    "def factorial(n):\n",
    "    # Base case: factorial of 0 or 1 is 1\n",
    "    if n == 0 or n == 1:\n",
    "        return 1\n",
    "    # Recursive case: n * factorial of (n-1)\n",
    "    else:\n",
    "        return n * factorial(n - 1)\n",
    "\n",
    "# Example usage\n",
    "try:\n",
    "    number = int(input(\"Enter a number to calculate its factorial: \"))\n",
    "    if number < 0:\n",
    "        print(\"Factorial is not defined for negative numbers.\")\n",
    "    else:\n",
    "        result = factorial(number)\n",
    "        print(f\"The factorial of {number} is {result}.\")\n",
    "except ValueError:\n",
    "    print(\"Please enter a valid numeric value.\")\n",
    "\n",
    "    \n",
    "# Explanation\n",
    "# Function Purpose: factorial(n) calculates the factorial of a non-negative integer \n",
    "# n using recursion.\n",
    "\n",
    "# Logic:\n",
    "# Base Case: If n is 0 or 1, the function returns 1(since 0! = 1!=1)\n",
    "# recursive Case: For n>1, the function returns n*factorial(n-1). This breaks down the problem into smaller instances until it reaches the base case.\n",
    "\n",
    "# User Input Handling:\n",
    "# Prompts the user for a number and converts it to an integer.\n",
    "# Checks if the number is non-negative since factorials are not defined for negative numbers.\n",
    "# Uses try-except to handle non-numeric inputs, ensuring the program remains robust and user-friendly."
   ]
  },
  {
   "cell_type": "code",
   "execution_count": 6,
   "id": "4a216960-b16d-4382-b6a9-e1ef9ab5c929",
   "metadata": {},
   "outputs": [
    {
     "name": "stdin",
     "output_type": "stream",
     "text": [
      "Enter the first number:  6\n",
      "Enter the second number:  8\n",
      "Enter the third number:  2\n"
     ]
    },
    {
     "name": "stdout",
     "output_type": "stream",
     "text": [
      "The largest number among 6.0, 8.0, and 2.0 is 8.0.\n"
     ]
    }
   ],
   "source": [
    "# 14. Write a program to find the largest among three numbers without using the `max()` function\n",
    "\n",
    "def find_largest_of_three(num1, num2, num3):\n",
    "    # Assume the first number is the largest\n",
    "    largest = num1\n",
    "    \n",
    "    # Compare with the second number\n",
    "    if num2 > largest:\n",
    "        largest = num2\n",
    "    \n",
    "    # Compare with the third number\n",
    "    if num3 > largest:\n",
    "        largest = num3\n",
    "    \n",
    "    return largest\n",
    "\n",
    "# Example usage\n",
    "try:\n",
    "    num1 = float(input(\"Enter the first number: \"))\n",
    "    num2 = float(input(\"Enter the second number: \"))\n",
    "    num3 = float(input(\"Enter the third number: \"))\n",
    "    \n",
    "    largest = find_largest_of_three(num1, num2, num3)\n",
    "    print(f\"The largest number among {num1}, {num2}, and {num3} is {largest}.\")\n",
    "except ValueError:\n",
    "    print(\"Please enter valid numeric values.\")\n",
    "\n",
    "    \n",
    "    \n",
    "# Explanation\n",
    "# Function Purpose: find_largest_of_three(num1, num2, num3) determines the largest number among three provided numbers.\n",
    "\n",
    "# Logic:\n",
    "# Initial Assumption: Starts by assuming the first number (num1) is the largest.\n",
    "\n",
    "# Comparison:\n",
    "# With Second Number: If num2 is greater than the current largest, update the largest.\n",
    "# With Third Number: If num3 is greater than the current largest, update the largest again.\n",
    "# The final value of largest is the maximum of the three numbers.\n",
    "\n",
    "# User Input Handling:\n",
    "# Prompts the user to enter three numbers and converts them to floats for comparison.\n",
    "# Uses try-except to handle invalid inputs, ensuring that only numeric values are processed."
   ]
  },
  {
   "cell_type": "code",
   "execution_count": 7,
   "id": "243aaecd-20c1-44e3-bd2d-857ce09d96b9",
   "metadata": {},
   "outputs": [
    {
     "name": "stdout",
     "output_type": "stream",
     "text": [
      "\n",
      "ATM Menu:\n",
      "1. Check Balance\n",
      "2. Deposit Money\n",
      "3. Withdraw Money\n",
      "4. Exit\n"
     ]
    },
    {
     "name": "stdin",
     "output_type": "stream",
     "text": [
      "Enter your choice (1-4):  1\n"
     ]
    },
    {
     "name": "stdout",
     "output_type": "stream",
     "text": [
      "Your current balance is $1000.00\n",
      "\n",
      "ATM Menu:\n",
      "1. Check Balance\n",
      "2. Deposit Money\n",
      "3. Withdraw Money\n",
      "4. Exit\n"
     ]
    },
    {
     "name": "stdin",
     "output_type": "stream",
     "text": [
      "Enter your choice (1-4):  2\n",
      "Enter the amount to deposit:  500\n"
     ]
    },
    {
     "name": "stdout",
     "output_type": "stream",
     "text": [
      "Deposited $500.00. New balance is $1500.00\n",
      "\n",
      "ATM Menu:\n",
      "1. Check Balance\n",
      "2. Deposit Money\n",
      "3. Withdraw Money\n",
      "4. Exit\n"
     ]
    },
    {
     "name": "stdin",
     "output_type": "stream",
     "text": [
      "Enter your choice (1-4):  3\n",
      "Enter the amount to withdraw:  200\n"
     ]
    },
    {
     "name": "stdout",
     "output_type": "stream",
     "text": [
      "Withdrew $200.00. New balance is $1300.00\n",
      "\n",
      "ATM Menu:\n",
      "1. Check Balance\n",
      "2. Deposit Money\n",
      "3. Withdraw Money\n",
      "4. Exit\n"
     ]
    },
    {
     "name": "stdin",
     "output_type": "stream",
     "text": [
      "Enter your choice (1-4):  4\n"
     ]
    },
    {
     "name": "stdout",
     "output_type": "stream",
     "text": [
      "Exiting... Thank you for using our ATM.\n"
     ]
    }
   ],
   "source": [
    "# 15. Create a program that simulates a basic ATM transaction menu.\n",
    "\n",
    "def atm_menu():\n",
    "    balance = 1000  # Initial balance\n",
    "    \n",
    "    while True:\n",
    "        print(\"\\nATM Menu:\")\n",
    "        print(\"1. Check Balance\")\n",
    "        print(\"2. Deposit Money\")\n",
    "        print(\"3. Withdraw Money\")\n",
    "        print(\"4. Exit\")\n",
    "        \n",
    "        choice = input(\"Enter your choice (1-4): \")\n",
    "        \n",
    "        if choice == '1':\n",
    "            print(f\"Your current balance is ${balance:.2f}\")\n",
    "        \n",
    "        elif choice == '2':\n",
    "            try:\n",
    "                deposit = float(input(\"Enter the amount to deposit: \"))\n",
    "                if deposit > 0:\n",
    "                    balance += deposit\n",
    "                    print(f\"Deposited ${deposit:.2f}. New balance is ${balance:.2f}\")\n",
    "                else:\n",
    "                    print(\"Deposit amount must be positive.\")\n",
    "            except ValueError:\n",
    "                print(\"Invalid input. Please enter a numeric value.\")\n",
    "        \n",
    "        elif choice == '3':\n",
    "            try:\n",
    "                withdraw = float(input(\"Enter the amount to withdraw: \"))\n",
    "                if withdraw > 0:\n",
    "                    if withdraw <= balance:\n",
    "                        balance -= withdraw\n",
    "                        print(f\"Withdrew ${withdraw:.2f}. New balance is ${balance:.2f}\")\n",
    "                    else:\n",
    "                        print(\"Insufficient funds.\")\n",
    "                else:\n",
    "                    print(\"Withdrawal amount must be positive.\")\n",
    "            except ValueError:\n",
    "                print(\"Invalid input. Please enter a numeric value.\")\n",
    "        \n",
    "        elif choice == '4':\n",
    "            print(\"Exiting... Thank you for using our ATM.\")\n",
    "            break\n",
    "        \n",
    "        else:\n",
    "            print(\"Invalid choice. Please select a number between 1 and 4.\")\n",
    "\n",
    "# Run the ATM menu\n",
    "atm_menu()\n",
    "\n",
    "\n",
    "\n",
    "# Explanation\n",
    "\n",
    "# Understanding and Completeness:\n",
    "# Purpose: Simulates a basic ATM menu allowing balance checks, deposits, and withdrawals.\n",
    "# Options: User can choose between checking balance, depositing, withdrawing, or exiting.\n",
    "\n",
    "# Clarity and Depth:\n",
    "# Menu: Displays options and prompts for user input.\n",
    "# Input Handling: Validates user choices and monetary inputs, ensuring only positive amounts and correct numeric values.\n",
    "\n",
    "# Correct Implementation:\n",
    "# Balance Management: Properly updates and displays balance after transactions.\n",
    "# Edge Cases: Handles invalid inputs and insufficient funds.\n",
    "\n",
    "# Proper Code Implementation:\n",
    "# Loop: Continues until the user chooses to exit.\n",
    "# Error Handling: Uses try-except to manage invalid inputs.\n",
    "# Code Organization:\n",
    "\n",
    "# Function: Encapsulates ATM operations within the atm_menu function for clarity.\n"
   ]
  },
  {
   "cell_type": "code",
   "execution_count": 8,
   "id": "9f6656d1-d961-4f1a-91be-238902707a15",
   "metadata": {},
   "outputs": [
    {
     "name": "stdin",
     "output_type": "stream",
     "text": [
      "Enter a string to check if it is a palindrome:  amima\n"
     ]
    },
    {
     "name": "stdout",
     "output_type": "stream",
     "text": [
      "'amima' is a palindrome.\n"
     ]
    }
   ],
   "source": [
    "# 16. Build a program that checks if a given string is a palindrome or not.\n",
    "\n",
    "def is_palindrome(s):\n",
    "    # Normalize the string by removing spaces and converting to lowercase\n",
    "    cleaned_s = ''.join(s.split()).lower()\n",
    "    # Check if the cleaned string is equal to its reverse\n",
    "    return cleaned_s == cleaned_s[::-1]\n",
    "\n",
    "# Example usage\n",
    "user_input = input(\"Enter a string to check if it is a palindrome: \")\n",
    "if is_palindrome(user_input):\n",
    "    print(f\"'{user_input}' is a palindrome.\")\n",
    "else:\n",
    "    print(f\"'{user_input}' is not a palindrome.\")\n",
    "\n",
    "    \n",
    "\n",
    "# Explanation\n",
    "\n",
    "# Understanding and Completeness:\n",
    "# Purpose: Checks if a string reads the same forward and backward.\n",
    "# Normalization: Removes spaces and converts to lowercase for accurate comparison.\n",
    "\n",
    "# Clarity and Depth:\n",
    "# String Handling: Uses join and split to remove spaces and lower to standardize case.\n",
    "# Comparison: Compares the string with its reverse using slicing ([::-1]).\n",
    "\n",
    "# Correct Implementation:\n",
    "# Palindrome Check: Properly handles the comparison for palindromic properties.\n",
    "\n",
    "# Proper Code Implementation:\n",
    "# Function: Defined is_palindrome function for modularity.\n",
    "# User Interaction: Takes input from the user and displays the result.\n",
    "# Code Organization:\n",
    "\n",
    "# Function: Keeps the palindrome checking logic within is_palindrome for clarity."
   ]
  },
  {
   "cell_type": "code",
   "execution_count": 9,
   "id": "22875a9f-d247-4197-821a-4f15fbcc509e",
   "metadata": {},
   "outputs": [
    {
     "name": "stdin",
     "output_type": "stream",
     "text": [
      "Enter numbers separated by spaces:  4 5 6\n"
     ]
    },
    {
     "name": "stdout",
     "output_type": "stream",
     "text": [
      "The average excluding the smallest and largest values is: 5.0\n"
     ]
    }
   ],
   "source": [
    "# 17. Write a program that calculates the average of a list of numbers, excluding the smallest and largest values.\n",
    "\n",
    "def average_excluding_extremes(numbers):\n",
    "    if len(numbers) <= 2:\n",
    "        return \"List must contain more than two numbers.\"\n",
    "    \n",
    "    # Remove the smallest and largest values\n",
    "    sorted_numbers = sorted(numbers)\n",
    "    trimmed_numbers = sorted_numbers[1:-1]\n",
    "    \n",
    "    # Calculate the average\n",
    "    average = sum(trimmed_numbers) / len(trimmed_numbers)\n",
    "    return average\n",
    "\n",
    "# Example usage\n",
    "try:\n",
    "    numbers = list(map(float, input(\"Enter numbers separated by spaces: \").split()))\n",
    "    result = average_excluding_extremes(numbers)\n",
    "    print(f\"The average excluding the smallest and largest values is: {result}\")\n",
    "except ValueError:\n",
    "    print(\"Please enter valid numeric values.\")\n",
    "\n",
    "    \n",
    "    \n",
    "# Explanation\n",
    "\n",
    "# Understanding and Completeness:\n",
    "# Purpose: Computes the average of a list excluding the smallest and largest values.\n",
    "# Handling Edge Cases: Checks if the list has more than two numbers to avoid invalid calculations.\n",
    "\n",
    "# Clarity and Depth:\n",
    "# Sorting: Sorts the list to easily access the smallest and largest values.\n",
    "# Slicing: Uses slicing to exclude the smallest and largest values.\n",
    "\n",
    "# Correct Implementation:\n",
    "# Average Calculation: Properly computes the average of the remaining numbers.\n",
    "\n",
    "# Proper Code Implementation:\n",
    "# Function: average_excluding_extremes handles the core logic.\n",
    "# Error Handling: Includes checks for valid input and list length.\n",
    "# Code Organization:\n",
    "\n",
    "# Function and Example Usage: Encapsulates logic in a function and provides an example of usage."
   ]
  },
  {
   "cell_type": "code",
   "execution_count": 10,
   "id": "84f783be-6352-49bf-9b61-645326a517a4",
   "metadata": {},
   "outputs": [
    {
     "name": "stdin",
     "output_type": "stream",
     "text": [
      "Enter temperature in Celsius:  35\n"
     ]
    },
    {
     "name": "stdout",
     "output_type": "stream",
     "text": [
      "35.0°C is equal to 95.0°F.\n"
     ]
    }
   ],
   "source": [
    "# 18. Develop a program that converts a given temperature from Celsius to Fahrenheit.\n",
    "\n",
    "def celsius_to_fahrenheit(celsius):\n",
    "    return (celsius * 9/5) + 32\n",
    "\n",
    "# Example usage\n",
    "try:\n",
    "    celsius = float(input(\"Enter temperature in Celsius: \"))\n",
    "    fahrenheit = celsius_to_fahrenheit(celsius)\n",
    "    print(f\"{celsius}°C is equal to {fahrenheit}°F.\")\n",
    "except ValueError:\n",
    "    print(\"Please enter a valid numeric value.\")\n",
    "\n",
    "    \n",
    "    \n",
    "# Explanation\n",
    "\n",
    "# Understanding and Completeness:\n",
    "# Purpose: Converts temperature from Celsius to Fahrenheit.\n",
    "# Formula: Uses the formula  F = (9/5)*C+32\n",
    "\n",
    "# clarity and Depth:\n",
    "# Formula Application: Directly applies the formula to convert the temperature.\n",
    "# Correct Implementation:\n",
    "\n",
    "# Conversion: Properly calculates the Fahrenheit temperature.\n",
    "\n",
    "# Proper Code Implementation:\n",
    "# Function: celsius_to_fahrenheit performs the conversion.\n",
    "# Error Handling: Manages non-numeric input with try-except.\n",
    "# Code Organization:\n",
    "\n",
    "# Function and Example Usage: Clearly separates function logic and user interaction."
   ]
  },
  {
   "cell_type": "code",
   "execution_count": 11,
   "id": "0fb36838-7370-4bd9-b15e-fd6c384f4851",
   "metadata": {},
   "outputs": [
    {
     "name": "stdin",
     "output_type": "stream",
     "text": [
      "Enter the first number:  6\n",
      "Enter the second number:  4\n",
      "Enter the operation (+, -, *, /):  *\n"
     ]
    },
    {
     "name": "stdout",
     "output_type": "stream",
     "text": [
      "The result of 6.0 * 4.0 is: 24.0\n"
     ]
    }
   ],
   "source": [
    "# 19. Create a program that simulates a basic calculator for addition, subtraction, multiplication, and division.\n",
    "\n",
    "def basic_calculator(num1, num2, operation):\n",
    "    if operation == '+':\n",
    "        return num1 + num2\n",
    "    elif operation == '-':\n",
    "        return num1 - num2\n",
    "    elif operation == '*':\n",
    "        return num1 * num2\n",
    "    elif operation == '/':\n",
    "        if num2 != 0:\n",
    "            return num1 / num2\n",
    "        else:\n",
    "            return \"Error: Division by zero.\"\n",
    "    else:\n",
    "        return \"Invalid operation.\"\n",
    "\n",
    "# Example usage\n",
    "try:\n",
    "    num1 = float(input(\"Enter the first number: \"))\n",
    "    num2 = float(input(\"Enter the second number: \"))\n",
    "    operation = input(\"Enter the operation (+, -, *, /): \")\n",
    "    \n",
    "    result = basic_calculator(num1, num2, operation)\n",
    "    print(f\"The result of {num1} {operation} {num2} is: {result}\")\n",
    "except ValueError:\n",
    "    print(\"Please enter valid numeric values.\")\n",
    "\n",
    "    \n",
    "    \n",
    "# Explanation\n",
    "\n",
    "# Understanding and Completeness:\n",
    "# Purpose: Performs addition, subtraction, multiplication, and division based on user input.\n",
    "# Error Handling: Checks for division by zero and invalid operations.\n",
    "\n",
    "# Clarity and Depth:\n",
    "# Operation Handling: Uses conditional statements to perform the selected operation.\n",
    "# Correct Implementation:\n",
    "\n",
    "# Arithmetic Operations: Correctly performs the requested arithmetic operations.\n",
    "\n",
    "# Proper Code Implementation:\n",
    "# Function: basic_calculator handles the calculations.\n",
    "# Error Handling: Includes checks for division by zero and invalid operations.\n",
    "# Code Organization:\n",
    "\n",
    "# Function and Example Usage: Separates calculation logic and user interaction."
   ]
  },
  {
   "cell_type": "code",
   "execution_count": 14,
   "id": "e07dd70c-4f08-4d5a-b121-8612f1d70fe6",
   "metadata": {},
   "outputs": [
    {
     "name": "stdin",
     "output_type": "stream",
     "text": [
      "Enter coefficient a:  2\n",
      "Enter coefficient b:  3\n",
      "Enter coefficient c:  5\n",
      "Enter coefficient d:  7\n"
     ]
    },
    {
     "name": "stdout",
     "output_type": "stream",
     "text": [
      "The roots of the cubic equation are: (1910.4160107131868-0j), (-529.2971308670722+0j), and (-6270.646169094958+0j)\n"
     ]
    }
   ],
   "source": [
    "# 20. Write a program that determines the roots of a cubic equation using the Cardano formula\n",
    "\n",
    "import cmath\n",
    "\n",
    "def cubic_roots(a, b, c, d):\n",
    "    # Calculate discriminants and other necessary values\n",
    "    delta0 = b**2 - 3*a*c\n",
    "    delta1 = 2*b**3 - 9*a*b*c + 27*a**2*d\n",
    "    discriminant = delta1**2 - 4*delta0**3\n",
    "\n",
    "    # Calculate cube roots of unity\n",
    "    C = cmath.sqrt(discriminant + 0j)\n",
    "    if C == 0:\n",
    "        C = cmath.exp(cmath.log(C.real) / 3)\n",
    "\n",
    "    # Calculate roots using Cardano's formula\n",
    "    roots = []\n",
    "    for k in range(3):\n",
    "        angle = (2 * cmath.pi * k) / 3\n",
    "        x = -1/(3*a) * (b + cmath.exp(angle) * C + delta0 / cmath.exp(angle) * C)\n",
    "        roots.append(x)\n",
    "    \n",
    "    return roots\n",
    "\n",
    "# Example usage\n",
    "try:\n",
    "    a = float(input(\"Enter coefficient a: \"))\n",
    "    b = float(input(\"Enter coefficient b: \"))\n",
    "    c = float(input(\"Enter coefficient c: \"))\n",
    "    d = float(input(\"Enter coefficient d: \"))\n",
    "    \n",
    "    roots = cubic_roots(a, b, c, d)\n",
    "    print(f\"The roots of the cubic equation are: {roots[0]}, {roots[1]}, and {roots[2]}\")\n",
    "except ValueError:\n",
    "    print(\"Please enter valid numeric values.\")\n",
    "\n",
    "    \n",
    "    \n",
    "# Explanation\n",
    "\n",
    "# Understanding and Completeness:\n",
    "# Purpose: Solves cubic equations using Cardano's formula.\n",
    "# Formula: Implements steps for calculating the roots of the cubic equation.\n",
    "\n",
    "# Clarity and Depth:\n",
    "# Discriminants and Roots: Calculates discriminants, cube roots, and uses complex numbers for finding roots.\n",
    "\n",
    "# Correct Implementation:\n",
    "# Cubic Formula: Applies Cardano’s method for finding the roots.\n",
    "\n",
    "# Proper Code Implementation:\n",
    "# Function: cubic_roots handles the calculation of roots.\n",
    "# Error Handling: Includes checks for valid numeric inputs.\n",
    "# Code Organization:\n",
    "\n",
    "# Function and Example Usage: Separates logic for root calculation and user interaction."
   ]
  },
  {
   "cell_type": "code",
   "execution_count": null,
   "id": "f6a64a8f-be28-403d-b4e6-2e10aa97e8f0",
   "metadata": {},
   "outputs": [],
   "source": [
    "# Advanced Level:"
   ]
  },
  {
   "cell_type": "code",
   "execution_count": 15,
   "id": "ea5c4a30-b82b-4f98-abef-7912ef55cb59",
   "metadata": {},
   "outputs": [
    {
     "name": "stdin",
     "output_type": "stream",
     "text": [
      "Enter your income:  5000\n"
     ]
    },
    {
     "name": "stdout",
     "output_type": "stream",
     "text": [
      "Your income tax is: $500.00\n"
     ]
    }
   ],
   "source": [
    "# 21. Create a program that calculates the income tax based on the user's income and tax brackets\n",
    "\n",
    "def calculate_tax(income):\n",
    "    # Tax brackets (for example purposes)\n",
    "    brackets = [(0, 10000, 0.1), (10000, 30000, 0.2), (30000, 100000, 0.3), (100000, float('inf'), 0.4)]\n",
    "    \n",
    "    tax = 0\n",
    "    for lower, upper, rate in brackets:\n",
    "        if income > upper:\n",
    "            tax += (upper - lower) * rate\n",
    "        else:\n",
    "            tax += (income - lower) * rate\n",
    "            break\n",
    "            \n",
    "    return tax\n",
    "\n",
    "# Example usage\n",
    "try:\n",
    "    income = float(input(\"Enter your income: \"))\n",
    "    tax = calculate_tax(income)\n",
    "    print(f\"Your income tax is: ${tax:.2f}\")\n",
    "except ValueError:\n",
    "    print(\"Please enter a valid numeric value.\")\n",
    "\n",
    "    \n",
    "    \n",
    "# Explanation\n",
    "\n",
    "# Understanding and Completeness:\n",
    "# Purpose: Calculates income tax based on predefined tax brackets.\n",
    "# Brackets: Example brackets with different rates.\n",
    "\n",
    "# Clarity and Depth:\n",
    "# Tax Calculation: Iterates through brackets to apply appropriate tax rates.\n",
    "\n",
    "# Correct Implementation:\n",
    "# Tax Computation: Correctly applies tax rates based on income brackets.\n",
    "\n",
    "# Proper Code Implementation:\n",
    "# Function: calculate_tax handles the tax calculation.\n",
    "# Error Handling: Manages non-numeric inputs.\n",
    "# Code Organization:\n",
    "\n",
    "# Function and Example Usage: Separates logic from user interaction."
   ]
  },
  {
   "cell_type": "code",
   "execution_count": 16,
   "id": "4fbd3231-a567-4bc2-8e86-62c1dd033d82",
   "metadata": {},
   "outputs": [
    {
     "name": "stdin",
     "output_type": "stream",
     "text": [
      "Enter rock, paper, or scissors:  paper\n"
     ]
    },
    {
     "name": "stdout",
     "output_type": "stream",
     "text": [
      "Computer chose: rock\n",
      "You win!\n"
     ]
    }
   ],
   "source": [
    "# 22. Write a program that simulates a rock-paper-scissors game against the computer\n",
    "\n",
    "import random\n",
    "\n",
    "def play_rps(user_choice):\n",
    "    choices = ['rock', 'paper', 'scissors']\n",
    "    computer_choice = random.choice(choices)\n",
    "    print(f\"Computer chose: {computer_choice}\")\n",
    "\n",
    "    if user_choice == computer_choice:\n",
    "        return \"It's a tie!\"\n",
    "    elif (user_choice == 'rock' and computer_choice == 'scissors') or \\\n",
    "         (user_choice == 'paper' and computer_choice == 'rock') or \\\n",
    "         (user_choice == 'scissors' and computer_choice == 'paper'):\n",
    "        return \"You win!\"\n",
    "    else:\n",
    "        return \"You lose!\"\n",
    "\n",
    "# Example usage\n",
    "user_choice = input(\"Enter rock, paper, or scissors: \").lower()\n",
    "if user_choice in ['rock', 'paper', 'scissors']:\n",
    "    result = play_rps(user_choice)\n",
    "    print(result)\n",
    "else:\n",
    "    print(\"Invalid choice. Please choose rock, paper, or scissors.\")\n",
    "\n",
    "    \n",
    "    \n",
    "# Explanation\n",
    "\n",
    "# Understanding and Completeness:\n",
    "# Purpose: Simulates a rock-paper-scissors game between user and computer.\n",
    "# Choices: Computer selects randomly from the available options.\n",
    "\n",
    "# Clarity and Depth:\n",
    "# Game Logic: Determines the result based on the user's and computer's choices.\n",
    "\n",
    "# Correct Implementation:\n",
    "# Game Rules: Accurately follows the rules of rock-paper-scissors.\n",
    "\n",
    "# Proper Code Implementation:\n",
    "# Function: play_rps determines the game outcome.\n",
    "# Error Handling: Checks for valid user input.\n",
    "\n",
    "# Code Organization:\n",
    "# Function and Example Usage: Clear separation of logic and user interaction."
   ]
  },
  {
   "cell_type": "code",
   "execution_count": 17,
   "id": "aa6e1cd1-9ceb-4fdb-9f58-71f858d88c73",
   "metadata": {},
   "outputs": [
    {
     "name": "stdin",
     "output_type": "stream",
     "text": [
      "Enter the password length:  7\n",
      "Enter the complexity level (1-letters, 2-letters+digital, 3-letters+digits+specials):  3\n"
     ]
    },
    {
     "name": "stdout",
     "output_type": "stream",
     "text": [
      "Generated password: ty<zjbH\n"
     ]
    }
   ],
   "source": [
    "# 23. Develop a program that generates a random password based on user preferences (length, complexity).\n",
    "\n",
    "import random\n",
    "import string\n",
    "\n",
    "def generate_password(length, complexity):\n",
    "    characters = string.ascii_letters  # Letters only\n",
    "    if complexity > 1:\n",
    "        characters += string.digits  # Add digits\n",
    "    if complexity > 2:\n",
    "        characters += string.punctuation  # Add special characters\n",
    "    \n",
    "    return ''.join(random.choice(characters) for _ in range(length))\n",
    "\n",
    "# Example usage\n",
    "try:\n",
    "    length = int(input(\"Enter the password length: \"))\n",
    "    complexity = int(input(\"Enter the complexity level (1-letters, 2-letters+digital, 3-letters+digits+specials): \"))\n",
    "    \n",
    "    if complexity not in [1, 2, 3]:\n",
    "        raise ValueError(\"Complexity level must be 1, 2, or 3.\")\n",
    "    \n",
    "    password = generate_password(length, complexity)\n",
    "    print(f\"Generated password: {password}\")\n",
    "except ValueError as e:\n",
    "    print(f\"Error: {e}\")\n",
    "\n",
    "    \n",
    "    \n",
    "# Explanation\n",
    "\n",
    "# Understanding and Completeness:\n",
    "# Purpose: Generates a random password based on length and complexity.\n",
    "# Complexity Levels: Determines character set based on the selected complexity level.\n",
    "\n",
    "# Clarity and Depth:\n",
    "# Password Generation: Uses random.choice to select characters from the appropriate set.\n",
    "\n",
    "# Correct Implementation:\n",
    "# Password Creation: Correctly generates passwords according to user preferences.\n",
    "\n",
    "# Proper Code Implementation:\n",
    "# Function: generate_password manages password generation.\n",
    "# Error Handling: Validates user inputs for length and complexity.\n",
    "\n",
    "# Code Organization:\n",
    "# Function and Example Usage: Separates password generation logic and user interaction."
   ]
  },
  {
   "cell_type": "code",
   "execution_count": 20,
   "id": "cf682233-1efe-4a6d-8914-f084f47a1d84",
   "metadata": {},
   "outputs": [
    {
     "name": "stdout",
     "output_type": "stream",
     "text": [
      "You are in a dark forest. There are two paths ahead.\n"
     ]
    },
    {
     "name": "stdin",
     "output_type": "stream",
     "text": [
      "Do you want to go left or right?  left\n"
     ]
    },
    {
     "name": "stdout",
     "output_type": "stream",
     "text": [
      "You encounter a friendly wizard who gives you a magic potion.\n"
     ]
    },
    {
     "name": "stdin",
     "output_type": "stream",
     "text": [
      "Do you drink the potion or leave it?  drink\n"
     ]
    },
    {
     "name": "stdout",
     "output_type": "stream",
     "text": [
      "You feel stronger and find a treasure chest!\n"
     ]
    }
   ],
   "source": [
    "# 24. Create a program that implements a simple text-based adventure game with branching scenarios.\n",
    "\n",
    "def adventure_game():\n",
    "    print(\"You are in a dark forest. There are two paths ahead.\")\n",
    "    choice1 = input(\"Do you want to go left or right? \").lower()\n",
    "    \n",
    "    if choice1 == 'left':\n",
    "        print(\"You encounter a friendly wizard who gives you a magic potion.\")\n",
    "        choice2 = input(\"Do you drink the potion or leave it? \").lower()\n",
    "        if choice2 == 'drink':\n",
    "            print(\"You feel stronger and find a treasure chest!\")\n",
    "        else:\n",
    "            print(\"You walk away and find yourself back at the start.\")\n",
    "    elif choice1 == 'right':\n",
    "        print(\"You encounter a fierce dragon!\")\n",
    "        choice2 = input(\"Do you fight the dragon or run away? \").lower()\n",
    "        if choice2 == 'fight':\n",
    "            print(\"You bravely fight and defeat the dragon!\")\n",
    "        else:\n",
    "            print(\"You run away and get lost in the forest.\")\n",
    "    else:\n",
    "        print(\"Invalid choice. The adventure ends.\")\n",
    "\n",
    "# Run the game\n",
    "adventure_game()\n",
    "\n",
    "\n",
    "\n",
    "# Explanation\n",
    "\n",
    "# Understanding and Completeness:\n",
    "# Purpose: Simulates a simple text-based adventure with branching scenarios.\n",
    "# Choices: Determines outcomes based on user decisions.\n",
    "\n",
    "# Clarity and Depth:\n",
    "# Scenario Management: Uses conditional statements to manage different paths and outcomes.\n",
    "\n",
    "# Correct Implementation:\n",
    "# Branching Logic: Correctly implements branching scenarios based on user input.\n",
    "\n",
    "# Proper Code Implementation:\n",
    "# Function: adventure_game manages the game flow.\n",
    "# User Interaction: Handles choices and provides appropriate outcomes.\n",
    "\n",
    "# Code Organization:\n",
    "# Function and Game Logic: Clearly separates game logic and user interaction."
   ]
  },
  {
   "cell_type": "code",
   "execution_count": 21,
   "id": "04f523dd-0cdc-4ade-bd39-dbeed404f9bc",
   "metadata": {},
   "outputs": [
    {
     "name": "stdin",
     "output_type": "stream",
     "text": [
      "Enter coefficient a:  4\n",
      "Enter coefficient b:  6\n",
      "Enter coefficient c:  7\n"
     ]
    },
    {
     "name": "stdout",
     "output_type": "stream",
     "text": [
      "The solution for x is: 0.25\n"
     ]
    }
   ],
   "source": [
    "# 25. Build a program that solves a linear equation  for x, considering different cases.\n",
    "\n",
    "def solve_linear_equation(a, b, c):\n",
    "    if a == 0:\n",
    "        if b == c:\n",
    "            return \"Infinite solutions.\"\n",
    "        else:\n",
    "            return \"No solution.\"\n",
    "    else:\n",
    "        return (c - b) / a\n",
    "\n",
    "# Example usage\n",
    "try:\n",
    "    a = float(input(\"Enter coefficient a: \"))\n",
    "    b = float(input(\"Enter coefficient b: \"))\n",
    "    c = float(input(\"Enter coefficient c: \"))\n",
    "    \n",
    "    solution = solve_linear_equation(a, b, c)\n",
    "    if isinstance(solution, str):\n",
    "        print(solution)\n",
    "    else:\n",
    "        print(f\"The solution for x is: {solution}\")\n",
    "except ValueError:\n",
    "    print(\"Please enter valid numeric values.\")\n",
    "\n",
    "    \n",
    "    \n",
    "# Explanation\n",
    "\n",
    "# Understanding and Completeness:\n",
    "# Purpose: Solves the linear equation ax + b = c\n",
    "# Cases: Handles different scenarios based on the coefficient a.\n",
    "\n",
    "# Clarity and Depth:\n",
    "# Equation Solving: Uses conditional statements to handle special cases (infinite or no solutions).\n",
    "\n",
    "# Correct Implementation:\n",
    "# Linear Equation: Correctly solves for x or determines the solution status.\n",
    "\n",
    "# Proper Code Implementation:\n",
    "# Function: solve_linear_equation handles the solution logic.\n",
    "# Error Handling: Includes checks for valid numeric input.\n",
    "\n",
    "# Code Organization:\n",
    "# Function and Example Usage: Separates equation solving logic and user interaction."
   ]
  },
  {
   "cell_type": "code",
   "execution_count": 22,
   "id": "cedebadf-ce6d-4fa7-bad1-0ff3ca44ce05",
   "metadata": {},
   "outputs": [
    {
     "name": "stdout",
     "output_type": "stream",
     "text": [
      "What is the capital of France?\n",
      "a) Paris\n",
      "b) London\n",
      "c) Rome\n"
     ]
    },
    {
     "name": "stdin",
     "output_type": "stream",
     "text": [
      "Your answer (a/b/c):  c\n"
     ]
    },
    {
     "name": "stdout",
     "output_type": "stream",
     "text": [
      "Incorrect.\n",
      "What is 2 + 2?\n",
      "a) 3\n",
      "b) 4\n",
      "c) 5\n"
     ]
    },
    {
     "name": "stdin",
     "output_type": "stream",
     "text": [
      "Your answer (a/b/c):  b\n"
     ]
    },
    {
     "name": "stdout",
     "output_type": "stream",
     "text": [
      "Correct!\n",
      "Your final score is: 1/2\n"
     ]
    }
   ],
   "source": [
    "# 26. Write a program that simulates a basic quiz game with multiple-choice questions and scoring.\n",
    "\n",
    "def quiz_game():\n",
    "    questions = {\n",
    "        \"What is the capital of France?\": [\"a) Paris\", \"b) London\", \"c) Rome\"],\n",
    "        \"What is 2 + 2?\": [\"a) 3\", \"b) 4\", \"c) 5\"]\n",
    "    }\n",
    "    answers = {\n",
    "        \"What is the capital of France?\": \"a\",\n",
    "        \"What is 2 + 2?\": \"b\"\n",
    "    }\n",
    "    \n",
    "    score = 0\n",
    "    for question, options in questions.items():\n",
    "        print(question)\n",
    "        for option in options:\n",
    "            print(option)\n",
    "        \n",
    "        user_answer = input(\"Your answer (a/b/c): \").lower()\n",
    "        if user_answer == answers[question]:\n",
    "            print(\"Correct!\")\n",
    "            score += 1\n",
    "        else:\n",
    "            print(\"Incorrect.\")\n",
    "    \n",
    "    print(f\"Your final score is: {score}/{len(questions)}\")\n",
    "\n",
    "# Run the quiz game\n",
    "quiz_game()\n",
    "\n",
    "\n",
    "\n",
    "# Explanation\n",
    "\n",
    "# Understanding and Completeness:\n",
    "# Purpose: Simulates a quiz game with multiple-choice questions and scoring.\n",
    "# Questions and Answers: Uses a dictionary to store questions and correct answers.\n",
    "\n",
    "# Clarity and Depth:\n",
    "# Quiz Logic: Displays questions and options, checks answers, and calculates score.\n",
    "\n",
    "# Correct Implementation:\n",
    "# Quiz Functionality: Correctly implements quiz logic and scoring.\n",
    "\n",
    "# Proper Code Implementation:\n",
    "# Function: quiz_game manages the quiz process.\n",
    "# User Interaction: Handles answers and provides feedback.\n",
    "\n",
    "# Code Organization:\n",
    "# Function and Example Usage: Separates quiz logic and user interaction.\n"
   ]
  },
  {
   "cell_type": "code",
   "execution_count": 23,
   "id": "741dfcd4-5ef7-4158-acc5-f666e7a30fb2",
   "metadata": {},
   "outputs": [
    {
     "name": "stdin",
     "output_type": "stream",
     "text": [
      "Enter a year:  2024\n"
     ]
    },
    {
     "name": "stdout",
     "output_type": "stream",
     "text": [
      "2024 is not a prime number.\n"
     ]
    }
   ],
   "source": [
    "# 27. Develop a program that determines whether a given year is a prime number or not.\n",
    "\n",
    "def is_prime(year):\n",
    "    if year <= 1:\n",
    "        return False\n",
    "    for i in range(2, int(year**0.5) + 1):\n",
    "        if year % i == 0:\n",
    "            return False\n",
    "    return True\n",
    "\n",
    "# Example usage\n",
    "try:\n",
    "    year = int(input(\"Enter a year: \"))\n",
    "    if is_prime(year):\n",
    "        print(f\"{year} is a prime number.\")\n",
    "    else:\n",
    "        print(f\"{year} is not a prime number.\")\n",
    "except ValueError:\n",
    "    print(\"Please enter a valid numeric value.\")\n",
    "\n",
    "    \n",
    "    \n",
    "# Explanation\n",
    "\n",
    "# Understanding and Completeness:\n",
    "# Purpose: Determines if a year is a prime number.\n",
    "# Prime Checking: Uses divisibility test up to the square root of the year.\n",
    "\n",
    "# Clarity and Depth:\n",
    "# Prime Logic: Efficiently checks for primality by iterating up to the square root.\n",
    "\n",
    "# Correct Implementation:\n",
    "# Prime Calculation: Correctly determines if a number is prime.\n",
    "\n",
    "# Proper Code Implementation:\n",
    "# Function: is_prime handles primality checking.\n",
    "# Error Handling: Manages non-numeric inputs.\n",
    "\n",
    "# Code Organization:\n",
    "# Function and Example Usage: Separates prime checking logic and user interaction."
   ]
  },
  {
   "cell_type": "code",
   "execution_count": 24,
   "id": "5d2ec60e-3839-4835-9587-8b7437f2cb81",
   "metadata": {},
   "outputs": [
    {
     "name": "stdin",
     "output_type": "stream",
     "text": [
      "Enter first number:  6\n",
      "Enter second number:  8\n",
      "Enter third number:  4\n"
     ]
    },
    {
     "name": "stdout",
     "output_type": "stream",
     "text": [
      "The numbers in ascending order are: (4.0, 6.0, 8.0)\n"
     ]
    }
   ],
   "source": [
    "# 28. Create a program that sorts three numbers in ascending order using conditional statements\n",
    "\n",
    "def sort_three_numbers(a, b, c):\n",
    "    if a > b:\n",
    "        a, b = b, a\n",
    "    if a > c:\n",
    "        a, c = c, a\n",
    "    if b > c:\n",
    "        b, c = c, b\n",
    "    return a, b, c\n",
    "\n",
    "# Example usage\n",
    "try:\n",
    "    a = float(input(\"Enter first number: \"))\n",
    "    b = float(input(\"Enter second number: \"))\n",
    "    c = float(input(\"Enter third number: \"))\n",
    "    \n",
    "    sorted_numbers = sort_three_numbers(a, b, c)\n",
    "    print(f\"The numbers in ascending order are: {sorted_numbers}\")\n",
    "except ValueError:\n",
    "    print(\"Please enter valid numeric values.\")\n",
    "\n",
    "    \n",
    "    \n",
    "# Explanation\n",
    "\n",
    "# Understanding and Completeness:\n",
    "# Purpose: Sorts three numbers in ascending order.\n",
    "# Sorting Logic: Uses conditional swapping to sort numbers.\n",
    "\n",
    "# Clarity and Depth:\n",
    "# Sorting Method: Applies a series of conditional swaps to achieve sorted order.\n",
    "\n",
    "# Correct Implementation:\n",
    "# Sorting Functionality: Correctly sorts three numbers.\n",
    "\n",
    "# Proper Code Implementation:\n",
    "# Function: sort_three_numbers manages the sorting logic.\n",
    "# Error Handling: Includes validation for numeric inputs.\n",
    "\n",
    "# Code Organization:\n",
    "# Function and Example Usage: Separates sorting logic from user interaction."
   ]
  },
  {
   "cell_type": "code",
   "execution_count": 25,
   "id": "f0f796da-c648-4683-9fd2-844a4585a30f",
   "metadata": {},
   "outputs": [
    {
     "name": "stdout",
     "output_type": "stream",
     "text": [
      "The approximate roots of the quartic equation are: [ 0.  1. -1.  2.]\n"
     ]
    }
   ],
   "source": [
    "# 29. Build a program that determines the roots of a quartic equation using numerical methods.\n",
    "\n",
    "from scipy.optimize import fsolve\n",
    "import numpy as np\n",
    "\n",
    "def quartic_equation(x):\n",
    "    # Example quartic equation: x^4 - 5x^2 + 4 = 0\n",
    "    return x**4 - 5*x**2 + 4\n",
    "\n",
    "# Example usage\n",
    "initial_guesses = [0, 1, -1, 2]  # Provide some initial guesses for roots\n",
    "roots = fsolve(quartic_equation, initial_guesses)\n",
    "print(f\"The approximate roots of the quartic equation are: {roots}\")\n",
    "\n",
    "\n",
    "\n",
    "# Explanation\n",
    "\n",
    "# Understanding and Completeness:\n",
    "# Purpose: Finds roots of a quartic equation using numerical methods.\n",
    "# Method: Uses fsolve from SciPy to approximate roots.\n",
    "\n",
    "# Clarity and Depth:\n",
    "# Numerical Methods: Applies numerical approximation techniques to find roots.\n",
    "\n",
    "# Correct Implementation:\n",
    "# Root Finding: Correctly utilizes fsolve to solve the quartic equation.\n",
    "\n",
    "# Proper Code Implementation:\n",
    "# Function: quartic_equation defines the equation.\n",
    "# Error Handling: Not explicitly required but can be added for more robustness.\n",
    "\n",
    "# Code Organization:\n",
    "# Function and Example Usage: Clearly separates the root finding logic."
   ]
  },
  {
   "cell_type": "code",
   "execution_count": 26,
   "id": "9d1a6a8a-800b-4794-a5d3-c5536762e5c1",
   "metadata": {},
   "outputs": [
    {
     "name": "stdin",
     "output_type": "stream",
     "text": [
      "Enter weight in kilograms:  53\n",
      "Enter height in meters:  2\n"
     ]
    },
    {
     "name": "stdout",
     "output_type": "stream",
     "text": [
      "Your BMI is: 13.25\n",
      "Category: Underweight\n"
     ]
    }
   ],
   "source": [
    "# 30. Write a program that calculates the BMI (Body Mass Index) and provides health recommendations based\n",
    "# on the user's input.\n",
    "\n",
    "def calculate_bmi(weight, height):\n",
    "    return weight / (height ** 2)\n",
    "\n",
    "def bmi_category(bmi):\n",
    "    if bmi < 18.5:\n",
    "        return \"Underweight\"\n",
    "    elif 18.5 <= bmi < 24.9:\n",
    "        return \"Normal weight\"\n",
    "    elif 25 <= bmi < 29.9:\n",
    "        return \"Overweight\"\n",
    "    else:\n",
    "        return \"Obesity\"\n",
    "\n",
    "# Example usage\n",
    "try:\n",
    "    weight = float(input(\"Enter weight in kilograms: \"))\n",
    "    height = float(input(\"Enter height in meters: \"))\n",
    "    \n",
    "    bmi = calculate_bmi(weight, height)\n",
    "    category = bmi_category(bmi)\n",
    "    \n",
    "    print(f\"Your BMI is: {bmi:.2f}\")\n",
    "    print(f\"Category: {category}\")\n",
    "except ValueError:\n",
    "    print(\"Please enter valid numeric values.\")\n",
    "\n",
    "    \n",
    "    \n",
    "# Explanation\n",
    "\n",
    "# Understanding and Completeness:\n",
    "# Purpose: Calculates BMI and categorizes it into underweight, normal weight, overweight, or obesity.\n",
    "# Categories: Defines BMI categories based on standard ranges.\n",
    "\n",
    "# Clarity and Depth:\n",
    "# BMI Calculation: Uses standard BMI formula and provides recommendations based on categories.\n",
    "\n",
    "# Correct Implementation:\n",
    "# BMI Calculation and Categorization: Accurately computes BMI and provides appropriate health category.\n",
    "\n",
    "# Proper Code Implementation:\n",
    "# Functions: calculate_bmi and bmi_category handle the logic for BMI calculation and categorization.\n",
    "# Error Handling: Manages non-numeric inputs effectively.\n",
    "\n",
    "# Code Organization:\n",
    "# Functions and Example Usage: Clear separation of BMI calculation, categorization, and user interaction."
   ]
  },
  {
   "cell_type": "code",
   "execution_count": null,
   "id": "36bd9ca0-0b11-411a-9497-5258029e5f25",
   "metadata": {},
   "outputs": [],
   "source": [
    "# Challenge Level:"
   ]
  },
  {
   "cell_type": "code",
   "execution_count": 1,
   "id": "a9c73e2b-c546-4547-b40f-70f320d32af9",
   "metadata": {},
   "outputs": [
    {
     "name": "stdin",
     "output_type": "stream",
     "text": [
      "Enter your password:  Tah&sha15\n"
     ]
    },
    {
     "name": "stdout",
     "output_type": "stream",
     "text": [
      "Password is valid.\n"
     ]
    }
   ],
   "source": [
    "# 31. Create a program that validates a password based on complexity rules (length, characters, etc.).\n",
    "\n",
    "import re\n",
    "\n",
    "def validate_password(password):\n",
    "    if len(password) < 8:\n",
    "        return \"Password too short. Must be at least 8 characters.\"\n",
    "    if not re.search(r'[A-Za-z]', password):\n",
    "        return \"Password must contain at least one letter.\"\n",
    "    if not re.search(r'\\d', password):\n",
    "        return \"Password must contain at least one digit.\"\n",
    "    if not re.search(r'[!@#$%^&*(),.?\":{}|<>]', password):\n",
    "        return \"Password must contain at least one special character.\"\n",
    "    return \"Password is valid.\"\n",
    "\n",
    "# Example usage\n",
    "password = input(\"Enter your password: \")\n",
    "result = validate_password(password)\n",
    "print(result)\n",
    "\n",
    "\n",
    "\n",
    "# Explanation\n",
    "\n",
    "# Understanding and Completeness:\n",
    "# Purpose: Validates password based on length and character types.\n",
    "# Complexity Rules: Includes checks for length, letters, digits, and special characters.\n",
    "\n",
    "# Clarity and Depth:\n",
    "# Validation Logic: Uses regular expressions to validate password complexity.\n",
    "\n",
    "# Correct Implementation:\n",
    "# Validation Checks: Correctly implements password complexity requirements.\n",
    "\n",
    "# Proper Code Implementation:\n",
    "# Function: validate_password manages the validation logic.\n",
    "# Error Handling: Provides clear messages for different validation failures.\n",
    "\n",
    "# Code Organization:\n",
    "# Function and Example Usage: Separates validation logic from user interaction."
   ]
  },
  {
   "cell_type": "code",
   "execution_count": 4,
   "id": "8ceba3e0-61d9-49e8-b29a-dd4c47843386",
   "metadata": {},
   "outputs": [
    {
     "name": "stdout",
     "output_type": "stream",
     "text": [
      "Enter first matrix:\n"
     ]
    },
    {
     "name": "stdin",
     "output_type": "stream",
     "text": [
      "Enter number of rows:  3\n",
      "Enter number of columns:  3\n"
     ]
    },
    {
     "name": "stdout",
     "output_type": "stream",
     "text": [
      "Enter the matrix values row by row:\n"
     ]
    },
    {
     "name": "stdin",
     "output_type": "stream",
     "text": [
      " 123\n",
      " 345\n",
      " 567\n"
     ]
    },
    {
     "name": "stdout",
     "output_type": "stream",
     "text": [
      "Enter second matrix:\n"
     ]
    },
    {
     "name": "stdin",
     "output_type": "stream",
     "text": [
      "Enter number of rows:  3\n",
      "Enter number of columns:  3\n"
     ]
    },
    {
     "name": "stdout",
     "output_type": "stream",
     "text": [
      "Enter the matrix values row by row:\n"
     ]
    },
    {
     "name": "stdin",
     "output_type": "stream",
     "text": [
      " 678\n",
      " 890\n",
      " 567\n",
      "Enter operation (add or subtract):  add\n"
     ]
    },
    {
     "name": "stdout",
     "output_type": "stream",
     "text": [
      "Result:\n",
      "801.0\n",
      "1235.0\n",
      "1134.0\n"
     ]
    }
   ],
   "source": [
    "# 32. Develop a program that performs matrix addition and subtraction based on user input.\n",
    "\n",
    "def add_matrices(A, B):\n",
    "    return [[A[i][j] + B[i][j] for j in range(len(A[0]))] for i in range(len(A))]\n",
    "\n",
    "def subtract_matrices(A, B):\n",
    "    return [[A[i][j] - B[i][j] for j in range(len(A[0]))] for i in range(len(A))]\n",
    "\n",
    "# Example usage\n",
    "def get_matrix_input():\n",
    "    rows = int(input(\"Enter number of rows: \"))\n",
    "    cols = int(input(\"Enter number of columns: \"))\n",
    "    matrix = []\n",
    "    print(\"Enter the matrix values row by row:\")\n",
    "    for i in range(rows):\n",
    "        row = list(map(float, input().split()))\n",
    "        matrix.append(row)\n",
    "    return matrix\n",
    "\n",
    "print(\"Enter first matrix:\")\n",
    "matrix1 = get_matrix_input()\n",
    "\n",
    "print(\"Enter second matrix:\")\n",
    "matrix2 = get_matrix_input()\n",
    "\n",
    "operation = input(\"Enter operation (add or subtract): \").strip().lower()\n",
    "\n",
    "if len(matrix1) == len(matrix2) and len(matrix1[0]) == len(matrix2[0]):\n",
    "    if operation == 'add':\n",
    "        result = add_matrices(matrix1, matrix2)\n",
    "    elif operation == 'subtract':\n",
    "        result = subtract_matrices(matrix1, matrix2)\n",
    "    else:\n",
    "        result = \"Invalid operation.\"\n",
    "\n",
    "    print(\"Result:\")\n",
    "    for row in result:\n",
    "        print(' '.join(map(str, row)))\n",
    "else:\n",
    "    print(\"Matrix dimensions do not match.\")\n",
    "\n",
    "    \n",
    "    \n",
    "# Explanation\n",
    "\n",
    "# Understanding and Completeness:\n",
    "# Purpose: Performs matrix addition or subtraction based on user input.\n",
    "# Matrix Dimensions: Ensures that matrices are of the same size for valid operations.\n",
    "\n",
    "# Clarity and Depth:\n",
    "# Matrix Operations: Uses list comprehensions for matrix addition and subtraction.\n",
    "\n",
    "# Correct Implementation:\n",
    "# Matrix Operations: Correctly handles addition and subtraction.\n",
    "\n",
    "# Proper Code Implementation:\n",
    "# Functions: add_matrices and subtract_matrices handle matrix operations.\n",
    "# Error Handling: Checks for dimension mismatches.\n",
    "\n",
    "# Code Organization:\n",
    "# Functions and Example Usage: Separates matrix operations from user input and interaction."
   ]
  },
  {
   "cell_type": "code",
   "execution_count": 5,
   "id": "07559fda-50b8-4bc7-89cc-3aef75291945",
   "metadata": {},
   "outputs": [
    {
     "name": "stdin",
     "output_type": "stream",
     "text": [
      "Enter the first number:  6\n",
      "Enter the second number:  4\n"
     ]
    },
    {
     "name": "stdout",
     "output_type": "stream",
     "text": [
      "The GCD of 6 and 4 is 2.\n"
     ]
    }
   ],
   "source": [
    "# 33. Write a program that calculates the greatest common divisor (GCD) of two numbers using the Euclidean\n",
    "# algorithm.\n",
    "\n",
    "def gcd(a, b):\n",
    "    while b != 0:\n",
    "        a, b = b, a % b\n",
    "    return a\n",
    "\n",
    "# Example usage\n",
    "try:\n",
    "    a = int(input(\"Enter the first number: \"))\n",
    "    b = int(input(\"Enter the second number: \"))\n",
    "    result = gcd(a, b)\n",
    "    print(f\"The GCD of {a} and {b} is {result}.\")\n",
    "except ValueError:\n",
    "    print(\"Please enter valid integers.\")\n",
    "\n",
    "    \n",
    "    \n",
    "# Explanation\n",
    "\n",
    "# Understanding and Completeness:\n",
    "# Purpose: Calculates the GCD using the Euclidean algorithm.\n",
    "# Algorithm: Applies iterative modulus operations to find the GCD.\n",
    "\n",
    "# Clarity and Depth:\n",
    "# Algorithm Explanation: Uses the Euclidean algorithm for efficient GCD calculation.\n",
    "\n",
    "# Correct Implementation:\n",
    "# GCD Calculation: Correctly applies the Euclidean algorithm.\n",
    "\n",
    "# Proper Code Implementation:\n",
    "# Function: gcd performs the GCD calculation.\n",
    "# Error Handling: Manages non-integer inputs.\n",
    "\n",
    "# Code Organization:\n",
    "# Function and Example Usage: Separates logic and user interaction."
   ]
  },
  {
   "cell_type": "code",
   "execution_count": 6,
   "id": "bc164824-1978-486f-af87-04b173187620",
   "metadata": {},
   "outputs": [
    {
     "name": "stdout",
     "output_type": "stream",
     "text": [
      "Enter first matrix:\n"
     ]
    },
    {
     "name": "stdin",
     "output_type": "stream",
     "text": [
      "Enter number of rows:  3\n",
      "Enter number of columns:  3\n"
     ]
    },
    {
     "name": "stdout",
     "output_type": "stream",
     "text": [
      "Enter the matrix values row by row:\n"
     ]
    },
    {
     "name": "stdin",
     "output_type": "stream",
     "text": [
      " 123\n",
      " 345\n",
      " 567\n"
     ]
    },
    {
     "name": "stdout",
     "output_type": "stream",
     "text": [
      "Enter second matrix:\n"
     ]
    },
    {
     "name": "stdin",
     "output_type": "stream",
     "text": [
      "Enter number of rows:  3\n",
      "Enter number of columns:  3\n"
     ]
    },
    {
     "name": "stdout",
     "output_type": "stream",
     "text": [
      "Enter the matrix values row by row:\n"
     ]
    },
    {
     "name": "stdin",
     "output_type": "stream",
     "text": [
      " 678\n",
      " 458\n",
      " 098\n"
     ]
    },
    {
     "name": "stdout",
     "output_type": "stream",
     "text": [
      "Matrix dimensions do not match for multiplication.\n"
     ]
    }
   ],
   "source": [
    "# 34. Build a program that performs matrix multiplication using nested loops and conditional statements.\n",
    "\n",
    "def multiply_matrices(A, B):\n",
    "    result = [[0] * len(B[0]) for _ in range(len(A))]\n",
    "    for i in range(len(A)):\n",
    "        for j in range(len(B[0])):\n",
    "            for k in range(len(B)):\n",
    "                result[i][j] += A[i][k] * B[k][j]\n",
    "    return result\n",
    "\n",
    "# Example usage\n",
    "def get_matrix_input():\n",
    "    rows = int(input(\"Enter number of rows: \"))\n",
    "    cols = int(input(\"Enter number of columns: \"))\n",
    "    matrix = []\n",
    "    print(\"Enter the matrix values row by row:\")\n",
    "    for i in range(rows):\n",
    "        row = list(map(float, input().split()))\n",
    "        matrix.append(row)\n",
    "    return matrix\n",
    "\n",
    "print(\"Enter first matrix:\")\n",
    "matrix1 = get_matrix_input()\n",
    "\n",
    "print(\"Enter second matrix:\")\n",
    "matrix2 = get_matrix_input()\n",
    "\n",
    "if len(matrix1[0]) == len(matrix2):\n",
    "    result = multiply_matrices(matrix1, matrix2)\n",
    "    print(\"Result:\")\n",
    "    for row in result:\n",
    "        print(' '.join(map(str, row)))\n",
    "else:\n",
    "    print(\"Matrix dimensions do not match for multiplication.\")\n",
    "\n",
    "\n",
    "    \n",
    "    \n",
    "    \n",
    "# Explanation\n",
    "\n",
    "# Understanding and Completeness:\n",
    "# Purpose: Performs matrix multiplication using nested loops.\n",
    "# Matrix Dimensions: Checks if matrices are compatible for multiplication.\n",
    "\n",
    "# Clarity and Depth:\n",
    "# Matrix Multiplication: Uses nested loops to compute the product of two matrices.\n",
    "\n",
    "# Correct Implementation:\n",
    "# Matrix Multiplication: Correctly implements matrix multiplication logic.\n",
    "\n",
    "# Proper Code Implementation:\n",
    "# Function: multiply_matrices handles multiplication.\n",
    "# Error Handling: Checks for dimension mismatches.\n",
    "\n",
    "# Code Organization:\n",
    "# Function and Example Usage: Separates matrix multiplication logic and user interaction."
   ]
  },
  {
   "cell_type": "code",
   "execution_count": 7,
   "id": "10855d68-1b30-4dad-afcf-c4964fb89c8b",
   "metadata": {},
   "outputs": [
    {
     "name": "stdout",
     "output_type": "stream",
     "text": [
      "  |   |  \n",
      "-----\n",
      "  |   |  \n",
      "-----\n",
      "  |   |  \n",
      "-----\n"
     ]
    },
    {
     "name": "stdin",
     "output_type": "stream",
     "text": [
      "Your move (0-8):  4\n"
     ]
    },
    {
     "name": "stdout",
     "output_type": "stream",
     "text": [
      "  |   |  \n",
      "-----\n",
      "  | X |  \n",
      "-----\n",
      "  |   |  \n",
      "-----\n",
      "  |   |  \n",
      "-----\n",
      "  | X |  \n",
      "-----\n",
      "  |   | O\n",
      "-----\n"
     ]
    },
    {
     "name": "stdin",
     "output_type": "stream",
     "text": [
      "Your move (0-8):  8\n"
     ]
    },
    {
     "name": "stdout",
     "output_type": "stream",
     "text": [
      "Cell already taken. Try again.\n",
      "  |   |  \n",
      "-----\n",
      "  | X |  \n",
      "-----\n",
      "  |   | O\n",
      "-----\n",
      "  |   |  \n",
      "-----\n",
      "  | X |  \n",
      "-----\n",
      "  | O | O\n",
      "-----\n"
     ]
    },
    {
     "name": "stdin",
     "output_type": "stream",
     "text": [
      "Your move (0-8):  5\n"
     ]
    },
    {
     "name": "stdout",
     "output_type": "stream",
     "text": [
      "  |   |  \n",
      "-----\n",
      "  | X | X\n",
      "-----\n",
      "  | O | O\n",
      "-----\n",
      "  | O |  \n",
      "-----\n",
      "  | X | X\n",
      "-----\n",
      "  | O | O\n",
      "-----\n"
     ]
    },
    {
     "name": "stdin",
     "output_type": "stream",
     "text": [
      "Your move (0-8):  7\n"
     ]
    },
    {
     "name": "stdout",
     "output_type": "stream",
     "text": [
      "Cell already taken. Try again.\n",
      "  | O |  \n",
      "-----\n",
      "  | X | X\n",
      "-----\n",
      "  | O | O\n",
      "-----\n",
      "  | O |  \n",
      "-----\n",
      "  | X | X\n",
      "-----\n",
      "O | O | O\n",
      "-----\n",
      "Computer wins!\n"
     ]
    }
   ],
   "source": [
    "# 35. Create a program that simulates a basic text-based tic-tac-toe game against the computer.\n",
    "\n",
    "import random\n",
    "\n",
    "def print_board(board):\n",
    "    for row in board:\n",
    "        print(' | '.join(row))\n",
    "        print('-' * 5)\n",
    "\n",
    "def check_winner(board, mark):\n",
    "    win_conditions = [\n",
    "        (0, 1, 2), (3, 4, 5), (6, 7, 8),  # Rows\n",
    "        (0, 3, 6), (1, 4, 7), (2, 5, 8),  # Columns\n",
    "        (0, 4, 8), (2, 4, 6)              # Diagonals\n",
    "    ]\n",
    "    indices = [i for i in range(9) if board[i // 3][i % 3] == mark]\n",
    "    for condition in win_conditions:\n",
    "        if all(i in indices for i in condition):\n",
    "            return True\n",
    "    return False\n",
    "\n",
    "def tic_tac_toe():\n",
    "    board = [[' ' for _ in range(3)] for _ in range(3)]\n",
    "    moves = list(range(9))\n",
    "    \n",
    "    for turn in range(9):\n",
    "        print_board(board)\n",
    "        \n",
    "        if turn % 2 == 0:\n",
    "            choice = int(input(\"Your move (0-8): \"))\n",
    "            mark = 'X'\n",
    "        else:\n",
    "            choice = random.choice(moves)\n",
    "            mark = 'O'\n",
    "        \n",
    "        if board[choice // 3][choice % 3] == ' ':\n",
    "            board[choice // 3][choice % 3] = mark\n",
    "            moves.remove(choice)\n",
    "            \n",
    "            if check_winner(board, mark):\n",
    "                print_board(board)\n",
    "                print(\"You win!\" if mark == 'X' else \"Computer wins!\")\n",
    "                return\n",
    "        else:\n",
    "            print(\"Cell already taken. Try again.\")\n",
    "    \n",
    "    print_board(board)\n",
    "    print(\"It's a tie!\")\n",
    "\n",
    "# Run the game\n",
    "tic_tac_toe()\n",
    "\n",
    "\n",
    "\n",
    "# Explanation\n",
    "\n",
    "# Understanding and Completeness:\n",
    "# Purpose: Simulates a Tic-Tac-Toe game with a simple computer opponent.\n",
    "# Game Logic: Manages moves and checks for winners using lists.\n",
    "\n",
    "# Clarity and Depth:\n",
    "# Board Representation: Uses a list of lists to represent the board.\n",
    "# Winner Check: Defines win conditions and checks for a winner.\n",
    "\n",
    "# Correct Implementation:\n",
    "# Game Mechanics: Correctly handles player and computer moves.\n",
    "\n",
    "# Proper Code Implementation:\n",
    "# Functions: print_board and check_winner manage board display and win conditions.\n",
    "# Game Loop: Manages game flow and user interactions.\n",
    "\n",
    "# Code Organization:\n",
    "# Functions and Main Logic: Separates game functionality and interactions."
   ]
  },
  {
   "cell_type": "code",
   "execution_count": 8,
   "id": "f3e1b6c0-1f38-46e8-81fa-9d9d58128175",
   "metadata": {},
   "outputs": [
    {
     "name": "stdin",
     "output_type": "stream",
     "text": [
      "Enter the number of terms:  5\n"
     ]
    },
    {
     "name": "stdout",
     "output_type": "stream",
     "text": [
      "Fibonacci series: [0, 1, 1, 2, 3]\n"
     ]
    }
   ],
   "source": [
    "# 36. Write a program that generates Fibonacci numbers up to a specified term using iterative methods.\n",
    "\n",
    "def fibonacci_iterative(n):\n",
    "    fib_series = [0, 1]\n",
    "    while len(fib_series) < n:\n",
    "        fib_series.append(fib_series[-1] + fib_series[-2])\n",
    "    return fib_series\n",
    "\n",
    "# Example usage\n",
    "try:\n",
    "    n = int(input(\"Enter the number of terms: \"))\n",
    "    if n <= 0:\n",
    "        print(\"Number of terms must be positive.\")\n",
    "    else:\n",
    "        series = fibonacci_iterative(n)\n",
    "        print(\"Fibonacci series:\", series)\n",
    "except ValueError:\n",
    "    print(\"Please enter a valid integer.\")\n",
    "\n",
    "    \n",
    "    \n",
    "# Explanation\n",
    "\n",
    "# Understanding and Completeness:\n",
    "# Purpose: Generates Fibonacci numbers up to a specified number of terms.\n",
    "# Iterative Approach: Uses a list to store Fibonacci numbers.\n",
    "\n",
    "# Clarity and Depth:\n",
    "# Series Generation: Uses a loop to build the Fibonacci series iteratively.\n",
    "\n",
    "# Correct Implementation:\n",
    "# Fibonacci Sequence: Correctly generates Fibonacci numbers.\n",
    "\n",
    "# Proper Code Implementation:\n",
    "# Function: fibonacci_iterative handles series generation.\n",
    "# Error Handling: Manages non-integer inputs and invalid term numbers.\n",
    "\n",
    "# Code Organization:\n",
    "# Function and Example Usage: Separates logic and user interaction."
   ]
  },
  {
   "cell_type": "code",
   "execution_count": 10,
   "id": "79ccdfab-64b7-4f31-a94e-a0de8bf09c9b",
   "metadata": {},
   "outputs": [
    {
     "name": "stdin",
     "output_type": "stream",
     "text": [
      "Enter the term to calculate:  8\n"
     ]
    },
    {
     "name": "stdout",
     "output_type": "stream",
     "text": [
      "The 8th term of the Fibonacci sequence is 21.\n"
     ]
    }
   ],
   "source": [
    "# 37. Develop a program that calculates the nth term of the Fibonacci sequence using memoization.\n",
    "\n",
    "def fibonacci_memoization(n, memo={}):\n",
    "    if n in memo:\n",
    "        return memo[n]\n",
    "    if n <= 1:\n",
    "        return n\n",
    "    memo[n] = fibonacci_memoization(n - 1, memo) + fibonacci_memoization(n - 2, memo)\n",
    "    return memo[n]\n",
    "\n",
    "# Example usage\n",
    "try:\n",
    "    n = int(input(\"Enter the term to calculate: \"))\n",
    "    if n < 0:\n",
    "        print(\"Term must be non-negative.\")\n",
    "    else:\n",
    "        result = fibonacci_memoization(n)\n",
    "        print(f\"The {n}th term of the Fibonacci sequence is {result}.\")\n",
    "except ValueError:\n",
    "    print(\"Please enter a valid integer.\")\n",
    "\n",
    "    \n",
    "    \n",
    "# Explanation\n",
    "\n",
    "# Understanding and Completeness:\n",
    "# Purpose: Calculates the nth Fibonacci term using memoization.\n",
    "# Memoization: Uses a dictionary to store previously computed values.\n",
    "\n",
    "# Clarity and Depth:\n",
    "# Recursive Calculation: Optimized with memoization to avoid redundant calculations.\n",
    "\n",
    "# Correct Implementation:\n",
    "# Memoization: Correctly stores and retrieves previously computed values.\n",
    "\n",
    "# Proper Code Implementation:\n",
    "# Function: fibonacci_memoization manages recursive calls and memoization.\n",
    "# Error Handling: Manages non-integer inputs and negative terms.\n",
    "\n",
    "# Code Organization:\n",
    "# Function and Example Usage: Separates logic and user interaction.\n"
   ]
  },
  {
   "cell_type": "code",
   "execution_count": 11,
   "id": "06e7a480-43eb-456e-a83c-aa0aa6e97879",
   "metadata": {},
   "outputs": [
    {
     "name": "stdin",
     "output_type": "stream",
     "text": [
      "Enter the year:  2024\n",
      "Enter the month (1-12):  8\n"
     ]
    },
    {
     "name": "stdout",
     "output_type": "stream",
     "text": [
      "    August 2024\n",
      "Mo Tu We Th Fr Sa Su\n",
      "          1  2  3  4\n",
      " 5  6  7  8  9 10 11\n",
      "12 13 14 15 16 17 18\n",
      "19 20 21 22 23 24 25\n",
      "26 27 28 29 30 31\n",
      "\n"
     ]
    }
   ],
   "source": [
    "# 38. Create a program that generates a calendar for a given month and year using conditional statements.\n",
    "\n",
    "import calendar\n",
    "\n",
    "def print_calendar(year, month):\n",
    "    try:\n",
    "        cal = calendar.month(year, month)\n",
    "        print(cal)\n",
    "    except (ValueError, IndexError):\n",
    "        print(\"Invalid year or month. Please enter a valid year and month.\")\n",
    "\n",
    "# Example usage\n",
    "try:\n",
    "    year = int(input(\"Enter the year: \"))\n",
    "    month = int(input(\"Enter the month (1-12): \"))\n",
    "    print_calendar(year, month)\n",
    "except ValueError:\n",
    "    print(\"Please enter valid integers for year and month.\")\n",
    "\n",
    "# Explanation\n",
    "\n",
    "# Understanding and Completeness:\n",
    "# Purpose: Prints a calendar for a specified month and year.\n",
    "# Error Handling: Manages invalid year or month inputs.\n",
    "\n",
    "# Clarity and Depth:\n",
    "# Calendar Generation: Uses the calendar module to print the month.\n",
    "\n",
    "# Correct Implementation:\n",
    "# Calendar Function: Correctly displays the calendar for the specified month and year.\n",
    "\n",
    "# Proper Code Implementation:\n",
    "# Function: print_calendar handles calendar generation and printing.\n",
    "# Error Handling: Manages invalid inputs.\n",
    "\n",
    "# Code Organization:\n",
    "# Function and Example Usage: Separates logic and user interaction."
   ]
  },
  {
   "cell_type": "code",
   "execution_count": null,
   "id": "66fa5087-ca1c-4b29-8444-2aa171c3d48e",
   "metadata": {},
   "outputs": [],
   "source": [
    "# 39. Build a program that simulates a basic text-based blackjack game against the computer.\n",
    "\n",
    "import random\n",
    "\n",
    "def draw_card():\n",
    "    return random.randint(1, 11)\n",
    "\n",
    "def play_blackjack():\n",
    "    player_hand = [draw_card(), draw_card()]\n",
    "    dealer_hand = [draw_card(), draw_card()]\n",
    "    \n",
    "    def hand_value(hand):\n",
    "        value = sum(hand)\n",
    "        if 1 in hand and value + 10 <= 21:\n",
    "            value += 10\n",
    "        return value\n",
    "    \n",
    "    print(f\"Your hand: {player_hand}, value: {hand_value(player_hand)}\")\n",
    "    print(f\"Dealer's hand: [{dealer_hand[0]}, ?]\")\n",
    "    \n",
    "    while hand_value(player_hand) < 21:\n",
    "        action = input(\"Hit or Stand? (h/s): \").lower()\n",
    "        if action == 'h':\n",
    "            player_hand.append(draw_card())\n",
    "            print(f\"Your hand: {player_hand}, value: {hand_value(player_hand)}\")\n",
    "        elif action == 's':\n",
    "            break\n",
    "    \n",
    "    player_score = hand_value(player_hand)\n",
    "    dealer_score = hand_value(dealer_hand)\n",
    "    \n",
    "    while dealer_score < 17:\n",
    "        dealer_hand.append(draw_card())\n",
    "        dealer_score = hand_value(dealer_hand)\n",
    "    \n",
    "    print(f\"Dealer's hand: {dealer_hand}, value: {dealer_score}\")\n",
    "    \n",
    "    if player_score > 21:\n",
    "        print(\"You bust! Dealer wins.\")\n",
    "    elif dealer_score > 21 or player_score > dealer_score:\n",
    "        print(\"You win!\")\n",
    "    elif player_score < dealer_score:\n",
    "        print(\"Dealer wins!\")\n",
    "    else:\n",
    "        print(\"It's a tie!\")\n",
    "\n",
    "# Run the game\n",
    "play_blackjack()\n",
    "\n",
    "\n",
    "# Explanation\n",
    "\n",
    "# Understanding and Completeness:\n",
    "# Purpose: Simulates a basic Blackjack game with a simple dealer strategy.\n",
    "# Game Logic: Handles player and dealer actions and determines the winner.\n",
    "\n",
    "# Clarity and Depth:\n",
    "# Game Mechanics: Manages card drawing and hand values.\n",
    "\n",
    "# Correct Implementation:\n",
    "# Blackjack Rules: Correctly implements game rules and dealer behavior.\n",
    "\n",
    "# Proper Code Implementation:\n",
    "# Functions: draw_card, hand_value, and play_blackjack manage game operations.\n",
    "# Game Flow: Handles player and dealer decisions.\n",
    "\n",
    "# Code Organization:\n",
    "# Functions and Main Logic: Separates game logic from user interactions"
   ]
  },
  {
   "cell_type": "code",
   "execution_count": null,
   "id": "5cccd848-812c-449a-a3ea-ef8253615800",
   "metadata": {},
   "outputs": [],
   "source": [
    "# 40. Write a program that generates the prime factors of a given number using trial division.\n",
    "\n",
    "def prime_factors(n):\n",
    "    factors = []\n",
    "    # Check for number of 2s that divide n\n",
    "    while n % 2 == 0:\n",
    "        factors.append(2)\n",
    "        n //= 2\n",
    "    \n",
    "    # Check for odd factors from 3 onwards\n",
    "    divisor = 3\n",
    "    while divisor * divisor <= n:\n",
    "        while n % divisor == 0:\n",
    "            factors.append(divisor)\n",
    "            n //= divisor\n",
    "        divisor += 2\n",
    "    \n",
    "    # If n becomes a prime number greater than 2\n",
    "    if n > 2:\n",
    "        factors.append(n)\n",
    "    \n",
    "    return factors\n",
    "\n",
    "# Example usage\n",
    "try:\n",
    "    number = int(input(\"Enter a number to find its prime factors: \"))\n",
    "    if number <= 0:\n",
    "        print(\"Please enter a positive integer.\")\n",
    "    else:\n",
    "        factors = prime_factors(number)\n",
    "        print(f\"The prime factors of {number} are: {factors}\")\n",
    "except ValueError:\n",
    "    print(\"Please enter a valid integer.\")\n",
    "\n",
    "    \n",
    "    \n",
    "# Explanation\n",
    "\n",
    "# Understanding and Completeness:\n",
    "# Purpose: Generates the prime factors of a given number using trial division.\n",
    "# Trial Division: Uses division to find factors and then iterates through possible divisors.\n",
    "\n",
    "# Clarity and Depth:\n",
    "# Factorization Steps:\n",
    "# First, handle the factor 2 separately to ensure all factors are odd after this step.\n",
    "# Then check for odd factors starting from 3.\n",
    "# Continue dividing by the current factor until it's no longer divisible, then move to the next odd factor.\n",
    "# If the remaining number is greater than 2, it is a prime factor.\n",
    "\n",
    "# Correct Implementation:\n",
    "# Prime Factor Calculation: Correctly finds and stores all prime factors of the input number.\n",
    "\n",
    "# Proper Code Implementation:\n",
    "# Function: prime_factors handles factor calculation.\n",
    "# Error Handling: Manages non-integer inputs and non-positive integers.\n",
    "\n",
    "# Code Organization:\n",
    "# Function and Example Usage: Separates factor calculation logic from user interaction."
   ]
  }
 ],
 "metadata": {
  "kernelspec": {
   "display_name": "Python 3 (ipykernel)",
   "language": "python",
   "name": "python3"
  },
  "language_info": {
   "codemirror_mode": {
    "name": "ipython",
    "version": 3
   },
   "file_extension": ".py",
   "mimetype": "text/x-python",
   "name": "python",
   "nbconvert_exporter": "python",
   "pygments_lexer": "ipython3",
   "version": "3.10.8"
  }
 },
 "nbformat": 4,
 "nbformat_minor": 5
}
